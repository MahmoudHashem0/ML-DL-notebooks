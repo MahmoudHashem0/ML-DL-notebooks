{
 "cells": [
  {
   "cell_type": "markdown",
   "id": "9737eb86",
   "metadata": {
    "papermill": {
     "duration": 0.00854,
     "end_time": "2022-08-28T03:43:08.423610",
     "exception": false,
     "start_time": "2022-08-28T03:43:08.415070",
     "status": "completed"
    },
    "tags": []
   },
   "source": [
    "**This notebook is an exercise in the [Pandas](https://www.kaggle.com/learn/pandas) course.  You can reference the tutorial at [this link](https://www.kaggle.com/residentmario/data-types-and-missing-values).**\n",
    "\n",
    "---\n"
   ]
  },
  {
   "cell_type": "markdown",
   "id": "cc65c1ca",
   "metadata": {
    "papermill": {
     "duration": 0.00649,
     "end_time": "2022-08-28T03:43:08.437410",
     "exception": false,
     "start_time": "2022-08-28T03:43:08.430920",
     "status": "completed"
    },
    "tags": []
   },
   "source": [
    "# Introduction\n",
    "\n",
    "Run the following cell to load your data and some utility functions."
   ]
  },
  {
   "cell_type": "code",
   "execution_count": 1,
   "id": "2b96922e",
   "metadata": {
    "execution": {
     "iopub.execute_input": "2022-08-28T03:43:08.449517Z",
     "iopub.status.busy": "2022-08-28T03:43:08.448562Z",
     "iopub.status.idle": "2022-08-28T03:43:11.447444Z",
     "shell.execute_reply": "2022-08-28T03:43:11.445425Z"
    },
    "papermill": {
     "duration": 3.009574,
     "end_time": "2022-08-28T03:43:11.451708",
     "exception": false,
     "start_time": "2022-08-28T03:43:08.442134",
     "status": "completed"
    },
    "tags": []
   },
   "outputs": [
    {
     "name": "stdout",
     "output_type": "stream",
     "text": [
      "Setup complete.\n"
     ]
    }
   ],
   "source": [
    "import pandas as pd\n",
    "\n",
    "reviews = pd.read_csv(\"../input/wine-reviews/winemag-data-130k-v2.csv\", index_col=0)\n",
    "\n",
    "from learntools.core import binder; binder.bind(globals())\n",
    "from learntools.pandas.data_types_and_missing_data import *\n",
    "print(\"Setup complete.\")"
   ]
  },
  {
   "cell_type": "markdown",
   "id": "dda4dd75",
   "metadata": {
    "papermill": {
     "duration": 0.004125,
     "end_time": "2022-08-28T03:43:11.460651",
     "exception": false,
     "start_time": "2022-08-28T03:43:11.456526",
     "status": "completed"
    },
    "tags": []
   },
   "source": [
    "# Exercises"
   ]
  },
  {
   "cell_type": "markdown",
   "id": "4c0c6f0d",
   "metadata": {
    "papermill": {
     "duration": 0.003974,
     "end_time": "2022-08-28T03:43:11.468976",
     "exception": false,
     "start_time": "2022-08-28T03:43:11.465002",
     "status": "completed"
    },
    "tags": []
   },
   "source": [
    "## 1. \n",
    "What is the data type of the `points` column in the dataset?"
   ]
  },
  {
   "cell_type": "code",
   "execution_count": 2,
   "id": "97030c8c",
   "metadata": {
    "execution": {
     "iopub.execute_input": "2022-08-28T03:43:11.479956Z",
     "iopub.status.busy": "2022-08-28T03:43:11.478950Z",
     "iopub.status.idle": "2022-08-28T03:43:11.491617Z",
     "shell.execute_reply": "2022-08-28T03:43:11.490414Z"
    },
    "papermill": {
     "duration": 0.020817,
     "end_time": "2022-08-28T03:43:11.494179",
     "exception": false,
     "start_time": "2022-08-28T03:43:11.473362",
     "status": "completed"
    },
    "tags": []
   },
   "outputs": [
    {
     "data": {
      "application/javascript": [
       "parent.postMessage({\"jupyterEvent\": \"custom.exercise_interaction\", \"data\": {\"outcomeType\": 1, \"valueTowardsCompletion\": 0.25, \"interactionType\": 1, \"questionType\": 1, \"questionId\": \"1_PointsDtype\", \"learnToolsVersion\": \"0.3.4\", \"failureMessage\": \"\", \"exceptionClass\": \"\", \"trace\": \"\"}}, \"*\")"
      ],
      "text/plain": [
       "<IPython.core.display.Javascript object>"
      ]
     },
     "metadata": {},
     "output_type": "display_data"
    },
    {
     "data": {
      "text/markdown": [
       "<span style=\"color:#33cc33\">Correct</span>"
      ],
      "text/plain": [
       "Correct"
      ]
     },
     "metadata": {},
     "output_type": "display_data"
    }
   ],
   "source": [
    "# Your code here\n",
    "dtype = reviews.points.dtype\n",
    "\n",
    "# Check your answer\n",
    "q1.check()"
   ]
  },
  {
   "cell_type": "code",
   "execution_count": 3,
   "id": "03fae563",
   "metadata": {
    "execution": {
     "iopub.execute_input": "2022-08-28T03:43:11.505716Z",
     "iopub.status.busy": "2022-08-28T03:43:11.505290Z",
     "iopub.status.idle": "2022-08-28T03:43:11.509839Z",
     "shell.execute_reply": "2022-08-28T03:43:11.508569Z"
    },
    "papermill": {
     "duration": 0.013275,
     "end_time": "2022-08-28T03:43:11.512308",
     "exception": false,
     "start_time": "2022-08-28T03:43:11.499033",
     "status": "completed"
    },
    "tags": []
   },
   "outputs": [],
   "source": [
    "#q1.hint()\n",
    "#q1.solution()"
   ]
  },
  {
   "cell_type": "markdown",
   "id": "a7222fb8",
   "metadata": {
    "papermill": {
     "duration": 0.004613,
     "end_time": "2022-08-28T03:43:11.521881",
     "exception": false,
     "start_time": "2022-08-28T03:43:11.517268",
     "status": "completed"
    },
    "tags": []
   },
   "source": [
    "## 2. \n",
    "Create a Series from entries in the `points` column, but convert the entries to strings. Hint: strings are `str` in native Python."
   ]
  },
  {
   "cell_type": "code",
   "execution_count": 4,
   "id": "5c875644",
   "metadata": {
    "execution": {
     "iopub.execute_input": "2022-08-28T03:43:11.533453Z",
     "iopub.status.busy": "2022-08-28T03:43:11.532720Z",
     "iopub.status.idle": "2022-08-28T03:43:11.618561Z",
     "shell.execute_reply": "2022-08-28T03:43:11.617135Z"
    },
    "papermill": {
     "duration": 0.09478,
     "end_time": "2022-08-28T03:43:11.621403",
     "exception": false,
     "start_time": "2022-08-28T03:43:11.526623",
     "status": "completed"
    },
    "tags": []
   },
   "outputs": [
    {
     "data": {
      "application/javascript": [
       "parent.postMessage({\"jupyterEvent\": \"custom.exercise_interaction\", \"data\": {\"outcomeType\": 1, \"valueTowardsCompletion\": 0.25, \"interactionType\": 1, \"questionType\": 1, \"questionId\": \"2_StrPoints\", \"learnToolsVersion\": \"0.3.4\", \"failureMessage\": \"\", \"exceptionClass\": \"\", \"trace\": \"\"}}, \"*\")"
      ],
      "text/plain": [
       "<IPython.core.display.Javascript object>"
      ]
     },
     "metadata": {},
     "output_type": "display_data"
    },
    {
     "data": {
      "text/markdown": [
       "<span style=\"color:#33cc33\">Correct</span>"
      ],
      "text/plain": [
       "Correct"
      ]
     },
     "metadata": {},
     "output_type": "display_data"
    }
   ],
   "source": [
    "point_strings = reviews.points.astype('str')\n",
    "\n",
    "# Check your answer\n",
    "q2.check()"
   ]
  },
  {
   "cell_type": "code",
   "execution_count": 5,
   "id": "e62cf242",
   "metadata": {
    "execution": {
     "iopub.execute_input": "2022-08-28T03:43:11.633997Z",
     "iopub.status.busy": "2022-08-28T03:43:11.633619Z",
     "iopub.status.idle": "2022-08-28T03:43:11.637679Z",
     "shell.execute_reply": "2022-08-28T03:43:11.636596Z"
    },
    "papermill": {
     "duration": 0.013177,
     "end_time": "2022-08-28T03:43:11.639861",
     "exception": false,
     "start_time": "2022-08-28T03:43:11.626684",
     "status": "completed"
    },
    "tags": []
   },
   "outputs": [],
   "source": [
    "#q2.hint()\n",
    "#q2.solution()"
   ]
  },
  {
   "cell_type": "markdown",
   "id": "be7ea1a3",
   "metadata": {
    "papermill": {
     "duration": 0.005178,
     "end_time": "2022-08-28T03:43:11.650178",
     "exception": false,
     "start_time": "2022-08-28T03:43:11.645000",
     "status": "completed"
    },
    "tags": []
   },
   "source": [
    "## 3.\n",
    "Sometimes the price column is null. How many reviews in the dataset are missing a price?"
   ]
  },
  {
   "cell_type": "code",
   "execution_count": 6,
   "id": "b3b2d330",
   "metadata": {
    "execution": {
     "iopub.execute_input": "2022-08-28T03:43:11.662052Z",
     "iopub.status.busy": "2022-08-28T03:43:11.661397Z",
     "iopub.status.idle": "2022-08-28T03:43:11.669949Z",
     "shell.execute_reply": "2022-08-28T03:43:11.669168Z"
    },
    "papermill": {
     "duration": 0.017001,
     "end_time": "2022-08-28T03:43:11.672273",
     "exception": false,
     "start_time": "2022-08-28T03:43:11.655272",
     "status": "completed"
    },
    "tags": []
   },
   "outputs": [
    {
     "data": {
      "application/javascript": [
       "parent.postMessage({\"jupyterEvent\": \"custom.exercise_interaction\", \"data\": {\"outcomeType\": 1, \"valueTowardsCompletion\": 0.25, \"interactionType\": 1, \"questionType\": 1, \"questionId\": \"3_CountMissingPrices\", \"learnToolsVersion\": \"0.3.4\", \"failureMessage\": \"\", \"exceptionClass\": \"\", \"trace\": \"\"}}, \"*\")"
      ],
      "text/plain": [
       "<IPython.core.display.Javascript object>"
      ]
     },
     "metadata": {},
     "output_type": "display_data"
    },
    {
     "data": {
      "text/markdown": [
       "<span style=\"color:#33cc33\">Correct</span>"
      ],
      "text/plain": [
       "Correct"
      ]
     },
     "metadata": {},
     "output_type": "display_data"
    }
   ],
   "source": [
    "n_missing_prices = reviews.price.isnull().sum()\n",
    "\n",
    "# Check your answer\n",
    "q3.check()"
   ]
  },
  {
   "cell_type": "code",
   "execution_count": 7,
   "id": "27965890",
   "metadata": {
    "execution": {
     "iopub.execute_input": "2022-08-28T03:43:11.684644Z",
     "iopub.status.busy": "2022-08-28T03:43:11.683900Z",
     "iopub.status.idle": "2022-08-28T03:43:11.688216Z",
     "shell.execute_reply": "2022-08-28T03:43:11.687180Z"
    },
    "papermill": {
     "duration": 0.013193,
     "end_time": "2022-08-28T03:43:11.690617",
     "exception": false,
     "start_time": "2022-08-28T03:43:11.677424",
     "status": "completed"
    },
    "tags": []
   },
   "outputs": [],
   "source": [
    "#q3.hint()\n",
    "#q3.solution()"
   ]
  },
  {
   "cell_type": "markdown",
   "id": "98b2025b",
   "metadata": {
    "papermill": {
     "duration": 0.004796,
     "end_time": "2022-08-28T03:43:11.700748",
     "exception": false,
     "start_time": "2022-08-28T03:43:11.695952",
     "status": "completed"
    },
    "tags": []
   },
   "source": [
    "## 4.\n",
    "What are the most common wine-producing regions? Create a Series counting the number of times each value occurs in the `region_1` field. This field is often missing data, so replace missing values with `Unknown`. Sort in descending order.  Your output should look something like this:\n",
    "\n",
    "```\n",
    "Unknown                    21247\n",
    "Napa Valley                 4480\n",
    "                           ...  \n",
    "Bardolino Superiore            1\n",
    "Primitivo del Tarantino        1\n",
    "Name: region_1, Length: 1230, dtype: int64\n",
    "```"
   ]
  },
  {
   "cell_type": "code",
   "execution_count": 8,
   "id": "4991986b",
   "metadata": {
    "execution": {
     "iopub.execute_input": "2022-08-28T03:43:11.713004Z",
     "iopub.status.busy": "2022-08-28T03:43:11.712317Z",
     "iopub.status.idle": "2022-08-28T03:43:11.751426Z",
     "shell.execute_reply": "2022-08-28T03:43:11.750300Z"
    },
    "papermill": {
     "duration": 0.048092,
     "end_time": "2022-08-28T03:43:11.753887",
     "exception": false,
     "start_time": "2022-08-28T03:43:11.705795",
     "status": "completed"
    },
    "tags": []
   },
   "outputs": [
    {
     "data": {
      "application/javascript": [
       "parent.postMessage({\"jupyterEvent\": \"custom.exercise_interaction\", \"data\": {\"outcomeType\": 1, \"valueTowardsCompletion\": 0.25, \"interactionType\": 1, \"questionType\": 2, \"questionId\": \"4_ReviewsPerRegion\", \"learnToolsVersion\": \"0.3.4\", \"failureMessage\": \"\", \"exceptionClass\": \"\", \"trace\": \"\"}}, \"*\")"
      ],
      "text/plain": [
       "<IPython.core.display.Javascript object>"
      ]
     },
     "metadata": {},
     "output_type": "display_data"
    },
    {
     "data": {
      "text/markdown": [
       "<span style=\"color:#33cc33\">Correct</span>"
      ],
      "text/plain": [
       "Correct"
      ]
     },
     "metadata": {},
     "output_type": "display_data"
    }
   ],
   "source": [
    "reviews_per_region = reviews.groupby('region_1', dropna=False).size().sort_values(ascending=False)\n",
    "reviews_per_region.index = reviews_per_region.index.fillna('Unknown')\n",
    "\n",
    "# Check your answer\n",
    "q4.check()"
   ]
  },
  {
   "cell_type": "code",
   "execution_count": 9,
   "id": "c89c66ef",
   "metadata": {
    "execution": {
     "iopub.execute_input": "2022-08-28T03:43:11.766622Z",
     "iopub.status.busy": "2022-08-28T03:43:11.766223Z",
     "iopub.status.idle": "2022-08-28T03:43:11.779109Z",
     "shell.execute_reply": "2022-08-28T03:43:11.778186Z"
    },
    "papermill": {
     "duration": 0.02191,
     "end_time": "2022-08-28T03:43:11.781243",
     "exception": false,
     "start_time": "2022-08-28T03:43:11.759333",
     "status": "completed"
    },
    "tags": []
   },
   "outputs": [
    {
     "data": {
      "application/javascript": [
       "parent.postMessage({\"jupyterEvent\": \"custom.exercise_interaction\", \"data\": {\"interactionType\": 2, \"questionType\": 2, \"questionId\": \"4_ReviewsPerRegion\", \"learnToolsVersion\": \"0.3.4\", \"valueTowardsCompletion\": 0.0, \"failureMessage\": \"\", \"exceptionClass\": \"\", \"trace\": \"\", \"outcomeType\": 4}}, \"*\")"
      ],
      "text/plain": [
       "<IPython.core.display.Javascript object>"
      ]
     },
     "metadata": {},
     "output_type": "display_data"
    },
    {
     "data": {
      "text/markdown": [
       "<span style=\"color:#3366cc\">Hint:</span> Use `fillna()`, `value_counts()`, and `sort_values()`."
      ],
      "text/plain": [
       "Hint: Use `fillna()`, `value_counts()`, and `sort_values()`."
      ]
     },
     "metadata": {},
     "output_type": "display_data"
    },
    {
     "data": {
      "application/javascript": [
       "parent.postMessage({\"jupyterEvent\": \"custom.exercise_interaction\", \"data\": {\"interactionType\": 3, \"questionType\": 2, \"questionId\": \"4_ReviewsPerRegion\", \"learnToolsVersion\": \"0.3.4\", \"valueTowardsCompletion\": 0.0, \"failureMessage\": \"\", \"exceptionClass\": \"\", \"trace\": \"\", \"outcomeType\": 4}}, \"*\")"
      ],
      "text/plain": [
       "<IPython.core.display.Javascript object>"
      ]
     },
     "metadata": {},
     "output_type": "display_data"
    },
    {
     "data": {
      "text/markdown": [
       "<span style=\"color:#33cc99\">Solution:</span> \n",
       "```python\n",
       "reviews_per_region = reviews.region_1.fillna('Unknown').value_counts().sort_values(ascending=False)\n",
       "```"
      ],
      "text/plain": [
       "Solution: \n",
       "```python\n",
       "reviews_per_region = reviews.region_1.fillna('Unknown').value_counts().sort_values(ascending=False)\n",
       "```"
      ]
     },
     "metadata": {},
     "output_type": "display_data"
    }
   ],
   "source": [
    "q4.hint()\n",
    "q4.solution()"
   ]
  },
  {
   "cell_type": "markdown",
   "id": "5e4c937e",
   "metadata": {
    "papermill": {
     "duration": 0.005567,
     "end_time": "2022-08-28T03:43:11.792709",
     "exception": false,
     "start_time": "2022-08-28T03:43:11.787142",
     "status": "completed"
    },
    "tags": []
   },
   "source": [
    "# Keep going\n",
    "\n",
    "Move on to **[renaming and combining](https://www.kaggle.com/residentmario/renaming-and-combining)**."
   ]
  },
  {
   "cell_type": "markdown",
   "id": "6324f3be",
   "metadata": {
    "papermill": {
     "duration": 0.005446,
     "end_time": "2022-08-28T03:43:11.803967",
     "exception": false,
     "start_time": "2022-08-28T03:43:11.798521",
     "status": "completed"
    },
    "tags": []
   },
   "source": [
    "---\n",
    "\n",
    "\n",
    "\n",
    "\n",
    "*Have questions or comments? Visit the [course discussion forum](https://www.kaggle.com/learn/pandas/discussion) to chat with other learners.*"
   ]
  }
 ],
 "metadata": {
  "kernelspec": {
   "display_name": "Python 3",
   "language": "python",
   "name": "python3"
  },
  "language_info": {
   "codemirror_mode": {
    "name": "ipython",
    "version": 3
   },
   "file_extension": ".py",
   "mimetype": "text/x-python",
   "name": "python",
   "nbconvert_exporter": "python",
   "pygments_lexer": "ipython3",
   "version": "3.7.12"
  },
  "papermill": {
   "default_parameters": {},
   "duration": 13.686989,
   "end_time": "2022-08-28T03:43:12.532240",
   "environment_variables": {},
   "exception": null,
   "input_path": "__notebook__.ipynb",
   "output_path": "__notebook__.ipynb",
   "parameters": {},
   "start_time": "2022-08-28T03:42:58.845251",
   "version": "2.3.4"
  }
 },
 "nbformat": 4,
 "nbformat_minor": 5
}
