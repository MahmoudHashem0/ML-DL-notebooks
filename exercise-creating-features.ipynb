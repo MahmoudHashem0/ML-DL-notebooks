{
 "cells": [
  {
   "cell_type": "markdown",
   "id": "d1f75d2a",
   "metadata": {
    "papermill": {
     "duration": 0.00667,
     "end_time": "2022-08-31T21:41:35.907182",
     "exception": false,
     "start_time": "2022-08-31T21:41:35.900512",
     "status": "completed"
    },
    "tags": []
   },
   "source": [
    "**This notebook is an exercise in the [Feature Engineering](https://www.kaggle.com/learn/feature-engineering) course.  You can reference the tutorial at [this link](https://www.kaggle.com/ryanholbrook/creating-features).**\n",
    "\n",
    "---\n"
   ]
  },
  {
   "cell_type": "markdown",
   "id": "170f0df8",
   "metadata": {
    "papermill": {
     "duration": 0.005188,
     "end_time": "2022-08-31T21:41:35.918079",
     "exception": false,
     "start_time": "2022-08-31T21:41:35.912891",
     "status": "completed"
    },
    "tags": []
   },
   "source": [
    "# Introduction #\n",
    "\n",
    "In this exercise you'll start developing the features you identified in Exercise 2 as having the most potential. As you work through this exercise, you might take a moment to look at the data documentation again and consider whether the features we're creating make sense from a real-world perspective, and whether there are any useful combinations that stand out to you.\n",
    "\n",
    "Run this cell to set everything up!"
   ]
  },
  {
   "cell_type": "code",
   "execution_count": 1,
   "id": "9fd34824",
   "metadata": {
    "execution": {
     "iopub.execute_input": "2022-08-31T21:41:35.931548Z",
     "iopub.status.busy": "2022-08-31T21:41:35.930970Z",
     "iopub.status.idle": "2022-08-31T21:41:37.504494Z",
     "shell.execute_reply": "2022-08-31T21:41:37.503310Z"
    },
    "papermill": {
     "duration": 1.583866,
     "end_time": "2022-08-31T21:41:37.507484",
     "exception": false,
     "start_time": "2022-08-31T21:41:35.923618",
     "status": "completed"
    },
    "tags": []
   },
   "outputs": [],
   "source": [
    "# Setup feedback system\n",
    "from learntools.core import binder\n",
    "binder.bind(globals())\n",
    "from learntools.feature_engineering_new.ex3 import *\n",
    "\n",
    "import numpy as np\n",
    "import pandas as pd\n",
    "from sklearn.model_selection import cross_val_score\n",
    "from xgboost import XGBRegressor\n",
    "\n",
    "\n",
    "def score_dataset(X, y, model=XGBRegressor()):\n",
    "    # Label encoding for categoricals\n",
    "    for colname in X.select_dtypes([\"category\", \"object\"]):\n",
    "        X[colname], _ = X[colname].factorize()\n",
    "    # Metric for Housing competition is RMSLE (Root Mean Squared Log Error)\n",
    "    score = cross_val_score(\n",
    "        model, X, y, cv=5, scoring=\"neg_mean_squared_log_error\",\n",
    "    )\n",
    "    score = -1 * score.mean()\n",
    "    score = np.sqrt(score)\n",
    "    return score\n",
    "\n",
    "\n",
    "# Prepare data\n",
    "df = pd.read_csv(\"../input/fe-course-data/ames.csv\")\n",
    "X = df.copy()\n",
    "y = X.pop(\"SalePrice\")"
   ]
  },
  {
   "cell_type": "markdown",
   "id": "516d82f5",
   "metadata": {
    "papermill": {
     "duration": 0.00532,
     "end_time": "2022-08-31T21:41:37.518342",
     "exception": false,
     "start_time": "2022-08-31T21:41:37.513022",
     "status": "completed"
    },
    "tags": []
   },
   "source": [
    "-------------------------------------------------------------------------------\n",
    "\n",
    "Let's start with a few mathematical combinations. We'll focus on features describing areas -- having the same units (square-feet) makes it easy to combine them in sensible ways. Since we're using XGBoost (a tree-based model), we'll focus on ratios and sums.\n",
    "\n",
    "# 1) Create Mathematical Transforms\n",
    "\n",
    "Create the following features:\n",
    "\n",
    "- `LivLotRatio`: the ratio of `GrLivArea` to `LotArea`\n",
    "- `Spaciousness`: the sum of `FirstFlrSF` and `SecondFlrSF` divided by `TotRmsAbvGrd`\n",
    "- `TotalOutsideSF`: the sum of `WoodDeckSF`, `OpenPorchSF`, `EnclosedPorch`, `Threeseasonporch`, and `ScreenPorch`"
   ]
  },
  {
   "cell_type": "code",
   "execution_count": 2,
   "id": "a43d5047",
   "metadata": {
    "execution": {
     "iopub.execute_input": "2022-08-31T21:41:37.532040Z",
     "iopub.status.busy": "2022-08-31T21:41:37.530741Z",
     "iopub.status.idle": "2022-08-31T21:41:37.557872Z",
     "shell.execute_reply": "2022-08-31T21:41:37.556556Z"
    },
    "lines_to_next_cell": 0,
    "papermill": {
     "duration": 0.036871,
     "end_time": "2022-08-31T21:41:37.560767",
     "exception": false,
     "start_time": "2022-08-31T21:41:37.523896",
     "status": "completed"
    },
    "tags": []
   },
   "outputs": [
    {
     "data": {
      "application/javascript": [
       "parent.postMessage({\"jupyterEvent\": \"custom.exercise_interaction\", \"data\": {\"outcomeType\": 1, \"valueTowardsCompletion\": 0.2, \"interactionType\": 1, \"questionType\": 2, \"questionId\": \"1_Q1\", \"learnToolsVersion\": \"0.3.4\", \"failureMessage\": \"\", \"exceptionClass\": \"\", \"trace\": \"\"}}, \"*\")"
      ],
      "text/plain": [
       "<IPython.core.display.Javascript object>"
      ]
     },
     "metadata": {},
     "output_type": "display_data"
    },
    {
     "data": {
      "text/markdown": [
       "<span style=\"color:#33cc33\">Correct</span>"
      ],
      "text/plain": [
       "Correct"
      ]
     },
     "metadata": {},
     "output_type": "display_data"
    }
   ],
   "source": [
    "# YOUR CODE HERE\n",
    "X_1 = pd.DataFrame()  # dataframe to hold new features\n",
    "\n",
    "X_1[\"LivLotRatio\"] = X['GrLivArea'] / X['LotArea']\n",
    "X_1[\"Spaciousness\"] = (X['FirstFlrSF'] + X['SecondFlrSF']) / X['TotRmsAbvGrd']\n",
    "X_1[\"TotalOutsideSF\"] = X['WoodDeckSF'] + X['OpenPorchSF'] + X['EnclosedPorch'] + X['Threeseasonporch'] + X['ScreenPorch']\n",
    "\n",
    "\n",
    "# Check your answer\n",
    "q_1.check()"
   ]
  },
  {
   "cell_type": "code",
   "execution_count": 3,
   "id": "ff2b302a",
   "metadata": {
    "execution": {
     "iopub.execute_input": "2022-08-31T21:41:37.574640Z",
     "iopub.status.busy": "2022-08-31T21:41:37.573915Z",
     "iopub.status.idle": "2022-08-31T21:41:37.578321Z",
     "shell.execute_reply": "2022-08-31T21:41:37.577416Z"
    },
    "lines_to_next_cell": 0,
    "papermill": {
     "duration": 0.013578,
     "end_time": "2022-08-31T21:41:37.580467",
     "exception": false,
     "start_time": "2022-08-31T21:41:37.566889",
     "status": "completed"
    },
    "tags": []
   },
   "outputs": [],
   "source": [
    "# Lines below will give you a hint or solution code\n",
    "#q_1.hint()\n",
    "#q_1.solution()"
   ]
  },
  {
   "cell_type": "markdown",
   "id": "7ede230e",
   "metadata": {
    "papermill": {
     "duration": 0.00553,
     "end_time": "2022-08-31T21:41:37.591887",
     "exception": false,
     "start_time": "2022-08-31T21:41:37.586357",
     "status": "completed"
    },
    "tags": []
   },
   "source": [
    "-------------------------------------------------------------------------------\n",
    "\n",
    "If you've discovered an interaction effect between a numeric feature and a categorical feature, you might want to model it explicitly using a one-hot encoding, like so:\n",
    "\n",
    "```\n",
    "# One-hot encode Categorical feature, adding a column prefix \"Cat\"\n",
    "X_new = pd.get_dummies(df.Categorical, prefix=\"Cat\")\n",
    "\n",
    "# Multiply row-by-row\n",
    "X_new = X_new.mul(df.Continuous, axis=0)\n",
    "\n",
    "# Join the new features to the feature set\n",
    "X = X.join(X_new)\n",
    "```\n",
    "\n",
    "# 2) Interaction with a Categorical\n",
    "\n",
    "We discovered an interaction between `BldgType` and `GrLivArea` in Exercise 2. Now create their interaction features."
   ]
  },
  {
   "cell_type": "code",
   "execution_count": 4,
   "id": "10a6525f",
   "metadata": {
    "execution": {
     "iopub.execute_input": "2022-08-31T21:41:37.605511Z",
     "iopub.status.busy": "2022-08-31T21:41:37.604734Z",
     "iopub.status.idle": "2022-08-31T21:41:37.619327Z",
     "shell.execute_reply": "2022-08-31T21:41:37.618134Z"
    },
    "lines_to_next_cell": 0,
    "papermill": {
     "duration": 0.024183,
     "end_time": "2022-08-31T21:41:37.621801",
     "exception": false,
     "start_time": "2022-08-31T21:41:37.597618",
     "status": "completed"
    },
    "tags": []
   },
   "outputs": [
    {
     "data": {
      "application/javascript": [
       "parent.postMessage({\"jupyterEvent\": \"custom.exercise_interaction\", \"data\": {\"outcomeType\": 1, \"valueTowardsCompletion\": 0.2, \"interactionType\": 1, \"questionType\": 2, \"questionId\": \"2_Q2\", \"learnToolsVersion\": \"0.3.4\", \"failureMessage\": \"\", \"exceptionClass\": \"\", \"trace\": \"\"}}, \"*\")"
      ],
      "text/plain": [
       "<IPython.core.display.Javascript object>"
      ]
     },
     "metadata": {},
     "output_type": "display_data"
    },
    {
     "data": {
      "text/markdown": [
       "<span style=\"color:#33cc33\">Correct</span>"
      ],
      "text/plain": [
       "Correct"
      ]
     },
     "metadata": {},
     "output_type": "display_data"
    }
   ],
   "source": [
    "# YOUR CODE HERE\n",
    "# One-hot encode BldgType. Use `prefix=\"Bldg\"` in `get_dummies`\n",
    "X_2 = pd.get_dummies(X.BldgType, prefix=\"Bldg\") \n",
    "# Multiply\n",
    "X_2 = X_2.mul(X.GrLivArea, axis=0)\n",
    "\n",
    "\n",
    "# Check your answer\n",
    "q_2.check()"
   ]
  },
  {
   "cell_type": "code",
   "execution_count": 5,
   "id": "73c8d5b7",
   "metadata": {
    "execution": {
     "iopub.execute_input": "2022-08-31T21:41:37.636118Z",
     "iopub.status.busy": "2022-08-31T21:41:37.635516Z",
     "iopub.status.idle": "2022-08-31T21:41:37.640322Z",
     "shell.execute_reply": "2022-08-31T21:41:37.639158Z"
    },
    "lines_to_next_cell": 0,
    "papermill": {
     "duration": 0.014526,
     "end_time": "2022-08-31T21:41:37.642663",
     "exception": false,
     "start_time": "2022-08-31T21:41:37.628137",
     "status": "completed"
    },
    "tags": []
   },
   "outputs": [],
   "source": [
    "# Lines below will give you a hint or solution code\n",
    "#q_2.hint()\n",
    "#q_2.solution()"
   ]
  },
  {
   "cell_type": "markdown",
   "id": "4b78f38f",
   "metadata": {
    "lines_to_next_cell": 0,
    "papermill": {
     "duration": 0.00576,
     "end_time": "2022-08-31T21:41:37.654591",
     "exception": false,
     "start_time": "2022-08-31T21:41:37.648831",
     "status": "completed"
    },
    "tags": []
   },
   "source": [
    "# 3) Count Feature\n",
    "\n",
    "Let's try creating a feature that describes how many kinds of outdoor areas a dwelling has. Create a feature `PorchTypes` that counts how many of the following are greater than 0.0:\n",
    "\n",
    "```\n",
    "WoodDeckSF\n",
    "OpenPorchSF\n",
    "EnclosedPorch\n",
    "Threeseasonporch\n",
    "ScreenPorch\n",
    "```"
   ]
  },
  {
   "cell_type": "code",
   "execution_count": 6,
   "id": "e53440f1",
   "metadata": {
    "execution": {
     "iopub.execute_input": "2022-08-31T21:41:37.669061Z",
     "iopub.status.busy": "2022-08-31T21:41:37.668600Z",
     "iopub.status.idle": "2022-08-31T21:41:37.696175Z",
     "shell.execute_reply": "2022-08-31T21:41:37.694964Z"
    },
    "lines_to_next_cell": 0,
    "papermill": {
     "duration": 0.038339,
     "end_time": "2022-08-31T21:41:37.698999",
     "exception": false,
     "start_time": "2022-08-31T21:41:37.660660",
     "status": "completed"
    },
    "tags": []
   },
   "outputs": [
    {
     "data": {
      "application/javascript": [
       "parent.postMessage({\"jupyterEvent\": \"custom.exercise_interaction\", \"data\": {\"outcomeType\": 1, \"valueTowardsCompletion\": 0.2, \"interactionType\": 1, \"questionType\": 2, \"questionId\": \"3_Q3\", \"learnToolsVersion\": \"0.3.4\", \"failureMessage\": \"\", \"exceptionClass\": \"\", \"trace\": \"\"}}, \"*\")"
      ],
      "text/plain": [
       "<IPython.core.display.Javascript object>"
      ]
     },
     "metadata": {},
     "output_type": "display_data"
    },
    {
     "data": {
      "text/markdown": [
       "<span style=\"color:#33cc33\">Correct</span>"
      ],
      "text/plain": [
       "Correct"
      ]
     },
     "metadata": {},
     "output_type": "display_data"
    }
   ],
   "source": [
    "X_3 = pd.DataFrame()\n",
    "\n",
    "# YOUR CODE HERE\n",
    "columns = ['WoodDeckSF', 'OpenPorchSF', 'EnclosedPorch', 'Threeseasonporch', 'ScreenPorch']\n",
    "X_3[\"PorchTypes\"] = X[columns].apply(lambda x:x>0).sum(1)\n",
    "\n",
    "\n",
    "# Check your answer\n",
    "q_3.check()"
   ]
  },
  {
   "cell_type": "code",
   "execution_count": 7,
   "id": "f808fbff",
   "metadata": {
    "execution": {
     "iopub.execute_input": "2022-08-31T21:41:37.713488Z",
     "iopub.status.busy": "2022-08-31T21:41:37.713024Z",
     "iopub.status.idle": "2022-08-31T21:41:37.717966Z",
     "shell.execute_reply": "2022-08-31T21:41:37.716993Z"
    },
    "lines_to_next_cell": 0,
    "papermill": {
     "duration": 0.014713,
     "end_time": "2022-08-31T21:41:37.720164",
     "exception": false,
     "start_time": "2022-08-31T21:41:37.705451",
     "status": "completed"
    },
    "tags": []
   },
   "outputs": [],
   "source": [
    "# Lines below will give you a hint or solution code\n",
    "#q_3.hint()\n",
    "#q_3.solution()"
   ]
  },
  {
   "cell_type": "markdown",
   "id": "0ebdb32d",
   "metadata": {
    "papermill": {
     "duration": 0.005822,
     "end_time": "2022-08-31T21:41:37.732298",
     "exception": false,
     "start_time": "2022-08-31T21:41:37.726476",
     "status": "completed"
    },
    "tags": []
   },
   "source": [
    "# 4) Break Down a Categorical Feature\n",
    "\n",
    "`MSSubClass` describes the type of a dwelling:"
   ]
  },
  {
   "cell_type": "markdown",
   "id": "ae753300",
   "metadata": {
    "papermill": {
     "duration": 0.006659,
     "end_time": "2022-08-31T21:41:37.745167",
     "exception": false,
     "start_time": "2022-08-31T21:41:37.738508",
     "status": "completed"
    },
    "tags": []
   },
   "source": [
    "You can see that there is a more general categorization described (roughly) by the first word of each category. Create a feature containing only these first words by splitting `MSSubClass` at the first underscore `_`. (Hint: In the `split` method use an argument `n=1`.)"
   ]
  },
  {
   "cell_type": "code",
   "execution_count": 8,
   "id": "b4d68c93",
   "metadata": {
    "execution": {
     "iopub.execute_input": "2022-08-31T21:41:37.760385Z",
     "iopub.status.busy": "2022-08-31T21:41:37.759761Z",
     "iopub.status.idle": "2022-08-31T21:41:37.790003Z",
     "shell.execute_reply": "2022-08-31T21:41:37.789025Z"
    },
    "lines_to_next_cell": 0,
    "papermill": {
     "duration": 0.040658,
     "end_time": "2022-08-31T21:41:37.792379",
     "exception": false,
     "start_time": "2022-08-31T21:41:37.751721",
     "status": "completed"
    },
    "tags": []
   },
   "outputs": [
    {
     "data": {
      "application/javascript": [
       "parent.postMessage({\"jupyterEvent\": \"custom.exercise_interaction\", \"data\": {\"outcomeType\": 1, \"valueTowardsCompletion\": 0.2, \"interactionType\": 1, \"questionType\": 2, \"questionId\": \"4_Q4\", \"learnToolsVersion\": \"0.3.4\", \"failureMessage\": \"\", \"exceptionClass\": \"\", \"trace\": \"\"}}, \"*\")"
      ],
      "text/plain": [
       "<IPython.core.display.Javascript object>"
      ]
     },
     "metadata": {},
     "output_type": "display_data"
    },
    {
     "data": {
      "text/markdown": [
       "<span style=\"color:#33cc33\">Correct</span>"
      ],
      "text/plain": [
       "Correct"
      ]
     },
     "metadata": {},
     "output_type": "display_data"
    }
   ],
   "source": [
    "X_4 = pd.DataFrame()\n",
    "\n",
    "# YOUR CODE HERE\n",
    "feature = df.MSSubClass.str.split('_', n=1)\n",
    "X_4['MSClass'] = pd.DataFrame(feature.tolist())[0]\n",
    "\n",
    "# Check your answer\n",
    "q_4.check()"
   ]
  },
  {
   "cell_type": "code",
   "execution_count": 9,
   "id": "084c5746",
   "metadata": {
    "execution": {
     "iopub.execute_input": "2022-08-31T21:41:37.808672Z",
     "iopub.status.busy": "2022-08-31T21:41:37.807756Z",
     "iopub.status.idle": "2022-08-31T21:41:37.813859Z",
     "shell.execute_reply": "2022-08-31T21:41:37.812822Z"
    },
    "lines_to_next_cell": 0,
    "papermill": {
     "duration": 0.019689,
     "end_time": "2022-08-31T21:41:37.818849",
     "exception": false,
     "start_time": "2022-08-31T21:41:37.799160",
     "status": "completed"
    },
    "tags": []
   },
   "outputs": [],
   "source": [
    "# Lines below will give you a hint or solution code\n",
    "#q_4.hint()\n",
    "#q_4.solution()"
   ]
  },
  {
   "cell_type": "markdown",
   "id": "0c606d9d",
   "metadata": {
    "papermill": {
     "duration": 0.007621,
     "end_time": "2022-08-31T21:41:37.836033",
     "exception": false,
     "start_time": "2022-08-31T21:41:37.828412",
     "status": "completed"
    },
    "tags": []
   },
   "source": [
    "# 5) Use a Grouped Transform\n",
    "\n",
    "The value of a home often depends on how it compares to typical homes in its neighborhood. Create a feature `MedNhbdArea` that describes the *median* of `GrLivArea` grouped on `Neighborhood`."
   ]
  },
  {
   "cell_type": "code",
   "execution_count": 10,
   "id": "bc2333ed",
   "metadata": {
    "execution": {
     "iopub.execute_input": "2022-08-31T21:41:37.853091Z",
     "iopub.status.busy": "2022-08-31T21:41:37.852482Z",
     "iopub.status.idle": "2022-08-31T21:41:37.878105Z",
     "shell.execute_reply": "2022-08-31T21:41:37.876555Z"
    },
    "lines_to_next_cell": 0,
    "papermill": {
     "duration": 0.037589,
     "end_time": "2022-08-31T21:41:37.880883",
     "exception": false,
     "start_time": "2022-08-31T21:41:37.843294",
     "status": "completed"
    },
    "tags": []
   },
   "outputs": [
    {
     "data": {
      "application/javascript": [
       "parent.postMessage({\"jupyterEvent\": \"custom.exercise_interaction\", \"data\": {\"outcomeType\": 1, \"valueTowardsCompletion\": 0.2, \"interactionType\": 1, \"questionType\": 2, \"questionId\": \"5_Q5\", \"learnToolsVersion\": \"0.3.4\", \"failureMessage\": \"\", \"exceptionClass\": \"\", \"trace\": \"\"}}, \"*\")"
      ],
      "text/plain": [
       "<IPython.core.display.Javascript object>"
      ]
     },
     "metadata": {},
     "output_type": "display_data"
    },
    {
     "data": {
      "text/markdown": [
       "<span style=\"color:#33cc33\">Correct</span>"
      ],
      "text/plain": [
       "Correct"
      ]
     },
     "metadata": {},
     "output_type": "display_data"
    }
   ],
   "source": [
    "X_5 = pd.DataFrame()\n",
    "\n",
    "# YOUR CODE HERE\n",
    "X_5['MedNhbdArea'] = X.groupby('Neighborhood')['GrLivArea'].transform(\"median\")\n",
    "\n",
    "# Check your answer\n",
    "q_5.check()"
   ]
  },
  {
   "cell_type": "code",
   "execution_count": 11,
   "id": "90e7d3e9",
   "metadata": {
    "execution": {
     "iopub.execute_input": "2022-08-31T21:41:37.896991Z",
     "iopub.status.busy": "2022-08-31T21:41:37.896551Z",
     "iopub.status.idle": "2022-08-31T21:41:37.902291Z",
     "shell.execute_reply": "2022-08-31T21:41:37.900870Z"
    },
    "lines_to_next_cell": 0,
    "papermill": {
     "duration": 0.016753,
     "end_time": "2022-08-31T21:41:37.904901",
     "exception": false,
     "start_time": "2022-08-31T21:41:37.888148",
     "status": "completed"
    },
    "tags": []
   },
   "outputs": [],
   "source": [
    "# Lines below will give you a hint or solution code\n",
    "#q_5.hint()\n",
    "# q_5.solution()"
   ]
  },
  {
   "cell_type": "markdown",
   "id": "57857be3",
   "metadata": {
    "papermill": {
     "duration": 0.007057,
     "end_time": "2022-08-31T21:41:37.918671",
     "exception": false,
     "start_time": "2022-08-31T21:41:37.911614",
     "status": "completed"
    },
    "tags": []
   },
   "source": [
    "Now you've made your first new feature set! If you like, you can run the cell below to score the model with all of your new features added:"
   ]
  },
  {
   "cell_type": "code",
   "execution_count": 12,
   "id": "c494b912",
   "metadata": {
    "execution": {
     "iopub.execute_input": "2022-08-31T21:41:37.934774Z",
     "iopub.status.busy": "2022-08-31T21:41:37.934077Z",
     "iopub.status.idle": "2022-08-31T21:41:42.928607Z",
     "shell.execute_reply": "2022-08-31T21:41:42.927366Z"
    },
    "papermill": {
     "duration": 5.005588,
     "end_time": "2022-08-31T21:41:42.931282",
     "exception": false,
     "start_time": "2022-08-31T21:41:37.925694",
     "status": "completed"
    },
    "tags": []
   },
   "outputs": [
    {
     "data": {
      "text/plain": [
       "0.13847331710099203"
      ]
     },
     "execution_count": 12,
     "metadata": {},
     "output_type": "execute_result"
    }
   ],
   "source": [
    "X_new = X.join([X_1, X_2, X_3, X_4, X_5])\n",
    "score_dataset(X_new, y)"
   ]
  },
  {
   "cell_type": "markdown",
   "id": "d131baa1",
   "metadata": {
    "papermill": {
     "duration": 0.006539,
     "end_time": "2022-08-31T21:41:42.944922",
     "exception": false,
     "start_time": "2022-08-31T21:41:42.938383",
     "status": "completed"
    },
    "tags": []
   },
   "source": [
    "# Keep Going #\n",
    "\n",
    "[**Untangle spatial relationships**](https://www.kaggle.com/ryanholbrook/clustering-with-k-means) by adding cluster labels to your dataset."
   ]
  },
  {
   "cell_type": "markdown",
   "id": "2e2c4b3b",
   "metadata": {
    "papermill": {
     "duration": 0.006506,
     "end_time": "2022-08-31T21:41:42.958180",
     "exception": false,
     "start_time": "2022-08-31T21:41:42.951674",
     "status": "completed"
    },
    "tags": []
   },
   "source": [
    "---\n",
    "\n",
    "\n",
    "\n",
    "\n",
    "*Have questions or comments? Visit the [course discussion forum](https://www.kaggle.com/learn/feature-engineering/discussion) to chat with other learners.*"
   ]
  }
 ],
 "metadata": {
  "kernelspec": {
   "display_name": "Python 3",
   "language": "python",
   "name": "python3"
  },
  "language_info": {
   "codemirror_mode": {
    "name": "ipython",
    "version": 3
   },
   "file_extension": ".py",
   "mimetype": "text/x-python",
   "name": "python",
   "nbconvert_exporter": "python",
   "pygments_lexer": "ipython3",
   "version": "3.7.12"
  },
  "papermill": {
   "default_parameters": {},
   "duration": 17.658445,
   "end_time": "2022-08-31T21:41:43.687433",
   "environment_variables": {},
   "exception": null,
   "input_path": "__notebook__.ipynb",
   "output_path": "__notebook__.ipynb",
   "parameters": {},
   "start_time": "2022-08-31T21:41:26.028988",
   "version": "2.3.4"
  }
 },
 "nbformat": 4,
 "nbformat_minor": 5
}
