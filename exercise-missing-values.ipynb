{
 "cells": [
  {
   "cell_type": "markdown",
   "id": "67c0fb87",
   "metadata": {
    "papermill": {
     "duration": 0.011195,
     "end_time": "2022-08-29T02:52:05.545855",
     "exception": false,
     "start_time": "2022-08-29T02:52:05.534660",
     "status": "completed"
    },
    "tags": []
   },
   "source": [
    "**This notebook is an exercise in the [Intermediate Machine Learning](https://www.kaggle.com/learn/intermediate-machine-learning) course.  You can reference the tutorial at [this link](https://www.kaggle.com/alexisbcook/missing-values).**\n",
    "\n",
    "---\n"
   ]
  },
  {
   "cell_type": "markdown",
   "id": "9bee298a",
   "metadata": {
    "papermill": {
     "duration": 0.00946,
     "end_time": "2022-08-29T02:52:05.565431",
     "exception": false,
     "start_time": "2022-08-29T02:52:05.555971",
     "status": "completed"
    },
    "tags": []
   },
   "source": [
    "Now it's your turn to test your new knowledge of **missing values** handling. You'll probably find it makes a big difference.\n",
    "\n",
    "# Setup\n",
    "\n",
    "The questions will give you feedback on your work. Run the following cell to set up the feedback system."
   ]
  },
  {
   "cell_type": "code",
   "execution_count": 1,
   "id": "d9ba15ee",
   "metadata": {
    "execution": {
     "iopub.execute_input": "2022-08-29T02:52:05.587758Z",
     "iopub.status.busy": "2022-08-29T02:52:05.586927Z",
     "iopub.status.idle": "2022-08-29T02:52:05.642667Z",
     "shell.execute_reply": "2022-08-29T02:52:05.641454Z"
    },
    "papermill": {
     "duration": 0.070049,
     "end_time": "2022-08-29T02:52:05.645419",
     "exception": false,
     "start_time": "2022-08-29T02:52:05.575370",
     "status": "completed"
    },
    "tags": []
   },
   "outputs": [
    {
     "name": "stdout",
     "output_type": "stream",
     "text": [
      "Setup Complete\n"
     ]
    }
   ],
   "source": [
    "# Set up code checking\n",
    "import os\n",
    "if not os.path.exists(\"../input/train.csv\"):\n",
    "    os.symlink(\"../input/home-data-for-ml-course/train.csv\", \"../input/train.csv\")  \n",
    "    os.symlink(\"../input/home-data-for-ml-course/test.csv\", \"../input/test.csv\") \n",
    "from learntools.core import binder\n",
    "binder.bind(globals())\n",
    "from learntools.ml_intermediate.ex2 import *\n",
    "print(\"Setup Complete\")"
   ]
  },
  {
   "cell_type": "markdown",
   "id": "6369ccef",
   "metadata": {
    "papermill": {
     "duration": 0.010131,
     "end_time": "2022-08-29T02:52:05.665854",
     "exception": false,
     "start_time": "2022-08-29T02:52:05.655723",
     "status": "completed"
    },
    "tags": []
   },
   "source": [
    "In this exercise, you will work with data from the [Housing Prices Competition for Kaggle Learn Users](https://www.kaggle.com/c/home-data-for-ml-course). \n",
    "\n",
    "![Ames Housing dataset image](https://i.imgur.com/lTJVG4e.png)\n",
    "\n",
    "Run the next code cell without changes to load the training and validation sets in `X_train`, `X_valid`, `y_train`, and `y_valid`.  The test set is loaded in `X_test`."
   ]
  },
  {
   "cell_type": "code",
   "execution_count": 2,
   "id": "c90c1bac",
   "metadata": {
    "execution": {
     "iopub.execute_input": "2022-08-29T02:52:05.688883Z",
     "iopub.status.busy": "2022-08-29T02:52:05.688435Z",
     "iopub.status.idle": "2022-08-29T02:52:06.991377Z",
     "shell.execute_reply": "2022-08-29T02:52:06.990192Z"
    },
    "papermill": {
     "duration": 1.317611,
     "end_time": "2022-08-29T02:52:06.994604",
     "exception": false,
     "start_time": "2022-08-29T02:52:05.676993",
     "status": "completed"
    },
    "tags": []
   },
   "outputs": [],
   "source": [
    "import pandas as pd\n",
    "from sklearn.model_selection import train_test_split\n",
    "\n",
    "# Read the data\n",
    "X_full = pd.read_csv('../input/train.csv', index_col='Id')\n",
    "X_test_full = pd.read_csv('../input/test.csv', index_col='Id')\n",
    "\n",
    "# Remove rows with missing target, separate target from predictors\n",
    "X_full.dropna(axis=0, subset=['SalePrice'], inplace=True)\n",
    "y = X_full.SalePrice\n",
    "X_full.drop(['SalePrice'], axis=1, inplace=True)\n",
    "\n",
    "# To keep things simple, we'll use only numerical predictors\n",
    "X = X_full.select_dtypes(exclude=['object'])\n",
    "X_test = X_test_full.select_dtypes(exclude=['object'])\n",
    "\n",
    "# Break off validation set from training data\n",
    "X_train, X_valid, y_train, y_valid = train_test_split(X, y, train_size=0.8, test_size=0.2,\n",
    "                                                      random_state=0)"
   ]
  },
  {
   "cell_type": "markdown",
   "id": "87d64b39",
   "metadata": {
    "papermill": {
     "duration": 0.009746,
     "end_time": "2022-08-29T02:52:07.014363",
     "exception": false,
     "start_time": "2022-08-29T02:52:07.004617",
     "status": "completed"
    },
    "tags": []
   },
   "source": [
    "Use the next code cell to print the first five rows of the data."
   ]
  },
  {
   "cell_type": "code",
   "execution_count": 3,
   "id": "cdf16599",
   "metadata": {
    "execution": {
     "iopub.execute_input": "2022-08-29T02:52:07.036909Z",
     "iopub.status.busy": "2022-08-29T02:52:07.036054Z",
     "iopub.status.idle": "2022-08-29T02:52:07.066381Z",
     "shell.execute_reply": "2022-08-29T02:52:07.065204Z"
    },
    "papermill": {
     "duration": 0.044449,
     "end_time": "2022-08-29T02:52:07.068834",
     "exception": false,
     "start_time": "2022-08-29T02:52:07.024385",
     "status": "completed"
    },
    "tags": []
   },
   "outputs": [
    {
     "data": {
      "text/html": [
       "<div>\n",
       "<style scoped>\n",
       "    .dataframe tbody tr th:only-of-type {\n",
       "        vertical-align: middle;\n",
       "    }\n",
       "\n",
       "    .dataframe tbody tr th {\n",
       "        vertical-align: top;\n",
       "    }\n",
       "\n",
       "    .dataframe thead th {\n",
       "        text-align: right;\n",
       "    }\n",
       "</style>\n",
       "<table border=\"1\" class=\"dataframe\">\n",
       "  <thead>\n",
       "    <tr style=\"text-align: right;\">\n",
       "      <th></th>\n",
       "      <th>MSSubClass</th>\n",
       "      <th>LotFrontage</th>\n",
       "      <th>LotArea</th>\n",
       "      <th>OverallQual</th>\n",
       "      <th>OverallCond</th>\n",
       "      <th>YearBuilt</th>\n",
       "      <th>YearRemodAdd</th>\n",
       "      <th>MasVnrArea</th>\n",
       "      <th>BsmtFinSF1</th>\n",
       "      <th>BsmtFinSF2</th>\n",
       "      <th>...</th>\n",
       "      <th>GarageArea</th>\n",
       "      <th>WoodDeckSF</th>\n",
       "      <th>OpenPorchSF</th>\n",
       "      <th>EnclosedPorch</th>\n",
       "      <th>3SsnPorch</th>\n",
       "      <th>ScreenPorch</th>\n",
       "      <th>PoolArea</th>\n",
       "      <th>MiscVal</th>\n",
       "      <th>MoSold</th>\n",
       "      <th>YrSold</th>\n",
       "    </tr>\n",
       "    <tr>\n",
       "      <th>Id</th>\n",
       "      <th></th>\n",
       "      <th></th>\n",
       "      <th></th>\n",
       "      <th></th>\n",
       "      <th></th>\n",
       "      <th></th>\n",
       "      <th></th>\n",
       "      <th></th>\n",
       "      <th></th>\n",
       "      <th></th>\n",
       "      <th></th>\n",
       "      <th></th>\n",
       "      <th></th>\n",
       "      <th></th>\n",
       "      <th></th>\n",
       "      <th></th>\n",
       "      <th></th>\n",
       "      <th></th>\n",
       "      <th></th>\n",
       "      <th></th>\n",
       "      <th></th>\n",
       "    </tr>\n",
       "  </thead>\n",
       "  <tbody>\n",
       "    <tr>\n",
       "      <th>619</th>\n",
       "      <td>20</td>\n",
       "      <td>90.0</td>\n",
       "      <td>11694</td>\n",
       "      <td>9</td>\n",
       "      <td>5</td>\n",
       "      <td>2007</td>\n",
       "      <td>2007</td>\n",
       "      <td>452.0</td>\n",
       "      <td>48</td>\n",
       "      <td>0</td>\n",
       "      <td>...</td>\n",
       "      <td>774</td>\n",
       "      <td>0</td>\n",
       "      <td>108</td>\n",
       "      <td>0</td>\n",
       "      <td>0</td>\n",
       "      <td>260</td>\n",
       "      <td>0</td>\n",
       "      <td>0</td>\n",
       "      <td>7</td>\n",
       "      <td>2007</td>\n",
       "    </tr>\n",
       "    <tr>\n",
       "      <th>871</th>\n",
       "      <td>20</td>\n",
       "      <td>60.0</td>\n",
       "      <td>6600</td>\n",
       "      <td>5</td>\n",
       "      <td>5</td>\n",
       "      <td>1962</td>\n",
       "      <td>1962</td>\n",
       "      <td>0.0</td>\n",
       "      <td>0</td>\n",
       "      <td>0</td>\n",
       "      <td>...</td>\n",
       "      <td>308</td>\n",
       "      <td>0</td>\n",
       "      <td>0</td>\n",
       "      <td>0</td>\n",
       "      <td>0</td>\n",
       "      <td>0</td>\n",
       "      <td>0</td>\n",
       "      <td>0</td>\n",
       "      <td>8</td>\n",
       "      <td>2009</td>\n",
       "    </tr>\n",
       "    <tr>\n",
       "      <th>93</th>\n",
       "      <td>30</td>\n",
       "      <td>80.0</td>\n",
       "      <td>13360</td>\n",
       "      <td>5</td>\n",
       "      <td>7</td>\n",
       "      <td>1921</td>\n",
       "      <td>2006</td>\n",
       "      <td>0.0</td>\n",
       "      <td>713</td>\n",
       "      <td>0</td>\n",
       "      <td>...</td>\n",
       "      <td>432</td>\n",
       "      <td>0</td>\n",
       "      <td>0</td>\n",
       "      <td>44</td>\n",
       "      <td>0</td>\n",
       "      <td>0</td>\n",
       "      <td>0</td>\n",
       "      <td>0</td>\n",
       "      <td>8</td>\n",
       "      <td>2009</td>\n",
       "    </tr>\n",
       "    <tr>\n",
       "      <th>818</th>\n",
       "      <td>20</td>\n",
       "      <td>NaN</td>\n",
       "      <td>13265</td>\n",
       "      <td>8</td>\n",
       "      <td>5</td>\n",
       "      <td>2002</td>\n",
       "      <td>2002</td>\n",
       "      <td>148.0</td>\n",
       "      <td>1218</td>\n",
       "      <td>0</td>\n",
       "      <td>...</td>\n",
       "      <td>857</td>\n",
       "      <td>150</td>\n",
       "      <td>59</td>\n",
       "      <td>0</td>\n",
       "      <td>0</td>\n",
       "      <td>0</td>\n",
       "      <td>0</td>\n",
       "      <td>0</td>\n",
       "      <td>7</td>\n",
       "      <td>2008</td>\n",
       "    </tr>\n",
       "    <tr>\n",
       "      <th>303</th>\n",
       "      <td>20</td>\n",
       "      <td>118.0</td>\n",
       "      <td>13704</td>\n",
       "      <td>7</td>\n",
       "      <td>5</td>\n",
       "      <td>2001</td>\n",
       "      <td>2002</td>\n",
       "      <td>150.0</td>\n",
       "      <td>0</td>\n",
       "      <td>0</td>\n",
       "      <td>...</td>\n",
       "      <td>843</td>\n",
       "      <td>468</td>\n",
       "      <td>81</td>\n",
       "      <td>0</td>\n",
       "      <td>0</td>\n",
       "      <td>0</td>\n",
       "      <td>0</td>\n",
       "      <td>0</td>\n",
       "      <td>1</td>\n",
       "      <td>2006</td>\n",
       "    </tr>\n",
       "  </tbody>\n",
       "</table>\n",
       "<p>5 rows × 36 columns</p>\n",
       "</div>"
      ],
      "text/plain": [
       "     MSSubClass  LotFrontage  LotArea  OverallQual  OverallCond  YearBuilt  \\\n",
       "Id                                                                           \n",
       "619          20         90.0    11694            9            5       2007   \n",
       "871          20         60.0     6600            5            5       1962   \n",
       "93           30         80.0    13360            5            7       1921   \n",
       "818          20          NaN    13265            8            5       2002   \n",
       "303          20        118.0    13704            7            5       2001   \n",
       "\n",
       "     YearRemodAdd  MasVnrArea  BsmtFinSF1  BsmtFinSF2  ...  GarageArea  \\\n",
       "Id                                                     ...               \n",
       "619          2007       452.0          48           0  ...         774   \n",
       "871          1962         0.0           0           0  ...         308   \n",
       "93           2006         0.0         713           0  ...         432   \n",
       "818          2002       148.0        1218           0  ...         857   \n",
       "303          2002       150.0           0           0  ...         843   \n",
       "\n",
       "     WoodDeckSF  OpenPorchSF  EnclosedPorch  3SsnPorch  ScreenPorch  PoolArea  \\\n",
       "Id                                                                              \n",
       "619           0          108              0          0          260         0   \n",
       "871           0            0              0          0            0         0   \n",
       "93            0            0             44          0            0         0   \n",
       "818         150           59              0          0            0         0   \n",
       "303         468           81              0          0            0         0   \n",
       "\n",
       "     MiscVal  MoSold  YrSold  \n",
       "Id                            \n",
       "619        0       7    2007  \n",
       "871        0       8    2009  \n",
       "93         0       8    2009  \n",
       "818        0       7    2008  \n",
       "303        0       1    2006  \n",
       "\n",
       "[5 rows x 36 columns]"
      ]
     },
     "execution_count": 3,
     "metadata": {},
     "output_type": "execute_result"
    }
   ],
   "source": [
    "X_train.head()"
   ]
  },
  {
   "cell_type": "markdown",
   "id": "30a684b7",
   "metadata": {
    "papermill": {
     "duration": 0.010947,
     "end_time": "2022-08-29T02:52:07.090194",
     "exception": false,
     "start_time": "2022-08-29T02:52:07.079247",
     "status": "completed"
    },
    "tags": []
   },
   "source": [
    "You can already see a few missing values in the first several rows.  In the next step, you'll obtain a more comprehensive understanding of the missing values in the dataset.\n",
    "\n",
    "# Step 1: Preliminary investigation\n",
    "\n",
    "Run the code cell below without changes."
   ]
  },
  {
   "cell_type": "code",
   "execution_count": 4,
   "id": "a95d8ac2",
   "metadata": {
    "execution": {
     "iopub.execute_input": "2022-08-29T02:52:07.113540Z",
     "iopub.status.busy": "2022-08-29T02:52:07.112903Z",
     "iopub.status.idle": "2022-08-29T02:52:07.122634Z",
     "shell.execute_reply": "2022-08-29T02:52:07.121015Z"
    },
    "papermill": {
     "duration": 0.024895,
     "end_time": "2022-08-29T02:52:07.125631",
     "exception": false,
     "start_time": "2022-08-29T02:52:07.100736",
     "status": "completed"
    },
    "tags": []
   },
   "outputs": [
    {
     "name": "stdout",
     "output_type": "stream",
     "text": [
      "(1168, 36)\n",
      "LotFrontage    212\n",
      "MasVnrArea       6\n",
      "GarageYrBlt     58\n",
      "dtype: int64\n"
     ]
    }
   ],
   "source": [
    "# Shape of training data (num_rows, num_columns)\n",
    "print(X_train.shape)\n",
    "\n",
    "# Number of missing values in each column of training data\n",
    "missing_val_count_by_column = (X_train.isnull().sum())\n",
    "print(missing_val_count_by_column[missing_val_count_by_column > 0])"
   ]
  },
  {
   "cell_type": "markdown",
   "id": "1f6997fe",
   "metadata": {
    "papermill": {
     "duration": 0.011006,
     "end_time": "2022-08-29T02:52:07.147404",
     "exception": false,
     "start_time": "2022-08-29T02:52:07.136398",
     "status": "completed"
    },
    "tags": []
   },
   "source": [
    "### Part A\n",
    "\n",
    "Use the above output to answer the questions below."
   ]
  },
  {
   "cell_type": "code",
   "execution_count": 5,
   "id": "d6dbd066",
   "metadata": {
    "execution": {
     "iopub.execute_input": "2022-08-29T02:52:07.171092Z",
     "iopub.status.busy": "2022-08-29T02:52:07.170604Z",
     "iopub.status.idle": "2022-08-29T02:52:07.179982Z",
     "shell.execute_reply": "2022-08-29T02:52:07.179176Z"
    },
    "papermill": {
     "duration": 0.023846,
     "end_time": "2022-08-29T02:52:07.182023",
     "exception": false,
     "start_time": "2022-08-29T02:52:07.158177",
     "status": "completed"
    },
    "tags": []
   },
   "outputs": [
    {
     "data": {
      "application/javascript": [
       "parent.postMessage({\"jupyterEvent\": \"custom.exercise_interaction\", \"data\": {\"outcomeType\": 1, \"valueTowardsCompletion\": 1.0, \"interactionType\": 1, \"questionType\": 1, \"questionId\": \"1.1_InvestigateEquality\", \"learnToolsVersion\": \"0.3.4\", \"failureMessage\": \"\", \"exceptionClass\": \"\", \"trace\": \"\"}}, \"*\")"
      ],
      "text/plain": [
       "<IPython.core.display.Javascript object>"
      ]
     },
     "metadata": {},
     "output_type": "display_data"
    },
    {
     "data": {
      "text/markdown": [
       "<span style=\"color:#33cc33\">Correct</span>"
      ],
      "text/plain": [
       "Correct"
      ]
     },
     "metadata": {},
     "output_type": "display_data"
    }
   ],
   "source": [
    "# Fill in the line below: How many rows are in the training data?\n",
    "num_rows = 1168\n",
    "\n",
    "# Fill in the line below: How many columns in the training data\n",
    "# have missing values?\n",
    "num_cols_with_missing = 3\n",
    "\n",
    "# Fill in the line below: How many missing entries are contained in \n",
    "# all of the training data?\n",
    "tot_missing = 276\n",
    "\n",
    "# Check your answers\n",
    "step_1.a.check()"
   ]
  },
  {
   "cell_type": "code",
   "execution_count": 6,
   "id": "b2ada105",
   "metadata": {
    "execution": {
     "iopub.execute_input": "2022-08-29T02:52:07.205364Z",
     "iopub.status.busy": "2022-08-29T02:52:07.204854Z",
     "iopub.status.idle": "2022-08-29T02:52:07.209956Z",
     "shell.execute_reply": "2022-08-29T02:52:07.208763Z"
    },
    "papermill": {
     "duration": 0.01965,
     "end_time": "2022-08-29T02:52:07.212424",
     "exception": false,
     "start_time": "2022-08-29T02:52:07.192774",
     "status": "completed"
    },
    "tags": []
   },
   "outputs": [],
   "source": [
    "# Lines below will give you a hint or solution code\n",
    "#step_1.a.hint()\n",
    "#step_1.a.solution()"
   ]
  },
  {
   "cell_type": "markdown",
   "id": "f2362555",
   "metadata": {
    "papermill": {
     "duration": 0.010573,
     "end_time": "2022-08-29T02:52:07.233996",
     "exception": false,
     "start_time": "2022-08-29T02:52:07.223423",
     "status": "completed"
    },
    "tags": []
   },
   "source": [
    "### Part B\n",
    "Considering your answers above, what do you think is likely the best approach to dealing with the missing values?"
   ]
  },
  {
   "cell_type": "code",
   "execution_count": 7,
   "id": "4a4c5708",
   "metadata": {
    "execution": {
     "iopub.execute_input": "2022-08-29T02:52:07.257790Z",
     "iopub.status.busy": "2022-08-29T02:52:07.256840Z",
     "iopub.status.idle": "2022-08-29T02:52:07.262999Z",
     "shell.execute_reply": "2022-08-29T02:52:07.261724Z"
    },
    "papermill": {
     "duration": 0.02115,
     "end_time": "2022-08-29T02:52:07.265821",
     "exception": false,
     "start_time": "2022-08-29T02:52:07.244671",
     "status": "completed"
    },
    "tags": []
   },
   "outputs": [],
   "source": [
    "# by comparing the number of rows(1168) with the total tot_missing entries. It's very clear that imputation is more likely to be useful than dropping columns"
   ]
  },
  {
   "cell_type": "code",
   "execution_count": 8,
   "id": "401ffce3",
   "metadata": {
    "execution": {
     "iopub.execute_input": "2022-08-29T02:52:07.290273Z",
     "iopub.status.busy": "2022-08-29T02:52:07.289411Z",
     "iopub.status.idle": "2022-08-29T02:52:07.299882Z",
     "shell.execute_reply": "2022-08-29T02:52:07.298649Z"
    },
    "papermill": {
     "duration": 0.025452,
     "end_time": "2022-08-29T02:52:07.302246",
     "exception": false,
     "start_time": "2022-08-29T02:52:07.276794",
     "status": "completed"
    },
    "tags": []
   },
   "outputs": [
    {
     "data": {
      "application/javascript": [
       "parent.postMessage({\"jupyterEvent\": \"custom.exercise_interaction\", \"data\": {\"outcomeType\": 1, \"valueTowardsCompletion\": 1.0, \"interactionType\": 1, \"questionType\": 4, \"questionId\": \"1.2_InvestigateThought\", \"learnToolsVersion\": \"0.3.4\", \"failureMessage\": \"\", \"exceptionClass\": \"\", \"trace\": \"\"}}, \"*\")"
      ],
      "text/plain": [
       "<IPython.core.display.Javascript object>"
      ]
     },
     "metadata": {},
     "output_type": "display_data"
    },
    {
     "data": {
      "text/markdown": [
       "<span style=\"color:#33cc33\">Correct:</span> \n",
       "\n",
       "Since there are relatively few missing entries in the data (the column with the greatest percentage of missing values is missing less than 20% of its entries), we can expect that dropping columns is unlikely to yield good results.  This is because we'd be throwing away a lot of valuable data, and so imputation will likely perform better."
      ],
      "text/plain": [
       "Correct: \n",
       "\n",
       "Since there are relatively few missing entries in the data (the column with the greatest percentage of missing values is missing less than 20% of its entries), we can expect that dropping columns is unlikely to yield good results.  This is because we'd be throwing away a lot of valuable data, and so imputation will likely perform better."
      ]
     },
     "metadata": {},
     "output_type": "display_data"
    }
   ],
   "source": [
    "# Check your answer (Run this code cell to receive credit!)\n",
    "step_1.b.check()"
   ]
  },
  {
   "cell_type": "code",
   "execution_count": 9,
   "id": "d74eb5d0",
   "metadata": {
    "execution": {
     "iopub.execute_input": "2022-08-29T02:52:07.327444Z",
     "iopub.status.busy": "2022-08-29T02:52:07.326966Z",
     "iopub.status.idle": "2022-08-29T02:52:07.332069Z",
     "shell.execute_reply": "2022-08-29T02:52:07.330853Z"
    },
    "papermill": {
     "duration": 0.020655,
     "end_time": "2022-08-29T02:52:07.334527",
     "exception": false,
     "start_time": "2022-08-29T02:52:07.313872",
     "status": "completed"
    },
    "tags": []
   },
   "outputs": [],
   "source": [
    "#step_1.b.hint()"
   ]
  },
  {
   "cell_type": "markdown",
   "id": "e1885476",
   "metadata": {
    "papermill": {
     "duration": 0.01131,
     "end_time": "2022-08-29T02:52:07.357431",
     "exception": false,
     "start_time": "2022-08-29T02:52:07.346121",
     "status": "completed"
    },
    "tags": []
   },
   "source": [
    "To compare different approaches to dealing with missing values, you'll use the same `score_dataset()` function from the tutorial.  This function reports the [mean absolute error](https://en.wikipedia.org/wiki/Mean_absolute_error) (MAE) from a random forest model."
   ]
  },
  {
   "cell_type": "code",
   "execution_count": 10,
   "id": "4585eb93",
   "metadata": {
    "execution": {
     "iopub.execute_input": "2022-08-29T02:52:07.382002Z",
     "iopub.status.busy": "2022-08-29T02:52:07.381549Z",
     "iopub.status.idle": "2022-08-29T02:52:07.622274Z",
     "shell.execute_reply": "2022-08-29T02:52:07.621231Z"
    },
    "papermill": {
     "duration": 0.256129,
     "end_time": "2022-08-29T02:52:07.625240",
     "exception": false,
     "start_time": "2022-08-29T02:52:07.369111",
     "status": "completed"
    },
    "tags": []
   },
   "outputs": [],
   "source": [
    "from sklearn.ensemble import RandomForestRegressor\n",
    "from sklearn.metrics import mean_absolute_error\n",
    "\n",
    "# Function for comparing different approaches\n",
    "def score_dataset(X_train, X_valid, y_train, y_valid):\n",
    "    model = RandomForestRegressor(n_estimators=100, random_state=0)\n",
    "    model.fit(X_train, y_train)\n",
    "    preds = model.predict(X_valid)\n",
    "    return mean_absolute_error(y_valid, preds)"
   ]
  },
  {
   "cell_type": "markdown",
   "id": "b650cd59",
   "metadata": {
    "papermill": {
     "duration": 0.010617,
     "end_time": "2022-08-29T02:52:07.646980",
     "exception": false,
     "start_time": "2022-08-29T02:52:07.636363",
     "status": "completed"
    },
    "tags": []
   },
   "source": [
    "# Step 2: Drop columns with missing values\n",
    "\n",
    "In this step, you'll preprocess the data in `X_train` and `X_valid` to remove columns with missing values.  Set the preprocessed DataFrames to `reduced_X_train` and `reduced_X_valid`, respectively.  "
   ]
  },
  {
   "cell_type": "code",
   "execution_count": 11,
   "id": "886ace9b",
   "metadata": {
    "execution": {
     "iopub.execute_input": "2022-08-29T02:52:07.670541Z",
     "iopub.status.busy": "2022-08-29T02:52:07.670152Z",
     "iopub.status.idle": "2022-08-29T02:52:07.698098Z",
     "shell.execute_reply": "2022-08-29T02:52:07.696926Z"
    },
    "papermill": {
     "duration": 0.042632,
     "end_time": "2022-08-29T02:52:07.700537",
     "exception": false,
     "start_time": "2022-08-29T02:52:07.657905",
     "status": "completed"
    },
    "tags": []
   },
   "outputs": [
    {
     "data": {
      "application/javascript": [
       "parent.postMessage({\"jupyterEvent\": \"custom.exercise_interaction\", \"data\": {\"outcomeType\": 1, \"valueTowardsCompletion\": 1.0, \"interactionType\": 1, \"questionType\": 2, \"questionId\": \"2_DropMissing\", \"learnToolsVersion\": \"0.3.4\", \"failureMessage\": \"\", \"exceptionClass\": \"\", \"trace\": \"\"}}, \"*\")"
      ],
      "text/plain": [
       "<IPython.core.display.Javascript object>"
      ]
     },
     "metadata": {},
     "output_type": "display_data"
    },
    {
     "data": {
      "text/markdown": [
       "<span style=\"color:#33cc33\">Correct</span>"
      ],
      "text/plain": [
       "Correct"
      ]
     },
     "metadata": {},
     "output_type": "display_data"
    }
   ],
   "source": [
    "# Fill in the line below: get names of columns with missing values\n",
    " # Your code here\n",
    "columns_with_nulls = missing_val_count_by_column[missing_val_count_by_column > 0].index\n",
    "# Fill in the lines below: drop columns in training and validation data\n",
    "reduced_X_train = X_train.drop(columns=columns_with_nulls)\n",
    "reduced_X_valid = X_valid.drop(columns=columns_with_nulls)\n",
    "\n",
    "# Check your answers\n",
    "step_2.check()"
   ]
  },
  {
   "cell_type": "code",
   "execution_count": 12,
   "id": "b287a58a",
   "metadata": {
    "execution": {
     "iopub.execute_input": "2022-08-29T02:52:07.725394Z",
     "iopub.status.busy": "2022-08-29T02:52:07.724843Z",
     "iopub.status.idle": "2022-08-29T02:52:07.738822Z",
     "shell.execute_reply": "2022-08-29T02:52:07.737266Z"
    },
    "papermill": {
     "duration": 0.029185,
     "end_time": "2022-08-29T02:52:07.741159",
     "exception": false,
     "start_time": "2022-08-29T02:52:07.711974",
     "status": "completed"
    },
    "tags": []
   },
   "outputs": [
    {
     "data": {
      "application/javascript": [
       "parent.postMessage({\"jupyterEvent\": \"custom.exercise_interaction\", \"data\": {\"interactionType\": 2, \"questionType\": 2, \"questionId\": \"2_DropMissing\", \"learnToolsVersion\": \"0.3.4\", \"valueTowardsCompletion\": 0.0, \"failureMessage\": \"\", \"exceptionClass\": \"\", \"trace\": \"\", \"outcomeType\": 4}}, \"*\")"
      ],
      "text/plain": [
       "<IPython.core.display.Javascript object>"
      ]
     },
     "metadata": {},
     "output_type": "display_data"
    },
    {
     "data": {
      "text/markdown": [
       "<span style=\"color:#3366cc\">Hint:</span> Begin by finding the list of columns in the data with missing values.  Then, drop these columns in both the training and validation data with the `drop()` method."
      ],
      "text/plain": [
       "Hint: Begin by finding the list of columns in the data with missing values.  Then, drop these columns in both the training and validation data with the `drop()` method."
      ]
     },
     "metadata": {},
     "output_type": "display_data"
    },
    {
     "data": {
      "application/javascript": [
       "parent.postMessage({\"jupyterEvent\": \"custom.exercise_interaction\", \"data\": {\"interactionType\": 3, \"questionType\": 2, \"questionId\": \"2_DropMissing\", \"learnToolsVersion\": \"0.3.4\", \"valueTowardsCompletion\": 0.0, \"failureMessage\": \"\", \"exceptionClass\": \"\", \"trace\": \"\", \"outcomeType\": 4}}, \"*\")"
      ],
      "text/plain": [
       "<IPython.core.display.Javascript object>"
      ]
     },
     "metadata": {},
     "output_type": "display_data"
    },
    {
     "data": {
      "text/markdown": [
       "<span style=\"color:#33cc99\">Solution:</span> \n",
       "```python\n",
       "# Get names of columns with missing values\n",
       "cols_with_missing = [col for col in X_train.columns\n",
       "                     if X_train[col].isnull().any()]\n",
       "\n",
       "# Drop columns in training and validation data\n",
       "reduced_X_train = X_train.drop(cols_with_missing, axis=1)\n",
       "reduced_X_valid = X_valid.drop(cols_with_missing, axis=1)\n",
       "\n",
       "```"
      ],
      "text/plain": [
       "Solution: \n",
       "```python\n",
       "# Get names of columns with missing values\n",
       "cols_with_missing = [col for col in X_train.columns\n",
       "                     if X_train[col].isnull().any()]\n",
       "\n",
       "# Drop columns in training and validation data\n",
       "reduced_X_train = X_train.drop(cols_with_missing, axis=1)\n",
       "reduced_X_valid = X_valid.drop(cols_with_missing, axis=1)\n",
       "\n",
       "```"
      ]
     },
     "metadata": {},
     "output_type": "display_data"
    }
   ],
   "source": [
    "# Lines below will give you a hint or solution code\n",
    "step_2.hint()\n",
    "step_2.solution()"
   ]
  },
  {
   "cell_type": "markdown",
   "id": "4ccfaf97",
   "metadata": {
    "papermill": {
     "duration": 0.0115,
     "end_time": "2022-08-29T02:52:07.764522",
     "exception": false,
     "start_time": "2022-08-29T02:52:07.753022",
     "status": "completed"
    },
    "tags": []
   },
   "source": [
    "Run the next code cell without changes to obtain the MAE for this approach."
   ]
  },
  {
   "cell_type": "code",
   "execution_count": 13,
   "id": "098465f8",
   "metadata": {
    "execution": {
     "iopub.execute_input": "2022-08-29T02:52:07.790030Z",
     "iopub.status.busy": "2022-08-29T02:52:07.789625Z",
     "iopub.status.idle": "2022-08-29T02:52:08.920334Z",
     "shell.execute_reply": "2022-08-29T02:52:08.918600Z"
    },
    "papermill": {
     "duration": 1.146924,
     "end_time": "2022-08-29T02:52:08.923302",
     "exception": false,
     "start_time": "2022-08-29T02:52:07.776378",
     "status": "completed"
    },
    "tags": []
   },
   "outputs": [
    {
     "name": "stdout",
     "output_type": "stream",
     "text": [
      "MAE (Drop columns with missing values):\n",
      "17837.82570776256\n"
     ]
    }
   ],
   "source": [
    "print(\"MAE (Drop columns with missing values):\")\n",
    "print(score_dataset(reduced_X_train, reduced_X_valid, y_train, y_valid))"
   ]
  },
  {
   "cell_type": "markdown",
   "id": "48fd9619",
   "metadata": {
    "papermill": {
     "duration": 0.011295,
     "end_time": "2022-08-29T02:52:08.946516",
     "exception": false,
     "start_time": "2022-08-29T02:52:08.935221",
     "status": "completed"
    },
    "tags": []
   },
   "source": [
    "# Step 3: Imputation\n",
    "\n",
    "### Part A\n",
    "\n",
    "Use the next code cell to impute missing values with the mean value along each column.  Set the preprocessed DataFrames to `imputed_X_train` and `imputed_X_valid`.  Make sure that the column names match those in `X_train` and `X_valid`."
   ]
  },
  {
   "cell_type": "code",
   "execution_count": 14,
   "id": "dbd06607",
   "metadata": {
    "execution": {
     "iopub.execute_input": "2022-08-29T02:52:08.972423Z",
     "iopub.status.busy": "2022-08-29T02:52:08.971624Z",
     "iopub.status.idle": "2022-08-29T02:52:09.008573Z",
     "shell.execute_reply": "2022-08-29T02:52:09.007416Z"
    },
    "papermill": {
     "duration": 0.053053,
     "end_time": "2022-08-29T02:52:09.011244",
     "exception": false,
     "start_time": "2022-08-29T02:52:08.958191",
     "status": "completed"
    },
    "tags": []
   },
   "outputs": [
    {
     "data": {
      "application/javascript": [
       "parent.postMessage({\"jupyterEvent\": \"custom.exercise_interaction\", \"data\": {\"outcomeType\": 1, \"valueTowardsCompletion\": 1.0, \"interactionType\": 1, \"questionType\": 2, \"questionId\": \"3.1_ImputeCode\", \"learnToolsVersion\": \"0.3.4\", \"failureMessage\": \"\", \"exceptionClass\": \"\", \"trace\": \"\"}}, \"*\")"
      ],
      "text/plain": [
       "<IPython.core.display.Javascript object>"
      ]
     },
     "metadata": {},
     "output_type": "display_data"
    },
    {
     "data": {
      "text/markdown": [
       "<span style=\"color:#33cc33\">Correct</span>"
      ],
      "text/plain": [
       "Correct"
      ]
     },
     "metadata": {},
     "output_type": "display_data"
    }
   ],
   "source": [
    "from sklearn.impute import SimpleImputer\n",
    "\n",
    "# Fill in the lines below: imputation\n",
    "SI = SimpleImputer() # Your code here\n",
    "imputed_X_train = pd.DataFrame(SI.fit_transform(X_train))\n",
    "imputed_X_valid = pd.DataFrame(SI.transform(X_valid))\n",
    "\n",
    "# Fill in the lines below: imputation removed column names; put them back\n",
    "imputed_X_train.columns = X_train.columns\n",
    "imputed_X_valid.columns = X_valid.columns\n",
    "\n",
    "# Check your answers\n",
    "step_3.a.check()"
   ]
  },
  {
   "cell_type": "code",
   "execution_count": 15,
   "id": "e899612b",
   "metadata": {
    "execution": {
     "iopub.execute_input": "2022-08-29T02:52:09.037904Z",
     "iopub.status.busy": "2022-08-29T02:52:09.037228Z",
     "iopub.status.idle": "2022-08-29T02:52:09.048025Z",
     "shell.execute_reply": "2022-08-29T02:52:09.046962Z"
    },
    "papermill": {
     "duration": 0.026944,
     "end_time": "2022-08-29T02:52:09.050339",
     "exception": false,
     "start_time": "2022-08-29T02:52:09.023395",
     "status": "completed"
    },
    "tags": []
   },
   "outputs": [
    {
     "data": {
      "application/javascript": [
       "parent.postMessage({\"jupyterEvent\": \"custom.exercise_interaction\", \"data\": {\"interactionType\": 2, \"questionType\": 2, \"questionId\": \"3.1_ImputeCode\", \"learnToolsVersion\": \"0.3.4\", \"valueTowardsCompletion\": 0.0, \"failureMessage\": \"\", \"exceptionClass\": \"\", \"trace\": \"\", \"outcomeType\": 4}}, \"*\")"
      ],
      "text/plain": [
       "<IPython.core.display.Javascript object>"
      ]
     },
     "metadata": {},
     "output_type": "display_data"
    },
    {
     "data": {
      "text/markdown": [
       "<span style=\"color:#3366cc\">Hint:</span> Begin by defining an instance of the `SimpleImputer()` class.  Then, use the imputer to fit and transform the training data, before transforming the validation data. Get the original column names from the original DataFrames `X_train` and `X_valid`."
      ],
      "text/plain": [
       "Hint: Begin by defining an instance of the `SimpleImputer()` class.  Then, use the imputer to fit and transform the training data, before transforming the validation data. Get the original column names from the original DataFrames `X_train` and `X_valid`."
      ]
     },
     "metadata": {},
     "output_type": "display_data"
    },
    {
     "data": {
      "application/javascript": [
       "parent.postMessage({\"jupyterEvent\": \"custom.exercise_interaction\", \"data\": {\"interactionType\": 3, \"questionType\": 2, \"questionId\": \"3.1_ImputeCode\", \"learnToolsVersion\": \"0.3.4\", \"valueTowardsCompletion\": 0.0, \"failureMessage\": \"\", \"exceptionClass\": \"\", \"trace\": \"\", \"outcomeType\": 4}}, \"*\")"
      ],
      "text/plain": [
       "<IPython.core.display.Javascript object>"
      ]
     },
     "metadata": {},
     "output_type": "display_data"
    },
    {
     "data": {
      "text/markdown": [
       "<span style=\"color:#33cc99\">Solution:</span> \n",
       "```python\n",
       "# Imputation\n",
       "my_imputer = SimpleImputer()\n",
       "imputed_X_train = pd.DataFrame(my_imputer.fit_transform(X_train))\n",
       "imputed_X_valid = pd.DataFrame(my_imputer.transform(X_valid))\n",
       "\n",
       "# Imputation removed column names; put them back\n",
       "imputed_X_train.columns = X_train.columns\n",
       "imputed_X_valid.columns = X_valid.columns\n",
       "\n",
       "```"
      ],
      "text/plain": [
       "Solution: \n",
       "```python\n",
       "# Imputation\n",
       "my_imputer = SimpleImputer()\n",
       "imputed_X_train = pd.DataFrame(my_imputer.fit_transform(X_train))\n",
       "imputed_X_valid = pd.DataFrame(my_imputer.transform(X_valid))\n",
       "\n",
       "# Imputation removed column names; put them back\n",
       "imputed_X_train.columns = X_train.columns\n",
       "imputed_X_valid.columns = X_valid.columns\n",
       "\n",
       "```"
      ]
     },
     "metadata": {},
     "output_type": "display_data"
    }
   ],
   "source": [
    "# Lines below will give you a hint or solution code\n",
    "step_3.a.hint()\n",
    "step_3.a.solution()"
   ]
  },
  {
   "cell_type": "markdown",
   "id": "abbb9ef9",
   "metadata": {
    "papermill": {
     "duration": 0.012657,
     "end_time": "2022-08-29T02:52:09.075884",
     "exception": false,
     "start_time": "2022-08-29T02:52:09.063227",
     "status": "completed"
    },
    "tags": []
   },
   "source": [
    "Run the next code cell without changes to obtain the MAE for this approach."
   ]
  },
  {
   "cell_type": "code",
   "execution_count": 16,
   "id": "482d3818",
   "metadata": {
    "execution": {
     "iopub.execute_input": "2022-08-29T02:52:09.102968Z",
     "iopub.status.busy": "2022-08-29T02:52:09.102273Z",
     "iopub.status.idle": "2022-08-29T02:52:10.397070Z",
     "shell.execute_reply": "2022-08-29T02:52:10.395321Z"
    },
    "papermill": {
     "duration": 1.31239,
     "end_time": "2022-08-29T02:52:10.400606",
     "exception": false,
     "start_time": "2022-08-29T02:52:09.088216",
     "status": "completed"
    },
    "tags": []
   },
   "outputs": [
    {
     "name": "stdout",
     "output_type": "stream",
     "text": [
      "MAE (Imputation):\n",
      "18062.894611872147\n"
     ]
    }
   ],
   "source": [
    "print(\"MAE (Imputation):\")\n",
    "print(score_dataset(imputed_X_train, imputed_X_valid, y_train, y_valid))"
   ]
  },
  {
   "cell_type": "markdown",
   "id": "120c8a42",
   "metadata": {
    "papermill": {
     "duration": 0.01324,
     "end_time": "2022-08-29T02:52:10.426943",
     "exception": false,
     "start_time": "2022-08-29T02:52:10.413703",
     "status": "completed"
    },
    "tags": []
   },
   "source": [
    "### Part B\n",
    "\n",
    "Compare the MAE from each approach.  Does anything surprise you about the results?  Why do you think one approach performed better than the other?"
   ]
  },
  {
   "cell_type": "code",
   "execution_count": 17,
   "id": "09423cfe",
   "metadata": {
    "execution": {
     "iopub.execute_input": "2022-08-29T02:52:10.454797Z",
     "iopub.status.busy": "2022-08-29T02:52:10.454164Z",
     "iopub.status.idle": "2022-08-29T02:52:10.461337Z",
     "shell.execute_reply": "2022-08-29T02:52:10.460508Z"
    },
    "papermill": {
     "duration": 0.024632,
     "end_time": "2022-08-29T02:52:10.464448",
     "exception": false,
     "start_time": "2022-08-29T02:52:10.439816",
     "status": "completed"
    },
    "tags": []
   },
   "outputs": [
    {
     "data": {
      "application/javascript": [
       "parent.postMessage({\"jupyterEvent\": \"custom.exercise_interaction\", \"data\": {\"outcomeType\": 1, \"valueTowardsCompletion\": 1.0, \"interactionType\": 1, \"questionType\": 4, \"questionId\": \"3.2_ImputeThought\", \"learnToolsVersion\": \"0.3.4\", \"failureMessage\": \"\", \"exceptionClass\": \"\", \"trace\": \"\"}}, \"*\")"
      ],
      "text/plain": [
       "<IPython.core.display.Javascript object>"
      ]
     },
     "metadata": {},
     "output_type": "display_data"
    },
    {
     "data": {
      "text/markdown": [
       "<span style=\"color:#33cc33\">Correct:</span> \n",
       "\n",
       "Given that thre are so few missing values in the dataset, we'd expect imputation to perform better than dropping columns entirely.  However, we see that dropping columns performs slightly better!  While this can probably partially be attributed to noise in the dataset, another potential explanation is that the imputation method is not a great match to this dataset.  That is, maybe instead of filling in the mean value, it makes more sense to set every missing value to a value of 0, to fill in the most frequently encountered value, or to use some other method.  For instance, consider the `GarageYrBlt` column (which indicates the year that the garage was built).  It's likely that in some cases, a missing value could indicate a house that does not have a garage.  Does it make more sense to fill in the median value along each column in this case?  Or could we get better results by filling in the minimum value along each column?  It's not quite clear what's best in this case, but perhaps we can rule out some options immediately - for instance, setting missing values in this column to 0 is likely to yield horrible results!"
      ],
      "text/plain": [
       "Correct: \n",
       "\n",
       "Given that thre are so few missing values in the dataset, we'd expect imputation to perform better than dropping columns entirely.  However, we see that dropping columns performs slightly better!  While this can probably partially be attributed to noise in the dataset, another potential explanation is that the imputation method is not a great match to this dataset.  That is, maybe instead of filling in the mean value, it makes more sense to set every missing value to a value of 0, to fill in the most frequently encountered value, or to use some other method.  For instance, consider the `GarageYrBlt` column (which indicates the year that the garage was built).  It's likely that in some cases, a missing value could indicate a house that does not have a garage.  Does it make more sense to fill in the median value along each column in this case?  Or could we get better results by filling in the minimum value along each column?  It's not quite clear what's best in this case, but perhaps we can rule out some options immediately - for instance, setting missing values in this column to 0 is likely to yield horrible results!"
      ]
     },
     "metadata": {},
     "output_type": "display_data"
    }
   ],
   "source": [
    "# Check your answer (Run this code cell to receive credit!)\n",
    "step_3.b.check()"
   ]
  },
  {
   "cell_type": "code",
   "execution_count": 18,
   "id": "aa0b0281",
   "metadata": {
    "execution": {
     "iopub.execute_input": "2022-08-29T02:52:10.501887Z",
     "iopub.status.busy": "2022-08-29T02:52:10.500994Z",
     "iopub.status.idle": "2022-08-29T02:52:10.511214Z",
     "shell.execute_reply": "2022-08-29T02:52:10.510112Z"
    },
    "papermill": {
     "duration": 0.028074,
     "end_time": "2022-08-29T02:52:10.513551",
     "exception": false,
     "start_time": "2022-08-29T02:52:10.485477",
     "status": "completed"
    },
    "tags": []
   },
   "outputs": [
    {
     "data": {
      "application/javascript": [
       "parent.postMessage({\"jupyterEvent\": \"custom.exercise_interaction\", \"data\": {\"interactionType\": 2, \"questionType\": 4, \"questionId\": \"3.2_ImputeThought\", \"learnToolsVersion\": \"0.3.4\", \"valueTowardsCompletion\": 0.0, \"failureMessage\": \"\", \"exceptionClass\": \"\", \"trace\": \"\", \"outcomeType\": 4}}, \"*\")"
      ],
      "text/plain": [
       "<IPython.core.display.Javascript object>"
      ]
     },
     "metadata": {},
     "output_type": "display_data"
    },
    {
     "data": {
      "text/markdown": [
       "<span style=\"color:#3366cc\">Hint:</span> Did removing missing values yield a larger or smaller MAE than imputation? Does this agree with the coding example from the tutorial?"
      ],
      "text/plain": [
       "Hint: Did removing missing values yield a larger or smaller MAE than imputation? Does this agree with the coding example from the tutorial?"
      ]
     },
     "metadata": {},
     "output_type": "display_data"
    }
   ],
   "source": [
    "step_3.b.hint()"
   ]
  },
  {
   "cell_type": "markdown",
   "id": "022ed044",
   "metadata": {
    "papermill": {
     "duration": 0.014028,
     "end_time": "2022-08-29T02:52:10.542595",
     "exception": false,
     "start_time": "2022-08-29T02:52:10.528567",
     "status": "completed"
    },
    "tags": []
   },
   "source": [
    "# Step 4: Generate test predictions\n",
    "\n",
    "In this final step, you'll use any approach of your choosing to deal with missing values.  Once you've preprocessed the training and validation features, you'll train and evaluate a random forest model.  Then, you'll preprocess the test data before generating predictions that can be submitted to the competition!\n",
    "\n",
    "### Part A\n",
    "\n",
    "Use the next code cell to preprocess the training and validation data.  Set the preprocessed DataFrames to `final_X_train` and `final_X_valid`.  **You can use any approach of your choosing here!**  in order for this step to be marked as correct, you need only ensure:\n",
    "- the preprocessed DataFrames have the same number of columns,\n",
    "- the preprocessed DataFrames have no missing values, \n",
    "- `final_X_train` and `y_train` have the same number of rows, and\n",
    "- `final_X_valid` and `y_valid` have the same number of rows."
   ]
  },
  {
   "cell_type": "code",
   "execution_count": 19,
   "id": "5006eb08",
   "metadata": {
    "execution": {
     "iopub.execute_input": "2022-08-29T02:52:10.572926Z",
     "iopub.status.busy": "2022-08-29T02:52:10.572226Z",
     "iopub.status.idle": "2022-08-29T02:52:10.596778Z",
     "shell.execute_reply": "2022-08-29T02:52:10.595519Z"
    },
    "papermill": {
     "duration": 0.04247,
     "end_time": "2022-08-29T02:52:10.599211",
     "exception": false,
     "start_time": "2022-08-29T02:52:10.556741",
     "status": "completed"
    },
    "tags": []
   },
   "outputs": [
    {
     "data": {
      "text/html": [
       "<div>\n",
       "<style scoped>\n",
       "    .dataframe tbody tr th:only-of-type {\n",
       "        vertical-align: middle;\n",
       "    }\n",
       "\n",
       "    .dataframe tbody tr th {\n",
       "        vertical-align: top;\n",
       "    }\n",
       "\n",
       "    .dataframe thead th {\n",
       "        text-align: right;\n",
       "    }\n",
       "</style>\n",
       "<table border=\"1\" class=\"dataframe\">\n",
       "  <thead>\n",
       "    <tr style=\"text-align: right;\">\n",
       "      <th></th>\n",
       "      <th>LotFrontage</th>\n",
       "      <th>MasVnrArea</th>\n",
       "      <th>GarageYrBlt</th>\n",
       "    </tr>\n",
       "  </thead>\n",
       "  <tbody>\n",
       "    <tr>\n",
       "      <th>count</th>\n",
       "      <td>956.000000</td>\n",
       "      <td>1162.000000</td>\n",
       "      <td>1110.000000</td>\n",
       "    </tr>\n",
       "    <tr>\n",
       "      <th>mean</th>\n",
       "      <td>69.614017</td>\n",
       "      <td>103.481067</td>\n",
       "      <td>1978.140541</td>\n",
       "    </tr>\n",
       "    <tr>\n",
       "      <th>std</th>\n",
       "      <td>22.946069</td>\n",
       "      <td>182.676225</td>\n",
       "      <td>24.877265</td>\n",
       "    </tr>\n",
       "    <tr>\n",
       "      <th>min</th>\n",
       "      <td>21.000000</td>\n",
       "      <td>0.000000</td>\n",
       "      <td>1900.000000</td>\n",
       "    </tr>\n",
       "    <tr>\n",
       "      <th>25%</th>\n",
       "      <td>59.000000</td>\n",
       "      <td>0.000000</td>\n",
       "      <td>1961.000000</td>\n",
       "    </tr>\n",
       "    <tr>\n",
       "      <th>50%</th>\n",
       "      <td>69.000000</td>\n",
       "      <td>0.000000</td>\n",
       "      <td>1979.000000</td>\n",
       "    </tr>\n",
       "    <tr>\n",
       "      <th>75%</th>\n",
       "      <td>80.000000</td>\n",
       "      <td>167.750000</td>\n",
       "      <td>2002.000000</td>\n",
       "    </tr>\n",
       "    <tr>\n",
       "      <th>max</th>\n",
       "      <td>313.000000</td>\n",
       "      <td>1600.000000</td>\n",
       "      <td>2010.000000</td>\n",
       "    </tr>\n",
       "  </tbody>\n",
       "</table>\n",
       "</div>"
      ],
      "text/plain": [
       "       LotFrontage   MasVnrArea  GarageYrBlt\n",
       "count   956.000000  1162.000000  1110.000000\n",
       "mean     69.614017   103.481067  1978.140541\n",
       "std      22.946069   182.676225    24.877265\n",
       "min      21.000000     0.000000  1900.000000\n",
       "25%      59.000000     0.000000  1961.000000\n",
       "50%      69.000000     0.000000  1979.000000\n",
       "75%      80.000000   167.750000  2002.000000\n",
       "max     313.000000  1600.000000  2010.000000"
      ]
     },
     "execution_count": 19,
     "metadata": {},
     "output_type": "execute_result"
    }
   ],
   "source": [
    "X_train[columns_with_nulls].describe()"
   ]
  },
  {
   "cell_type": "code",
   "execution_count": 20,
   "id": "c567a8a2",
   "metadata": {
    "execution": {
     "iopub.execute_input": "2022-08-29T02:52:10.627959Z",
     "iopub.status.busy": "2022-08-29T02:52:10.627525Z",
     "iopub.status.idle": "2022-08-29T02:52:10.636063Z",
     "shell.execute_reply": "2022-08-29T02:52:10.634846Z"
    },
    "papermill": {
     "duration": 0.025902,
     "end_time": "2022-08-29T02:52:10.638630",
     "exception": false,
     "start_time": "2022-08-29T02:52:10.612728",
     "status": "completed"
    },
    "tags": []
   },
   "outputs": [
    {
     "data": {
      "text/plain": [
       "LotFrontage    212\n",
       "MasVnrArea       6\n",
       "GarageYrBlt     58\n",
       "dtype: int64"
      ]
     },
     "execution_count": 20,
     "metadata": {},
     "output_type": "execute_result"
    }
   ],
   "source": [
    "missing_val_count_by_column[missing_val_count_by_column > 0]"
   ]
  },
  {
   "cell_type": "code",
   "execution_count": 21,
   "id": "cea0259b",
   "metadata": {
    "execution": {
     "iopub.execute_input": "2022-08-29T02:52:10.668703Z",
     "iopub.status.busy": "2022-08-29T02:52:10.667805Z",
     "iopub.status.idle": "2022-08-29T02:52:11.924616Z",
     "shell.execute_reply": "2022-08-29T02:52:11.923371Z"
    },
    "papermill": {
     "duration": 1.275599,
     "end_time": "2022-08-29T02:52:11.927613",
     "exception": false,
     "start_time": "2022-08-29T02:52:10.652014",
     "status": "completed"
    },
    "tags": []
   },
   "outputs": [
    {
     "name": "stdout",
     "output_type": "stream",
     "text": [
      "MAE (Imputation):\n",
      "17807.438333333328\n"
     ]
    }
   ],
   "source": [
    "imputed_X_train_new = X_train.copy()\n",
    "imputed_X_valid_new = X_valid.copy()\n",
    "imputed_X_train_new.GarageYrBlt.fillna(0, inplace=True)\n",
    "imputed_X_valid_new.GarageYrBlt.fillna(0, inplace=True)\n",
    "\n",
    "SI = SimpleImputer(strategy= 'median') # Your code here\n",
    "imputed_X_train_new = pd.DataFrame(SI.fit_transform(imputed_X_train_new))\n",
    "imputed_X_valid_new = pd.DataFrame(SI.transform(imputed_X_valid_new))\n",
    "\n",
    "# Fill in the lines below: imputation removed columxn names; put them back\n",
    "imputed_X_train_new.columns = X_train.columns\n",
    "imputed_X_valid_new.columns = X_valid.columns\n",
    "\n",
    "print(\"MAE (Imputation):\")\n",
    "print(score_dataset(imputed_X_train_new, imputed_X_valid_new, y_train, y_valid))"
   ]
  },
  {
   "cell_type": "code",
   "execution_count": 22,
   "id": "6de3dcdc",
   "metadata": {
    "execution": {
     "iopub.execute_input": "2022-08-29T02:52:11.958203Z",
     "iopub.status.busy": "2022-08-29T02:52:11.957788Z",
     "iopub.status.idle": "2022-08-29T02:52:11.984133Z",
     "shell.execute_reply": "2022-08-29T02:52:11.983010Z"
    },
    "papermill": {
     "duration": 0.043611,
     "end_time": "2022-08-29T02:52:11.986358",
     "exception": false,
     "start_time": "2022-08-29T02:52:11.942747",
     "status": "completed"
    },
    "tags": []
   },
   "outputs": [
    {
     "data": {
      "application/javascript": [
       "parent.postMessage({\"jupyterEvent\": \"custom.exercise_interaction\", \"data\": {\"outcomeType\": 1, \"valueTowardsCompletion\": 1.0, \"interactionType\": 1, \"questionType\": 2, \"questionId\": \"4.1_PredsCodeA\", \"learnToolsVersion\": \"0.3.4\", \"failureMessage\": \"\", \"exceptionClass\": \"\", \"trace\": \"\"}}, \"*\")"
      ],
      "text/plain": [
       "<IPython.core.display.Javascript object>"
      ]
     },
     "metadata": {},
     "output_type": "display_data"
    },
    {
     "data": {
      "text/markdown": [
       "<span style=\"color:#33cc33\">Correct</span>"
      ],
      "text/plain": [
       "Correct"
      ]
     },
     "metadata": {},
     "output_type": "display_data"
    }
   ],
   "source": [
    "# Preprocessed training and validation features\n",
    "final_X_train = imputed_X_train_new\n",
    "final_X_valid = imputed_X_valid_new\n",
    "\n",
    "# Check your answers\n",
    "step_4.a.check()"
   ]
  },
  {
   "cell_type": "code",
   "execution_count": 23,
   "id": "da102766",
   "metadata": {
    "execution": {
     "iopub.execute_input": "2022-08-29T02:52:12.016648Z",
     "iopub.status.busy": "2022-08-29T02:52:12.015885Z",
     "iopub.status.idle": "2022-08-29T02:52:12.020260Z",
     "shell.execute_reply": "2022-08-29T02:52:12.019047Z"
    },
    "papermill": {
     "duration": 0.022417,
     "end_time": "2022-08-29T02:52:12.022819",
     "exception": false,
     "start_time": "2022-08-29T02:52:12.000402",
     "status": "completed"
    },
    "tags": []
   },
   "outputs": [],
   "source": [
    "# Lines below will give you a hint or solution code\n",
    "# step_4.a.hint()\n",
    "# step_4.a.solution()"
   ]
  },
  {
   "cell_type": "markdown",
   "id": "a558d609",
   "metadata": {
    "papermill": {
     "duration": 0.013628,
     "end_time": "2022-08-29T02:52:12.050786",
     "exception": false,
     "start_time": "2022-08-29T02:52:12.037158",
     "status": "completed"
    },
    "tags": []
   },
   "source": [
    "Run the next code cell to train and evaluate a random forest model.  (*Note that we don't use the `score_dataset()` function above, because we will soon use the trained model to generate test predictions!*)"
   ]
  },
  {
   "cell_type": "code",
   "execution_count": 24,
   "id": "8f6e5c18",
   "metadata": {
    "execution": {
     "iopub.execute_input": "2022-08-29T02:52:12.080596Z",
     "iopub.status.busy": "2022-08-29T02:52:12.079980Z",
     "iopub.status.idle": "2022-08-29T02:52:13.311416Z",
     "shell.execute_reply": "2022-08-29T02:52:13.309734Z"
    },
    "papermill": {
     "duration": 1.251439,
     "end_time": "2022-08-29T02:52:13.316010",
     "exception": false,
     "start_time": "2022-08-29T02:52:12.064571",
     "status": "completed"
    },
    "tags": []
   },
   "outputs": [
    {
     "name": "stdout",
     "output_type": "stream",
     "text": [
      "MAE (Your approach):\n",
      "17807.438333333328\n"
     ]
    }
   ],
   "source": [
    "# Define and fit model\n",
    "model = RandomForestRegressor(n_estimators=100, random_state=0)\n",
    "model.fit(final_X_train, y_train)\n",
    "\n",
    "# Get validation predictions and MAE\n",
    "preds_valid = model.predict(final_X_valid)\n",
    "print(\"MAE (Your approach):\")\n",
    "print(mean_absolute_error(y_valid, preds_valid))"
   ]
  },
  {
   "cell_type": "markdown",
   "id": "953b32c2",
   "metadata": {
    "papermill": {
     "duration": 0.013401,
     "end_time": "2022-08-29T02:52:13.343743",
     "exception": false,
     "start_time": "2022-08-29T02:52:13.330342",
     "status": "completed"
    },
    "tags": []
   },
   "source": [
    "### Part B\n",
    "\n",
    "Use the next code cell to preprocess your test data.  Make sure that you use a method that agrees with how you preprocessed the training and validation data, and set the preprocessed test features to `final_X_test`.\n",
    "\n",
    "Then, use the preprocessed test features and the trained model to generate test predictions in `preds_test`.\n",
    "\n",
    "In order for this step to be marked correct, you need only ensure:\n",
    "- the preprocessed test DataFrame has no missing values, and\n",
    "- `final_X_test` has the same number of rows as `X_test`."
   ]
  },
  {
   "cell_type": "code",
   "execution_count": 25,
   "id": "2f84c675",
   "metadata": {
    "execution": {
     "iopub.execute_input": "2022-08-29T02:52:13.373986Z",
     "iopub.status.busy": "2022-08-29T02:52:13.372991Z",
     "iopub.status.idle": "2022-08-29T02:52:13.391908Z",
     "shell.execute_reply": "2022-08-29T02:52:13.390921Z"
    },
    "papermill": {
     "duration": 0.037105,
     "end_time": "2022-08-29T02:52:13.394629",
     "exception": false,
     "start_time": "2022-08-29T02:52:13.357524",
     "status": "completed"
    },
    "tags": []
   },
   "outputs": [],
   "source": [
    "imputed_X_test = X_test.copy()\n",
    "\n",
    "imputed_X_test.GarageYrBlt.fillna(0, inplace=True)\n",
    "\n",
    "SI = SimpleImputer(strategy= 'median') # Your code here\n",
    "imputed_X_test = pd.DataFrame(SI.fit_transform(imputed_X_test))\n",
    "\n",
    "# Fill in the lines below: imputation removed columxn names; put them back\n",
    "imputed_X_test.columns = X_test.columns"
   ]
  },
  {
   "cell_type": "code",
   "execution_count": 26,
   "id": "b657df83",
   "metadata": {
    "execution": {
     "iopub.execute_input": "2022-08-29T02:52:13.424855Z",
     "iopub.status.busy": "2022-08-29T02:52:13.423535Z",
     "iopub.status.idle": "2022-08-29T02:52:13.479322Z",
     "shell.execute_reply": "2022-08-29T02:52:13.477964Z"
    },
    "papermill": {
     "duration": 0.073634,
     "end_time": "2022-08-29T02:52:13.482124",
     "exception": false,
     "start_time": "2022-08-29T02:52:13.408490",
     "status": "completed"
    },
    "tags": []
   },
   "outputs": [
    {
     "data": {
      "application/javascript": [
       "parent.postMessage({\"jupyterEvent\": \"custom.exercise_interaction\", \"data\": {\"outcomeType\": 1, \"valueTowardsCompletion\": 1.0, \"interactionType\": 1, \"questionType\": 2, \"questionId\": \"4.2_PredsCodeB\", \"learnToolsVersion\": \"0.3.4\", \"failureMessage\": \"\", \"exceptionClass\": \"\", \"trace\": \"\"}}, \"*\")"
      ],
      "text/plain": [
       "<IPython.core.display.Javascript object>"
      ]
     },
     "metadata": {},
     "output_type": "display_data"
    },
    {
     "data": {
      "text/markdown": [
       "<span style=\"color:#33cc33\">Correct</span>"
      ],
      "text/plain": [
       "Correct"
      ]
     },
     "metadata": {},
     "output_type": "display_data"
    }
   ],
   "source": [
    "# Fill in the line below: preprocess test data\n",
    "final_X_test = imputed_X_test\n",
    "\n",
    "# Fill in the line below: get test predictions\n",
    "preds_test = model.predict(final_X_test)\n",
    "\n",
    "# Check your answers\n",
    "step_4.b.check()"
   ]
  },
  {
   "cell_type": "code",
   "execution_count": 27,
   "id": "edfcac97",
   "metadata": {
    "execution": {
     "iopub.execute_input": "2022-08-29T02:52:13.512600Z",
     "iopub.status.busy": "2022-08-29T02:52:13.511829Z",
     "iopub.status.idle": "2022-08-29T02:52:13.516630Z",
     "shell.execute_reply": "2022-08-29T02:52:13.515761Z"
    },
    "papermill": {
     "duration": 0.022899,
     "end_time": "2022-08-29T02:52:13.519060",
     "exception": false,
     "start_time": "2022-08-29T02:52:13.496161",
     "status": "completed"
    },
    "tags": []
   },
   "outputs": [],
   "source": [
    "# Lines below will give you a hint or solution code\n",
    "#step_4.b.hint()\n",
    "#step_4.b.solution()"
   ]
  },
  {
   "cell_type": "markdown",
   "id": "3a2e82a2",
   "metadata": {
    "papermill": {
     "duration": 0.013661,
     "end_time": "2022-08-29T02:52:13.546716",
     "exception": false,
     "start_time": "2022-08-29T02:52:13.533055",
     "status": "completed"
    },
    "tags": []
   },
   "source": [
    "Run the next code cell without changes to save your results to a CSV file that can be submitted directly to the competition."
   ]
  },
  {
   "cell_type": "code",
   "execution_count": 28,
   "id": "96e6293c",
   "metadata": {
    "execution": {
     "iopub.execute_input": "2022-08-29T02:52:13.577046Z",
     "iopub.status.busy": "2022-08-29T02:52:13.576254Z",
     "iopub.status.idle": "2022-08-29T02:52:13.589293Z",
     "shell.execute_reply": "2022-08-29T02:52:13.587784Z"
    },
    "papermill": {
     "duration": 0.031143,
     "end_time": "2022-08-29T02:52:13.591821",
     "exception": false,
     "start_time": "2022-08-29T02:52:13.560678",
     "status": "completed"
    },
    "tags": []
   },
   "outputs": [],
   "source": [
    "# Save test predictions to file\n",
    "output = pd.DataFrame({'Id': X_test.index,\n",
    "                       'SalePrice': preds_test})\n",
    "output.to_csv('submission.csv', index=False)"
   ]
  },
  {
   "cell_type": "markdown",
   "id": "1c6f2947",
   "metadata": {
    "papermill": {
     "duration": 0.013874,
     "end_time": "2022-08-29T02:52:13.620206",
     "exception": false,
     "start_time": "2022-08-29T02:52:13.606332",
     "status": "completed"
    },
    "tags": []
   },
   "source": [
    "# Submit your results\n",
    "\n",
    "Once you have successfully completed Step 4, you're ready to submit your results to the leaderboard!  (_You also learned how to do this in the previous exercise.  If you need a reminder of how to do this, please use the instructions below._)  \n",
    "\n",
    "First, you'll need to join the competition if you haven't already.  So open a new window by clicking on [this link](https://www.kaggle.com/c/home-data-for-ml-course).  Then click on the **Join Competition** button.\n",
    "\n",
    "![join competition image](https://i.imgur.com/wLmFtH3.png)\n",
    "\n",
    "Next, follow the instructions below:\n",
    "1. Begin by clicking on the **Save Version** button in the top right corner of the window.  This will generate a pop-up window.  \n",
    "2. Ensure that the **Save and Run All** option is selected, and then click on the **Save** button.\n",
    "3. This generates a window in the bottom left corner of the notebook.  After it has finished running, click on the number to the right of the **Save Version** button.  This pulls up a list of versions on the right of the screen.  Click on the ellipsis **(...)** to the right of the most recent version, and select **Open in Viewer**.  This brings you into view mode of the same page. You will need to scroll down to get back to these instructions.\n",
    "4. Click on the **Output** tab on the right of the screen.  Then, click on the file you would like to submit, and click on the **Submit** button to submit your results to the leaderboard.\n",
    "\n",
    "You have now successfully submitted to the competition!\n",
    "\n",
    "If you want to keep working to improve your performance, select the **Edit** button in the top right of the screen. Then you can change your code and repeat the process. There's a lot of room to improve, and you will climb up the leaderboard as you work.\n",
    "\n",
    "\n",
    "# Keep going\n",
    "\n",
    "Move on to learn what **[categorical variables](https://www.kaggle.com/alexisbcook/categorical-variables)** are, along with how to incorporate them into your machine learning models.  Categorical variables are very common in real-world data, but you'll get an error if you try to plug them into your models without processing them first!"
   ]
  },
  {
   "cell_type": "markdown",
   "id": "99a34db5",
   "metadata": {
    "papermill": {
     "duration": 0.013966,
     "end_time": "2022-08-29T02:52:13.648225",
     "exception": false,
     "start_time": "2022-08-29T02:52:13.634259",
     "status": "completed"
    },
    "tags": []
   },
   "source": [
    "---\n",
    "\n",
    "\n",
    "\n",
    "\n",
    "*Have questions or comments? Visit the [course discussion forum](https://www.kaggle.com/learn/intermediate-machine-learning/discussion) to chat with other learners.*"
   ]
  }
 ],
 "metadata": {
  "kernelspec": {
   "display_name": "Python 3",
   "language": "python",
   "name": "python3"
  },
  "language_info": {
   "codemirror_mode": {
    "name": "ipython",
    "version": 3
   },
   "file_extension": ".py",
   "mimetype": "text/x-python",
   "name": "python",
   "nbconvert_exporter": "python",
   "pygments_lexer": "ipython3",
   "version": "3.7.12"
  },
  "papermill": {
   "default_parameters": {},
   "duration": 18.287802,
   "end_time": "2022-08-29T02:52:14.486146",
   "environment_variables": {},
   "exception": null,
   "input_path": "__notebook__.ipynb",
   "output_path": "__notebook__.ipynb",
   "parameters": {},
   "start_time": "2022-08-29T02:51:56.198344",
   "version": "2.3.4"
  }
 },
 "nbformat": 4,
 "nbformat_minor": 5
}
