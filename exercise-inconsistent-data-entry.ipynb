{
 "cells": [
  {
   "cell_type": "markdown",
   "id": "5e19e96f",
   "metadata": {
    "papermill": {
     "duration": 0.006324,
     "end_time": "2022-08-26T02:17:47.581203",
     "exception": false,
     "start_time": "2022-08-26T02:17:47.574879",
     "status": "completed"
    },
    "tags": []
   },
   "source": [
    "**This notebook is an exercise in the [Data Cleaning](https://www.kaggle.com/learn/data-cleaning) course.  You can reference the tutorial at [this link](https://www.kaggle.com/alexisbcook/inconsistent-data-entry).**\n",
    "\n",
    "---\n"
   ]
  },
  {
   "cell_type": "markdown",
   "id": "3a753fd3",
   "metadata": {
    "papermill": {
     "duration": 0.004722,
     "end_time": "2022-08-26T02:17:47.591173",
     "exception": false,
     "start_time": "2022-08-26T02:17:47.586451",
     "status": "completed"
    },
    "tags": []
   },
   "source": [
    "In this exercise, you'll apply what you learned in the **Inconsistent data entry** tutorial.\n",
    "\n",
    "# Setup\n",
    "\n",
    "The questions below will give you feedback on your work. Run the following cell to set up the feedback system."
   ]
  },
  {
   "cell_type": "code",
   "execution_count": 1,
   "id": "35e84d59",
   "metadata": {
    "execution": {
     "iopub.execute_input": "2022-08-26T02:17:47.603464Z",
     "iopub.status.busy": "2022-08-26T02:17:47.602469Z",
     "iopub.status.idle": "2022-08-26T02:17:47.711556Z",
     "shell.execute_reply": "2022-08-26T02:17:47.710496Z"
    },
    "papermill": {
     "duration": 0.118659,
     "end_time": "2022-08-26T02:17:47.714826",
     "exception": false,
     "start_time": "2022-08-26T02:17:47.596167",
     "status": "completed"
    },
    "tags": []
   },
   "outputs": [
    {
     "name": "stdout",
     "output_type": "stream",
     "text": [
      "Setup Complete\n"
     ]
    }
   ],
   "source": [
    "from learntools.core import binder\n",
    "binder.bind(globals())\n",
    "from learntools.data_cleaning.ex5 import *\n",
    "print(\"Setup Complete\")"
   ]
  },
  {
   "cell_type": "markdown",
   "id": "000f0bb7",
   "metadata": {
    "papermill": {
     "duration": 0.005165,
     "end_time": "2022-08-26T02:17:47.725769",
     "exception": false,
     "start_time": "2022-08-26T02:17:47.720604",
     "status": "completed"
    },
    "tags": []
   },
   "source": [
    "# Get our environment set up\n",
    "\n",
    "The first thing we'll need to do is load in the libraries and dataset we'll be using.  We use the same dataset from the tutorial."
   ]
  },
  {
   "cell_type": "code",
   "execution_count": 2,
   "id": "440831d6",
   "metadata": {
    "execution": {
     "iopub.execute_input": "2022-08-26T02:17:47.738473Z",
     "iopub.status.busy": "2022-08-26T02:17:47.737726Z",
     "iopub.status.idle": "2022-08-26T02:17:47.756052Z",
     "shell.execute_reply": "2022-08-26T02:17:47.754807Z"
    },
    "papermill": {
     "duration": 0.028175,
     "end_time": "2022-08-26T02:17:47.759230",
     "exception": false,
     "start_time": "2022-08-26T02:17:47.731055",
     "status": "completed"
    },
    "tags": []
   },
   "outputs": [],
   "source": [
    "# modules we'll use\n",
    "import pandas as pd\n",
    "import numpy as np\n",
    "\n",
    "# helpful modules\n",
    "import fuzzywuzzy\n",
    "from fuzzywuzzy import process\n",
    "import chardet\n",
    "\n",
    "# read in all our data\n",
    "professors = pd.read_csv(\"../input/pakistan-intellectual-capital/pakistan_intellectual_capital.csv\")\n",
    "\n",
    "# set seed for reproducibility\n",
    "np.random.seed(0)"
   ]
  },
  {
   "cell_type": "markdown",
   "id": "f5358a52",
   "metadata": {
    "papermill": {
     "duration": 0.005836,
     "end_time": "2022-08-26T02:17:47.772930",
     "exception": false,
     "start_time": "2022-08-26T02:17:47.767094",
     "status": "completed"
    },
    "tags": []
   },
   "source": [
    "Next, we'll redo all of the work that we did in the tutorial."
   ]
  },
  {
   "cell_type": "code",
   "execution_count": 3,
   "id": "01598dec",
   "metadata": {
    "execution": {
     "iopub.execute_input": "2022-08-26T02:17:47.787047Z",
     "iopub.status.busy": "2022-08-26T02:17:47.786673Z",
     "iopub.status.idle": "2022-08-26T02:17:47.796982Z",
     "shell.execute_reply": "2022-08-26T02:17:47.795869Z"
    },
    "papermill": {
     "duration": 0.01903,
     "end_time": "2022-08-26T02:17:47.799147",
     "exception": false,
     "start_time": "2022-08-26T02:17:47.780117",
     "status": "completed"
    },
    "tags": []
   },
   "outputs": [
    {
     "data": {
      "text/plain": [
       "array(['Thailand', 'Pakistan', 'germany', 'Austria', 'Australia', 'UK',\n",
       "       'China', 'France', 'USofA', 'SouthKorea', 'Malaysia', 'Sweden',\n",
       "       'Italy', 'Canada', 'Norway', 'Ireland', 'New Zealand', 'Urbana',\n",
       "       'Portugal', 'Russian Federation', 'USA', 'Finland', ' USA',\n",
       "       'Netherland', ' Germany', ' Sweden', ' New Zealand', 'Greece',\n",
       "       'Turkey', 'South Korea', 'Macau', 'Singapore', 'Spain', 'Japan',\n",
       "       'HongKong', 'Saudi Arabia', 'Mauritius', 'Scotland'], dtype=object)"
      ]
     },
     "execution_count": 3,
     "metadata": {},
     "output_type": "execute_result"
    }
   ],
   "source": [
    "professors.Country.unique()"
   ]
  },
  {
   "cell_type": "code",
   "execution_count": 4,
   "id": "86547f55",
   "metadata": {
    "execution": {
     "iopub.execute_input": "2022-08-26T02:17:47.812243Z",
     "iopub.status.busy": "2022-08-26T02:17:47.811521Z",
     "iopub.status.idle": "2022-08-26T02:17:47.826959Z",
     "shell.execute_reply": "2022-08-26T02:17:47.825685Z"
    },
    "papermill": {
     "duration": 0.025471,
     "end_time": "2022-08-26T02:17:47.830062",
     "exception": false,
     "start_time": "2022-08-26T02:17:47.804591",
     "status": "completed"
    },
    "tags": []
   },
   "outputs": [
    {
     "name": "stdout",
     "output_type": "stream",
     "text": [
      "All done!\n"
     ]
    }
   ],
   "source": [
    "# convert to lower case\n",
    "professors['Country'] = professors['Country'].str.lower()\n",
    "# remove trailing white spaces\n",
    "professors['Country'] = professors['Country'].str.strip()\n",
    "\n",
    "# get the top 10 closest matches to \"south korea\"\n",
    "countries = professors['Country'].unique()\n",
    "matches = fuzzywuzzy.process.extract(\"south korea\", countries, limit=10, scorer=fuzzywuzzy.fuzz.token_sort_ratio)\n",
    "\n",
    "def replace_matches_in_column(df, column, string_to_match, min_ratio = 47):\n",
    "    # get a list of unique strings\n",
    "    strings = df[column].unique()\n",
    "    \n",
    "    # get the top 10 closest matches to our input string\n",
    "    matches = fuzzywuzzy.process.extract(string_to_match, strings, \n",
    "                                         limit=10, scorer=fuzzywuzzy.fuzz.token_sort_ratio)\n",
    "\n",
    "    # only get matches with a ratio > 90\n",
    "    close_matches = [matches[0] for matches in matches if matches[1] >= min_ratio]\n",
    "\n",
    "    # get the rows of all the close matches in our dataframe\n",
    "    rows_with_matches = df[column].isin(close_matches)\n",
    "\n",
    "    # replace all rows with close matches with the input matches \n",
    "    df.loc[rows_with_matches, column] = string_to_match\n",
    "    \n",
    "    # let us know the function's done\n",
    "    print(\"All done!\")\n",
    "    \n",
    "replace_matches_in_column(df=professors, column='Country', string_to_match=\"south korea\")\n",
    "countries = professors['Country'].unique()"
   ]
  },
  {
   "cell_type": "markdown",
   "id": "08e1d2e7",
   "metadata": {
    "papermill": {
     "duration": 0.005169,
     "end_time": "2022-08-26T02:17:47.841095",
     "exception": false,
     "start_time": "2022-08-26T02:17:47.835926",
     "status": "completed"
    },
    "tags": []
   },
   "source": [
    "# 1) Examine another column\n",
    "\n",
    "Write code below to take a look at all the unique values in the \"Graduated from\" column."
   ]
  },
  {
   "cell_type": "markdown",
   "id": "e690f4b5",
   "metadata": {
    "papermill": {
     "duration": 0.00496,
     "end_time": "2022-08-26T02:17:47.851489",
     "exception": false,
     "start_time": "2022-08-26T02:17:47.846529",
     "status": "completed"
    },
    "tags": []
   },
   "source": [
    "Do you notice any inconsistencies in the data?  Can any of the inconsistencies in the data be fixed by removing white spaces at the beginning and end of cells?\n",
    "\n",
    "Once you have answered these questions, run the code cell below to get credit for your work."
   ]
  },
  {
   "cell_type": "code",
   "execution_count": 5,
   "id": "d91db43e",
   "metadata": {
    "execution": {
     "iopub.execute_input": "2022-08-26T02:17:47.864259Z",
     "iopub.status.busy": "2022-08-26T02:17:47.863472Z",
     "iopub.status.idle": "2022-08-26T02:17:47.872579Z",
     "shell.execute_reply": "2022-08-26T02:17:47.871694Z"
    },
    "papermill": {
     "duration": 0.018037,
     "end_time": "2022-08-26T02:17:47.874740",
     "exception": false,
     "start_time": "2022-08-26T02:17:47.856703",
     "status": "completed"
    },
    "tags": []
   },
   "outputs": [
    {
     "data": {
      "application/javascript": [
       "parent.postMessage({\"jupyterEvent\": \"custom.exercise_interaction\", \"data\": {\"outcomeType\": 1, \"valueTowardsCompletion\": 0.3333333333333333, \"interactionType\": 1, \"questionType\": 4, \"questionId\": \"1_ExamineProvince\", \"learnToolsVersion\": \"0.3.4\", \"failureMessage\": \"\", \"exceptionClass\": \"\", \"trace\": \"\"}}, \"*\")"
      ],
      "text/plain": [
       "<IPython.core.display.Javascript object>"
      ]
     },
     "metadata": {},
     "output_type": "display_data"
    },
    {
     "data": {
      "text/markdown": [
       "<span style=\"color:#33cc33\">Correct:</span> \n",
       "\n",
       "There are inconsistencies that can be fixed by removing white spaces at the beginning and end of cells.  For instance, \"University of Central Florida\" and \" University of Central Florida\" both appear in the column."
      ],
      "text/plain": [
       "Correct: \n",
       "\n",
       "There are inconsistencies that can be fixed by removing white spaces at the beginning and end of cells.  For instance, \"University of Central Florida\" and \" University of Central Florida\" both appear in the column."
      ]
     },
     "metadata": {},
     "output_type": "display_data"
    }
   ],
   "source": [
    "# Check your answer (Run this code cell to receive credit!)\n",
    "q1.check()"
   ]
  },
  {
   "cell_type": "code",
   "execution_count": 6,
   "id": "9d6e342b",
   "metadata": {
    "execution": {
     "iopub.execute_input": "2022-08-26T02:17:47.888163Z",
     "iopub.status.busy": "2022-08-26T02:17:47.887008Z",
     "iopub.status.idle": "2022-08-26T02:17:47.897497Z",
     "shell.execute_reply": "2022-08-26T02:17:47.896380Z"
    },
    "papermill": {
     "duration": 0.020276,
     "end_time": "2022-08-26T02:17:47.900518",
     "exception": false,
     "start_time": "2022-08-26T02:17:47.880242",
     "status": "completed"
    },
    "tags": []
   },
   "outputs": [
    {
     "data": {
      "application/javascript": [
       "parent.postMessage({\"jupyterEvent\": \"custom.exercise_interaction\", \"data\": {\"interactionType\": 2, \"questionType\": 4, \"questionId\": \"1_ExamineProvince\", \"learnToolsVersion\": \"0.3.4\", \"valueTowardsCompletion\": 0.0, \"failureMessage\": \"\", \"exceptionClass\": \"\", \"trace\": \"\", \"outcomeType\": 4}}, \"*\")"
      ],
      "text/plain": [
       "<IPython.core.display.Javascript object>"
      ]
     },
     "metadata": {},
     "output_type": "display_data"
    },
    {
     "data": {
      "text/markdown": [
       "<span style=\"color:#3366cc\">Hint:</span> Use `unis = professors['Graduated from'].unique()` to take a look at the unique values in the 'Graduated from' column. You may find it useful to sort the data before printing it."
      ],
      "text/plain": [
       "Hint: Use `unis = professors['Graduated from'].unique()` to take a look at the unique values in the 'Graduated from' column. You may find it useful to sort the data before printing it."
      ]
     },
     "metadata": {},
     "output_type": "display_data"
    }
   ],
   "source": [
    "# Line below will give you a hint\n",
    "q1.hint()"
   ]
  },
  {
   "cell_type": "markdown",
   "id": "3f33131a",
   "metadata": {
    "papermill": {
     "duration": 0.006134,
     "end_time": "2022-08-26T02:17:47.915479",
     "exception": false,
     "start_time": "2022-08-26T02:17:47.909345",
     "status": "completed"
    },
    "tags": []
   },
   "source": [
    "# 2) Do some text pre-processing\n",
    "\n",
    "Convert every entry in the \"Graduated from\" column in the `professors` DataFrame to remove white spaces at the beginning and end of cells."
   ]
  },
  {
   "cell_type": "code",
   "execution_count": 7,
   "id": "22cfd53d",
   "metadata": {
    "execution": {
     "iopub.execute_input": "2022-08-26T02:17:47.930369Z",
     "iopub.status.busy": "2022-08-26T02:17:47.929877Z",
     "iopub.status.idle": "2022-08-26T02:17:47.944333Z",
     "shell.execute_reply": "2022-08-26T02:17:47.943293Z"
    },
    "papermill": {
     "duration": 0.024918,
     "end_time": "2022-08-26T02:17:47.946451",
     "exception": false,
     "start_time": "2022-08-26T02:17:47.921533",
     "status": "completed"
    },
    "tags": []
   },
   "outputs": [
    {
     "data": {
      "application/javascript": [
       "parent.postMessage({\"jupyterEvent\": \"custom.exercise_interaction\", \"data\": {\"outcomeType\": 1, \"valueTowardsCompletion\": 0.3333333333333333, \"interactionType\": 1, \"questionType\": 1, \"questionId\": \"2_TextProcessing\", \"learnToolsVersion\": \"0.3.4\", \"failureMessage\": \"\", \"exceptionClass\": \"\", \"trace\": \"\"}}, \"*\")"
      ],
      "text/plain": [
       "<IPython.core.display.Javascript object>"
      ]
     },
     "metadata": {},
     "output_type": "display_data"
    },
    {
     "data": {
      "text/markdown": [
       "<span style=\"color:#33cc33\">Correct</span>"
      ],
      "text/plain": [
       "Correct"
      ]
     },
     "metadata": {},
     "output_type": "display_data"
    }
   ],
   "source": [
    "# TODO: Your code here\n",
    "professors['Graduated from'] = professors['Graduated from'].str.strip()\n",
    "\n",
    "# Check your answer\n",
    "q2.check()"
   ]
  },
  {
   "cell_type": "code",
   "execution_count": 8,
   "id": "10a592ff",
   "metadata": {
    "execution": {
     "iopub.execute_input": "2022-08-26T02:17:47.961617Z",
     "iopub.status.busy": "2022-08-26T02:17:47.960816Z",
     "iopub.status.idle": "2022-08-26T02:17:47.973886Z",
     "shell.execute_reply": "2022-08-26T02:17:47.972857Z"
    },
    "papermill": {
     "duration": 0.022752,
     "end_time": "2022-08-26T02:17:47.976015",
     "exception": false,
     "start_time": "2022-08-26T02:17:47.953263",
     "status": "completed"
    },
    "tags": []
   },
   "outputs": [
    {
     "data": {
      "application/javascript": [
       "parent.postMessage({\"jupyterEvent\": \"custom.exercise_interaction\", \"data\": {\"interactionType\": 2, \"questionType\": 1, \"questionId\": \"2_TextProcessing\", \"learnToolsVersion\": \"0.3.4\", \"valueTowardsCompletion\": 0.0, \"failureMessage\": \"\", \"exceptionClass\": \"\", \"trace\": \"\", \"outcomeType\": 4}}, \"*\")"
      ],
      "text/plain": [
       "<IPython.core.display.Javascript object>"
      ]
     },
     "metadata": {},
     "output_type": "display_data"
    },
    {
     "data": {
      "text/markdown": [
       "<span style=\"color:#3366cc\">Hint:</span> In the tutorial, you did the same operation on a different column."
      ],
      "text/plain": [
       "Hint: In the tutorial, you did the same operation on a different column."
      ]
     },
     "metadata": {},
     "output_type": "display_data"
    },
    {
     "data": {
      "application/javascript": [
       "parent.postMessage({\"jupyterEvent\": \"custom.exercise_interaction\", \"data\": {\"interactionType\": 3, \"questionType\": 1, \"questionId\": \"2_TextProcessing\", \"learnToolsVersion\": \"0.3.4\", \"valueTowardsCompletion\": 0.0, \"failureMessage\": \"\", \"exceptionClass\": \"\", \"trace\": \"\", \"outcomeType\": 4}}, \"*\")"
      ],
      "text/plain": [
       "<IPython.core.display.Javascript object>"
      ]
     },
     "metadata": {},
     "output_type": "display_data"
    },
    {
     "data": {
      "text/markdown": [
       "<span style=\"color:#33cc99\">Solution:</span> \n",
       "```python\n",
       "professors['Graduated from'] = professors['Graduated from'].str.strip()\n",
       "\n",
       "```"
      ],
      "text/plain": [
       "Solution: \n",
       "```python\n",
       "professors['Graduated from'] = professors['Graduated from'].str.strip()\n",
       "\n",
       "```"
      ]
     },
     "metadata": {},
     "output_type": "display_data"
    }
   ],
   "source": [
    "# Lines below will give you a hint or solution code\n",
    "q2.hint()\n",
    "q2.solution()"
   ]
  },
  {
   "cell_type": "markdown",
   "id": "21ea2180",
   "metadata": {
    "papermill": {
     "duration": 0.006355,
     "end_time": "2022-08-26T02:17:47.990807",
     "exception": false,
     "start_time": "2022-08-26T02:17:47.984452",
     "status": "completed"
    },
    "tags": []
   },
   "source": [
    "# 3) Continue working with countries\n",
    "\n",
    "In the tutorial, we focused on cleaning up inconsistencies in the \"Country\" column.  Run the code cell below to view the list of unique values that we ended with."
   ]
  },
  {
   "cell_type": "code",
   "execution_count": 9,
   "id": "b9c3f64f",
   "metadata": {
    "execution": {
     "iopub.execute_input": "2022-08-26T02:17:48.006350Z",
     "iopub.status.busy": "2022-08-26T02:17:48.005605Z",
     "iopub.status.idle": "2022-08-26T02:17:48.013046Z",
     "shell.execute_reply": "2022-08-26T02:17:48.012035Z"
    },
    "papermill": {
     "duration": 0.017562,
     "end_time": "2022-08-26T02:17:48.015064",
     "exception": false,
     "start_time": "2022-08-26T02:17:47.997502",
     "status": "completed"
    },
    "tags": []
   },
   "outputs": [
    {
     "data": {
      "text/plain": [
       "array(['australia', 'austria', 'canada', 'china', 'finland', 'france',\n",
       "       'germany', 'greece', 'hongkong', 'ireland', 'italy', 'japan',\n",
       "       'macau', 'malaysia', 'mauritius', 'netherland', 'new zealand',\n",
       "       'norway', 'pakistan', 'portugal', 'russian federation',\n",
       "       'saudi arabia', 'scotland', 'singapore', 'south korea', 'spain',\n",
       "       'sweden', 'thailand', 'turkey', 'uk', 'urbana', 'usa', 'usofa'],\n",
       "      dtype=object)"
      ]
     },
     "execution_count": 9,
     "metadata": {},
     "output_type": "execute_result"
    }
   ],
   "source": [
    "# get all the unique values in the 'City' column\n",
    "countries = professors['Country'].unique()\n",
    "\n",
    "# sort them alphabetically and then take a closer look\n",
    "countries.sort()\n",
    "countries"
   ]
  },
  {
   "cell_type": "markdown",
   "id": "c6f8d334",
   "metadata": {
    "papermill": {
     "duration": 0.006494,
     "end_time": "2022-08-26T02:17:48.028284",
     "exception": false,
     "start_time": "2022-08-26T02:17:48.021790",
     "status": "completed"
    },
    "tags": []
   },
   "source": [
    "Take another look at the \"Country\" column and see if there's any more data cleaning we need to do.\n",
    "\n",
    "It looks like 'usa' and 'usofa' should be the same country.  Correct the \"Country\" column in the dataframe to replace 'usofa' with 'usa'.\n",
    "\n",
    "**Use the most recent version of the DataFrame (with the whitespaces at the beginning and end of cells removed) from question 2.**"
   ]
  },
  {
   "cell_type": "code",
   "execution_count": 10,
   "id": "d028eceb",
   "metadata": {
    "execution": {
     "iopub.execute_input": "2022-08-26T02:17:48.043872Z",
     "iopub.status.busy": "2022-08-26T02:17:48.042951Z",
     "iopub.status.idle": "2022-08-26T02:17:48.052264Z",
     "shell.execute_reply": "2022-08-26T02:17:48.051451Z"
    },
    "papermill": {
     "duration": 0.019184,
     "end_time": "2022-08-26T02:17:48.054232",
     "exception": false,
     "start_time": "2022-08-26T02:17:48.035048",
     "status": "completed"
    },
    "tags": []
   },
   "outputs": [
    {
     "data": {
      "text/plain": [
       "[('usa', 100),\n",
       " ('usofa', 75),\n",
       " ('austria', 60),\n",
       " ('australia', 50),\n",
       " ('spain', 50),\n",
       " ('urbana', 44),\n",
       " ('uk', 40),\n",
       " ('pakistan', 36),\n",
       " ('malaysia', 36),\n",
       " ('portugal', 36)]"
      ]
     },
     "execution_count": 10,
     "metadata": {},
     "output_type": "execute_result"
    }
   ],
   "source": [
    "fuzzywuzzy.process.extract('usa', professors['Country'].unique(), limit=10, scorer=fuzzywuzzy.fuzz.token_sort_ratio)"
   ]
  },
  {
   "cell_type": "code",
   "execution_count": 11,
   "id": "b88a8524",
   "metadata": {
    "execution": {
     "iopub.execute_input": "2022-08-26T02:17:48.069434Z",
     "iopub.status.busy": "2022-08-26T02:17:48.069009Z",
     "iopub.status.idle": "2022-08-26T02:17:48.082423Z",
     "shell.execute_reply": "2022-08-26T02:17:48.081171Z"
    },
    "papermill": {
     "duration": 0.023847,
     "end_time": "2022-08-26T02:17:48.084705",
     "exception": false,
     "start_time": "2022-08-26T02:17:48.060858",
     "status": "completed"
    },
    "tags": []
   },
   "outputs": [
    {
     "name": "stdout",
     "output_type": "stream",
     "text": [
      "All done!\n"
     ]
    },
    {
     "data": {
      "application/javascript": [
       "parent.postMessage({\"jupyterEvent\": \"custom.exercise_interaction\", \"data\": {\"outcomeType\": 1, \"valueTowardsCompletion\": 0.3333333333333333, \"interactionType\": 1, \"questionType\": 1, \"questionId\": \"3_WorkingWithCities\", \"learnToolsVersion\": \"0.3.4\", \"failureMessage\": \"\", \"exceptionClass\": \"\", \"trace\": \"\"}}, \"*\")"
      ],
      "text/plain": [
       "<IPython.core.display.Javascript object>"
      ]
     },
     "metadata": {},
     "output_type": "display_data"
    },
    {
     "data": {
      "text/markdown": [
       "<span style=\"color:#33cc33\">Correct</span>"
      ],
      "text/plain": [
       "Correct"
      ]
     },
     "metadata": {},
     "output_type": "display_data"
    }
   ],
   "source": [
    "# TODO: Your code here!\n",
    "replace_matches_in_column(df=professors, column='Country', string_to_match=\"usa\", min_ratio= 74)\n",
    "\n",
    "# Check your answer\n",
    "q3.check()"
   ]
  },
  {
   "cell_type": "code",
   "execution_count": 12,
   "id": "6de648f9",
   "metadata": {
    "execution": {
     "iopub.execute_input": "2022-08-26T02:17:48.102403Z",
     "iopub.status.busy": "2022-08-26T02:17:48.101168Z",
     "iopub.status.idle": "2022-08-26T02:17:48.106265Z",
     "shell.execute_reply": "2022-08-26T02:17:48.105162Z"
    },
    "papermill": {
     "duration": 0.016138,
     "end_time": "2022-08-26T02:17:48.108661",
     "exception": false,
     "start_time": "2022-08-26T02:17:48.092523",
     "status": "completed"
    },
    "tags": []
   },
   "outputs": [],
   "source": [
    "# Lines below will give you a hint or solution code\n",
    "#q3.hint()\n",
    "#q3.solution()"
   ]
  },
  {
   "cell_type": "markdown",
   "id": "fec2e654",
   "metadata": {
    "papermill": {
     "duration": 0.00709,
     "end_time": "2022-08-26T02:17:48.123191",
     "exception": false,
     "start_time": "2022-08-26T02:17:48.116101",
     "status": "completed"
    },
    "tags": []
   },
   "source": [
    "# Congratulations!\n",
    "\n",
    "Congratulations for completing the **Data Cleaning** course on Kaggle Learn!\n",
    "\n",
    "To practice your new skills, you're encouraged to download and investigate some of [Kaggle's Datasets](https://www.kaggle.com/datasets)."
   ]
  },
  {
   "cell_type": "markdown",
   "id": "5236972b",
   "metadata": {
    "papermill": {
     "duration": 0.006948,
     "end_time": "2022-08-26T02:17:48.137585",
     "exception": false,
     "start_time": "2022-08-26T02:17:48.130637",
     "status": "completed"
    },
    "tags": []
   },
   "source": [
    "---\n",
    "\n",
    "\n",
    "\n",
    "\n",
    "*Have questions or comments? Visit the [course discussion forum](https://www.kaggle.com/learn/data-cleaning/discussion) to chat with other learners.*"
   ]
  }
 ],
 "metadata": {
  "kernelspec": {
   "display_name": "Python 3",
   "language": "python",
   "name": "python3"
  },
  "language_info": {
   "codemirror_mode": {
    "name": "ipython",
    "version": 3
   },
   "file_extension": ".py",
   "mimetype": "text/x-python",
   "name": "python",
   "nbconvert_exporter": "python",
   "pygments_lexer": "ipython3",
   "version": "3.7.12"
  },
  "papermill": {
   "default_parameters": {},
   "duration": 9.985534,
   "end_time": "2022-08-26T02:17:48.765796",
   "environment_variables": {},
   "exception": null,
   "input_path": "__notebook__.ipynb",
   "output_path": "__notebook__.ipynb",
   "parameters": {},
   "start_time": "2022-08-26T02:17:38.780262",
   "version": "2.3.4"
  }
 },
 "nbformat": 4,
 "nbformat_minor": 5
}
