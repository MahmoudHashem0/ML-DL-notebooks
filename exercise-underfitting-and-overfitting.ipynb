{
 "cells": [
  {
   "cell_type": "markdown",
   "id": "7f0a607f",
   "metadata": {
    "papermill": {
     "duration": 0.005983,
     "end_time": "2022-08-28T18:47:32.666898",
     "exception": false,
     "start_time": "2022-08-28T18:47:32.660915",
     "status": "completed"
    },
    "tags": []
   },
   "source": [
    "**This notebook is an exercise in the [Introduction to Machine Learning](https://www.kaggle.com/learn/intro-to-machine-learning) course.  You can reference the tutorial at [this link](https://www.kaggle.com/dansbecker/underfitting-and-overfitting).**\n",
    "\n",
    "---\n"
   ]
  },
  {
   "cell_type": "markdown",
   "id": "bafd5e81",
   "metadata": {
    "papermill": {
     "duration": 0.003571,
     "end_time": "2022-08-28T18:47:32.674557",
     "exception": false,
     "start_time": "2022-08-28T18:47:32.670986",
     "status": "completed"
    },
    "tags": []
   },
   "source": [
    "## Recap\n",
    "You've built your first model, and now it's time to optimize the size of the tree to make better predictions. Run this cell to set up your coding environment where the previous step left off."
   ]
  },
  {
   "cell_type": "code",
   "execution_count": 1,
   "id": "0e6e0f86",
   "metadata": {
    "execution": {
     "iopub.execute_input": "2022-08-28T18:47:32.687733Z",
     "iopub.status.busy": "2022-08-28T18:47:32.686608Z",
     "iopub.status.idle": "2022-08-28T18:47:34.245934Z",
     "shell.execute_reply": "2022-08-28T18:47:34.244245Z"
    },
    "papermill": {
     "duration": 1.569223,
     "end_time": "2022-08-28T18:47:34.249012",
     "exception": false,
     "start_time": "2022-08-28T18:47:32.679789",
     "status": "completed"
    },
    "tags": []
   },
   "outputs": [
    {
     "name": "stdout",
     "output_type": "stream",
     "text": [
      "Validation MAE: 29,653\n",
      "\n",
      "Setup complete\n"
     ]
    }
   ],
   "source": [
    "# Code you have previously used to load data\n",
    "import pandas as pd\n",
    "from sklearn.metrics import mean_absolute_error\n",
    "from sklearn.model_selection import train_test_split\n",
    "from sklearn.tree import DecisionTreeRegressor\n",
    "\n",
    "\n",
    "# Path of the file to read\n",
    "iowa_file_path = '../input/home-data-for-ml-course/train.csv'\n",
    "\n",
    "home_data = pd.read_csv(iowa_file_path)\n",
    "# Create target object and call it y\n",
    "y = home_data.SalePrice\n",
    "# Create X\n",
    "features = ['LotArea', 'YearBuilt', '1stFlrSF', '2ndFlrSF', 'FullBath', 'BedroomAbvGr', 'TotRmsAbvGrd']\n",
    "X = home_data[features]\n",
    "\n",
    "# Split into validation and training data\n",
    "train_X, val_X, train_y, val_y = train_test_split(X, y, random_state=1)\n",
    "\n",
    "# Specify Model\n",
    "iowa_model = DecisionTreeRegressor(random_state=1)\n",
    "# Fit Model\n",
    "iowa_model.fit(train_X, train_y)\n",
    "\n",
    "# Make validation predictions and calculate mean absolute error\n",
    "val_predictions = iowa_model.predict(val_X)\n",
    "val_mae = mean_absolute_error(val_predictions, val_y)\n",
    "print(\"Validation MAE: {:,.0f}\".format(val_mae))\n",
    "\n",
    "# Set up code checking\n",
    "from learntools.core import binder\n",
    "binder.bind(globals())\n",
    "from learntools.machine_learning.ex5 import *\n",
    "print(\"\\nSetup complete\")"
   ]
  },
  {
   "cell_type": "markdown",
   "id": "3580a921",
   "metadata": {
    "papermill": {
     "duration": 0.004501,
     "end_time": "2022-08-28T18:47:34.257639",
     "exception": false,
     "start_time": "2022-08-28T18:47:34.253138",
     "status": "completed"
    },
    "tags": []
   },
   "source": [
    "# Exercises\n",
    "You could write the function `get_mae` yourself. For now, we'll supply it. This is the same function you read about in the previous lesson. Just run the cell below."
   ]
  },
  {
   "cell_type": "code",
   "execution_count": 2,
   "id": "acef7ab2",
   "metadata": {
    "execution": {
     "iopub.execute_input": "2022-08-28T18:47:34.268591Z",
     "iopub.status.busy": "2022-08-28T18:47:34.268156Z",
     "iopub.status.idle": "2022-08-28T18:47:34.275292Z",
     "shell.execute_reply": "2022-08-28T18:47:34.273508Z"
    },
    "papermill": {
     "duration": 0.016306,
     "end_time": "2022-08-28T18:47:34.278607",
     "exception": false,
     "start_time": "2022-08-28T18:47:34.262301",
     "status": "completed"
    },
    "tags": []
   },
   "outputs": [],
   "source": [
    "def get_mae(max_leaf_nodes, train_X, val_X, train_y, val_y):\n",
    "    model = DecisionTreeRegressor(max_leaf_nodes=max_leaf_nodes, random_state=0)\n",
    "    model.fit(train_X, train_y)\n",
    "    preds_val = model.predict(val_X)\n",
    "    mae = mean_absolute_error(val_y, preds_val)\n",
    "    return(mae)"
   ]
  },
  {
   "cell_type": "markdown",
   "id": "8794daab",
   "metadata": {
    "papermill": {
     "duration": 0.003582,
     "end_time": "2022-08-28T18:47:34.286087",
     "exception": false,
     "start_time": "2022-08-28T18:47:34.282505",
     "status": "completed"
    },
    "tags": []
   },
   "source": [
    "## Step 1: Compare Different Tree Sizes\n",
    "Write a loop that tries the following values for *max_leaf_nodes* from a set of possible values.\n",
    "\n",
    "Call the *get_mae* function on each value of max_leaf_nodes. Store the output in some way that allows you to select the value of `max_leaf_nodes` that gives the most accurate model on your data."
   ]
  },
  {
   "cell_type": "code",
   "execution_count": 3,
   "id": "9742bfec",
   "metadata": {
    "execution": {
     "iopub.execute_input": "2022-08-28T18:47:34.296540Z",
     "iopub.status.busy": "2022-08-28T18:47:34.295807Z",
     "iopub.status.idle": "2022-08-28T18:47:34.354153Z",
     "shell.execute_reply": "2022-08-28T18:47:34.352628Z"
    },
    "papermill": {
     "duration": 0.067225,
     "end_time": "2022-08-28T18:47:34.357326",
     "exception": false,
     "start_time": "2022-08-28T18:47:34.290101",
     "status": "completed"
    },
    "tags": []
   },
   "outputs": [
    {
     "data": {
      "application/javascript": [
       "parent.postMessage({\"jupyterEvent\": \"custom.exercise_interaction\", \"data\": {\"outcomeType\": 1, \"valueTowardsCompletion\": 0.5, \"interactionType\": 1, \"questionType\": 1, \"questionId\": \"1_BestTreeSize\", \"learnToolsVersion\": \"0.3.4\", \"failureMessage\": \"\", \"exceptionClass\": \"\", \"trace\": \"\"}}, \"*\")"
      ],
      "text/plain": [
       "<IPython.core.display.Javascript object>"
      ]
     },
     "metadata": {},
     "output_type": "display_data"
    },
    {
     "data": {
      "text/markdown": [
       "<span style=\"color:#33cc33\">Correct</span>"
      ],
      "text/plain": [
       "Correct"
      ]
     },
     "metadata": {},
     "output_type": "display_data"
    }
   ],
   "source": [
    "candidate_max_leaf_nodes = [5, 25, 50, 100, 250, 500]\n",
    "# Write loop to find the ideal tree size from candidate_max_leaf_nodes\n",
    "maes = pd.Series(get_mae(max_leaf_nodes, train_X, val_X, train_y, val_y) for max_leaf_nodes in candidate_max_leaf_nodes)\n",
    "\n",
    "# Store the best value of max_leaf_nodes (it will be either 5, 25, 50, 100, 250 or 500)\n",
    "best_tree_size = candidate_max_leaf_nodes[maes.idxmin()]\n",
    "\n",
    "# Check your answer\n",
    "step_1.check()"
   ]
  },
  {
   "cell_type": "code",
   "execution_count": 4,
   "id": "7514fd12",
   "metadata": {
    "execution": {
     "iopub.execute_input": "2022-08-28T18:47:34.368163Z",
     "iopub.status.busy": "2022-08-28T18:47:34.367321Z",
     "iopub.status.idle": "2022-08-28T18:47:34.373072Z",
     "shell.execute_reply": "2022-08-28T18:47:34.371633Z"
    },
    "papermill": {
     "duration": 0.014214,
     "end_time": "2022-08-28T18:47:34.375909",
     "exception": false,
     "start_time": "2022-08-28T18:47:34.361695",
     "status": "completed"
    },
    "tags": []
   },
   "outputs": [],
   "source": [
    "# The lines below will show you a hint or the solution.\n",
    "# step_1.hint() \n",
    "# step_1.solution()"
   ]
  },
  {
   "cell_type": "markdown",
   "id": "dc338873",
   "metadata": {
    "papermill": {
     "duration": 0.00383,
     "end_time": "2022-08-28T18:47:34.383920",
     "exception": false,
     "start_time": "2022-08-28T18:47:34.380090",
     "status": "completed"
    },
    "tags": []
   },
   "source": [
    "## Step 2: Fit Model Using All Data\n",
    "You know the best tree size. If you were going to deploy this model in practice, you would make it even more accurate by using all of the data and keeping that tree size.  That is, you don't need to hold out the validation data now that you've made all your modeling decisions."
   ]
  },
  {
   "cell_type": "code",
   "execution_count": 5,
   "id": "8745d8c3",
   "metadata": {
    "execution": {
     "iopub.execute_input": "2022-08-28T18:47:34.394209Z",
     "iopub.status.busy": "2022-08-28T18:47:34.393777Z",
     "iopub.status.idle": "2022-08-28T18:47:34.414692Z",
     "shell.execute_reply": "2022-08-28T18:47:34.413164Z"
    },
    "papermill": {
     "duration": 0.030013,
     "end_time": "2022-08-28T18:47:34.418120",
     "exception": false,
     "start_time": "2022-08-28T18:47:34.388107",
     "status": "completed"
    },
    "tags": []
   },
   "outputs": [
    {
     "data": {
      "application/javascript": [
       "parent.postMessage({\"jupyterEvent\": \"custom.exercise_interaction\", \"data\": {\"outcomeType\": 1, \"valueTowardsCompletion\": 0.5, \"interactionType\": 1, \"questionType\": 2, \"questionId\": \"2_FitModelWithAllData\", \"learnToolsVersion\": \"0.3.4\", \"failureMessage\": \"\", \"exceptionClass\": \"\", \"trace\": \"\"}}, \"*\")"
      ],
      "text/plain": [
       "<IPython.core.display.Javascript object>"
      ]
     },
     "metadata": {},
     "output_type": "display_data"
    },
    {
     "data": {
      "text/markdown": [
       "<span style=\"color:#33cc33\">Correct</span>"
      ],
      "text/plain": [
       "Correct"
      ]
     },
     "metadata": {},
     "output_type": "display_data"
    }
   ],
   "source": [
    "# Fill in argument to make optimal size and uncomment\n",
    "final_model = DecisionTreeRegressor(max_leaf_nodes=best_tree_size, random_state=1)\n",
    "\n",
    "# fit the final model and uncomment the next two lines\n",
    "final_model.fit(X, y)\n",
    "\n",
    "# Check your answer\n",
    "step_2.check()"
   ]
  },
  {
   "cell_type": "code",
   "execution_count": 6,
   "id": "ee254bec",
   "metadata": {
    "execution": {
     "iopub.execute_input": "2022-08-28T18:47:34.429768Z",
     "iopub.status.busy": "2022-08-28T18:47:34.428537Z",
     "iopub.status.idle": "2022-08-28T18:47:34.433969Z",
     "shell.execute_reply": "2022-08-28T18:47:34.433065Z"
    },
    "papermill": {
     "duration": 0.013954,
     "end_time": "2022-08-28T18:47:34.436655",
     "exception": false,
     "start_time": "2022-08-28T18:47:34.422701",
     "status": "completed"
    },
    "tags": []
   },
   "outputs": [],
   "source": [
    "# step_2.hint()\n",
    "# step_2.solution()"
   ]
  },
  {
   "cell_type": "markdown",
   "id": "d9b9f4af",
   "metadata": {
    "papermill": {
     "duration": 0.004216,
     "end_time": "2022-08-28T18:47:34.445555",
     "exception": false,
     "start_time": "2022-08-28T18:47:34.441339",
     "status": "completed"
    },
    "tags": []
   },
   "source": [
    "You've tuned this model and improved your results. But we are still using Decision Tree models, which are not very sophisticated by modern machine learning standards. In the next step you will learn to use Random Forests to improve your models even more.\n",
    "\n",
    "# Keep Going\n",
    "\n",
    "You are ready for **[Random Forests](https://www.kaggle.com/dansbecker/random-forests).**\n"
   ]
  },
  {
   "cell_type": "markdown",
   "id": "960233c2",
   "metadata": {
    "papermill": {
     "duration": 0.004327,
     "end_time": "2022-08-28T18:47:34.454631",
     "exception": false,
     "start_time": "2022-08-28T18:47:34.450304",
     "status": "completed"
    },
    "tags": []
   },
   "source": [
    "---\n",
    "\n",
    "\n",
    "\n",
    "\n",
    "*Have questions or comments? Visit the [course discussion forum](https://www.kaggle.com/learn/intro-to-machine-learning/discussion) to chat with other learners.*"
   ]
  }
 ],
 "metadata": {
  "kernelspec": {
   "display_name": "Python 3",
   "language": "python",
   "name": "python3"
  },
  "language_info": {
   "codemirror_mode": {
    "name": "ipython",
    "version": 3
   },
   "file_extension": ".py",
   "mimetype": "text/x-python",
   "name": "python",
   "nbconvert_exporter": "python",
   "pygments_lexer": "ipython3",
   "version": "3.7.12"
  },
  "papermill": {
   "default_parameters": {},
   "duration": 14.121079,
   "end_time": "2022-08-28T18:47:35.283772",
   "environment_variables": {},
   "exception": null,
   "input_path": "__notebook__.ipynb",
   "output_path": "__notebook__.ipynb",
   "parameters": {},
   "start_time": "2022-08-28T18:47:21.162693",
   "version": "2.3.4"
  }
 },
 "nbformat": 4,
 "nbformat_minor": 5
}
