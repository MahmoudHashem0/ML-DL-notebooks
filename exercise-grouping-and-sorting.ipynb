{
 "cells": [
  {
   "cell_type": "markdown",
   "id": "769a24cf",
   "metadata": {
    "papermill": {
     "duration": 0.007619,
     "end_time": "2022-08-28T03:05:17.115904",
     "exception": false,
     "start_time": "2022-08-28T03:05:17.108285",
     "status": "completed"
    },
    "tags": []
   },
   "source": [
    "**This notebook is an exercise in the [Pandas](https://www.kaggle.com/learn/pandas) course.  You can reference the tutorial at [this link](https://www.kaggle.com/residentmario/grouping-and-sorting).**\n",
    "\n",
    "---\n"
   ]
  },
  {
   "cell_type": "markdown",
   "id": "b9ed5912",
   "metadata": {
    "papermill": {
     "duration": 0.005899,
     "end_time": "2022-08-28T03:05:17.128226",
     "exception": false,
     "start_time": "2022-08-28T03:05:17.122327",
     "status": "completed"
    },
    "tags": []
   },
   "source": [
    "# Introduction\n",
    "\n",
    "In these exercises we'll apply groupwise analysis to our dataset.\n",
    "\n",
    "Run the code cell below to load the data before running the exercises."
   ]
  },
  {
   "cell_type": "code",
   "execution_count": 1,
   "id": "d88b7dad",
   "metadata": {
    "execution": {
     "iopub.execute_input": "2022-08-28T03:05:17.142936Z",
     "iopub.status.busy": "2022-08-28T03:05:17.142421Z",
     "iopub.status.idle": "2022-08-28T03:05:20.110607Z",
     "shell.execute_reply": "2022-08-28T03:05:20.108925Z"
    },
    "papermill": {
     "duration": 2.979923,
     "end_time": "2022-08-28T03:05:20.114305",
     "exception": false,
     "start_time": "2022-08-28T03:05:17.134382",
     "status": "completed"
    },
    "tags": []
   },
   "outputs": [
    {
     "name": "stdout",
     "output_type": "stream",
     "text": [
      "Setup complete.\n"
     ]
    }
   ],
   "source": [
    "import pandas as pd\n",
    "\n",
    "reviews = pd.read_csv(\"../input/wine-reviews/winemag-data-130k-v2.csv\", index_col=0)\n",
    "#pd.set_option(\"display.max_rows\", 5)\n",
    "\n",
    "from learntools.core import binder; binder.bind(globals())\n",
    "from learntools.pandas.grouping_and_sorting import *\n",
    "print(\"Setup complete.\")"
   ]
  },
  {
   "cell_type": "markdown",
   "id": "c855aad7",
   "metadata": {
    "papermill": {
     "duration": 0.006209,
     "end_time": "2022-08-28T03:05:20.127360",
     "exception": false,
     "start_time": "2022-08-28T03:05:20.121151",
     "status": "completed"
    },
    "tags": []
   },
   "source": [
    "# Exercises"
   ]
  },
  {
   "cell_type": "markdown",
   "id": "ae53e0a2",
   "metadata": {
    "papermill": {
     "duration": 0.005959,
     "end_time": "2022-08-28T03:05:20.139911",
     "exception": false,
     "start_time": "2022-08-28T03:05:20.133952",
     "status": "completed"
    },
    "tags": []
   },
   "source": [
    "## 1.\n",
    "Who are the most common wine reviewers in the dataset? Create a `Series` whose index is the `taster_twitter_handle` category from the dataset, and whose values count how many reviews each person wrote."
   ]
  },
  {
   "cell_type": "code",
   "execution_count": null,
   "id": "d5cac9ef",
   "metadata": {
    "papermill": {
     "duration": 0.006151,
     "end_time": "2022-08-28T03:05:20.152355",
     "exception": false,
     "start_time": "2022-08-28T03:05:20.146204",
     "status": "completed"
    },
    "tags": []
   },
   "outputs": [],
   "source": []
  },
  {
   "cell_type": "code",
   "execution_count": 2,
   "id": "7884e39e",
   "metadata": {
    "execution": {
     "iopub.execute_input": "2022-08-28T03:05:20.166920Z",
     "iopub.status.busy": "2022-08-28T03:05:20.166491Z",
     "iopub.status.idle": "2022-08-28T03:05:20.191595Z",
     "shell.execute_reply": "2022-08-28T03:05:20.190359Z"
    },
    "papermill": {
     "duration": 0.035482,
     "end_time": "2022-08-28T03:05:20.194363",
     "exception": false,
     "start_time": "2022-08-28T03:05:20.158881",
     "status": "completed"
    },
    "tags": []
   },
   "outputs": [
    {
     "data": {
      "application/javascript": [
       "parent.postMessage({\"jupyterEvent\": \"custom.exercise_interaction\", \"data\": {\"outcomeType\": 1, \"valueTowardsCompletion\": 0.16666666666666666, \"interactionType\": 1, \"questionType\": 1, \"questionId\": \"1_ReviewsWritten\", \"learnToolsVersion\": \"0.3.4\", \"failureMessage\": \"\", \"exceptionClass\": \"\", \"trace\": \"\"}}, \"*\")"
      ],
      "text/plain": [
       "<IPython.core.display.Javascript object>"
      ]
     },
     "metadata": {},
     "output_type": "display_data"
    },
    {
     "data": {
      "text/markdown": [
       "<span style=\"color:#33cc33\">Correct:</span> \n",
       "\n",
       "\n",
       "```python\n",
       "reviews_written = reviews.groupby('taster_twitter_handle').size()\n",
       "```\n",
       "or\n",
       "```python\n",
       "reviews_written = reviews.groupby('taster_twitter_handle').taster_twitter_handle.count()\n",
       "```\n"
      ],
      "text/plain": [
       "Correct: \n",
       "\n",
       "\n",
       "```python\n",
       "reviews_written = reviews.groupby('taster_twitter_handle').size()\n",
       "```\n",
       "or\n",
       "```python\n",
       "reviews_written = reviews.groupby('taster_twitter_handle').taster_twitter_handle.count()\n",
       "```"
      ]
     },
     "metadata": {},
     "output_type": "display_data"
    }
   ],
   "source": [
    "# Your code here\n",
    "reviews_written = reviews.groupby('taster_twitter_handle').size()\n",
    "\n",
    "# Check your answer\n",
    "q1.check()"
   ]
  },
  {
   "cell_type": "code",
   "execution_count": 3,
   "id": "070065a3",
   "metadata": {
    "execution": {
     "iopub.execute_input": "2022-08-28T03:05:20.210710Z",
     "iopub.status.busy": "2022-08-28T03:05:20.209423Z",
     "iopub.status.idle": "2022-08-28T03:05:20.214593Z",
     "shell.execute_reply": "2022-08-28T03:05:20.213326Z"
    },
    "papermill": {
     "duration": 0.01559,
     "end_time": "2022-08-28T03:05:20.217153",
     "exception": false,
     "start_time": "2022-08-28T03:05:20.201563",
     "status": "completed"
    },
    "tags": []
   },
   "outputs": [],
   "source": [
    "#q1.hint()\n",
    "#q1.solution()"
   ]
  },
  {
   "cell_type": "markdown",
   "id": "2c613dfc",
   "metadata": {
    "papermill": {
     "duration": 0.006149,
     "end_time": "2022-08-28T03:05:20.229905",
     "exception": false,
     "start_time": "2022-08-28T03:05:20.223756",
     "status": "completed"
    },
    "tags": []
   },
   "source": [
    "## 2.\n",
    "What is the best wine I can buy for a given amount of money? Create a `Series` whose index is wine prices and whose values is the maximum number of points a wine costing that much was given in a review. Sort the values by price, ascending (so that `4.0` dollars is at the top and `3300.0` dollars is at the bottom)."
   ]
  },
  {
   "cell_type": "code",
   "execution_count": 4,
   "id": "3500f2e0",
   "metadata": {
    "execution": {
     "iopub.execute_input": "2022-08-28T03:05:20.245184Z",
     "iopub.status.busy": "2022-08-28T03:05:20.244346Z",
     "iopub.status.idle": "2022-08-28T03:05:20.258147Z",
     "shell.execute_reply": "2022-08-28T03:05:20.257194Z"
    },
    "papermill": {
     "duration": 0.024065,
     "end_time": "2022-08-28T03:05:20.260437",
     "exception": false,
     "start_time": "2022-08-28T03:05:20.236372",
     "status": "completed"
    },
    "tags": []
   },
   "outputs": [
    {
     "data": {
      "application/javascript": [
       "parent.postMessage({\"jupyterEvent\": \"custom.exercise_interaction\", \"data\": {\"outcomeType\": 1, \"valueTowardsCompletion\": 0.16666666666666666, \"interactionType\": 1, \"questionType\": 1, \"questionId\": \"2_BestRatingPerPrice\", \"learnToolsVersion\": \"0.3.4\", \"failureMessage\": \"\", \"exceptionClass\": \"\", \"trace\": \"\"}}, \"*\")"
      ],
      "text/plain": [
       "<IPython.core.display.Javascript object>"
      ]
     },
     "metadata": {},
     "output_type": "display_data"
    },
    {
     "data": {
      "text/markdown": [
       "<span style=\"color:#33cc33\">Correct</span>"
      ],
      "text/plain": [
       "Correct"
      ]
     },
     "metadata": {},
     "output_type": "display_data"
    }
   ],
   "source": [
    "best_rating_per_price = reviews.groupby('price').points.max()\n",
    "\n",
    "# Check your answer\n",
    "q2.check()"
   ]
  },
  {
   "cell_type": "code",
   "execution_count": 5,
   "id": "fc1471ba",
   "metadata": {
    "execution": {
     "iopub.execute_input": "2022-08-28T03:05:20.276396Z",
     "iopub.status.busy": "2022-08-28T03:05:20.275581Z",
     "iopub.status.idle": "2022-08-28T03:05:20.280001Z",
     "shell.execute_reply": "2022-08-28T03:05:20.279038Z"
    },
    "papermill": {
     "duration": 0.01515,
     "end_time": "2022-08-28T03:05:20.282363",
     "exception": false,
     "start_time": "2022-08-28T03:05:20.267213",
     "status": "completed"
    },
    "tags": []
   },
   "outputs": [],
   "source": [
    "#q2.hint()\n",
    "#q2.solution()"
   ]
  },
  {
   "cell_type": "markdown",
   "id": "e2e5efbc",
   "metadata": {
    "papermill": {
     "duration": 0.006604,
     "end_time": "2022-08-28T03:05:20.296038",
     "exception": false,
     "start_time": "2022-08-28T03:05:20.289434",
     "status": "completed"
    },
    "tags": []
   },
   "source": [
    "## 3.\n",
    "What are the minimum and maximum prices for each `variety` of wine? Create a `DataFrame` whose index is the `variety` category from the dataset and whose values are the `min` and `max` values thereof."
   ]
  },
  {
   "cell_type": "code",
   "execution_count": 6,
   "id": "b8e080f6",
   "metadata": {
    "execution": {
     "iopub.execute_input": "2022-08-28T03:05:20.312248Z",
     "iopub.status.busy": "2022-08-28T03:05:20.311419Z",
     "iopub.status.idle": "2022-08-28T03:05:20.336596Z",
     "shell.execute_reply": "2022-08-28T03:05:20.335462Z"
    },
    "papermill": {
     "duration": 0.035923,
     "end_time": "2022-08-28T03:05:20.338823",
     "exception": false,
     "start_time": "2022-08-28T03:05:20.302900",
     "status": "completed"
    },
    "tags": []
   },
   "outputs": [
    {
     "data": {
      "application/javascript": [
       "parent.postMessage({\"jupyterEvent\": \"custom.exercise_interaction\", \"data\": {\"outcomeType\": 1, \"valueTowardsCompletion\": 0.16666666666666666, \"interactionType\": 1, \"questionType\": 1, \"questionId\": \"3_PriceExtremes\", \"learnToolsVersion\": \"0.3.4\", \"failureMessage\": \"\", \"exceptionClass\": \"\", \"trace\": \"\"}}, \"*\")"
      ],
      "text/plain": [
       "<IPython.core.display.Javascript object>"
      ]
     },
     "metadata": {},
     "output_type": "display_data"
    },
    {
     "data": {
      "text/markdown": [
       "<span style=\"color:#33cc33\">Correct</span>"
      ],
      "text/plain": [
       "Correct"
      ]
     },
     "metadata": {},
     "output_type": "display_data"
    }
   ],
   "source": [
    "price_extremes = reviews.groupby('variety').price.agg(['min', 'max'])\n",
    "\n",
    "# Check your answer\n",
    "q3.check()"
   ]
  },
  {
   "cell_type": "code",
   "execution_count": 7,
   "id": "fead46d0",
   "metadata": {
    "execution": {
     "iopub.execute_input": "2022-08-28T03:05:20.356091Z",
     "iopub.status.busy": "2022-08-28T03:05:20.355331Z",
     "iopub.status.idle": "2022-08-28T03:05:20.359631Z",
     "shell.execute_reply": "2022-08-28T03:05:20.358610Z"
    },
    "papermill": {
     "duration": 0.015138,
     "end_time": "2022-08-28T03:05:20.362006",
     "exception": false,
     "start_time": "2022-08-28T03:05:20.346868",
     "status": "completed"
    },
    "tags": []
   },
   "outputs": [],
   "source": [
    "#q3.hint()\n",
    "#q3.solution()"
   ]
  },
  {
   "cell_type": "markdown",
   "id": "3ae15123",
   "metadata": {
    "papermill": {
     "duration": 0.00685,
     "end_time": "2022-08-28T03:05:20.376293",
     "exception": false,
     "start_time": "2022-08-28T03:05:20.369443",
     "status": "completed"
    },
    "tags": []
   },
   "source": [
    "## 4.\n",
    "What are the most expensive wine varieties? Create a variable `sorted_varieties` containing a copy of the dataframe from the previous question where varieties are sorted in descending order based on minimum price, then on maximum price (to break ties)."
   ]
  },
  {
   "cell_type": "code",
   "execution_count": 8,
   "id": "08671673",
   "metadata": {
    "execution": {
     "iopub.execute_input": "2022-08-28T03:05:20.392612Z",
     "iopub.status.busy": "2022-08-28T03:05:20.391862Z",
     "iopub.status.idle": "2022-08-28T03:05:20.417643Z",
     "shell.execute_reply": "2022-08-28T03:05:20.416568Z"
    },
    "papermill": {
     "duration": 0.036542,
     "end_time": "2022-08-28T03:05:20.419901",
     "exception": false,
     "start_time": "2022-08-28T03:05:20.383359",
     "status": "completed"
    },
    "tags": []
   },
   "outputs": [
    {
     "data": {
      "application/javascript": [
       "parent.postMessage({\"jupyterEvent\": \"custom.exercise_interaction\", \"data\": {\"outcomeType\": 1, \"valueTowardsCompletion\": 0.16666666666666666, \"interactionType\": 1, \"questionType\": 1, \"questionId\": \"4_SortedVarieties\", \"learnToolsVersion\": \"0.3.4\", \"failureMessage\": \"\", \"exceptionClass\": \"\", \"trace\": \"\"}}, \"*\")"
      ],
      "text/plain": [
       "<IPython.core.display.Javascript object>"
      ]
     },
     "metadata": {},
     "output_type": "display_data"
    },
    {
     "data": {
      "text/markdown": [
       "<span style=\"color:#33cc33\">Correct</span>"
      ],
      "text/plain": [
       "Correct"
      ]
     },
     "metadata": {},
     "output_type": "display_data"
    }
   ],
   "source": [
    "sorted_varieties = reviews.groupby('variety').price.agg(['min', 'max']).sort_values(['min', 'max'], ascending=False)\n",
    "\n",
    "# Check your answer\n",
    "q4.check()"
   ]
  },
  {
   "cell_type": "code",
   "execution_count": 9,
   "id": "fa119e8d",
   "metadata": {
    "execution": {
     "iopub.execute_input": "2022-08-28T03:05:20.437083Z",
     "iopub.status.busy": "2022-08-28T03:05:20.436274Z",
     "iopub.status.idle": "2022-08-28T03:05:20.440797Z",
     "shell.execute_reply": "2022-08-28T03:05:20.439800Z"
    },
    "papermill": {
     "duration": 0.015926,
     "end_time": "2022-08-28T03:05:20.443123",
     "exception": false,
     "start_time": "2022-08-28T03:05:20.427197",
     "status": "completed"
    },
    "tags": []
   },
   "outputs": [],
   "source": [
    "#q4.hint()\n",
    "#q4.solution()"
   ]
  },
  {
   "cell_type": "markdown",
   "id": "465c8d6b",
   "metadata": {
    "papermill": {
     "duration": 0.006748,
     "end_time": "2022-08-28T03:05:20.457232",
     "exception": false,
     "start_time": "2022-08-28T03:05:20.450484",
     "status": "completed"
    },
    "tags": []
   },
   "source": [
    "## 5.\n",
    "Create a `Series` whose index is reviewers and whose values is the average review score given out by that reviewer. Hint: you will need the `taster_name` and `points` columns."
   ]
  },
  {
   "cell_type": "code",
   "execution_count": 10,
   "id": "f8317215",
   "metadata": {
    "execution": {
     "iopub.execute_input": "2022-08-28T03:05:20.473427Z",
     "iopub.status.busy": "2022-08-28T03:05:20.472969Z",
     "iopub.status.idle": "2022-08-28T03:05:20.493241Z",
     "shell.execute_reply": "2022-08-28T03:05:20.492206Z"
    },
    "papermill": {
     "duration": 0.031272,
     "end_time": "2022-08-28T03:05:20.495528",
     "exception": false,
     "start_time": "2022-08-28T03:05:20.464256",
     "status": "completed"
    },
    "tags": []
   },
   "outputs": [
    {
     "data": {
      "application/javascript": [
       "parent.postMessage({\"jupyterEvent\": \"custom.exercise_interaction\", \"data\": {\"outcomeType\": 1, \"valueTowardsCompletion\": 0.16666666666666666, \"interactionType\": 1, \"questionType\": 1, \"questionId\": \"5_ReviewerMeanRatings\", \"learnToolsVersion\": \"0.3.4\", \"failureMessage\": \"\", \"exceptionClass\": \"\", \"trace\": \"\"}}, \"*\")"
      ],
      "text/plain": [
       "<IPython.core.display.Javascript object>"
      ]
     },
     "metadata": {},
     "output_type": "display_data"
    },
    {
     "data": {
      "text/markdown": [
       "<span style=\"color:#33cc33\">Correct</span>"
      ],
      "text/plain": [
       "Correct"
      ]
     },
     "metadata": {},
     "output_type": "display_data"
    }
   ],
   "source": [
    "reviewer_mean_ratings = reviews.groupby('taster_name').points.mean()\n",
    "\n",
    "# Check your answer\n",
    "q5.check()"
   ]
  },
  {
   "cell_type": "code",
   "execution_count": 11,
   "id": "5ea43fb6",
   "metadata": {
    "execution": {
     "iopub.execute_input": "2022-08-28T03:05:20.512949Z",
     "iopub.status.busy": "2022-08-28T03:05:20.512197Z",
     "iopub.status.idle": "2022-08-28T03:05:20.516674Z",
     "shell.execute_reply": "2022-08-28T03:05:20.515717Z"
    },
    "papermill": {
     "duration": 0.01584,
     "end_time": "2022-08-28T03:05:20.519017",
     "exception": false,
     "start_time": "2022-08-28T03:05:20.503177",
     "status": "completed"
    },
    "tags": []
   },
   "outputs": [],
   "source": [
    "#q5.hint()\n",
    "#q5.solution()"
   ]
  },
  {
   "cell_type": "markdown",
   "id": "c94e6962",
   "metadata": {
    "papermill": {
     "duration": 0.007096,
     "end_time": "2022-08-28T03:05:20.533915",
     "exception": false,
     "start_time": "2022-08-28T03:05:20.526819",
     "status": "completed"
    },
    "tags": []
   },
   "source": [
    "Are there significant differences in the average scores assigned by the various reviewers? Run the cell below to use the `describe()` method to see a summary of the range of values."
   ]
  },
  {
   "cell_type": "code",
   "execution_count": 12,
   "id": "c72f1ee5",
   "metadata": {
    "execution": {
     "iopub.execute_input": "2022-08-28T03:05:20.551157Z",
     "iopub.status.busy": "2022-08-28T03:05:20.550374Z",
     "iopub.status.idle": "2022-08-28T03:05:20.564197Z",
     "shell.execute_reply": "2022-08-28T03:05:20.563134Z"
    },
    "papermill": {
     "duration": 0.025041,
     "end_time": "2022-08-28T03:05:20.566420",
     "exception": false,
     "start_time": "2022-08-28T03:05:20.541379",
     "status": "completed"
    },
    "tags": []
   },
   "outputs": [
    {
     "data": {
      "text/plain": [
       "count    19.000000\n",
       "mean     88.233026\n",
       "std       1.243610\n",
       "min      85.855422\n",
       "25%      87.323501\n",
       "50%      88.536235\n",
       "75%      88.975256\n",
       "max      90.562551\n",
       "Name: points, dtype: float64"
      ]
     },
     "execution_count": 12,
     "metadata": {},
     "output_type": "execute_result"
    }
   ],
   "source": [
    "reviewer_mean_ratings.describe()"
   ]
  },
  {
   "cell_type": "markdown",
   "id": "e76a8a86",
   "metadata": {
    "papermill": {
     "duration": 0.007458,
     "end_time": "2022-08-28T03:05:20.581402",
     "exception": false,
     "start_time": "2022-08-28T03:05:20.573944",
     "status": "completed"
    },
    "tags": []
   },
   "source": [
    "## 6.\n",
    "What combination of countries and varieties are most common? Create a `Series` whose index is a `MultiIndex`of `{country, variety}` pairs. For example, a pinot noir produced in the US should map to `{\"US\", \"Pinot Noir\"}`. Sort the values in the `Series` in descending order based on wine count."
   ]
  },
  {
   "cell_type": "code",
   "execution_count": null,
   "id": "b593debf",
   "metadata": {
    "execution": {
     "iopub.execute_input": "2022-08-28T03:04:21.030275Z",
     "iopub.status.busy": "2022-08-28T03:04:21.029863Z",
     "iopub.status.idle": "2022-08-28T03:04:21.070714Z",
     "shell.execute_reply": "2022-08-28T03:04:21.069851Z",
     "shell.execute_reply.started": "2022-08-28T03:04:21.030242Z"
    },
    "papermill": {
     "duration": 0.007137,
     "end_time": "2022-08-28T03:05:20.596029",
     "exception": false,
     "start_time": "2022-08-28T03:05:20.588892",
     "status": "completed"
    },
    "tags": []
   },
   "outputs": [],
   "source": []
  },
  {
   "cell_type": "code",
   "execution_count": 13,
   "id": "af24deab",
   "metadata": {
    "execution": {
     "iopub.execute_input": "2022-08-28T03:05:20.613948Z",
     "iopub.status.busy": "2022-08-28T03:05:20.613153Z",
     "iopub.status.idle": "2022-08-28T03:05:20.648083Z",
     "shell.execute_reply": "2022-08-28T03:05:20.647043Z"
    },
    "papermill": {
     "duration": 0.046799,
     "end_time": "2022-08-28T03:05:20.650421",
     "exception": false,
     "start_time": "2022-08-28T03:05:20.603622",
     "status": "completed"
    },
    "tags": []
   },
   "outputs": [
    {
     "data": {
      "application/javascript": [
       "parent.postMessage({\"jupyterEvent\": \"custom.exercise_interaction\", \"data\": {\"outcomeType\": 1, \"valueTowardsCompletion\": 0.16666666666666666, \"interactionType\": 1, \"questionType\": 1, \"questionId\": \"6_GroupbyCountryVariety\", \"learnToolsVersion\": \"0.3.4\", \"failureMessage\": \"\", \"exceptionClass\": \"\", \"trace\": \"\"}}, \"*\")"
      ],
      "text/plain": [
       "<IPython.core.display.Javascript object>"
      ]
     },
     "metadata": {},
     "output_type": "display_data"
    },
    {
     "data": {
      "text/markdown": [
       "<span style=\"color:#33cc33\">Correct</span>"
      ],
      "text/plain": [
       "Correct"
      ]
     },
     "metadata": {},
     "output_type": "display_data"
    }
   ],
   "source": [
    "country_variety_counts = reviews.groupby(['country', 'variety']).size().sort_values(ascending= False)\n",
    "\n",
    "# Check your answer\n",
    "q6.check()"
   ]
  },
  {
   "cell_type": "code",
   "execution_count": 14,
   "id": "c031e5ca",
   "metadata": {
    "execution": {
     "iopub.execute_input": "2022-08-28T03:05:20.668175Z",
     "iopub.status.busy": "2022-08-28T03:05:20.667688Z",
     "iopub.status.idle": "2022-08-28T03:05:20.671888Z",
     "shell.execute_reply": "2022-08-28T03:05:20.670937Z"
    },
    "papermill": {
     "duration": 0.015726,
     "end_time": "2022-08-28T03:05:20.674073",
     "exception": false,
     "start_time": "2022-08-28T03:05:20.658347",
     "status": "completed"
    },
    "tags": []
   },
   "outputs": [],
   "source": [
    "#q6.hint()\n",
    "#q6.solution()"
   ]
  },
  {
   "cell_type": "markdown",
   "id": "f83d26ae",
   "metadata": {
    "papermill": {
     "duration": 0.007496,
     "end_time": "2022-08-28T03:05:20.689620",
     "exception": false,
     "start_time": "2022-08-28T03:05:20.682124",
     "status": "completed"
    },
    "tags": []
   },
   "source": [
    "# Keep going\n",
    "\n",
    "Move on to the [**data types and missing data**](https://www.kaggle.com/residentmario/data-types-and-missing-values)."
   ]
  },
  {
   "cell_type": "markdown",
   "id": "92444e3e",
   "metadata": {
    "papermill": {
     "duration": 0.007922,
     "end_time": "2022-08-28T03:05:20.705826",
     "exception": false,
     "start_time": "2022-08-28T03:05:20.697904",
     "status": "completed"
    },
    "tags": []
   },
   "source": [
    "---\n",
    "\n",
    "\n",
    "\n",
    "\n",
    "*Have questions or comments? Visit the [course discussion forum](https://www.kaggle.com/learn/pandas/discussion) to chat with other learners.*"
   ]
  }
 ],
 "metadata": {
  "kernelspec": {
   "display_name": "Python 3",
   "language": "python",
   "name": "python3"
  },
  "language_info": {
   "codemirror_mode": {
    "name": "ipython",
    "version": 3
   },
   "file_extension": ".py",
   "mimetype": "text/x-python",
   "name": "python",
   "nbconvert_exporter": "python",
   "pygments_lexer": "ipython3",
   "version": "3.7.12"
  },
  "papermill": {
   "default_parameters": {},
   "duration": 15.398866,
   "end_time": "2022-08-28T03:05:21.536854",
   "environment_variables": {},
   "exception": null,
   "input_path": "__notebook__.ipynb",
   "output_path": "__notebook__.ipynb",
   "parameters": {},
   "start_time": "2022-08-28T03:05:06.137988",
   "version": "2.3.4"
  }
 },
 "nbformat": 4,
 "nbformat_minor": 5
}
