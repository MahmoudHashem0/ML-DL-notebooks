{
 "cells": [
  {
   "cell_type": "markdown",
   "id": "287fdafb",
   "metadata": {
    "papermill": {
     "duration": 0.012333,
     "end_time": "2022-08-30T07:09:23.219539",
     "exception": false,
     "start_time": "2022-08-30T07:09:23.207206",
     "status": "completed"
    },
    "tags": []
   },
   "source": [
    "**This notebook is an exercise in the [Intermediate Machine Learning](https://www.kaggle.com/learn/intermediate-machine-learning) course.  You can reference the tutorial at [this link](https://www.kaggle.com/alexisbcook/categorical-variables).**\n",
    "\n",
    "---\n"
   ]
  },
  {
   "cell_type": "markdown",
   "id": "0f492fa9",
   "metadata": {
    "papermill": {
     "duration": 0.010347,
     "end_time": "2022-08-30T07:09:23.241542",
     "exception": false,
     "start_time": "2022-08-30T07:09:23.231195",
     "status": "completed"
    },
    "tags": []
   },
   "source": [
    "By encoding **categorical variables**, you'll obtain your best results thus far!\n",
    "\n",
    "# Setup\n",
    "\n",
    "The questions below will give you feedback on your work. Run the following cell to set up the feedback system."
   ]
  },
  {
   "cell_type": "code",
   "execution_count": 1,
   "id": "62ae589a",
   "metadata": {
    "execution": {
     "iopub.execute_input": "2022-08-30T07:09:23.264866Z",
     "iopub.status.busy": "2022-08-30T07:09:23.264384Z",
     "iopub.status.idle": "2022-08-30T07:09:23.324727Z",
     "shell.execute_reply": "2022-08-30T07:09:23.323612Z"
    },
    "papermill": {
     "duration": 0.075751,
     "end_time": "2022-08-30T07:09:23.327829",
     "exception": false,
     "start_time": "2022-08-30T07:09:23.252078",
     "status": "completed"
    },
    "tags": []
   },
   "outputs": [
    {
     "name": "stdout",
     "output_type": "stream",
     "text": [
      "Setup Complete\n"
     ]
    }
   ],
   "source": [
    "# Set up code checking\n",
    "import os\n",
    "if not os.path.exists(\"../input/train.csv\"):\n",
    "    os.symlink(\"../input/home-data-for-ml-course/train.csv\", \"../input/train.csv\")  \n",
    "    os.symlink(\"../input/home-data-for-ml-course/test.csv\", \"../input/test.csv\") \n",
    "from learntools.core import binder\n",
    "binder.bind(globals())\n",
    "from learntools.ml_intermediate.ex3 import *\n",
    "print(\"Setup Complete\")"
   ]
  },
  {
   "cell_type": "markdown",
   "id": "661961e5",
   "metadata": {
    "papermill": {
     "duration": 0.010329,
     "end_time": "2022-08-30T07:09:23.348874",
     "exception": false,
     "start_time": "2022-08-30T07:09:23.338545",
     "status": "completed"
    },
    "tags": []
   },
   "source": [
    "In this exercise, you will work with data from the [Housing Prices Competition for Kaggle Learn Users](https://www.kaggle.com/c/home-data-for-ml-course). \n",
    "\n",
    "![Ames Housing dataset image](https://i.imgur.com/lTJVG4e.png)\n",
    "\n",
    "Run the next code cell without changes to load the training and validation sets in `X_train`, `X_valid`, `y_train`, and `y_valid`.  The test set is loaded in `X_test`."
   ]
  },
  {
   "cell_type": "code",
   "execution_count": 2,
   "id": "16c97456",
   "metadata": {
    "execution": {
     "iopub.execute_input": "2022-08-30T07:09:23.373830Z",
     "iopub.status.busy": "2022-08-30T07:09:23.373399Z",
     "iopub.status.idle": "2022-08-30T07:09:24.821681Z",
     "shell.execute_reply": "2022-08-30T07:09:24.820188Z"
    },
    "papermill": {
     "duration": 1.464016,
     "end_time": "2022-08-30T07:09:24.824970",
     "exception": false,
     "start_time": "2022-08-30T07:09:23.360954",
     "status": "completed"
    },
    "tags": []
   },
   "outputs": [],
   "source": [
    "import pandas as pd\n",
    "from sklearn.model_selection import train_test_split\n",
    "\n",
    "# Read the data\n",
    "X = pd.read_csv('../input/train.csv', index_col='Id') \n",
    "X_test = pd.read_csv('../input/test.csv', index_col='Id')\n",
    "\n",
    "# Remove rows with missing target, separate target from predictors\n",
    "X.dropna(axis=0, subset=['SalePrice'], inplace=True)\n",
    "y = X.SalePrice\n",
    "X.drop(['SalePrice'], axis=1, inplace=True)\n",
    "\n",
    "# To keep things simple, we'll drop columns with missing values\n",
    "cols_with_missing = [col for col in X.columns if X[col].isnull().any()] \n",
    "X.drop(cols_with_missing, axis=1, inplace=True)\n",
    "X_test.drop(cols_with_missing, axis=1, inplace=True)\n",
    "\n",
    "# Break off validation set from training data\n",
    "X_train, X_valid, y_train, y_valid = train_test_split(X, y,\n",
    "                                                      train_size=0.8, test_size=0.2,\n",
    "                                                      random_state=0)"
   ]
  },
  {
   "cell_type": "markdown",
   "id": "21feda9c",
   "metadata": {
    "papermill": {
     "duration": 0.010454,
     "end_time": "2022-08-30T07:09:24.846740",
     "exception": false,
     "start_time": "2022-08-30T07:09:24.836286",
     "status": "completed"
    },
    "tags": []
   },
   "source": [
    "Use the next code cell to print the first five rows of the data."
   ]
  },
  {
   "cell_type": "code",
   "execution_count": 3,
   "id": "d3cb6bd1",
   "metadata": {
    "execution": {
     "iopub.execute_input": "2022-08-30T07:09:24.870294Z",
     "iopub.status.busy": "2022-08-30T07:09:24.869847Z",
     "iopub.status.idle": "2022-08-30T07:09:24.903219Z",
     "shell.execute_reply": "2022-08-30T07:09:24.901852Z"
    },
    "papermill": {
     "duration": 0.048828,
     "end_time": "2022-08-30T07:09:24.906184",
     "exception": false,
     "start_time": "2022-08-30T07:09:24.857356",
     "status": "completed"
    },
    "tags": []
   },
   "outputs": [
    {
     "data": {
      "text/html": [
       "<div>\n",
       "<style scoped>\n",
       "    .dataframe tbody tr th:only-of-type {\n",
       "        vertical-align: middle;\n",
       "    }\n",
       "\n",
       "    .dataframe tbody tr th {\n",
       "        vertical-align: top;\n",
       "    }\n",
       "\n",
       "    .dataframe thead th {\n",
       "        text-align: right;\n",
       "    }\n",
       "</style>\n",
       "<table border=\"1\" class=\"dataframe\">\n",
       "  <thead>\n",
       "    <tr style=\"text-align: right;\">\n",
       "      <th></th>\n",
       "      <th>MSSubClass</th>\n",
       "      <th>MSZoning</th>\n",
       "      <th>LotArea</th>\n",
       "      <th>Street</th>\n",
       "      <th>LotShape</th>\n",
       "      <th>LandContour</th>\n",
       "      <th>Utilities</th>\n",
       "      <th>LotConfig</th>\n",
       "      <th>LandSlope</th>\n",
       "      <th>Neighborhood</th>\n",
       "      <th>...</th>\n",
       "      <th>OpenPorchSF</th>\n",
       "      <th>EnclosedPorch</th>\n",
       "      <th>3SsnPorch</th>\n",
       "      <th>ScreenPorch</th>\n",
       "      <th>PoolArea</th>\n",
       "      <th>MiscVal</th>\n",
       "      <th>MoSold</th>\n",
       "      <th>YrSold</th>\n",
       "      <th>SaleType</th>\n",
       "      <th>SaleCondition</th>\n",
       "    </tr>\n",
       "    <tr>\n",
       "      <th>Id</th>\n",
       "      <th></th>\n",
       "      <th></th>\n",
       "      <th></th>\n",
       "      <th></th>\n",
       "      <th></th>\n",
       "      <th></th>\n",
       "      <th></th>\n",
       "      <th></th>\n",
       "      <th></th>\n",
       "      <th></th>\n",
       "      <th></th>\n",
       "      <th></th>\n",
       "      <th></th>\n",
       "      <th></th>\n",
       "      <th></th>\n",
       "      <th></th>\n",
       "      <th></th>\n",
       "      <th></th>\n",
       "      <th></th>\n",
       "      <th></th>\n",
       "      <th></th>\n",
       "    </tr>\n",
       "  </thead>\n",
       "  <tbody>\n",
       "    <tr>\n",
       "      <th>619</th>\n",
       "      <td>20</td>\n",
       "      <td>RL</td>\n",
       "      <td>11694</td>\n",
       "      <td>Pave</td>\n",
       "      <td>Reg</td>\n",
       "      <td>Lvl</td>\n",
       "      <td>AllPub</td>\n",
       "      <td>Inside</td>\n",
       "      <td>Gtl</td>\n",
       "      <td>NridgHt</td>\n",
       "      <td>...</td>\n",
       "      <td>108</td>\n",
       "      <td>0</td>\n",
       "      <td>0</td>\n",
       "      <td>260</td>\n",
       "      <td>0</td>\n",
       "      <td>0</td>\n",
       "      <td>7</td>\n",
       "      <td>2007</td>\n",
       "      <td>New</td>\n",
       "      <td>Partial</td>\n",
       "    </tr>\n",
       "    <tr>\n",
       "      <th>871</th>\n",
       "      <td>20</td>\n",
       "      <td>RL</td>\n",
       "      <td>6600</td>\n",
       "      <td>Pave</td>\n",
       "      <td>Reg</td>\n",
       "      <td>Lvl</td>\n",
       "      <td>AllPub</td>\n",
       "      <td>Inside</td>\n",
       "      <td>Gtl</td>\n",
       "      <td>NAmes</td>\n",
       "      <td>...</td>\n",
       "      <td>0</td>\n",
       "      <td>0</td>\n",
       "      <td>0</td>\n",
       "      <td>0</td>\n",
       "      <td>0</td>\n",
       "      <td>0</td>\n",
       "      <td>8</td>\n",
       "      <td>2009</td>\n",
       "      <td>WD</td>\n",
       "      <td>Normal</td>\n",
       "    </tr>\n",
       "    <tr>\n",
       "      <th>93</th>\n",
       "      <td>30</td>\n",
       "      <td>RL</td>\n",
       "      <td>13360</td>\n",
       "      <td>Pave</td>\n",
       "      <td>IR1</td>\n",
       "      <td>HLS</td>\n",
       "      <td>AllPub</td>\n",
       "      <td>Inside</td>\n",
       "      <td>Gtl</td>\n",
       "      <td>Crawfor</td>\n",
       "      <td>...</td>\n",
       "      <td>0</td>\n",
       "      <td>44</td>\n",
       "      <td>0</td>\n",
       "      <td>0</td>\n",
       "      <td>0</td>\n",
       "      <td>0</td>\n",
       "      <td>8</td>\n",
       "      <td>2009</td>\n",
       "      <td>WD</td>\n",
       "      <td>Normal</td>\n",
       "    </tr>\n",
       "    <tr>\n",
       "      <th>818</th>\n",
       "      <td>20</td>\n",
       "      <td>RL</td>\n",
       "      <td>13265</td>\n",
       "      <td>Pave</td>\n",
       "      <td>IR1</td>\n",
       "      <td>Lvl</td>\n",
       "      <td>AllPub</td>\n",
       "      <td>CulDSac</td>\n",
       "      <td>Gtl</td>\n",
       "      <td>Mitchel</td>\n",
       "      <td>...</td>\n",
       "      <td>59</td>\n",
       "      <td>0</td>\n",
       "      <td>0</td>\n",
       "      <td>0</td>\n",
       "      <td>0</td>\n",
       "      <td>0</td>\n",
       "      <td>7</td>\n",
       "      <td>2008</td>\n",
       "      <td>WD</td>\n",
       "      <td>Normal</td>\n",
       "    </tr>\n",
       "    <tr>\n",
       "      <th>303</th>\n",
       "      <td>20</td>\n",
       "      <td>RL</td>\n",
       "      <td>13704</td>\n",
       "      <td>Pave</td>\n",
       "      <td>IR1</td>\n",
       "      <td>Lvl</td>\n",
       "      <td>AllPub</td>\n",
       "      <td>Corner</td>\n",
       "      <td>Gtl</td>\n",
       "      <td>CollgCr</td>\n",
       "      <td>...</td>\n",
       "      <td>81</td>\n",
       "      <td>0</td>\n",
       "      <td>0</td>\n",
       "      <td>0</td>\n",
       "      <td>0</td>\n",
       "      <td>0</td>\n",
       "      <td>1</td>\n",
       "      <td>2006</td>\n",
       "      <td>WD</td>\n",
       "      <td>Normal</td>\n",
       "    </tr>\n",
       "  </tbody>\n",
       "</table>\n",
       "<p>5 rows × 60 columns</p>\n",
       "</div>"
      ],
      "text/plain": [
       "     MSSubClass MSZoning  LotArea Street LotShape LandContour Utilities  \\\n",
       "Id                                                                        \n",
       "619          20       RL    11694   Pave      Reg         Lvl    AllPub   \n",
       "871          20       RL     6600   Pave      Reg         Lvl    AllPub   \n",
       "93           30       RL    13360   Pave      IR1         HLS    AllPub   \n",
       "818          20       RL    13265   Pave      IR1         Lvl    AllPub   \n",
       "303          20       RL    13704   Pave      IR1         Lvl    AllPub   \n",
       "\n",
       "    LotConfig LandSlope Neighborhood  ... OpenPorchSF EnclosedPorch 3SsnPorch  \\\n",
       "Id                                    ...                                       \n",
       "619    Inside       Gtl      NridgHt  ...         108             0         0   \n",
       "871    Inside       Gtl        NAmes  ...           0             0         0   \n",
       "93     Inside       Gtl      Crawfor  ...           0            44         0   \n",
       "818   CulDSac       Gtl      Mitchel  ...          59             0         0   \n",
       "303    Corner       Gtl      CollgCr  ...          81             0         0   \n",
       "\n",
       "    ScreenPorch  PoolArea  MiscVal  MoSold  YrSold SaleType SaleCondition  \n",
       "Id                                                                         \n",
       "619         260         0        0       7    2007      New       Partial  \n",
       "871           0         0        0       8    2009       WD        Normal  \n",
       "93            0         0        0       8    2009       WD        Normal  \n",
       "818           0         0        0       7    2008       WD        Normal  \n",
       "303           0         0        0       1    2006       WD        Normal  \n",
       "\n",
       "[5 rows x 60 columns]"
      ]
     },
     "execution_count": 3,
     "metadata": {},
     "output_type": "execute_result"
    }
   ],
   "source": [
    "X_train.head()"
   ]
  },
  {
   "cell_type": "markdown",
   "id": "2f1160d7",
   "metadata": {
    "papermill": {
     "duration": 0.010547,
     "end_time": "2022-08-30T07:09:24.928293",
     "exception": false,
     "start_time": "2022-08-30T07:09:24.917746",
     "status": "completed"
    },
    "tags": []
   },
   "source": [
    "Notice that the dataset contains both numerical and categorical variables.  You'll need to encode the categorical data before training a model.\n",
    "\n",
    "To compare different models, you'll use the same `score_dataset()` function from the tutorial.  This function reports the [mean absolute error](https://en.wikipedia.org/wiki/Mean_absolute_error) (MAE) from a random forest model."
   ]
  },
  {
   "cell_type": "code",
   "execution_count": 4,
   "id": "93eb273e",
   "metadata": {
    "execution": {
     "iopub.execute_input": "2022-08-30T07:09:24.952838Z",
     "iopub.status.busy": "2022-08-30T07:09:24.951872Z",
     "iopub.status.idle": "2022-08-30T07:09:25.187110Z",
     "shell.execute_reply": "2022-08-30T07:09:25.185646Z"
    },
    "papermill": {
     "duration": 0.250929,
     "end_time": "2022-08-30T07:09:25.190317",
     "exception": false,
     "start_time": "2022-08-30T07:09:24.939388",
     "status": "completed"
    },
    "tags": []
   },
   "outputs": [],
   "source": [
    "from sklearn.ensemble import RandomForestRegressor\n",
    "from sklearn.metrics import mean_absolute_error\n",
    "\n",
    "# function for comparing different approaches\n",
    "def score_dataset(X_train, X_valid, y_train, y_valid):\n",
    "    model = RandomForestRegressor(n_estimators=100, random_state=0)\n",
    "    model.fit(X_train, y_train)\n",
    "    preds = model.predict(X_valid)\n",
    "    return mean_absolute_error(y_valid, preds)"
   ]
  },
  {
   "cell_type": "markdown",
   "id": "0490921f",
   "metadata": {
    "papermill": {
     "duration": 0.010368,
     "end_time": "2022-08-30T07:09:25.211640",
     "exception": false,
     "start_time": "2022-08-30T07:09:25.201272",
     "status": "completed"
    },
    "tags": []
   },
   "source": [
    "# Step 1: Drop columns with categorical data\n",
    "\n",
    "You'll get started with the most straightforward approach.  Use the code cell below to preprocess the data in `X_train` and `X_valid` to remove columns with categorical data.  Set the preprocessed DataFrames to `drop_X_train` and `drop_X_valid`, respectively.  "
   ]
  },
  {
   "cell_type": "code",
   "execution_count": 5,
   "id": "7ed4be47",
   "metadata": {
    "execution": {
     "iopub.execute_input": "2022-08-30T07:09:25.235066Z",
     "iopub.status.busy": "2022-08-30T07:09:25.234688Z",
     "iopub.status.idle": "2022-08-30T07:09:25.252092Z",
     "shell.execute_reply": "2022-08-30T07:09:25.250931Z"
    },
    "papermill": {
     "duration": 0.031963,
     "end_time": "2022-08-30T07:09:25.254384",
     "exception": false,
     "start_time": "2022-08-30T07:09:25.222421",
     "status": "completed"
    },
    "tags": []
   },
   "outputs": [
    {
     "data": {
      "application/javascript": [
       "parent.postMessage({\"jupyterEvent\": \"custom.exercise_interaction\", \"data\": {\"outcomeType\": 1, \"valueTowardsCompletion\": 0.5, \"interactionType\": 1, \"questionType\": 2, \"questionId\": \"1_Drop\", \"learnToolsVersion\": \"0.3.4\", \"failureMessage\": \"\", \"exceptionClass\": \"\", \"trace\": \"\"}}, \"*\")"
      ],
      "text/plain": [
       "<IPython.core.display.Javascript object>"
      ]
     },
     "metadata": {},
     "output_type": "display_data"
    },
    {
     "data": {
      "text/markdown": [
       "<span style=\"color:#33cc33\">Correct</span>"
      ],
      "text/plain": [
       "Correct"
      ]
     },
     "metadata": {},
     "output_type": "display_data"
    }
   ],
   "source": [
    "# Fill in the lines below: drop columns in training and validation data\n",
    "drop_X_train = X_train[X_train.columns[X_train.apply(lambda c: c.dtype != \"object\")]]\n",
    "drop_X_valid = X_valid[X_valid.columns[X_valid.apply(lambda c: c.dtype != \"object\")]]\n",
    "\n",
    "# Check your answers\n",
    "step_1.check()"
   ]
  },
  {
   "cell_type": "code",
   "execution_count": 6,
   "id": "1e6fe61f",
   "metadata": {
    "execution": {
     "iopub.execute_input": "2022-08-30T07:09:25.278019Z",
     "iopub.status.busy": "2022-08-30T07:09:25.277649Z",
     "iopub.status.idle": "2022-08-30T07:09:25.282020Z",
     "shell.execute_reply": "2022-08-30T07:09:25.280871Z"
    },
    "papermill": {
     "duration": 0.019018,
     "end_time": "2022-08-30T07:09:25.284240",
     "exception": false,
     "start_time": "2022-08-30T07:09:25.265222",
     "status": "completed"
    },
    "tags": []
   },
   "outputs": [],
   "source": [
    "# Lines below will give you a hint or solution code\n",
    "#step_1.hint()\n",
    "#step_1.solution()"
   ]
  },
  {
   "cell_type": "markdown",
   "id": "5054a4d3",
   "metadata": {
    "papermill": {
     "duration": 0.010529,
     "end_time": "2022-08-30T07:09:25.305637",
     "exception": false,
     "start_time": "2022-08-30T07:09:25.295108",
     "status": "completed"
    },
    "tags": []
   },
   "source": [
    "Run the next code cell to get the MAE for this approach."
   ]
  },
  {
   "cell_type": "code",
   "execution_count": 7,
   "id": "24ff6487",
   "metadata": {
    "execution": {
     "iopub.execute_input": "2022-08-30T07:09:25.329695Z",
     "iopub.status.busy": "2022-08-30T07:09:25.329068Z",
     "iopub.status.idle": "2022-08-30T07:09:26.461086Z",
     "shell.execute_reply": "2022-08-30T07:09:26.459669Z"
    },
    "papermill": {
     "duration": 1.14744,
     "end_time": "2022-08-30T07:09:26.464028",
     "exception": false,
     "start_time": "2022-08-30T07:09:25.316588",
     "status": "completed"
    },
    "tags": []
   },
   "outputs": [
    {
     "name": "stdout",
     "output_type": "stream",
     "text": [
      "MAE from Approach 1 (Drop categorical variables):\n",
      "17837.82570776256\n"
     ]
    }
   ],
   "source": [
    "print(\"MAE from Approach 1 (Drop categorical variables):\")\n",
    "print(score_dataset(drop_X_train, drop_X_valid, y_train, y_valid))"
   ]
  },
  {
   "cell_type": "markdown",
   "id": "09687036",
   "metadata": {
    "papermill": {
     "duration": 0.011013,
     "end_time": "2022-08-30T07:09:26.486731",
     "exception": false,
     "start_time": "2022-08-30T07:09:26.475718",
     "status": "completed"
    },
    "tags": []
   },
   "source": [
    "Before jumping into ordinal encoding, we'll investigate the dataset.  Specifically, we'll look at the `'Condition2'` column.  The code cell below prints the unique entries in both the training and validation sets."
   ]
  },
  {
   "cell_type": "code",
   "execution_count": 8,
   "id": "a293ed58",
   "metadata": {
    "execution": {
     "iopub.execute_input": "2022-08-30T07:09:26.511391Z",
     "iopub.status.busy": "2022-08-30T07:09:26.510910Z",
     "iopub.status.idle": "2022-08-30T07:09:26.519016Z",
     "shell.execute_reply": "2022-08-30T07:09:26.517352Z"
    },
    "papermill": {
     "duration": 0.023652,
     "end_time": "2022-08-30T07:09:26.521515",
     "exception": false,
     "start_time": "2022-08-30T07:09:26.497863",
     "status": "completed"
    },
    "tags": []
   },
   "outputs": [
    {
     "name": "stdout",
     "output_type": "stream",
     "text": [
      "Unique values in 'Condition2' column in training data: ['Norm' 'PosA' 'Feedr' 'PosN' 'Artery' 'RRAe']\n",
      "\n",
      "Unique values in 'Condition2' column in validation data: ['Norm' 'RRAn' 'RRNn' 'Artery' 'Feedr' 'PosN']\n"
     ]
    }
   ],
   "source": [
    "print(\"Unique values in 'Condition2' column in training data:\", X_train['Condition2'].unique())\n",
    "print(\"\\nUnique values in 'Condition2' column in validation data:\", X_valid['Condition2'].unique())"
   ]
  },
  {
   "cell_type": "markdown",
   "id": "683d02b6",
   "metadata": {
    "papermill": {
     "duration": 0.010725,
     "end_time": "2022-08-30T07:09:26.543593",
     "exception": false,
     "start_time": "2022-08-30T07:09:26.532868",
     "status": "completed"
    },
    "tags": []
   },
   "source": [
    "# Step 2: Ordinal encoding\n",
    "\n",
    "### Part A\n",
    "\n",
    "If you now write code to: \n",
    "- fit an ordinal encoder to the training data, and then \n",
    "- use it to transform both the training and validation data, \n",
    "\n",
    "you'll get an error.  Can you see why this is the case?  (_You'll need  to use the above output to answer this question._)"
   ]
  },
  {
   "cell_type": "code",
   "execution_count": 9,
   "id": "3f984e9d",
   "metadata": {
    "execution": {
     "iopub.execute_input": "2022-08-30T07:09:26.568979Z",
     "iopub.status.busy": "2022-08-30T07:09:26.567501Z",
     "iopub.status.idle": "2022-08-30T07:09:26.576537Z",
     "shell.execute_reply": "2022-08-30T07:09:26.575741Z"
    },
    "papermill": {
     "duration": 0.023888,
     "end_time": "2022-08-30T07:09:26.578587",
     "exception": false,
     "start_time": "2022-08-30T07:09:26.554699",
     "status": "completed"
    },
    "tags": []
   },
   "outputs": [
    {
     "data": {
      "application/javascript": [
       "parent.postMessage({\"jupyterEvent\": \"custom.exercise_interaction\", \"data\": {\"outcomeType\": 1, \"valueTowardsCompletion\": 0.5, \"interactionType\": 1, \"questionType\": 4, \"questionId\": \"2.1_LabelA\", \"learnToolsVersion\": \"0.3.4\", \"failureMessage\": \"\", \"exceptionClass\": \"\", \"trace\": \"\"}}, \"*\")"
      ],
      "text/plain": [
       "<IPython.core.display.Javascript object>"
      ]
     },
     "metadata": {},
     "output_type": "display_data"
    },
    {
     "data": {
      "text/markdown": [
       "<span style=\"color:#33cc33\">Correct:</span> \n",
       "\n",
       "Fitting an ordinal encoder to a column in the training data creates a corresponding integer-valued label for each unique value **that appears in the training data**. In the case that the validation data contains values that don't also appear in the training data, the encoder will throw an error, because these values won't have an integer assigned to them.  Notice that the `'Condition2'` column in the validation data contains the values `'RRAn'` and `'RRNn'`, but these don't appear in the training data -- thus, if we try to use an ordinal encoder with scikit-learn, the code will throw an error."
      ],
      "text/plain": [
       "Correct: \n",
       "\n",
       "Fitting an ordinal encoder to a column in the training data creates a corresponding integer-valued label for each unique value **that appears in the training data**. In the case that the validation data contains values that don't also appear in the training data, the encoder will throw an error, because these values won't have an integer assigned to them.  Notice that the `'Condition2'` column in the validation data contains the values `'RRAn'` and `'RRNn'`, but these don't appear in the training data -- thus, if we try to use an ordinal encoder with scikit-learn, the code will throw an error."
      ]
     },
     "metadata": {},
     "output_type": "display_data"
    }
   ],
   "source": [
    "# Check your answer (Run this code cell to receive credit!)\n",
    "step_2.a.check()"
   ]
  },
  {
   "cell_type": "code",
   "execution_count": 10,
   "id": "f8cbd074",
   "metadata": {
    "execution": {
     "iopub.execute_input": "2022-08-30T07:09:26.604827Z",
     "iopub.status.busy": "2022-08-30T07:09:26.603880Z",
     "iopub.status.idle": "2022-08-30T07:09:26.609726Z",
     "shell.execute_reply": "2022-08-30T07:09:26.608520Z"
    },
    "papermill": {
     "duration": 0.021724,
     "end_time": "2022-08-30T07:09:26.611977",
     "exception": false,
     "start_time": "2022-08-30T07:09:26.590253",
     "status": "completed"
    },
    "tags": []
   },
   "outputs": [],
   "source": [
    "#step_2.a.hint()"
   ]
  },
  {
   "cell_type": "markdown",
   "id": "33604360",
   "metadata": {
    "papermill": {
     "duration": 0.011195,
     "end_time": "2022-08-30T07:09:26.634618",
     "exception": false,
     "start_time": "2022-08-30T07:09:26.623423",
     "status": "completed"
    },
    "tags": []
   },
   "source": [
    "This is a common problem that you'll encounter with real-world data, and there are many approaches to fixing this issue.  For instance, you can write a custom ordinal encoder to deal with new categories.  The simplest approach, however, is to drop the problematic categorical columns.  \n",
    "\n",
    "Run the code cell below to save the problematic columns to a Python list `bad_label_cols`.  Likewise, columns that can be safely ordinal encoded are stored in `good_label_cols`."
   ]
  },
  {
   "cell_type": "code",
   "execution_count": 11,
   "id": "55326b4d",
   "metadata": {
    "execution": {
     "iopub.execute_input": "2022-08-30T07:09:26.660359Z",
     "iopub.status.busy": "2022-08-30T07:09:26.659876Z",
     "iopub.status.idle": "2022-08-30T07:09:26.676977Z",
     "shell.execute_reply": "2022-08-30T07:09:26.675052Z"
    },
    "papermill": {
     "duration": 0.033721,
     "end_time": "2022-08-30T07:09:26.680126",
     "exception": false,
     "start_time": "2022-08-30T07:09:26.646405",
     "status": "completed"
    },
    "tags": []
   },
   "outputs": [
    {
     "name": "stdout",
     "output_type": "stream",
     "text": [
      "Categorical columns that will be ordinal encoded: ['MSZoning', 'Street', 'LotShape', 'LandContour', 'Utilities', 'LotConfig', 'LandSlope', 'Neighborhood', 'Condition1', 'BldgType', 'HouseStyle', 'RoofStyle', 'Exterior1st', 'Exterior2nd', 'ExterQual', 'ExterCond', 'Foundation', 'Heating', 'HeatingQC', 'CentralAir', 'KitchenQual', 'PavedDrive', 'SaleType', 'SaleCondition']\n",
      "\n",
      "Categorical columns that will be dropped from the dataset: ['Condition2', 'Functional', 'RoofMatl']\n"
     ]
    }
   ],
   "source": [
    "# Categorical columns in the training data\n",
    "object_cols = [col for col in X_train.columns if X_train[col].dtype == \"object\"]\n",
    "\n",
    "# Columns that can be safely ordinal encoded\n",
    "good_label_cols = [col for col in object_cols if \n",
    "                   set(X_valid[col]).issubset(set(X_train[col]))]\n",
    "        \n",
    "# Problematic columns that will be dropped from the dataset\n",
    "bad_label_cols = list(set(object_cols)-set(good_label_cols))\n",
    "        \n",
    "print('Categorical columns that will be ordinal encoded:', good_label_cols)\n",
    "print('\\nCategorical columns that will be dropped from the dataset:', bad_label_cols)"
   ]
  },
  {
   "cell_type": "markdown",
   "id": "2b8a93ff",
   "metadata": {
    "papermill": {
     "duration": 0.011658,
     "end_time": "2022-08-30T07:09:26.703974",
     "exception": false,
     "start_time": "2022-08-30T07:09:26.692316",
     "status": "completed"
    },
    "tags": []
   },
   "source": [
    "### Part B\n",
    "\n",
    "Use the next code cell to ordinal encode the data in `X_train` and `X_valid`.  Set the preprocessed DataFrames to `label_X_train` and `label_X_valid`, respectively.  \n",
    "- We have provided code below to drop the categorical columns in `bad_label_cols` from the dataset. \n",
    "- You should ordinal encode the categorical columns in `good_label_cols`.  "
   ]
  },
  {
   "cell_type": "code",
   "execution_count": 12,
   "id": "64c409f2",
   "metadata": {
    "execution": {
     "iopub.execute_input": "2022-08-30T07:09:26.731128Z",
     "iopub.status.busy": "2022-08-30T07:09:26.730725Z",
     "iopub.status.idle": "2022-08-30T07:09:26.779757Z",
     "shell.execute_reply": "2022-08-30T07:09:26.778150Z"
    },
    "papermill": {
     "duration": 0.066025,
     "end_time": "2022-08-30T07:09:26.783067",
     "exception": false,
     "start_time": "2022-08-30T07:09:26.717042",
     "status": "completed"
    },
    "tags": []
   },
   "outputs": [
    {
     "data": {
      "application/javascript": [
       "parent.postMessage({\"jupyterEvent\": \"custom.exercise_interaction\", \"data\": {\"outcomeType\": 1, \"valueTowardsCompletion\": 0.5, \"interactionType\": 1, \"questionType\": 2, \"questionId\": \"2.2_LabelB\", \"learnToolsVersion\": \"0.3.4\", \"failureMessage\": \"\", \"exceptionClass\": \"\", \"trace\": \"\"}}, \"*\")"
      ],
      "text/plain": [
       "<IPython.core.display.Javascript object>"
      ]
     },
     "metadata": {},
     "output_type": "display_data"
    },
    {
     "data": {
      "text/markdown": [
       "<span style=\"color:#33cc33\">Correct</span>"
      ],
      "text/plain": [
       "Correct"
      ]
     },
     "metadata": {},
     "output_type": "display_data"
    }
   ],
   "source": [
    "from sklearn.preprocessing import OrdinalEncoder\n",
    "\n",
    "# Drop categorical columns that will not be encoded\n",
    "label_X_train = X_train.drop(bad_label_cols, axis=1)\n",
    "label_X_valid = X_valid.drop(bad_label_cols, axis=1)\n",
    "\n",
    "# Apply ordinal encoder \n",
    "ordinal_encoder = OrdinalEncoder() # Your code here\n",
    "label_X_train[good_label_cols] = ordinal_encoder.fit_transform(label_X_train[good_label_cols])\n",
    "label_X_valid[good_label_cols] = ordinal_encoder.transform(label_X_valid[good_label_cols])\n",
    "    \n",
    "# Check your answer\n",
    "step_2.b.check()"
   ]
  },
  {
   "cell_type": "code",
   "execution_count": 13,
   "id": "dc8ea906",
   "metadata": {
    "execution": {
     "iopub.execute_input": "2022-08-30T07:09:26.811810Z",
     "iopub.status.busy": "2022-08-30T07:09:26.811321Z",
     "iopub.status.idle": "2022-08-30T07:09:26.816139Z",
     "shell.execute_reply": "2022-08-30T07:09:26.814854Z"
    },
    "papermill": {
     "duration": 0.022288,
     "end_time": "2022-08-30T07:09:26.818553",
     "exception": false,
     "start_time": "2022-08-30T07:09:26.796265",
     "status": "completed"
    },
    "tags": []
   },
   "outputs": [],
   "source": [
    "# Lines below will give you a hint or solution code\n",
    "#step_2.b.hint()\n",
    "#step_2.b.solution()"
   ]
  },
  {
   "cell_type": "markdown",
   "id": "f2ce0194",
   "metadata": {
    "papermill": {
     "duration": 0.011856,
     "end_time": "2022-08-30T07:09:26.842962",
     "exception": false,
     "start_time": "2022-08-30T07:09:26.831106",
     "status": "completed"
    },
    "tags": []
   },
   "source": [
    "Run the next code cell to get the MAE for this approach."
   ]
  },
  {
   "cell_type": "code",
   "execution_count": 14,
   "id": "ec972814",
   "metadata": {
    "execution": {
     "iopub.execute_input": "2022-08-30T07:09:26.869131Z",
     "iopub.status.busy": "2022-08-30T07:09:26.868680Z",
     "iopub.status.idle": "2022-08-30T07:09:28.312901Z",
     "shell.execute_reply": "2022-08-30T07:09:28.311507Z"
    },
    "papermill": {
     "duration": 1.460418,
     "end_time": "2022-08-30T07:09:28.315484",
     "exception": false,
     "start_time": "2022-08-30T07:09:26.855066",
     "status": "completed"
    },
    "tags": []
   },
   "outputs": [
    {
     "name": "stdout",
     "output_type": "stream",
     "text": [
      "MAE from Approach 2 (Ordinal Encoding):\n",
      "17098.01649543379\n"
     ]
    }
   ],
   "source": [
    "print(\"MAE from Approach 2 (Ordinal Encoding):\") \n",
    "print(score_dataset(label_X_train, label_X_valid, y_train, y_valid))"
   ]
  },
  {
   "cell_type": "markdown",
   "id": "84b7e475",
   "metadata": {
    "papermill": {
     "duration": 0.012607,
     "end_time": "2022-08-30T07:09:28.340764",
     "exception": false,
     "start_time": "2022-08-30T07:09:28.328157",
     "status": "completed"
    },
    "tags": []
   },
   "source": [
    "So far, you've tried two different approaches to dealing with categorical variables.  And, you've seen that encoding categorical data yields better results than removing columns from the dataset.\n",
    "\n",
    "Soon, you'll try one-hot encoding.  Before then, there's one additional topic we need to cover.  Begin by running the next code cell without changes.  "
   ]
  },
  {
   "cell_type": "code",
   "execution_count": 15,
   "id": "732cc67d",
   "metadata": {
    "execution": {
     "iopub.execute_input": "2022-08-30T07:09:28.365899Z",
     "iopub.status.busy": "2022-08-30T07:09:28.365395Z",
     "iopub.status.idle": "2022-08-30T07:09:28.381914Z",
     "shell.execute_reply": "2022-08-30T07:09:28.380622Z"
    },
    "papermill": {
     "duration": 0.032186,
     "end_time": "2022-08-30T07:09:28.384424",
     "exception": false,
     "start_time": "2022-08-30T07:09:28.352238",
     "status": "completed"
    },
    "tags": []
   },
   "outputs": [
    {
     "data": {
      "text/plain": [
       "[('Street', 2),\n",
       " ('Utilities', 2),\n",
       " ('CentralAir', 2),\n",
       " ('LandSlope', 3),\n",
       " ('PavedDrive', 3),\n",
       " ('LotShape', 4),\n",
       " ('LandContour', 4),\n",
       " ('ExterQual', 4),\n",
       " ('KitchenQual', 4),\n",
       " ('MSZoning', 5),\n",
       " ('LotConfig', 5),\n",
       " ('BldgType', 5),\n",
       " ('ExterCond', 5),\n",
       " ('HeatingQC', 5),\n",
       " ('Condition2', 6),\n",
       " ('RoofStyle', 6),\n",
       " ('Foundation', 6),\n",
       " ('Heating', 6),\n",
       " ('Functional', 6),\n",
       " ('SaleCondition', 6),\n",
       " ('RoofMatl', 7),\n",
       " ('HouseStyle', 8),\n",
       " ('Condition1', 9),\n",
       " ('SaleType', 9),\n",
       " ('Exterior1st', 15),\n",
       " ('Exterior2nd', 16),\n",
       " ('Neighborhood', 25)]"
      ]
     },
     "execution_count": 15,
     "metadata": {},
     "output_type": "execute_result"
    }
   ],
   "source": [
    "# Get number of unique entries in each column with categorical data\n",
    "object_nunique = list(map(lambda col: X_train[col].nunique(), object_cols))\n",
    "d = dict(zip(object_cols, object_nunique))\n",
    "# Print number of unique entries by column, in ascending order\n",
    "sorted(d.items(), key=lambda x: x[1])"
   ]
  },
  {
   "cell_type": "markdown",
   "id": "70372818",
   "metadata": {
    "papermill": {
     "duration": 0.011512,
     "end_time": "2022-08-30T07:09:28.407898",
     "exception": false,
     "start_time": "2022-08-30T07:09:28.396386",
     "status": "completed"
    },
    "tags": []
   },
   "source": [
    "# Step 3: Investigating cardinality\n",
    "\n",
    "### Part A\n",
    "\n",
    "The output above shows, for each column with categorical data, the number of unique values in the column.  For instance, the `'Street'` column in the training data has two unique values: `'Grvl'` and `'Pave'`, corresponding to a gravel road and a paved road, respectively.\n",
    "\n",
    "We refer to the number of unique entries of a categorical variable as the **cardinality** of that categorical variable.  For instance, the `'Street'` variable has cardinality 2.\n",
    "\n",
    "Use the output above to answer the questions below."
   ]
  },
  {
   "cell_type": "code",
   "execution_count": 16,
   "id": "b839e270",
   "metadata": {
    "execution": {
     "iopub.execute_input": "2022-08-30T07:09:28.433313Z",
     "iopub.status.busy": "2022-08-30T07:09:28.432843Z",
     "iopub.status.idle": "2022-08-30T07:09:28.442404Z",
     "shell.execute_reply": "2022-08-30T07:09:28.441476Z"
    },
    "papermill": {
     "duration": 0.024898,
     "end_time": "2022-08-30T07:09:28.444431",
     "exception": false,
     "start_time": "2022-08-30T07:09:28.419533",
     "status": "completed"
    },
    "tags": []
   },
   "outputs": [
    {
     "data": {
      "application/javascript": [
       "parent.postMessage({\"jupyterEvent\": \"custom.exercise_interaction\", \"data\": {\"outcomeType\": 1, \"valueTowardsCompletion\": 0.5, \"interactionType\": 1, \"questionType\": 1, \"questionId\": \"3.1_CardinalityA\", \"learnToolsVersion\": \"0.3.4\", \"failureMessage\": \"\", \"exceptionClass\": \"\", \"trace\": \"\"}}, \"*\")"
      ],
      "text/plain": [
       "<IPython.core.display.Javascript object>"
      ]
     },
     "metadata": {},
     "output_type": "display_data"
    },
    {
     "data": {
      "text/markdown": [
       "<span style=\"color:#33cc33\">Correct</span>"
      ],
      "text/plain": [
       "Correct"
      ]
     },
     "metadata": {},
     "output_type": "display_data"
    }
   ],
   "source": [
    "# Fill in the line below: How many categorical variables in the training data\n",
    "# have cardinality greater than 10?\n",
    "high_cardinality_numcols = 3\n",
    "\n",
    "# Fill in the line below: How many columns are needed to one-hot encode the \n",
    "# 'Neighborhood' variable in the training data?\n",
    "num_cols_neighborhood = 25\n",
    "\n",
    "# Check your answers\n",
    "step_3.a.check()"
   ]
  },
  {
   "cell_type": "code",
   "execution_count": 17,
   "id": "8254962d",
   "metadata": {
    "execution": {
     "iopub.execute_input": "2022-08-30T07:09:28.470623Z",
     "iopub.status.busy": "2022-08-30T07:09:28.470123Z",
     "iopub.status.idle": "2022-08-30T07:09:28.475325Z",
     "shell.execute_reply": "2022-08-30T07:09:28.474038Z"
    },
    "papermill": {
     "duration": 0.020806,
     "end_time": "2022-08-30T07:09:28.477476",
     "exception": false,
     "start_time": "2022-08-30T07:09:28.456670",
     "status": "completed"
    },
    "tags": []
   },
   "outputs": [],
   "source": [
    "# Lines below will give you a hint or solution code\n",
    "#step_3.a.hint()\n",
    "#step_3.a.solution()"
   ]
  },
  {
   "cell_type": "markdown",
   "id": "02cacdae",
   "metadata": {
    "papermill": {
     "duration": 0.011466,
     "end_time": "2022-08-30T07:09:28.500855",
     "exception": false,
     "start_time": "2022-08-30T07:09:28.489389",
     "status": "completed"
    },
    "tags": []
   },
   "source": [
    "### Part B\n",
    "\n",
    "For large datasets with many rows, one-hot encoding can greatly expand the size of the dataset.  For this reason, we typically will only one-hot encode columns with relatively low cardinality.  Then, high cardinality columns can either be dropped from the dataset, or we can use ordinal encoding.\n",
    "\n",
    "As an example, consider a dataset with 10,000 rows, and containing one categorical column with 100 unique entries.  \n",
    "- If this column is replaced with the corresponding one-hot encoding, how many entries are added to the dataset?  \n",
    "- If we instead replace the column with the ordinal encoding, how many entries are added?  \n",
    "\n",
    "Use your answers to fill in the lines below."
   ]
  },
  {
   "cell_type": "code",
   "execution_count": 18,
   "id": "f1b8194c",
   "metadata": {
    "execution": {
     "iopub.execute_input": "2022-08-30T07:09:28.526621Z",
     "iopub.status.busy": "2022-08-30T07:09:28.526112Z",
     "iopub.status.idle": "2022-08-30T07:09:28.535447Z",
     "shell.execute_reply": "2022-08-30T07:09:28.534636Z"
    },
    "papermill": {
     "duration": 0.024745,
     "end_time": "2022-08-30T07:09:28.537546",
     "exception": false,
     "start_time": "2022-08-30T07:09:28.512801",
     "status": "completed"
    },
    "tags": []
   },
   "outputs": [
    {
     "data": {
      "application/javascript": [
       "parent.postMessage({\"jupyterEvent\": \"custom.exercise_interaction\", \"data\": {\"outcomeType\": 1, \"valueTowardsCompletion\": 0.5, \"interactionType\": 1, \"questionType\": 1, \"questionId\": \"3.2_CardinalityB\", \"learnToolsVersion\": \"0.3.4\", \"failureMessage\": \"\", \"exceptionClass\": \"\", \"trace\": \"\"}}, \"*\")"
      ],
      "text/plain": [
       "<IPython.core.display.Javascript object>"
      ]
     },
     "metadata": {},
     "output_type": "display_data"
    },
    {
     "data": {
      "text/markdown": [
       "<span style=\"color:#33cc33\">Correct</span>"
      ],
      "text/plain": [
       "Correct"
      ]
     },
     "metadata": {},
     "output_type": "display_data"
    }
   ],
   "source": [
    "# Fill in the line below: How many entries are added to the dataset by \n",
    "# replacing the column with a one-hot encoding?\n",
    "OH_entries_added = 10000 * 100 - 10000\n",
    "\n",
    "# Fill in the line below: How many entries are added to the dataset by\n",
    "# replacing the column with an ordinal encoding?\n",
    "label_entries_added = 0\n",
    "\n",
    "# Check your answers\n",
    "step_3.b.check()"
   ]
  },
  {
   "cell_type": "code",
   "execution_count": 19,
   "id": "9a8dca00",
   "metadata": {
    "execution": {
     "iopub.execute_input": "2022-08-30T07:09:28.563972Z",
     "iopub.status.busy": "2022-08-30T07:09:28.563482Z",
     "iopub.status.idle": "2022-08-30T07:09:28.568737Z",
     "shell.execute_reply": "2022-08-30T07:09:28.567597Z"
    },
    "papermill": {
     "duration": 0.021262,
     "end_time": "2022-08-30T07:09:28.571016",
     "exception": false,
     "start_time": "2022-08-30T07:09:28.549754",
     "status": "completed"
    },
    "tags": []
   },
   "outputs": [],
   "source": [
    "# Lines below will give you a hint or solution code\n",
    "#step_3.b.hint()\n",
    "#step_3.b.solution()"
   ]
  },
  {
   "cell_type": "markdown",
   "id": "509350d6",
   "metadata": {
    "papermill": {
     "duration": 0.01189,
     "end_time": "2022-08-30T07:09:28.595127",
     "exception": false,
     "start_time": "2022-08-30T07:09:28.583237",
     "status": "completed"
    },
    "tags": []
   },
   "source": [
    "Next, you'll experiment with one-hot encoding.  But, instead of encoding all of the categorical variables in the dataset, you'll only create a one-hot encoding for columns with cardinality less than 10.\n",
    "\n",
    "Run the code cell below without changes to set `low_cardinality_cols` to a Python list containing the columns that will be one-hot encoded.  Likewise, `high_cardinality_cols` contains a list of categorical columns that will be dropped from the dataset."
   ]
  },
  {
   "cell_type": "code",
   "execution_count": 20,
   "id": "fb6d6486",
   "metadata": {
    "execution": {
     "iopub.execute_input": "2022-08-30T07:09:28.621581Z",
     "iopub.status.busy": "2022-08-30T07:09:28.621084Z",
     "iopub.status.idle": "2022-08-30T07:09:28.634622Z",
     "shell.execute_reply": "2022-08-30T07:09:28.633106Z"
    },
    "papermill": {
     "duration": 0.031281,
     "end_time": "2022-08-30T07:09:28.638641",
     "exception": false,
     "start_time": "2022-08-30T07:09:28.607360",
     "status": "completed"
    },
    "tags": []
   },
   "outputs": [
    {
     "name": "stdout",
     "output_type": "stream",
     "text": [
      "Categorical columns that will be one-hot encoded: ['MSZoning', 'Street', 'LotShape', 'LandContour', 'Utilities', 'LotConfig', 'LandSlope', 'Condition1', 'Condition2', 'BldgType', 'HouseStyle', 'RoofStyle', 'RoofMatl', 'ExterQual', 'ExterCond', 'Foundation', 'Heating', 'HeatingQC', 'CentralAir', 'KitchenQual', 'Functional', 'PavedDrive', 'SaleType', 'SaleCondition']\n",
      "\n",
      "Categorical columns that will be dropped from the dataset: ['Exterior1st', 'Exterior2nd', 'Neighborhood']\n"
     ]
    }
   ],
   "source": [
    "# Columns that will be one-hot encoded\n",
    "low_cardinality_cols = [col for col in object_cols if X_train[col].nunique() < 10]\n",
    "\n",
    "# Columns that will be dropped from the dataset\n",
    "high_cardinality_cols = list(set(object_cols)-set(low_cardinality_cols))\n",
    "\n",
    "print('Categorical columns that will be one-hot encoded:', low_cardinality_cols)\n",
    "print('\\nCategorical columns that will be dropped from the dataset:', high_cardinality_cols)"
   ]
  },
  {
   "cell_type": "markdown",
   "id": "52eea949",
   "metadata": {
    "papermill": {
     "duration": 0.012285,
     "end_time": "2022-08-30T07:09:28.664179",
     "exception": false,
     "start_time": "2022-08-30T07:09:28.651894",
     "status": "completed"
    },
    "tags": []
   },
   "source": [
    "# Step 4: One-hot encoding\n",
    "\n",
    "Use the next code cell to one-hot encode the data in `X_train` and `X_valid`.  Set the preprocessed DataFrames to `OH_X_train` and `OH_X_valid`, respectively.  \n",
    "- The full list of categorical columns in the dataset can be found in the Python list `object_cols`.\n",
    "- You should only one-hot encode the categorical columns in `low_cardinality_cols`.  All other categorical columns should be dropped from the dataset. "
   ]
  },
  {
   "cell_type": "code",
   "execution_count": 21,
   "id": "57a31908",
   "metadata": {
    "execution": {
     "iopub.execute_input": "2022-08-30T07:09:28.692202Z",
     "iopub.status.busy": "2022-08-30T07:09:28.691765Z",
     "iopub.status.idle": "2022-08-30T07:09:28.735642Z",
     "shell.execute_reply": "2022-08-30T07:09:28.734374Z"
    },
    "papermill": {
     "duration": 0.060886,
     "end_time": "2022-08-30T07:09:28.738172",
     "exception": false,
     "start_time": "2022-08-30T07:09:28.677286",
     "status": "completed"
    },
    "tags": []
   },
   "outputs": [
    {
     "data": {
      "application/javascript": [
       "parent.postMessage({\"jupyterEvent\": \"custom.exercise_interaction\", \"data\": {\"outcomeType\": 1, \"valueTowardsCompletion\": 0.5, \"interactionType\": 1, \"questionType\": 2, \"questionId\": \"4_OneHot\", \"learnToolsVersion\": \"0.3.4\", \"failureMessage\": \"\", \"exceptionClass\": \"\", \"trace\": \"\"}}, \"*\")"
      ],
      "text/plain": [
       "<IPython.core.display.Javascript object>"
      ]
     },
     "metadata": {},
     "output_type": "display_data"
    },
    {
     "data": {
      "text/markdown": [
       "<span style=\"color:#33cc33\">Correct</span>"
      ],
      "text/plain": [
       "Correct"
      ]
     },
     "metadata": {},
     "output_type": "display_data"
    }
   ],
   "source": [
    "from sklearn.preprocessing import OneHotEncoder\n",
    "\n",
    "# Use as many lines of code as you need!\n",
    "num_cols_train = X_train.drop(columns= object_cols)\n",
    "num_cols_valid = X_valid.drop(columns= object_cols)\n",
    "\n",
    "one_hot_encoder = OneHotEncoder(handle_unknown='ignore', sparse=False)\n",
    "OH_X_train = pd.DataFrame(one_hot_encoder.fit_transform(X_train[low_cardinality_cols])) # Your code here\n",
    "OH_X_valid = pd.DataFrame(one_hot_encoder.transform(X_valid[low_cardinality_cols])) # Your code here\n",
    "\n",
    "OH_X_train.index = X_train.index\n",
    "OH_X_valid.index = X_valid.index\n",
    "\n",
    "OH_X_train = pd.concat([OH_X_train, num_cols_train], axis=1)\n",
    "OH_X_valid = pd.concat([OH_X_valid, num_cols_valid], axis=1)\n",
    "\n",
    "# Check your answer\n",
    "step_4.check()"
   ]
  },
  {
   "cell_type": "code",
   "execution_count": 22,
   "id": "11af0363",
   "metadata": {
    "execution": {
     "iopub.execute_input": "2022-08-30T07:09:28.766584Z",
     "iopub.status.busy": "2022-08-30T07:09:28.765715Z",
     "iopub.status.idle": "2022-08-30T07:09:28.770651Z",
     "shell.execute_reply": "2022-08-30T07:09:28.769821Z"
    },
    "papermill": {
     "duration": 0.021912,
     "end_time": "2022-08-30T07:09:28.772956",
     "exception": false,
     "start_time": "2022-08-30T07:09:28.751044",
     "status": "completed"
    },
    "tags": []
   },
   "outputs": [],
   "source": [
    "# Lines below will give you a hint or solution code\n",
    "#step_4.hint()\n",
    "#step_4.solution()"
   ]
  },
  {
   "cell_type": "markdown",
   "id": "c001cabe",
   "metadata": {
    "papermill": {
     "duration": 0.01323,
     "end_time": "2022-08-30T07:09:28.799158",
     "exception": false,
     "start_time": "2022-08-30T07:09:28.785928",
     "status": "completed"
    },
    "tags": []
   },
   "source": [
    "Run the next code cell to get the MAE for this approach."
   ]
  },
  {
   "cell_type": "code",
   "execution_count": 23,
   "id": "0f5693aa",
   "metadata": {
    "execution": {
     "iopub.execute_input": "2022-08-30T07:09:28.827165Z",
     "iopub.status.busy": "2022-08-30T07:09:28.826285Z",
     "iopub.status.idle": "2022-08-30T07:09:30.642124Z",
     "shell.execute_reply": "2022-08-30T07:09:30.640489Z"
    },
    "papermill": {
     "duration": 1.832928,
     "end_time": "2022-08-30T07:09:30.644988",
     "exception": false,
     "start_time": "2022-08-30T07:09:28.812060",
     "status": "completed"
    },
    "tags": []
   },
   "outputs": [
    {
     "name": "stdout",
     "output_type": "stream",
     "text": [
      "MAE from Approach 3 (One-Hot Encoding):\n"
     ]
    },
    {
     "name": "stderr",
     "output_type": "stream",
     "text": [
      "/opt/conda/lib/python3.7/site-packages/sklearn/utils/validation.py:1692: FutureWarning: Feature names only support names that are all strings. Got feature names with dtypes: ['int', 'str']. An error will be raised in 1.2.\n",
      "  FutureWarning,\n"
     ]
    },
    {
     "name": "stdout",
     "output_type": "stream",
     "text": [
      "17537.55444063927\n"
     ]
    },
    {
     "name": "stderr",
     "output_type": "stream",
     "text": [
      "/opt/conda/lib/python3.7/site-packages/sklearn/utils/validation.py:1692: FutureWarning: Feature names only support names that are all strings. Got feature names with dtypes: ['int', 'str']. An error will be raised in 1.2.\n",
      "  FutureWarning,\n"
     ]
    }
   ],
   "source": [
    "print(\"MAE from Approach 3 (One-Hot Encoding):\") \n",
    "print(score_dataset(OH_X_train, OH_X_valid, y_train, y_valid))"
   ]
  },
  {
   "cell_type": "markdown",
   "id": "34674a29",
   "metadata": {
    "papermill": {
     "duration": 0.012396,
     "end_time": "2022-08-30T07:09:30.670390",
     "exception": false,
     "start_time": "2022-08-30T07:09:30.657994",
     "status": "completed"
    },
    "tags": []
   },
   "source": [
    "# Generate test predictions and submit your results\n",
    "\n",
    "After you complete Step 4, if you'd like to use what you've learned to submit your results to the leaderboard, you'll need to preprocess the test data before generating predictions.\n",
    "\n",
    "**This step is completely optional, and you do not need to submit results to the leaderboard to successfully complete the exercise.**\n",
    "\n",
    "Check out the previous exercise if you need help with remembering how to [join the competition](https://www.kaggle.com/c/home-data-for-ml-course) or save your results to CSV.  Once you have generated a file with your results, follow the instructions below:\n",
    "1. Begin by clicking on the **Save Version** button in the top right corner of the window.  This will generate a pop-up window.  \n",
    "2. Ensure that the **Save and Run All** option is selected, and then click on the **Save** button.\n",
    "3. This generates a window in the bottom left corner of the notebook.  After it has finished running, click on the number to the right of the **Save Version** button.  This pulls up a list of versions on the right of the screen.  Click on the ellipsis **(...)** to the right of the most recent version, and select **Open in Viewer**.  This brings you into view mode of the same page. You will need to scroll down to get back to these instructions.\n",
    "4. Click on the **Output** tab on the right of the screen.  Then, click on the file you would like to submit, and click on the **Submit** button to submit your results to the leaderboard.\n",
    "\n",
    "You have now successfully submitted to the competition!\n",
    "\n",
    "If you want to keep working to improve your performance, select the **Edit** button in the top right of the screen. Then you can change your code and repeat the process. There's a lot of room to improve, and you will climb up the leaderboard as you work.\n"
   ]
  },
  {
   "cell_type": "code",
   "execution_count": 24,
   "id": "3a8bcdfc",
   "metadata": {
    "execution": {
     "iopub.execute_input": "2022-08-30T07:09:30.699140Z",
     "iopub.status.busy": "2022-08-30T07:09:30.698645Z",
     "iopub.status.idle": "2022-08-30T07:09:30.728002Z",
     "shell.execute_reply": "2022-08-30T07:09:30.726706Z"
    },
    "papermill": {
     "duration": 0.04792,
     "end_time": "2022-08-30T07:09:30.730981",
     "exception": false,
     "start_time": "2022-08-30T07:09:30.683061",
     "status": "completed"
    },
    "tags": []
   },
   "outputs": [],
   "source": [
    "preprocessed_X_test = X_test.copy()\n",
    "\n",
    "num_cols_test = preprocessed_X_test.drop(columns= object_cols)\n",
    "\n",
    "OH_X_test = pd.DataFrame(one_hot_encoder.transform(preprocessed_X_test[low_cardinality_cols])) # Your code here\n",
    "\n",
    "OH_X_test.index = X_test.index\n",
    "\n",
    "preprocessed_X_test = pd.concat([OH_X_test, num_cols_test], axis=1)"
   ]
  },
  {
   "cell_type": "code",
   "execution_count": 25,
   "id": "3a0a13ae",
   "metadata": {
    "execution": {
     "iopub.execute_input": "2022-08-30T07:09:30.759209Z",
     "iopub.status.busy": "2022-08-30T07:09:30.758838Z",
     "iopub.status.idle": "2022-08-30T07:09:30.810023Z",
     "shell.execute_reply": "2022-08-30T07:09:30.808602Z"
    },
    "papermill": {
     "duration": 0.069684,
     "end_time": "2022-08-30T07:09:30.813868",
     "exception": false,
     "start_time": "2022-08-30T07:09:30.744184",
     "status": "completed"
    },
    "tags": []
   },
   "outputs": [
    {
     "name": "stderr",
     "output_type": "stream",
     "text": [
      "/opt/conda/lib/python3.7/site-packages/sklearn/utils/validation.py:1692: FutureWarning: Feature names only support names that are all strings. Got feature names with dtypes: ['int', 'str']. An error will be raised in 1.2.\n",
      "  FutureWarning,\n",
      "/opt/conda/lib/python3.7/site-packages/sklearn/utils/validation.py:1692: FutureWarning: Feature names only support names that are all strings. Got feature names with dtypes: ['int', 'str']. An error will be raised in 1.2.\n",
      "  FutureWarning,\n"
     ]
    }
   ],
   "source": [
    "from sklearn.impute import SimpleImputer\n",
    "imputed_X_test = preprocessed_X_test.copy()\n",
    "\n",
    "SI = SimpleImputer(strategy= 'median') # Your code here\n",
    "imputed_X_test = pd.DataFrame(SI.fit_transform(imputed_X_test))\n",
    "\n",
    "imputed_X_test.columns = preprocessed_X_test.columns"
   ]
  },
  {
   "cell_type": "code",
   "execution_count": 26,
   "id": "295197cb",
   "metadata": {
    "execution": {
     "iopub.execute_input": "2022-08-30T07:09:30.842339Z",
     "iopub.status.busy": "2022-08-30T07:09:30.841896Z",
     "iopub.status.idle": "2022-08-30T07:09:32.625112Z",
     "shell.execute_reply": "2022-08-30T07:09:32.623945Z"
    },
    "papermill": {
     "duration": 1.800717,
     "end_time": "2022-08-30T07:09:32.627736",
     "exception": false,
     "start_time": "2022-08-30T07:09:30.827019",
     "status": "completed"
    },
    "tags": []
   },
   "outputs": [
    {
     "name": "stderr",
     "output_type": "stream",
     "text": [
      "/opt/conda/lib/python3.7/site-packages/sklearn/utils/validation.py:1692: FutureWarning: Feature names only support names that are all strings. Got feature names with dtypes: ['int', 'str']. An error will be raised in 1.2.\n",
      "  FutureWarning,\n"
     ]
    },
    {
     "data": {
      "text/plain": [
       "RandomForestRegressor(random_state=0)"
      ]
     },
     "execution_count": 26,
     "metadata": {},
     "output_type": "execute_result"
    }
   ],
   "source": [
    "model = RandomForestRegressor(n_estimators=100, random_state=0)\n",
    "model.fit(OH_X_train, y_train)"
   ]
  },
  {
   "cell_type": "code",
   "execution_count": 27,
   "id": "76042e1f",
   "metadata": {
    "execution": {
     "iopub.execute_input": "2022-08-30T07:09:32.656043Z",
     "iopub.status.busy": "2022-08-30T07:09:32.655549Z",
     "iopub.status.idle": "2022-08-30T07:09:32.707234Z",
     "shell.execute_reply": "2022-08-30T07:09:32.704372Z"
    },
    "papermill": {
     "duration": 0.068765,
     "end_time": "2022-08-30T07:09:32.709838",
     "exception": false,
     "start_time": "2022-08-30T07:09:32.641073",
     "status": "completed"
    },
    "tags": []
   },
   "outputs": [
    {
     "name": "stderr",
     "output_type": "stream",
     "text": [
      "/opt/conda/lib/python3.7/site-packages/sklearn/utils/validation.py:1692: FutureWarning: Feature names only support names that are all strings. Got feature names with dtypes: ['int', 'str']. An error will be raised in 1.2.\n",
      "  FutureWarning,\n"
     ]
    }
   ],
   "source": [
    "final_X_test = imputed_X_test\n",
    "preds_test = model.predict(final_X_test)"
   ]
  },
  {
   "cell_type": "code",
   "execution_count": 28,
   "id": "5bd2efb4",
   "metadata": {
    "execution": {
     "iopub.execute_input": "2022-08-30T07:09:32.738736Z",
     "iopub.status.busy": "2022-08-30T07:09:32.738220Z",
     "iopub.status.idle": "2022-08-30T07:09:32.751458Z",
     "shell.execute_reply": "2022-08-30T07:09:32.750538Z"
    },
    "papermill": {
     "duration": 0.030955,
     "end_time": "2022-08-30T07:09:32.754127",
     "exception": false,
     "start_time": "2022-08-30T07:09:32.723172",
     "status": "completed"
    },
    "tags": []
   },
   "outputs": [],
   "source": [
    "output = pd.DataFrame({'Id': X_test.index,\n",
    "                       'SalePrice': preds_test})\n",
    "output.to_csv('submission.csv', index= False)"
   ]
  },
  {
   "cell_type": "code",
   "execution_count": 29,
   "id": "9dc8d198",
   "metadata": {
    "execution": {
     "iopub.execute_input": "2022-08-30T07:09:32.783223Z",
     "iopub.status.busy": "2022-08-30T07:09:32.782835Z",
     "iopub.status.idle": "2022-08-30T07:09:32.786830Z",
     "shell.execute_reply": "2022-08-30T07:09:32.785746Z"
    },
    "papermill": {
     "duration": 0.021426,
     "end_time": "2022-08-30T07:09:32.789147",
     "exception": false,
     "start_time": "2022-08-30T07:09:32.767721",
     "status": "completed"
    },
    "tags": []
   },
   "outputs": [],
   "source": [
    "# (Optional) Your code here"
   ]
  },
  {
   "cell_type": "markdown",
   "id": "aaabf270",
   "metadata": {
    "papermill": {
     "duration": 0.013797,
     "end_time": "2022-08-30T07:09:32.817174",
     "exception": false,
     "start_time": "2022-08-30T07:09:32.803377",
     "status": "completed"
    },
    "tags": []
   },
   "source": [
    "# Keep going\n",
    "\n",
    "With missing value handling and categorical encoding, your modeling process is getting complex. This complexity gets worse when you want to save your model to use in the future. The key to managing this complexity is something called **pipelines**. \n",
    "\n",
    "**[Learn to use pipelines](https://www.kaggle.com/alexisbcook/pipelines)** to preprocess datasets with categorical variables, missing values and any other messiness your data throws at you."
   ]
  },
  {
   "cell_type": "markdown",
   "id": "714f3c89",
   "metadata": {
    "papermill": {
     "duration": 0.014292,
     "end_time": "2022-08-30T07:09:32.845698",
     "exception": false,
     "start_time": "2022-08-30T07:09:32.831406",
     "status": "completed"
    },
    "tags": []
   },
   "source": [
    "---\n",
    "\n",
    "\n",
    "\n",
    "\n",
    "*Have questions or comments? Visit the [course discussion forum](https://www.kaggle.com/learn/intermediate-machine-learning/discussion) to chat with other learners.*"
   ]
  }
 ],
 "metadata": {
  "kernelspec": {
   "display_name": "Python 3",
   "language": "python",
   "name": "python3"
  },
  "language_info": {
   "codemirror_mode": {
    "name": "ipython",
    "version": 3
   },
   "file_extension": ".py",
   "mimetype": "text/x-python",
   "name": "python",
   "nbconvert_exporter": "python",
   "pygments_lexer": "ipython3",
   "version": "3.7.12"
  },
  "papermill": {
   "default_parameters": {},
   "duration": 20.099709,
   "end_time": "2022-08-30T07:09:33.886218",
   "environment_variables": {},
   "exception": null,
   "input_path": "__notebook__.ipynb",
   "output_path": "__notebook__.ipynb",
   "parameters": {},
   "start_time": "2022-08-30T07:09:13.786509",
   "version": "2.3.4"
  }
 },
 "nbformat": 4,
 "nbformat_minor": 5
}
