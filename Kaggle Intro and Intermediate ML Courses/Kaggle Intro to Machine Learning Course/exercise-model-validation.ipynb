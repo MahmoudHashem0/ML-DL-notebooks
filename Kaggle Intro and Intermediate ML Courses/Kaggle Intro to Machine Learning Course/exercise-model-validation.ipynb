{
 "cells": [
  {
   "cell_type": "markdown",
   "id": "33be6169",
   "metadata": {
    "papermill": {
     "duration": 0.005751,
     "end_time": "2022-08-28T18:20:05.490112",
     "exception": false,
     "start_time": "2022-08-28T18:20:05.484361",
     "status": "completed"
    },
    "tags": []
   },
   "source": [
    "**This notebook is an exercise in the [Introduction to Machine Learning](https://www.kaggle.com/learn/intro-to-machine-learning) course.  You can reference the tutorial at [this link](https://www.kaggle.com/dansbecker/model-validation).**\n",
    "\n",
    "---\n"
   ]
  },
  {
   "cell_type": "markdown",
   "id": "a4807ffc",
   "metadata": {
    "papermill": {
     "duration": 0.004262,
     "end_time": "2022-08-28T18:20:05.499345",
     "exception": false,
     "start_time": "2022-08-28T18:20:05.495083",
     "status": "completed"
    },
    "tags": []
   },
   "source": [
    "## Recap\n",
    "You've built a model. In this exercise you will test how good your model is.\n",
    "\n",
    "Run the cell below to set up your coding environment where the previous exercise left off."
   ]
  },
  {
   "cell_type": "code",
   "execution_count": 1,
   "id": "fe6dbb20",
   "metadata": {
    "execution": {
     "iopub.execute_input": "2022-08-28T18:20:05.510467Z",
     "iopub.status.busy": "2022-08-28T18:20:05.509992Z",
     "iopub.status.idle": "2022-08-28T18:20:06.712306Z",
     "shell.execute_reply": "2022-08-28T18:20:06.710791Z"
    },
    "papermill": {
     "duration": 1.211135,
     "end_time": "2022-08-28T18:20:06.714973",
     "exception": false,
     "start_time": "2022-08-28T18:20:05.503838",
     "status": "completed"
    },
    "tags": []
   },
   "outputs": [
    {
     "name": "stdout",
     "output_type": "stream",
     "text": [
      "First in-sample predictions: [208500. 181500. 223500. 140000. 250000.]\n",
      "Actual target values for those homes: [208500, 181500, 223500, 140000, 250000]\n",
      "Setup Complete\n"
     ]
    }
   ],
   "source": [
    "# Code you have previously used to load data\n",
    "import pandas as pd\n",
    "from sklearn.tree import DecisionTreeRegressor\n",
    "\n",
    "# Path of the file to read\n",
    "iowa_file_path = '../input/home-data-for-ml-course/train.csv'\n",
    "\n",
    "home_data = pd.read_csv(iowa_file_path)\n",
    "y = home_data.SalePrice\n",
    "feature_columns = ['LotArea', 'YearBuilt', '1stFlrSF', '2ndFlrSF', 'FullBath', 'BedroomAbvGr', 'TotRmsAbvGrd']\n",
    "X = home_data[feature_columns]\n",
    "\n",
    "# Specify Model\n",
    "iowa_model = DecisionTreeRegressor()\n",
    "# Fit Model\n",
    "iowa_model.fit(X, y)\n",
    "\n",
    "print(\"First in-sample predictions:\", iowa_model.predict(X.head()))\n",
    "print(\"Actual target values for those homes:\", y.head().tolist())\n",
    "\n",
    "# Set up code checking\n",
    "from learntools.core import binder\n",
    "binder.bind(globals())\n",
    "from learntools.machine_learning.ex4 import *\n",
    "print(\"Setup Complete\")"
   ]
  },
  {
   "cell_type": "markdown",
   "id": "c2a312b3",
   "metadata": {
    "papermill": {
     "duration": 0.004428,
     "end_time": "2022-08-28T18:20:06.724258",
     "exception": false,
     "start_time": "2022-08-28T18:20:06.719830",
     "status": "completed"
    },
    "tags": []
   },
   "source": [
    "# Exercises\n",
    "\n",
    "## Step 1: Split Your Data\n",
    "Use the `train_test_split` function to split up your data.\n",
    "\n",
    "Give it the argument `random_state=1` so the `check` functions know what to expect when verifying your code.\n",
    "\n",
    "Recall, your features are loaded in the DataFrame **X** and your target is loaded in **y**.\n"
   ]
  },
  {
   "cell_type": "code",
   "execution_count": 2,
   "id": "a411357a",
   "metadata": {
    "execution": {
     "iopub.execute_input": "2022-08-28T18:20:06.735114Z",
     "iopub.status.busy": "2022-08-28T18:20:06.734702Z",
     "iopub.status.idle": "2022-08-28T18:20:06.748577Z",
     "shell.execute_reply": "2022-08-28T18:20:06.747536Z"
    },
    "papermill": {
     "duration": 0.021924,
     "end_time": "2022-08-28T18:20:06.750749",
     "exception": false,
     "start_time": "2022-08-28T18:20:06.728825",
     "status": "completed"
    },
    "tags": []
   },
   "outputs": [
    {
     "data": {
      "application/javascript": [
       "parent.postMessage({\"jupyterEvent\": \"custom.exercise_interaction\", \"data\": {\"outcomeType\": 1, \"valueTowardsCompletion\": 0.25, \"interactionType\": 1, \"questionType\": 2, \"questionId\": \"1_SplitData\", \"learnToolsVersion\": \"0.3.4\", \"failureMessage\": \"\", \"exceptionClass\": \"\", \"trace\": \"\"}}, \"*\")"
      ],
      "text/plain": [
       "<IPython.core.display.Javascript object>"
      ]
     },
     "metadata": {},
     "output_type": "display_data"
    },
    {
     "data": {
      "text/markdown": [
       "<span style=\"color:#33cc33\">Correct</span>"
      ],
      "text/plain": [
       "Correct"
      ]
     },
     "metadata": {},
     "output_type": "display_data"
    }
   ],
   "source": [
    "# Import the train_test_split function and uncomment\n",
    "from sklearn.model_selection import train_test_split\n",
    "\n",
    "# fill in and uncomment\n",
    "train_X, val_X, train_y, val_y = train_test_split(X, y, random_state= 1)\n",
    "\n",
    "# Check your answer\n",
    "step_1.check()"
   ]
  },
  {
   "cell_type": "code",
   "execution_count": 3,
   "id": "e23c2486",
   "metadata": {
    "execution": {
     "iopub.execute_input": "2022-08-28T18:20:06.762885Z",
     "iopub.status.busy": "2022-08-28T18:20:06.762214Z",
     "iopub.status.idle": "2022-08-28T18:20:06.767915Z",
     "shell.execute_reply": "2022-08-28T18:20:06.766237Z"
    },
    "papermill": {
     "duration": 0.014503,
     "end_time": "2022-08-28T18:20:06.770206",
     "exception": false,
     "start_time": "2022-08-28T18:20:06.755703",
     "status": "completed"
    },
    "tags": []
   },
   "outputs": [],
   "source": [
    "# The lines below will show you a hint or the solution.\n",
    "# step_1.hint() \n",
    "# step_1.solution()\n"
   ]
  },
  {
   "cell_type": "markdown",
   "id": "c3a77cec",
   "metadata": {
    "papermill": {
     "duration": 0.004651,
     "end_time": "2022-08-28T18:20:06.779872",
     "exception": false,
     "start_time": "2022-08-28T18:20:06.775221",
     "status": "completed"
    },
    "tags": []
   },
   "source": [
    "## Step 2: Specify and Fit the Model\n",
    "\n",
    "Create a `DecisionTreeRegressor` model and fit it to the relevant data.\n",
    "Set `random_state` to 1 again when creating the model."
   ]
  },
  {
   "cell_type": "code",
   "execution_count": 4,
   "id": "41fb2646",
   "metadata": {
    "execution": {
     "iopub.execute_input": "2022-08-28T18:20:06.791450Z",
     "iopub.status.busy": "2022-08-28T18:20:06.791079Z",
     "iopub.status.idle": "2022-08-28T18:20:06.818803Z",
     "shell.execute_reply": "2022-08-28T18:20:06.817345Z"
    },
    "papermill": {
     "duration": 0.036633,
     "end_time": "2022-08-28T18:20:06.821311",
     "exception": false,
     "start_time": "2022-08-28T18:20:06.784678",
     "status": "completed"
    },
    "tags": []
   },
   "outputs": [
    {
     "name": "stdout",
     "output_type": "stream",
     "text": [
      "[186500. 184000. 130000.  92000. 164500. 220000. 335000. 144152. 215000.\n",
      " 262000.]\n",
      "[186500. 184000. 130000.  92000. 164500. 220000. 335000. 144152. 215000.\n",
      " 262000.]\n"
     ]
    },
    {
     "data": {
      "application/javascript": [
       "parent.postMessage({\"jupyterEvent\": \"custom.exercise_interaction\", \"data\": {\"outcomeType\": 1, \"valueTowardsCompletion\": 0.25, \"interactionType\": 1, \"questionType\": 2, \"questionId\": \"2_FitModelWithTrain\", \"learnToolsVersion\": \"0.3.4\", \"failureMessage\": \"\", \"exceptionClass\": \"\", \"trace\": \"\"}}, \"*\")"
      ],
      "text/plain": [
       "<IPython.core.display.Javascript object>"
      ]
     },
     "metadata": {},
     "output_type": "display_data"
    },
    {
     "data": {
      "text/markdown": [
       "<span style=\"color:#33cc33\">Correct</span>"
      ],
      "text/plain": [
       "Correct"
      ]
     },
     "metadata": {},
     "output_type": "display_data"
    }
   ],
   "source": [
    "# You imported DecisionTreeRegressor in your last exercise\n",
    "# and that code has been copied to the setup code above. So, no need to\n",
    "# import it again\n",
    "\n",
    "# Specify the model\n",
    "iowa_model = DecisionTreeRegressor(random_state=1)\n",
    "\n",
    "# Fit iowa_model with the training data.\n",
    "iowa_model.fit(train_X, train_y)\n",
    "\n",
    "# Check your answer\n",
    "step_2.check()"
   ]
  },
  {
   "cell_type": "code",
   "execution_count": 5,
   "id": "b86eb966",
   "metadata": {
    "execution": {
     "iopub.execute_input": "2022-08-28T18:20:06.833920Z",
     "iopub.status.busy": "2022-08-28T18:20:06.833013Z",
     "iopub.status.idle": "2022-08-28T18:20:06.836867Z",
     "shell.execute_reply": "2022-08-28T18:20:06.836178Z"
    },
    "papermill": {
     "duration": 0.01207,
     "end_time": "2022-08-28T18:20:06.838827",
     "exception": false,
     "start_time": "2022-08-28T18:20:06.826757",
     "status": "completed"
    },
    "tags": []
   },
   "outputs": [],
   "source": [
    "# step_2.hint()\n",
    "# step_2.solution()"
   ]
  },
  {
   "cell_type": "markdown",
   "id": "0929a9c5",
   "metadata": {
    "papermill": {
     "duration": 0.004806,
     "end_time": "2022-08-28T18:20:06.848774",
     "exception": false,
     "start_time": "2022-08-28T18:20:06.843968",
     "status": "completed"
    },
    "tags": []
   },
   "source": [
    "## Step 3: Make Predictions with Validation data\n"
   ]
  },
  {
   "cell_type": "code",
   "execution_count": 6,
   "id": "b87b8f5e",
   "metadata": {
    "execution": {
     "iopub.execute_input": "2022-08-28T18:20:06.860813Z",
     "iopub.status.busy": "2022-08-28T18:20:06.860158Z",
     "iopub.status.idle": "2022-08-28T18:20:06.870619Z",
     "shell.execute_reply": "2022-08-28T18:20:06.869683Z"
    },
    "papermill": {
     "duration": 0.018836,
     "end_time": "2022-08-28T18:20:06.872666",
     "exception": false,
     "start_time": "2022-08-28T18:20:06.853830",
     "status": "completed"
    },
    "tags": []
   },
   "outputs": [
    {
     "data": {
      "application/javascript": [
       "parent.postMessage({\"jupyterEvent\": \"custom.exercise_interaction\", \"data\": {\"outcomeType\": 1, \"valueTowardsCompletion\": 0.25, \"interactionType\": 1, \"questionType\": 2, \"questionId\": \"3_ValPreds\", \"learnToolsVersion\": \"0.3.4\", \"failureMessage\": \"\", \"exceptionClass\": \"\", \"trace\": \"\"}}, \"*\")"
      ],
      "text/plain": [
       "<IPython.core.display.Javascript object>"
      ]
     },
     "metadata": {},
     "output_type": "display_data"
    },
    {
     "data": {
      "text/markdown": [
       "<span style=\"color:#33cc33\">Correct</span>"
      ],
      "text/plain": [
       "Correct"
      ]
     },
     "metadata": {},
     "output_type": "display_data"
    }
   ],
   "source": [
    "# Predict with all validation observations\n",
    "val_predictions = iowa_model.predict(val_X)\n",
    "\n",
    "# Check your answer\n",
    "step_3.check()"
   ]
  },
  {
   "cell_type": "code",
   "execution_count": 7,
   "id": "534dc662",
   "metadata": {
    "execution": {
     "iopub.execute_input": "2022-08-28T18:20:06.885679Z",
     "iopub.status.busy": "2022-08-28T18:20:06.885134Z",
     "iopub.status.idle": "2022-08-28T18:20:06.888551Z",
     "shell.execute_reply": "2022-08-28T18:20:06.887805Z"
    },
    "papermill": {
     "duration": 0.012326,
     "end_time": "2022-08-28T18:20:06.890612",
     "exception": false,
     "start_time": "2022-08-28T18:20:06.878286",
     "status": "completed"
    },
    "tags": []
   },
   "outputs": [],
   "source": [
    "# step_3.hint()\n",
    "# step_3.solution()"
   ]
  },
  {
   "cell_type": "markdown",
   "id": "88de5a3a",
   "metadata": {
    "papermill": {
     "duration": 0.005316,
     "end_time": "2022-08-28T18:20:06.901331",
     "exception": false,
     "start_time": "2022-08-28T18:20:06.896015",
     "status": "completed"
    },
    "tags": []
   },
   "source": [
    "Inspect your predictions and actual values from validation data."
   ]
  },
  {
   "cell_type": "code",
   "execution_count": 8,
   "id": "fb6a38b1",
   "metadata": {
    "execution": {
     "iopub.execute_input": "2022-08-28T18:20:06.913848Z",
     "iopub.status.busy": "2022-08-28T18:20:06.913279Z",
     "iopub.status.idle": "2022-08-28T18:20:06.918927Z",
     "shell.execute_reply": "2022-08-28T18:20:06.917922Z"
    },
    "papermill": {
     "duration": 0.015161,
     "end_time": "2022-08-28T18:20:06.921807",
     "exception": false,
     "start_time": "2022-08-28T18:20:06.906646",
     "status": "completed"
    },
    "tags": []
   },
   "outputs": [
    {
     "name": "stdout",
     "output_type": "stream",
     "text": [
      "[186500. 184000. 130000.  92000. 164500.]\n",
      "[231500, 179500, 122000, 84500, 142000]\n"
     ]
    }
   ],
   "source": [
    "# print the top few validation predictions\n",
    "print(val_predictions[:5])\n",
    "# print the top few actual prices from validation data\n",
    "print(val_y[:5].to_list())"
   ]
  },
  {
   "cell_type": "code",
   "execution_count": 9,
   "id": "9f5ae130",
   "metadata": {
    "execution": {
     "iopub.execute_input": "2022-08-28T18:20:06.935388Z",
     "iopub.status.busy": "2022-08-28T18:20:06.934800Z",
     "iopub.status.idle": "2022-08-28T18:20:07.491151Z",
     "shell.execute_reply": "2022-08-28T18:20:07.490366Z"
    },
    "papermill": {
     "duration": 0.565509,
     "end_time": "2022-08-28T18:20:07.493435",
     "exception": false,
     "start_time": "2022-08-28T18:20:06.927926",
     "status": "completed"
    },
    "tags": []
   },
   "outputs": [
    {
     "data": {
      "image/png": "[encoded data removed]",
      "text/plain": [
       "<Figure size 432x288 with 1 Axes>"
      ]
     },
     "metadata": {
      "needs_background": "light"
     },
     "output_type": "display_data"
    }
   ],
   "source": [
    "import seaborn as sns\n",
    "sns.regplot(x= val_predictions, y= val_y);"
   ]
  },
  {
   "cell_type": "markdown",
   "id": "f071c4be",
   "metadata": {
    "papermill": {
     "duration": 0.005631,
     "end_time": "2022-08-28T18:20:07.505012",
     "exception": false,
     "start_time": "2022-08-28T18:20:07.499381",
     "status": "completed"
    },
    "tags": []
   },
   "source": [
    "What do you notice that is different from what you saw with in-sample predictions (which are printed after the top code cell in this page).\n",
    "\n",
    "Do you remember why validation predictions differ from in-sample (or training) predictions? This is an important idea from the last lesson.\n",
    "\n",
    "## Step 4: Calculate the Mean Absolute Error in Validation Data\n"
   ]
  },
  {
   "cell_type": "code",
   "execution_count": 10,
   "id": "b5a76a98",
   "metadata": {
    "execution": {
     "iopub.execute_input": "2022-08-28T18:20:07.518525Z",
     "iopub.status.busy": "2022-08-28T18:20:07.517939Z",
     "iopub.status.idle": "2022-08-28T18:20:07.528326Z",
     "shell.execute_reply": "2022-08-28T18:20:07.526904Z"
    },
    "papermill": {
     "duration": 0.019722,
     "end_time": "2022-08-28T18:20:07.530423",
     "exception": false,
     "start_time": "2022-08-28T18:20:07.510701",
     "status": "completed"
    },
    "tags": []
   },
   "outputs": [
    {
     "name": "stdout",
     "output_type": "stream",
     "text": [
      "29652.931506849316\n"
     ]
    },
    {
     "data": {
      "application/javascript": [
       "parent.postMessage({\"jupyterEvent\": \"custom.exercise_interaction\", \"data\": {\"outcomeType\": 1, \"valueTowardsCompletion\": 0.25, \"interactionType\": 1, \"questionType\": 1, \"questionId\": \"4_MAE\", \"learnToolsVersion\": \"0.3.4\", \"failureMessage\": \"\", \"exceptionClass\": \"\", \"trace\": \"\"}}, \"*\")"
      ],
      "text/plain": [
       "<IPython.core.display.Javascript object>"
      ]
     },
     "metadata": {},
     "output_type": "display_data"
    },
    {
     "data": {
      "text/markdown": [
       "<span style=\"color:#33cc33\">Correct</span>"
      ],
      "text/plain": [
       "Correct"
      ]
     },
     "metadata": {},
     "output_type": "display_data"
    }
   ],
   "source": [
    "from sklearn.metrics import mean_absolute_error\n",
    "val_mae = mean_absolute_error(val_predictions, val_y)\n",
    "\n",
    "# uncomment following line to see the validation_mae\n",
    "print(val_mae)\n",
    "\n",
    "# Check your answer\n",
    "step_4.check()"
   ]
  },
  {
   "cell_type": "code",
   "execution_count": 11,
   "id": "a14feeb6",
   "metadata": {
    "execution": {
     "iopub.execute_input": "2022-08-28T18:20:07.545196Z",
     "iopub.status.busy": "2022-08-28T18:20:07.544573Z",
     "iopub.status.idle": "2022-08-28T18:20:07.548608Z",
     "shell.execute_reply": "2022-08-28T18:20:07.547866Z"
    },
    "papermill": {
     "duration": 0.013127,
     "end_time": "2022-08-28T18:20:07.550482",
     "exception": false,
     "start_time": "2022-08-28T18:20:07.537355",
     "status": "completed"
    },
    "tags": []
   },
   "outputs": [],
   "source": [
    "# step_4.hint()\n",
    "# step_4.solution()"
   ]
  },
  {
   "cell_type": "markdown",
   "id": "b5a4e389",
   "metadata": {
    "papermill": {
     "duration": 0.005908,
     "end_time": "2022-08-28T18:20:07.562672",
     "exception": false,
     "start_time": "2022-08-28T18:20:07.556764",
     "status": "completed"
    },
    "tags": []
   },
   "source": [
    "Is that MAE good?  There isn't a general rule for what values are good that applies across applications. But you'll see how to use (and improve) this number in the next step.\n",
    "\n",
    "# Keep Going\n",
    "\n",
    "You are ready for **[Underfitting and Overfitting](https://www.kaggle.com/dansbecker/underfitting-and-overfitting).**\n"
   ]
  },
  {
   "cell_type": "markdown",
   "id": "1dba8720",
   "metadata": {
    "papermill": {
     "duration": 0.0064,
     "end_time": "2022-08-28T18:20:07.578811",
     "exception": false,
     "start_time": "2022-08-28T18:20:07.572411",
     "status": "completed"
    },
    "tags": []
   },
   "source": [
    "---\n",
    "\n",
    "\n",
    "\n",
    "\n",
    "*Have questions or comments? Visit the [course discussion forum](https://www.kaggle.com/learn/intro-to-machine-learning/discussion) to chat with other learners.*"
   ]
  }
 ],
 "metadata": {
  "kernelspec": {
   "display_name": "Python 3",
   "language": "python",
   "name": "python3"
  },
  "language_info": {
   "codemirror_mode": {
    "name": "ipython",
    "version": 3
   },
   "file_extension": ".py",
   "mimetype": "text/x-python",
   "name": "python",
   "nbconvert_exporter": "python",
   "pygments_lexer": "ipython3",
   "version": "3.7.12"
  },
  "papermill": {
   "default_parameters": {},
   "duration": 11.26409,
   "end_time": "2022-08-28T18:20:08.307519",
   "environment_variables": {},
   "exception": null,
   "input_path": "__notebook__.ipynb",
   "output_path": "__notebook__.ipynb",
   "parameters": {},
   "start_time": "2022-08-28T18:19:57.043429",
   "version": "2.3.4"
  }
 },
 "nbformat": 4,
 "nbformat_minor": 5
}
