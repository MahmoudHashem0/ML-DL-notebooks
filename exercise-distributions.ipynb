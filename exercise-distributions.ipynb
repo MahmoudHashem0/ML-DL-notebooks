{
 "cells": [
  {
   "cell_type": "markdown",
   "id": "348e259d",
   "metadata": {
    "papermill": {
     "duration": 0.009195,
     "end_time": "2022-08-27T20:56:01.124432",
     "exception": false,
     "start_time": "2022-08-27T20:56:01.115237",
     "status": "completed"
    },
    "tags": []
   },
   "source": [
    "**This notebook is an exercise in the [Data Visualization](https://www.kaggle.com/learn/data-visualization) course.  You can reference the tutorial at [this link](https://www.kaggle.com/alexisbcook/distributions).**\n",
    "\n",
    "---\n"
   ]
  },
  {
   "cell_type": "markdown",
   "id": "06f0aa9c",
   "metadata": {
    "papermill": {
     "duration": 0.006367,
     "end_time": "2022-08-27T20:56:01.138063",
     "exception": false,
     "start_time": "2022-08-27T20:56:01.131696",
     "status": "completed"
    },
    "tags": []
   },
   "source": [
    "In this exercise, you will use your new knowledge to propose a solution to a real-world scenario.  To succeed, you will need to import data into Python, answer questions using the data, and generate **histograms** and **density plots** to understand patterns in the data.\n",
    "\n",
    "## Scenario\n",
    "\n",
    "You'll work with a real-world dataset containing information collected from microscopic images of breast cancer tumors, similar to the image below.\n",
    "\n",
    "![ex4_cancer_image](https://i.imgur.com/qUESsJe.png)\n",
    "\n",
    "Each tumor has been labeled as either [**benign**](https://en.wikipedia.org/wiki/Benign_tumor) (_noncancerous_) or **malignant** (_cancerous_).\n",
    "\n",
    "To learn more about how this kind of data is used to create intelligent algorithms to classify tumors in medical settings, **watch the short video [at this link](https://www.youtube.com/watch?v=9Mz84cwVmS0)**."
   ]
  },
  {
   "cell_type": "markdown",
   "id": "23f1acb8",
   "metadata": {
    "papermill": {
     "duration": 0.006266,
     "end_time": "2022-08-27T20:56:01.150897",
     "exception": false,
     "start_time": "2022-08-27T20:56:01.144631",
     "status": "completed"
    },
    "tags": []
   },
   "source": [
    "\n",
    "\n",
    "## Setup\n",
    "\n",
    "Run the next cell to import and configure the Python libraries that you need to complete the exercise."
   ]
  },
  {
   "cell_type": "code",
   "execution_count": 1,
   "id": "c54ca82f",
   "metadata": {
    "execution": {
     "iopub.execute_input": "2022-08-27T20:56:01.166572Z",
     "iopub.status.busy": "2022-08-27T20:56:01.165797Z",
     "iopub.status.idle": "2022-08-27T20:56:02.384222Z",
     "shell.execute_reply": "2022-08-27T20:56:02.382812Z"
    },
    "papermill": {
     "duration": 1.229706,
     "end_time": "2022-08-27T20:56:02.387245",
     "exception": false,
     "start_time": "2022-08-27T20:56:01.157539",
     "status": "completed"
    },
    "tags": []
   },
   "outputs": [
    {
     "name": "stdout",
     "output_type": "stream",
     "text": [
      "Setup Complete\n"
     ]
    }
   ],
   "source": [
    "import pandas as pd\n",
    "pd.plotting.register_matplotlib_converters()\n",
    "import matplotlib.pyplot as plt\n",
    "%matplotlib inline\n",
    "import seaborn as sns\n",
    "print(\"Setup Complete\")"
   ]
  },
  {
   "cell_type": "markdown",
   "id": "e49b738b",
   "metadata": {
    "papermill": {
     "duration": 0.006531,
     "end_time": "2022-08-27T20:56:02.400933",
     "exception": false,
     "start_time": "2022-08-27T20:56:02.394402",
     "status": "completed"
    },
    "tags": []
   },
   "source": [
    "The questions below will give you feedback on your work. Run the following cell to set up our feedback system."
   ]
  },
  {
   "cell_type": "code",
   "execution_count": 2,
   "id": "811d8628",
   "metadata": {
    "execution": {
     "iopub.execute_input": "2022-08-27T20:56:02.416722Z",
     "iopub.status.busy": "2022-08-27T20:56:02.416344Z",
     "iopub.status.idle": "2022-08-27T20:56:29.617556Z",
     "shell.execute_reply": "2022-08-27T20:56:29.615845Z"
    },
    "papermill": {
     "duration": 27.212275,
     "end_time": "2022-08-27T20:56:29.620422",
     "exception": false,
     "start_time": "2022-08-27T20:56:02.408147",
     "status": "completed"
    },
    "tags": []
   },
   "outputs": [
    {
     "name": "stdout",
     "output_type": "stream",
     "text": [
      "Collecting git+https://github.com/Kaggle/learntools.git@master\r\n",
      "  Cloning https://github.com/Kaggle/learntools.git (to revision master) to /tmp/pip-req-build-js_dj5wh\r\n",
      "  Running command git clone --filter=blob:none --quiet https://github.com/Kaggle/learntools.git /tmp/pip-req-build-js_dj5wh\r\n",
      "  Resolved https://github.com/Kaggle/learntools.git to commit 05292e880d5de6f92a4639c33a32fba6f4e73ac4\r\n",
      "  Preparing metadata (setup.py) ... \u001b[?25l-\b \bdone\r\n",
      "\u001b[?25hBuilding wheels for collected packages: learntools\r\n",
      "  Building wheel for learntools (setup.py) ... \u001b[?25l-\b \b\\\b \b|\b \b/\b \bdone\r\n",
      "\u001b[?25h  Created wheel for learntools: filename=learntools-0.3.4-py3-none-any.whl size=267787 sha256=e19e2d77f0240c5374a9bc751c77447c9c8cdcfaa1f067b55af209481f09616d\r\n",
      "  Stored in directory: /tmp/pip-ephem-wheel-cache-potxczjm/wheels/96/98/04/32b386c4641f1aea964eebb0148dc4632b25195ed8e54869c8\r\n",
      "Successfully built learntools\r\n",
      "Installing collected packages: learntools\r\n",
      "Successfully installed learntools-0.3.4\r\n",
      "\u001b[33mWARNING: Running pip as the 'root' user can result in broken permissions and conflicting behaviour with the system package manager. It is recommended to use a virtual environment instead: https://pip.pypa.io/warnings/venv\u001b[0m\u001b[33m\r\n",
      "\u001b[0mSetup Complete\n"
     ]
    }
   ],
   "source": [
    "# Set up code checking\n",
    "!pip install -U -t /kaggle/working/ git+https://github.com/Kaggle/learntools.git@master\n",
    "from learntools.core import binder\n",
    "binder.bind(globals())\n",
    "from learntools.data_viz_to_coder.ex5 import *\n",
    "print(\"Setup Complete\")"
   ]
  },
  {
   "cell_type": "markdown",
   "id": "84ecc57d",
   "metadata": {
    "papermill": {
     "duration": 0.007319,
     "end_time": "2022-08-27T20:56:29.635709",
     "exception": false,
     "start_time": "2022-08-27T20:56:29.628390",
     "status": "completed"
    },
    "tags": []
   },
   "source": [
    "## Step 1: Load the data\n",
    "\n",
    "In this step, you will load the data.\n",
    "- Load the data file into a DataFrame called `cancer_data`.  \n",
    "- The corresponding filepath is `cancer_filepath`.  \n",
    "- Use the `\"Id\"` column to label the rows."
   ]
  },
  {
   "cell_type": "code",
   "execution_count": 3,
   "id": "35fe3ea2",
   "metadata": {
    "execution": {
     "iopub.execute_input": "2022-08-27T20:56:29.653569Z",
     "iopub.status.busy": "2022-08-27T20:56:29.652794Z",
     "iopub.status.idle": "2022-08-27T20:56:29.672151Z",
     "shell.execute_reply": "2022-08-27T20:56:29.671284Z"
    },
    "papermill": {
     "duration": 0.030794,
     "end_time": "2022-08-27T20:56:29.674218",
     "exception": false,
     "start_time": "2022-08-27T20:56:29.643424",
     "status": "completed"
    },
    "tags": []
   },
   "outputs": [
    {
     "data": {
      "application/javascript": [
       "parent.postMessage({\"jupyterEvent\": \"custom.exercise_interaction\", \"data\": {\"outcomeType\": 1, \"valueTowardsCompletion\": 0.5, \"interactionType\": 1, \"questionType\": 1, \"questionId\": \"1_LoadCancerData\", \"learnToolsVersion\": \"0.3.4\", \"failureMessage\": \"\", \"exceptionClass\": \"\", \"trace\": \"\"}}, \"*\")"
      ],
      "text/plain": [
       "<IPython.core.display.Javascript object>"
      ]
     },
     "metadata": {},
     "output_type": "display_data"
    },
    {
     "data": {
      "text/markdown": [
       "<span style=\"color:#33cc33\">Correct</span>"
      ],
      "text/plain": [
       "Correct"
      ]
     },
     "metadata": {},
     "output_type": "display_data"
    }
   ],
   "source": [
    "# Path of the files to read\n",
    "cancer_filepath = \"../input/cancer.csv\"\n",
    "\n",
    "# Fill in the line below to read the file into a variable cancer_data\n",
    "cancer_data = pd.read_csv(cancer_filepath, index_col = 'Id')\n",
    "\n",
    "# Run the line below with no changes to check that you've loaded the data correctly\n",
    "step_1.check()"
   ]
  },
  {
   "cell_type": "code",
   "execution_count": 4,
   "id": "edadc913",
   "metadata": {
    "execution": {
     "iopub.execute_input": "2022-08-27T20:56:29.692082Z",
     "iopub.status.busy": "2022-08-27T20:56:29.691449Z",
     "iopub.status.idle": "2022-08-27T20:56:29.695316Z",
     "shell.execute_reply": "2022-08-27T20:56:29.694270Z"
    },
    "papermill": {
     "duration": 0.015189,
     "end_time": "2022-08-27T20:56:29.697355",
     "exception": false,
     "start_time": "2022-08-27T20:56:29.682166",
     "status": "completed"
    },
    "tags": []
   },
   "outputs": [],
   "source": [
    "# Lines below will give you a hint or solution code\n",
    "#step_1.hint()\n",
    "#step_1.solution()"
   ]
  },
  {
   "cell_type": "markdown",
   "id": "4fc078d4",
   "metadata": {
    "papermill": {
     "duration": 0.008356,
     "end_time": "2022-08-27T20:56:29.713812",
     "exception": false,
     "start_time": "2022-08-27T20:56:29.705456",
     "status": "completed"
    },
    "tags": []
   },
   "source": [
    "## Step 2: Review the data\n",
    "\n",
    "Use a Python command to print the first 5 rows of the data."
   ]
  },
  {
   "cell_type": "code",
   "execution_count": 5,
   "id": "eada6e91",
   "metadata": {
    "execution": {
     "iopub.execute_input": "2022-08-27T20:56:29.731420Z",
     "iopub.status.busy": "2022-08-27T20:56:29.730796Z",
     "iopub.status.idle": "2022-08-27T20:56:29.764746Z",
     "shell.execute_reply": "2022-08-27T20:56:29.763932Z"
    },
    "papermill": {
     "duration": 0.045512,
     "end_time": "2022-08-27T20:56:29.767076",
     "exception": false,
     "start_time": "2022-08-27T20:56:29.721564",
     "status": "completed"
    },
    "tags": []
   },
   "outputs": [
    {
     "data": {
      "text/html": [
       "<div>\n",
       "<style scoped>\n",
       "    .dataframe tbody tr th:only-of-type {\n",
       "        vertical-align: middle;\n",
       "    }\n",
       "\n",
       "    .dataframe tbody tr th {\n",
       "        vertical-align: top;\n",
       "    }\n",
       "\n",
       "    .dataframe thead th {\n",
       "        text-align: right;\n",
       "    }\n",
       "</style>\n",
       "<table border=\"1\" class=\"dataframe\">\n",
       "  <thead>\n",
       "    <tr style=\"text-align: right;\">\n",
       "      <th></th>\n",
       "      <th>Diagnosis</th>\n",
       "      <th>Radius (mean)</th>\n",
       "      <th>Texture (mean)</th>\n",
       "      <th>Perimeter (mean)</th>\n",
       "      <th>Area (mean)</th>\n",
       "      <th>Smoothness (mean)</th>\n",
       "      <th>Compactness (mean)</th>\n",
       "      <th>Concavity (mean)</th>\n",
       "      <th>Concave points (mean)</th>\n",
       "      <th>Symmetry (mean)</th>\n",
       "      <th>...</th>\n",
       "      <th>Radius (worst)</th>\n",
       "      <th>Texture (worst)</th>\n",
       "      <th>Perimeter (worst)</th>\n",
       "      <th>Area (worst)</th>\n",
       "      <th>Smoothness (worst)</th>\n",
       "      <th>Compactness (worst)</th>\n",
       "      <th>Concavity (worst)</th>\n",
       "      <th>Concave points (worst)</th>\n",
       "      <th>Symmetry (worst)</th>\n",
       "      <th>Fractal dimension (worst)</th>\n",
       "    </tr>\n",
       "    <tr>\n",
       "      <th>Id</th>\n",
       "      <th></th>\n",
       "      <th></th>\n",
       "      <th></th>\n",
       "      <th></th>\n",
       "      <th></th>\n",
       "      <th></th>\n",
       "      <th></th>\n",
       "      <th></th>\n",
       "      <th></th>\n",
       "      <th></th>\n",
       "      <th></th>\n",
       "      <th></th>\n",
       "      <th></th>\n",
       "      <th></th>\n",
       "      <th></th>\n",
       "      <th></th>\n",
       "      <th></th>\n",
       "      <th></th>\n",
       "      <th></th>\n",
       "      <th></th>\n",
       "      <th></th>\n",
       "    </tr>\n",
       "  </thead>\n",
       "  <tbody>\n",
       "    <tr>\n",
       "      <th>8510426</th>\n",
       "      <td>B</td>\n",
       "      <td>13.540</td>\n",
       "      <td>14.36</td>\n",
       "      <td>87.46</td>\n",
       "      <td>566.3</td>\n",
       "      <td>0.09779</td>\n",
       "      <td>0.08129</td>\n",
       "      <td>0.06664</td>\n",
       "      <td>0.047810</td>\n",
       "      <td>0.1885</td>\n",
       "      <td>...</td>\n",
       "      <td>15.110</td>\n",
       "      <td>19.26</td>\n",
       "      <td>99.70</td>\n",
       "      <td>711.2</td>\n",
       "      <td>0.14400</td>\n",
       "      <td>0.17730</td>\n",
       "      <td>0.23900</td>\n",
       "      <td>0.12880</td>\n",
       "      <td>0.2977</td>\n",
       "      <td>0.07259</td>\n",
       "    </tr>\n",
       "    <tr>\n",
       "      <th>8510653</th>\n",
       "      <td>B</td>\n",
       "      <td>13.080</td>\n",
       "      <td>15.71</td>\n",
       "      <td>85.63</td>\n",
       "      <td>520.0</td>\n",
       "      <td>0.10750</td>\n",
       "      <td>0.12700</td>\n",
       "      <td>0.04568</td>\n",
       "      <td>0.031100</td>\n",
       "      <td>0.1967</td>\n",
       "      <td>...</td>\n",
       "      <td>14.500</td>\n",
       "      <td>20.49</td>\n",
       "      <td>96.09</td>\n",
       "      <td>630.5</td>\n",
       "      <td>0.13120</td>\n",
       "      <td>0.27760</td>\n",
       "      <td>0.18900</td>\n",
       "      <td>0.07283</td>\n",
       "      <td>0.3184</td>\n",
       "      <td>0.08183</td>\n",
       "    </tr>\n",
       "    <tr>\n",
       "      <th>8510824</th>\n",
       "      <td>B</td>\n",
       "      <td>9.504</td>\n",
       "      <td>12.44</td>\n",
       "      <td>60.34</td>\n",
       "      <td>273.9</td>\n",
       "      <td>0.10240</td>\n",
       "      <td>0.06492</td>\n",
       "      <td>0.02956</td>\n",
       "      <td>0.020760</td>\n",
       "      <td>0.1815</td>\n",
       "      <td>...</td>\n",
       "      <td>10.230</td>\n",
       "      <td>15.66</td>\n",
       "      <td>65.13</td>\n",
       "      <td>314.9</td>\n",
       "      <td>0.13240</td>\n",
       "      <td>0.11480</td>\n",
       "      <td>0.08867</td>\n",
       "      <td>0.06227</td>\n",
       "      <td>0.2450</td>\n",
       "      <td>0.07773</td>\n",
       "    </tr>\n",
       "    <tr>\n",
       "      <th>854941</th>\n",
       "      <td>B</td>\n",
       "      <td>13.030</td>\n",
       "      <td>18.42</td>\n",
       "      <td>82.61</td>\n",
       "      <td>523.8</td>\n",
       "      <td>0.08983</td>\n",
       "      <td>0.03766</td>\n",
       "      <td>0.02562</td>\n",
       "      <td>0.029230</td>\n",
       "      <td>0.1467</td>\n",
       "      <td>...</td>\n",
       "      <td>13.300</td>\n",
       "      <td>22.81</td>\n",
       "      <td>84.46</td>\n",
       "      <td>545.9</td>\n",
       "      <td>0.09701</td>\n",
       "      <td>0.04619</td>\n",
       "      <td>0.04833</td>\n",
       "      <td>0.05013</td>\n",
       "      <td>0.1987</td>\n",
       "      <td>0.06169</td>\n",
       "    </tr>\n",
       "    <tr>\n",
       "      <th>85713702</th>\n",
       "      <td>B</td>\n",
       "      <td>8.196</td>\n",
       "      <td>16.84</td>\n",
       "      <td>51.71</td>\n",
       "      <td>201.9</td>\n",
       "      <td>0.08600</td>\n",
       "      <td>0.05943</td>\n",
       "      <td>0.01588</td>\n",
       "      <td>0.005917</td>\n",
       "      <td>0.1769</td>\n",
       "      <td>...</td>\n",
       "      <td>8.964</td>\n",
       "      <td>21.96</td>\n",
       "      <td>57.26</td>\n",
       "      <td>242.2</td>\n",
       "      <td>0.12970</td>\n",
       "      <td>0.13570</td>\n",
       "      <td>0.06880</td>\n",
       "      <td>0.02564</td>\n",
       "      <td>0.3105</td>\n",
       "      <td>0.07409</td>\n",
       "    </tr>\n",
       "  </tbody>\n",
       "</table>\n",
       "<p>5 rows × 31 columns</p>\n",
       "</div>"
      ],
      "text/plain": [
       "         Diagnosis  Radius (mean)  Texture (mean)  Perimeter (mean)  \\\n",
       "Id                                                                    \n",
       "8510426          B         13.540           14.36             87.46   \n",
       "8510653          B         13.080           15.71             85.63   \n",
       "8510824          B          9.504           12.44             60.34   \n",
       "854941           B         13.030           18.42             82.61   \n",
       "85713702         B          8.196           16.84             51.71   \n",
       "\n",
       "          Area (mean)  Smoothness (mean)  Compactness (mean)  \\\n",
       "Id                                                             \n",
       "8510426         566.3            0.09779             0.08129   \n",
       "8510653         520.0            0.10750             0.12700   \n",
       "8510824         273.9            0.10240             0.06492   \n",
       "854941          523.8            0.08983             0.03766   \n",
       "85713702        201.9            0.08600             0.05943   \n",
       "\n",
       "          Concavity (mean)  Concave points (mean)  Symmetry (mean)  ...  \\\n",
       "Id                                                                  ...   \n",
       "8510426            0.06664               0.047810           0.1885  ...   \n",
       "8510653            0.04568               0.031100           0.1967  ...   \n",
       "8510824            0.02956               0.020760           0.1815  ...   \n",
       "854941             0.02562               0.029230           0.1467  ...   \n",
       "85713702           0.01588               0.005917           0.1769  ...   \n",
       "\n",
       "          Radius (worst)  Texture (worst)  Perimeter (worst)  Area (worst)  \\\n",
       "Id                                                                           \n",
       "8510426           15.110            19.26              99.70         711.2   \n",
       "8510653           14.500            20.49              96.09         630.5   \n",
       "8510824           10.230            15.66              65.13         314.9   \n",
       "854941            13.300            22.81              84.46         545.9   \n",
       "85713702           8.964            21.96              57.26         242.2   \n",
       "\n",
       "          Smoothness (worst)  Compactness (worst)  Concavity (worst)  \\\n",
       "Id                                                                     \n",
       "8510426              0.14400              0.17730            0.23900   \n",
       "8510653              0.13120              0.27760            0.18900   \n",
       "8510824              0.13240              0.11480            0.08867   \n",
       "854941               0.09701              0.04619            0.04833   \n",
       "85713702             0.12970              0.13570            0.06880   \n",
       "\n",
       "          Concave points (worst)  Symmetry (worst)  Fractal dimension (worst)  \n",
       "Id                                                                             \n",
       "8510426                  0.12880            0.2977                    0.07259  \n",
       "8510653                  0.07283            0.3184                    0.08183  \n",
       "8510824                  0.06227            0.2450                    0.07773  \n",
       "854941                   0.05013            0.1987                    0.06169  \n",
       "85713702                 0.02564            0.3105                    0.07409  \n",
       "\n",
       "[5 rows x 31 columns]"
      ]
     },
     "execution_count": 5,
     "metadata": {},
     "output_type": "execute_result"
    }
   ],
   "source": [
    "# Print the first five rows of the data\n",
    "cancer_data.head() # Your code here"
   ]
  },
  {
   "cell_type": "markdown",
   "id": "dd84307e",
   "metadata": {
    "papermill": {
     "duration": 0.007981,
     "end_time": "2022-08-27T20:56:29.783497",
     "exception": false,
     "start_time": "2022-08-27T20:56:29.775516",
     "status": "completed"
    },
    "tags": []
   },
   "source": [
    "In the dataset, each row corresponds to a different image.  The dataset has 31 different columns, corresponding to:\n",
    "- 1 column (`'Diagnosis'`) that classifies tumors as either benign (which appears in the dataset as **`B`**) or malignant (__`M`__), and\n",
    "- 30 columns containing different measurements collected from the images.\n",
    "\n",
    "Use the first 5 rows of the data to answer the questions below."
   ]
  },
  {
   "cell_type": "code",
   "execution_count": 6,
   "id": "7100ccb6",
   "metadata": {
    "execution": {
     "iopub.execute_input": "2022-08-27T20:56:29.802743Z",
     "iopub.status.busy": "2022-08-27T20:56:29.801627Z",
     "iopub.status.idle": "2022-08-27T20:56:29.810497Z",
     "shell.execute_reply": "2022-08-27T20:56:29.809633Z"
    },
    "papermill": {
     "duration": 0.021147,
     "end_time": "2022-08-27T20:56:29.812895",
     "exception": false,
     "start_time": "2022-08-27T20:56:29.791748",
     "status": "completed"
    },
    "tags": []
   },
   "outputs": [
    {
     "data": {
      "application/javascript": [
       "parent.postMessage({\"jupyterEvent\": \"custom.exercise_interaction\", \"data\": {\"outcomeType\": 1, \"valueTowardsCompletion\": 0.5, \"interactionType\": 1, \"questionType\": 1, \"questionId\": \"2_ReviewData\", \"learnToolsVersion\": \"0.3.4\", \"failureMessage\": \"\", \"exceptionClass\": \"\", \"trace\": \"\"}}, \"*\")"
      ],
      "text/plain": [
       "<IPython.core.display.Javascript object>"
      ]
     },
     "metadata": {},
     "output_type": "display_data"
    },
    {
     "data": {
      "text/markdown": [
       "<span style=\"color:#33cc33\">Correct</span>"
      ],
      "text/plain": [
       "Correct"
      ]
     },
     "metadata": {},
     "output_type": "display_data"
    }
   ],
   "source": [
    "# Fill in the line below: In the first five rows of the data, what is the\n",
    "# largest value for 'Perimeter (mean)'?\n",
    "max_perim = 87.46\n",
    "\n",
    "# Fill in the line below: What is the value for 'Radius (mean)' for the tumor with Id 8510824?\n",
    "mean_radius = 9.504\n",
    "\n",
    "# Check your answers\n",
    "step_2.check()"
   ]
  },
  {
   "cell_type": "code",
   "execution_count": 7,
   "id": "f8360490",
   "metadata": {
    "execution": {
     "iopub.execute_input": "2022-08-27T20:56:29.832526Z",
     "iopub.status.busy": "2022-08-27T20:56:29.831466Z",
     "iopub.status.idle": "2022-08-27T20:56:29.837139Z",
     "shell.execute_reply": "2022-08-27T20:56:29.835793Z"
    },
    "papermill": {
     "duration": 0.018436,
     "end_time": "2022-08-27T20:56:29.840036",
     "exception": false,
     "start_time": "2022-08-27T20:56:29.821600",
     "status": "completed"
    },
    "tags": []
   },
   "outputs": [],
   "source": [
    "# Lines below will give you a hint or solution code\n",
    "#step_2.hint()\n",
    "#step_2.solution()"
   ]
  },
  {
   "cell_type": "markdown",
   "id": "fd5d4460",
   "metadata": {
    "papermill": {
     "duration": 0.008403,
     "end_time": "2022-08-27T20:56:29.857436",
     "exception": false,
     "start_time": "2022-08-27T20:56:29.849033",
     "status": "completed"
    },
    "tags": []
   },
   "source": [
    "## Step 3: Investigating differences"
   ]
  },
  {
   "cell_type": "markdown",
   "id": "cdedd468",
   "metadata": {
    "papermill": {
     "duration": 0.008493,
     "end_time": "2022-08-27T20:56:29.874764",
     "exception": false,
     "start_time": "2022-08-27T20:56:29.866271",
     "status": "completed"
    },
    "tags": []
   },
   "source": [
    "#### Part A\n",
    "\n",
    "Use the code cell below to create two histograms that show the distribution in values for `'Area (mean)'`, separately for both benign and malignant tumors.  (_To permit easy comparison, create a single figure containing both histograms in the code cell below._)"
   ]
  },
  {
   "cell_type": "code",
   "execution_count": 8,
   "id": "b93ad8ac",
   "metadata": {
    "execution": {
     "iopub.execute_input": "2022-08-27T20:56:29.894346Z",
     "iopub.status.busy": "2022-08-27T20:56:29.893935Z",
     "iopub.status.idle": "2022-08-27T20:56:30.388767Z",
     "shell.execute_reply": "2022-08-27T20:56:30.387631Z"
    },
    "papermill": {
     "duration": 0.507748,
     "end_time": "2022-08-27T20:56:30.391333",
     "exception": false,
     "start_time": "2022-08-27T20:56:29.883585",
     "status": "completed"
    },
    "tags": []
   },
   "outputs": [
    {
     "data": {
      "image/png": "[encoded data removed]",
      "text/plain": [
       "<Figure size 432x288 with 2 Axes>"
      ]
     },
     "metadata": {
      "needs_background": "light"
     },
     "output_type": "display_data"
    }
   ],
   "source": [
    "ax1 = plt.subplot(1,2,1)\n",
    "ax1.set_title('Area Of Benign Tumors')\n",
    "sns.histplot(cancer_data.query(\"Diagnosis == 'B'\")['Area (mean)']);\n",
    "ax2 = plt.subplot(1,2,2)\n",
    "sns.histplot(cancer_data.query(\"Diagnosis == 'M'\")['Area (mean)']);\n",
    "ax2.set_title('Area Of Malignant Tumors')\n",
    "plt.subplots_adjust(right=1.9, wspace=0.15)"
   ]
  },
  {
   "cell_type": "code",
   "execution_count": 9,
   "id": "141480ef",
   "metadata": {
    "execution": {
     "iopub.execute_input": "2022-08-27T20:56:30.411953Z",
     "iopub.status.busy": "2022-08-27T20:56:30.410628Z",
     "iopub.status.idle": "2022-08-27T20:56:30.747517Z",
     "shell.execute_reply": "2022-08-27T20:56:30.746216Z"
    },
    "papermill": {
     "duration": 0.349612,
     "end_time": "2022-08-27T20:56:30.750078",
     "exception": false,
     "start_time": "2022-08-27T20:56:30.400466",
     "status": "completed"
    },
    "tags": []
   },
   "outputs": [
    {
     "data": {
      "application/javascript": [
       "parent.postMessage({\"jupyterEvent\": \"custom.exercise_interaction\", \"data\": {\"outcomeType\": 1, \"valueTowardsCompletion\": 0.5, \"interactionType\": 1, \"questionType\": 2, \"questionId\": \"3.1_PlotHist\", \"learnToolsVersion\": \"0.3.4\", \"failureMessage\": \"\", \"exceptionClass\": \"\", \"trace\": \"\"}}, \"*\")"
      ],
      "text/plain": [
       "<IPython.core.display.Javascript object>"
      ]
     },
     "metadata": {},
     "output_type": "display_data"
    },
    {
     "data": {
      "text/markdown": [
       "<span style=\"color:#33cc33\">Correct</span>"
      ],
      "text/plain": [
       "Correct"
      ]
     },
     "metadata": {},
     "output_type": "display_data"
    },
    {
     "data": {
      "image/png": "[encoded data removed]",
      "text/plain": [
       "<Figure size 432x288 with 1 Axes>"
      ]
     },
     "metadata": {
      "needs_background": "light"
     },
     "output_type": "display_data"
    }
   ],
   "source": [
    "# Histograms for benign and maligant tumors\n",
    "sns.histplot(x='Area (mean)', hue='Diagnosis', data=cancer_data);\n",
    "\n",
    "# Check your answer\n",
    "step_3.a.check()"
   ]
  },
  {
   "cell_type": "code",
   "execution_count": 10,
   "id": "074a8c1e",
   "metadata": {
    "execution": {
     "iopub.execute_input": "2022-08-27T20:56:30.770906Z",
     "iopub.status.busy": "2022-08-27T20:56:30.770170Z",
     "iopub.status.idle": "2022-08-27T20:56:30.774926Z",
     "shell.execute_reply": "2022-08-27T20:56:30.773790Z"
    },
    "papermill": {
     "duration": 0.017716,
     "end_time": "2022-08-27T20:56:30.777190",
     "exception": false,
     "start_time": "2022-08-27T20:56:30.759474",
     "status": "completed"
    },
    "tags": []
   },
   "outputs": [],
   "source": [
    "# Lines below will give you a hint or solution code\n",
    "#step_3.a.hint()\n",
    "#step_3.a.solution_plot()"
   ]
  },
  {
   "cell_type": "markdown",
   "id": "5465878d",
   "metadata": {
    "papermill": {
     "duration": 0.009042,
     "end_time": "2022-08-27T20:56:30.795504",
     "exception": false,
     "start_time": "2022-08-27T20:56:30.786462",
     "status": "completed"
    },
    "tags": []
   },
   "source": [
    "#### Part B\n",
    "\n",
    "A researcher approaches you for help with identifying how the `'Area (mean)'` column can be used to understand the difference between benign and malignant tumors.  Based on the histograms above, \n",
    "- Do malignant tumors have higher or lower values for `'Area (mean)'` (relative to benign tumors), on average?\n",
    "- Which tumor type seems to have a larger range of potential values?"
   ]
  },
  {
   "cell_type": "code",
   "execution_count": 11,
   "id": "be27c11f",
   "metadata": {
    "execution": {
     "iopub.execute_input": "2022-08-27T20:56:30.816380Z",
     "iopub.status.busy": "2022-08-27T20:56:30.815988Z",
     "iopub.status.idle": "2022-08-27T20:56:30.820310Z",
     "shell.execute_reply": "2022-08-27T20:56:30.819047Z"
    },
    "papermill": {
     "duration": 0.017386,
     "end_time": "2022-08-27T20:56:30.822493",
     "exception": false,
     "start_time": "2022-08-27T20:56:30.805107",
     "status": "completed"
    },
    "tags": []
   },
   "outputs": [],
   "source": [
    "# malignant tumors have higher values for 'Area (mean)' (relative to benign tumors), on average\n",
    "# Malignant"
   ]
  },
  {
   "cell_type": "code",
   "execution_count": 12,
   "id": "ec07f390",
   "metadata": {
    "execution": {
     "iopub.execute_input": "2022-08-27T20:56:30.844291Z",
     "iopub.status.busy": "2022-08-27T20:56:30.843002Z",
     "iopub.status.idle": "2022-08-27T20:56:30.851385Z",
     "shell.execute_reply": "2022-08-27T20:56:30.850297Z"
    },
    "papermill": {
     "duration": 0.021685,
     "end_time": "2022-08-27T20:56:30.853618",
     "exception": false,
     "start_time": "2022-08-27T20:56:30.831933",
     "status": "completed"
    },
    "tags": []
   },
   "outputs": [
    {
     "data": {
      "application/javascript": [
       "parent.postMessage({\"jupyterEvent\": \"custom.exercise_interaction\", \"data\": {\"interactionType\": 2, \"questionType\": 4, \"questionId\": \"3.2_ThinkHist\", \"learnToolsVersion\": \"0.3.4\", \"valueTowardsCompletion\": 0.0, \"failureMessage\": \"\", \"exceptionClass\": \"\", \"trace\": \"\", \"outcomeType\": 4}}, \"*\")"
      ],
      "text/plain": [
       "<IPython.core.display.Javascript object>"
      ]
     },
     "metadata": {},
     "output_type": "display_data"
    },
    {
     "data": {
      "text/markdown": [
       "<span style=\"color:#3366cc\">Hint:</span> Does the histogram for malignant tumors appear mostly to the left or to the right of the histogram for benign tumors?  Which histogram appears wider?"
      ],
      "text/plain": [
       "Hint: Does the histogram for malignant tumors appear mostly to the left or to the right of the histogram for benign tumors?  Which histogram appears wider?"
      ]
     },
     "metadata": {},
     "output_type": "display_data"
    }
   ],
   "source": [
    "step_3.b.hint()"
   ]
  },
  {
   "cell_type": "code",
   "execution_count": 13,
   "id": "b1e2dcde",
   "metadata": {
    "execution": {
     "iopub.execute_input": "2022-08-27T20:56:30.875228Z",
     "iopub.status.busy": "2022-08-27T20:56:30.874205Z",
     "iopub.status.idle": "2022-08-27T20:56:30.883990Z",
     "shell.execute_reply": "2022-08-27T20:56:30.883189Z"
    },
    "papermill": {
     "duration": 0.02286,
     "end_time": "2022-08-27T20:56:30.886227",
     "exception": false,
     "start_time": "2022-08-27T20:56:30.863367",
     "status": "completed"
    },
    "tags": []
   },
   "outputs": [
    {
     "data": {
      "application/javascript": [
       "parent.postMessage({\"jupyterEvent\": \"custom.exercise_interaction\", \"data\": {\"interactionType\": 3, \"questionType\": 4, \"questionId\": \"3.2_ThinkHist\", \"learnToolsVersion\": \"0.3.4\", \"valueTowardsCompletion\": 0.0, \"failureMessage\": \"\", \"exceptionClass\": \"\", \"trace\": \"\", \"outcomeType\": 4}}, \"*\")"
      ],
      "text/plain": [
       "<IPython.core.display.Javascript object>"
      ]
     },
     "metadata": {},
     "output_type": "display_data"
    },
    {
     "data": {
      "text/markdown": [
       "<span style=\"color:#33cc99\">Solution:</span> Malignant tumors have higher values for `'Area (mean)'`, on average. Malignant tumors have a larger range of potential values."
      ],
      "text/plain": [
       "Solution: Malignant tumors have higher values for `'Area (mean)'`, on average. Malignant tumors have a larger range of potential values."
      ]
     },
     "metadata": {},
     "output_type": "display_data"
    }
   ],
   "source": [
    "# Check your answer (Run this code cell to receive credit!)\n",
    "step_3.b.solution()"
   ]
  },
  {
   "cell_type": "markdown",
   "id": "863164c1",
   "metadata": {
    "papermill": {
     "duration": 0.009371,
     "end_time": "2022-08-27T20:56:30.905429",
     "exception": false,
     "start_time": "2022-08-27T20:56:30.896058",
     "status": "completed"
    },
    "tags": []
   },
   "source": [
    "## Step 4: A very useful column\n",
    "\n",
    "#### Part A\n",
    "\n",
    "Use the code cell below to create two KDE plots that show the distribution in values for `'Radius (worst)'`, separately for both benign and malignant tumors.  (_To permit easy comparison, create a single figure containing both KDE plots in the code cell below._)"
   ]
  },
  {
   "cell_type": "code",
   "execution_count": 14,
   "id": "889b0da3",
   "metadata": {
    "execution": {
     "iopub.execute_input": "2022-08-27T20:56:30.927136Z",
     "iopub.status.busy": "2022-08-27T20:56:30.926712Z",
     "iopub.status.idle": "2022-08-27T20:56:31.154588Z",
     "shell.execute_reply": "2022-08-27T20:56:31.152952Z"
    },
    "papermill": {
     "duration": 0.242281,
     "end_time": "2022-08-27T20:56:31.157575",
     "exception": false,
     "start_time": "2022-08-27T20:56:30.915294",
     "status": "completed"
    },
    "tags": []
   },
   "outputs": [
    {
     "data": {
      "application/javascript": [
       "parent.postMessage({\"jupyterEvent\": \"custom.exercise_interaction\", \"data\": {\"outcomeType\": 1, \"valueTowardsCompletion\": 0.5, \"interactionType\": 1, \"questionType\": 2, \"questionId\": \"4.1_PlotThreshold\", \"learnToolsVersion\": \"0.3.4\", \"failureMessage\": \"\", \"exceptionClass\": \"\", \"trace\": \"\"}}, \"*\")"
      ],
      "text/plain": [
       "<IPython.core.display.Javascript object>"
      ]
     },
     "metadata": {},
     "output_type": "display_data"
    },
    {
     "data": {
      "text/markdown": [
       "<span style=\"color:#33cc33\">Correct</span>"
      ],
      "text/plain": [
       "Correct"
      ]
     },
     "metadata": {},
     "output_type": "display_data"
    },
    {
     "data": {
      "image/png": "[encoded data removed]",
      "text/plain": [
       "<Figure size 432x288 with 1 Axes>"
      ]
     },
     "metadata": {
      "needs_background": "light"
     },
     "output_type": "display_data"
    }
   ],
   "source": [
    "# KDE plots for benign and malignant tumors\n",
    "sns.kdeplot(data=cancer_data, x = 'Radius (worst)', hue='Diagnosis', shade=True)\n",
    "\n",
    "# Check your answer\n",
    "step_4.a.check()"
   ]
  },
  {
   "cell_type": "code",
   "execution_count": 15,
   "id": "74cb32e4",
   "metadata": {
    "execution": {
     "iopub.execute_input": "2022-08-27T20:56:31.180425Z",
     "iopub.status.busy": "2022-08-27T20:56:31.179723Z",
     "iopub.status.idle": "2022-08-27T20:56:31.403604Z",
     "shell.execute_reply": "2022-08-27T20:56:31.402604Z"
    },
    "papermill": {
     "duration": 0.238041,
     "end_time": "2022-08-27T20:56:31.406059",
     "exception": false,
     "start_time": "2022-08-27T20:56:31.168018",
     "status": "completed"
    },
    "tags": []
   },
   "outputs": [
    {
     "data": {
      "application/javascript": [
       "parent.postMessage({\"jupyterEvent\": \"custom.exercise_interaction\", \"data\": {\"interactionType\": 2, \"questionType\": 2, \"questionId\": \"4.1_PlotThreshold\", \"learnToolsVersion\": \"0.3.4\", \"valueTowardsCompletion\": 0.0, \"failureMessage\": \"\", \"exceptionClass\": \"\", \"trace\": \"\", \"outcomeType\": 4}}, \"*\")"
      ],
      "text/plain": [
       "<IPython.core.display.Javascript object>"
      ]
     },
     "metadata": {},
     "output_type": "display_data"
    },
    {
     "data": {
      "text/markdown": [
       "<span style=\"color:#3366cc\">Hint:</span> Use `sns.kdeplot`, and specify the data and label by using `data=` and `x=`, respectively. To separate the data according to whether it is benign or malignant, use `hue=`.  Set `shade=True`."
      ],
      "text/plain": [
       "Hint: Use `sns.kdeplot`, and specify the data and label by using `data=` and `x=`, respectively. To separate the data according to whether it is benign or malignant, use `hue=`.  Set `shade=True`."
      ]
     },
     "metadata": {},
     "output_type": "display_data"
    },
    {
     "data": {
      "application/javascript": [
       "parent.postMessage({\"jupyterEvent\": \"custom.exercise_interaction\", \"data\": {\"interactionType\": 3, \"questionType\": 2, \"questionId\": \"4.1_PlotThreshold\", \"learnToolsVersion\": \"0.3.4\", \"valueTowardsCompletion\": 0.0, \"failureMessage\": \"\", \"exceptionClass\": \"\", \"trace\": \"\", \"outcomeType\": 4}}, \"*\")"
      ],
      "text/plain": [
       "<IPython.core.display.Javascript object>"
      ]
     },
     "metadata": {},
     "output_type": "display_data"
    },
    {
     "data": {
      "text/markdown": [
       "<span style=\"color:#33cc99\">Solution:</span> \n",
       "```python\n",
       "# KDE plots for benign and malignant tumors\n",
       "sns.kdeplot(data=cancer_data, x='Radius (worst)', hue='Diagnosis', shade=True)\n",
       "\n",
       "```"
      ],
      "text/plain": [
       "Solution: \n",
       "```python\n",
       "# KDE plots for benign and malignant tumors\n",
       "sns.kdeplot(data=cancer_data, x='Radius (worst)', hue='Diagnosis', shade=True)\n",
       "\n",
       "```"
      ]
     },
     "metadata": {},
     "output_type": "display_data"
    },
    {
     "data": {
      "image/png": "[encoded data removed]",
      "text/plain": [
       "<Figure size 432x288 with 1 Axes>"
      ]
     },
     "metadata": {
      "needs_background": "light"
     },
     "output_type": "display_data"
    }
   ],
   "source": [
    "# Lines below will give you a hint or solution code\n",
    "step_4.a.hint()\n",
    "step_4.a.solution_plot()"
   ]
  },
  {
   "cell_type": "markdown",
   "id": "b61eb579",
   "metadata": {
    "papermill": {
     "duration": 0.01102,
     "end_time": "2022-08-27T20:56:31.428502",
     "exception": false,
     "start_time": "2022-08-27T20:56:31.417482",
     "status": "completed"
    },
    "tags": []
   },
   "source": [
    "#### Part B\n",
    "\n",
    "A hospital has recently started using an algorithm that can diagnose tumors with high accuracy.  Given a tumor with a value for `'Radius (worst)'` of 25, do you think the algorithm is more likely to classify the tumor as benign or malignant?"
   ]
  },
  {
   "cell_type": "code",
   "execution_count": 16,
   "id": "c35e4ace",
   "metadata": {
    "execution": {
     "iopub.execute_input": "2022-08-27T20:56:31.453064Z",
     "iopub.status.busy": "2022-08-27T20:56:31.452383Z",
     "iopub.status.idle": "2022-08-27T20:56:31.457329Z",
     "shell.execute_reply": "2022-08-27T20:56:31.456410Z"
    },
    "papermill": {
     "duration": 0.01995,
     "end_time": "2022-08-27T20:56:31.459611",
     "exception": false,
     "start_time": "2022-08-27T20:56:31.439661",
     "status": "completed"
    },
    "tags": []
   },
   "outputs": [],
   "source": [
    "#step_4.b.hint()"
   ]
  },
  {
   "cell_type": "code",
   "execution_count": 17,
   "id": "f5fcb26a",
   "metadata": {
    "execution": {
     "iopub.execute_input": "2022-08-27T20:56:31.485356Z",
     "iopub.status.busy": "2022-08-27T20:56:31.484668Z",
     "iopub.status.idle": "2022-08-27T20:56:31.493345Z",
     "shell.execute_reply": "2022-08-27T20:56:31.492483Z"
    },
    "papermill": {
     "duration": 0.024399,
     "end_time": "2022-08-27T20:56:31.495448",
     "exception": false,
     "start_time": "2022-08-27T20:56:31.471049",
     "status": "completed"
    },
    "tags": []
   },
   "outputs": [
    {
     "data": {
      "application/javascript": [
       "parent.postMessage({\"jupyterEvent\": \"custom.exercise_interaction\", \"data\": {\"interactionType\": 3, \"questionType\": 4, \"questionId\": \"4.2_ThinkThreshold\", \"learnToolsVersion\": \"0.3.4\", \"valueTowardsCompletion\": 0.0, \"failureMessage\": \"\", \"exceptionClass\": \"\", \"trace\": \"\", \"outcomeType\": 4}}, \"*\")"
      ],
      "text/plain": [
       "<IPython.core.display.Javascript object>"
      ]
     },
     "metadata": {},
     "output_type": "display_data"
    },
    {
     "data": {
      "text/markdown": [
       "<span style=\"color:#33cc99\">Solution:</span> The algorithm is more likely to classify the tumor as malignant. This is because the curve for malignant tumors is much higher than the curve for benign tumors around a value of 25 -- and an algorithm that gets high accuracy is likely to make decisions based on this pattern in the data."
      ],
      "text/plain": [
       "Solution: The algorithm is more likely to classify the tumor as malignant. This is because the curve for malignant tumors is much higher than the curve for benign tumors around a value of 25 -- and an algorithm that gets high accuracy is likely to make decisions based on this pattern in the data."
      ]
     },
     "metadata": {},
     "output_type": "display_data"
    }
   ],
   "source": [
    "# Check your answer (Run this code cell to receive credit!)\n",
    "step_4.b.solution()"
   ]
  },
  {
   "cell_type": "markdown",
   "id": "03341264",
   "metadata": {
    "papermill": {
     "duration": 0.010985,
     "end_time": "2022-08-27T20:56:31.517824",
     "exception": false,
     "start_time": "2022-08-27T20:56:31.506839",
     "status": "completed"
    },
    "tags": []
   },
   "source": [
    "## Keep going\n",
    "\n",
    "Review all that you've learned and explore how to further customize your plots in the **[next tutorial](https://www.kaggle.com/alexisbcook/choosing-plot-types-and-custom-styles)**!"
   ]
  },
  {
   "cell_type": "markdown",
   "id": "c73df703",
   "metadata": {
    "papermill": {
     "duration": 0.011366,
     "end_time": "2022-08-27T20:56:31.540444",
     "exception": false,
     "start_time": "2022-08-27T20:56:31.529078",
     "status": "completed"
    },
    "tags": []
   },
   "source": [
    "---\n",
    "\n",
    "\n",
    "\n",
    "\n",
    "*Have questions or comments? Visit the [course discussion forum](https://www.kaggle.com/learn/data-visualization/discussion) to chat with other learners.*"
   ]
  }
 ],
 "metadata": {
  "kernelspec": {
   "display_name": "Python 3",
   "language": "python",
   "name": "python3"
  },
  "language_info": {
   "codemirror_mode": {
    "name": "ipython",
    "version": 3
   },
   "file_extension": ".py",
   "mimetype": "text/x-python",
   "name": "python",
   "nbconvert_exporter": "python",
   "pygments_lexer": "ipython3",
   "version": "3.7.12"
  },
  "papermill": {
   "default_parameters": {},
   "duration": 40.630493,
   "end_time": "2022-08-27T20:56:32.374125",
   "environment_variables": {},
   "exception": null,
   "input_path": "__notebook__.ipynb",
   "output_path": "__notebook__.ipynb",
   "parameters": {},
   "start_time": "2022-08-27T20:55:51.743632",
   "version": "2.3.4"
  }
 },
 "nbformat": 4,
 "nbformat_minor": 5
}
