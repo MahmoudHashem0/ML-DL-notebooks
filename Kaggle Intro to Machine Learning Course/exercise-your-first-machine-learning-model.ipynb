{
 "cells": [
  {
   "cell_type": "markdown",
   "id": "5159feb8",
   "metadata": {
    "papermill": {
     "duration": 0.00685,
     "end_time": "2022-08-28T18:07:23.243331",
     "exception": false,
     "start_time": "2022-08-28T18:07:23.236481",
     "status": "completed"
    },
    "tags": []
   },
   "source": [
    "**This notebook is an exercise in the [Introduction to Machine Learning](https://www.kaggle.com/learn/intro-to-machine-learning) course.  You can reference the tutorial at [this link](https://www.kaggle.com/dansbecker/your-first-machine-learning-model).**\n",
    "\n",
    "---\n"
   ]
  },
  {
   "cell_type": "markdown",
   "id": "ad324027",
   "metadata": {
    "papermill": {
     "duration": 0.005907,
     "end_time": "2022-08-28T18:07:23.254682",
     "exception": false,
     "start_time": "2022-08-28T18:07:23.248775",
     "status": "completed"
    },
    "tags": []
   },
   "source": [
    "## Recap\n",
    "So far, you have loaded your data and reviewed it with the following code. Run this cell to set up your coding environment where the previous step left off."
   ]
  },
  {
   "cell_type": "code",
   "execution_count": 1,
   "id": "f7880fa2",
   "metadata": {
    "execution": {
     "iopub.execute_input": "2022-08-28T18:07:23.271347Z",
     "iopub.status.busy": "2022-08-28T18:07:23.270560Z",
     "iopub.status.idle": "2022-08-28T18:07:24.731897Z",
     "shell.execute_reply": "2022-08-28T18:07:24.730584Z"
    },
    "papermill": {
     "duration": 1.472694,
     "end_time": "2022-08-28T18:07:24.734725",
     "exception": false,
     "start_time": "2022-08-28T18:07:23.262031",
     "status": "completed"
    },
    "tags": []
   },
   "outputs": [
    {
     "name": "stdout",
     "output_type": "stream",
     "text": [
      "Setup Complete\n"
     ]
    }
   ],
   "source": [
    "# Code you have previously used to load data\n",
    "import pandas as pd\n",
    "\n",
    "# Path of the file to read\n",
    "iowa_file_path = '../input/home-data-for-ml-course/train.csv'\n",
    "\n",
    "home_data = pd.read_csv(iowa_file_path)\n",
    "\n",
    "# Set up code checking\n",
    "from learntools.core import binder\n",
    "binder.bind(globals())\n",
    "from learntools.machine_learning.ex3 import *\n",
    "\n",
    "print(\"Setup Complete\")"
   ]
  },
  {
   "cell_type": "markdown",
   "id": "db16e5dc",
   "metadata": {
    "papermill": {
     "duration": 0.005107,
     "end_time": "2022-08-28T18:07:24.745256",
     "exception": false,
     "start_time": "2022-08-28T18:07:24.740149",
     "status": "completed"
    },
    "tags": []
   },
   "source": [
    "# Exercises\n",
    "\n",
    "## Step 1: Specify Prediction Target\n",
    "Select the target variable, which corresponds to the sales price. Save this to a new variable called `y`. You'll need to print a list of the columns to find the name of the column you need.\n"
   ]
  },
  {
   "cell_type": "code",
   "execution_count": 2,
   "id": "7481db13",
   "metadata": {
    "execution": {
     "iopub.execute_input": "2022-08-28T18:07:24.757537Z",
     "iopub.status.busy": "2022-08-28T18:07:24.757117Z",
     "iopub.status.idle": "2022-08-28T18:07:24.767295Z",
     "shell.execute_reply": "2022-08-28T18:07:24.766205Z"
    },
    "papermill": {
     "duration": 0.019218,
     "end_time": "2022-08-28T18:07:24.769774",
     "exception": false,
     "start_time": "2022-08-28T18:07:24.750556",
     "status": "completed"
    },
    "tags": []
   },
   "outputs": [
    {
     "data": {
      "text/plain": [
       "Index(['Id', 'MSSubClass', 'MSZoning', 'LotFrontage', 'LotArea', 'Street',\n",
       "       'Alley', 'LotShape', 'LandContour', 'Utilities', 'LotConfig',\n",
       "       'LandSlope', 'Neighborhood', 'Condition1', 'Condition2', 'BldgType',\n",
       "       'HouseStyle', 'OverallQual', 'OverallCond', 'YearBuilt', 'YearRemodAdd',\n",
       "       'RoofStyle', 'RoofMatl', 'Exterior1st', 'Exterior2nd', 'MasVnrType',\n",
       "       'MasVnrArea', 'ExterQual', 'ExterCond', 'Foundation', 'BsmtQual',\n",
       "       'BsmtCond', 'BsmtExposure', 'BsmtFinType1', 'BsmtFinSF1',\n",
       "       'BsmtFinType2', 'BsmtFinSF2', 'BsmtUnfSF', 'TotalBsmtSF', 'Heating',\n",
       "       'HeatingQC', 'CentralAir', 'Electrical', '1stFlrSF', '2ndFlrSF',\n",
       "       'LowQualFinSF', 'GrLivArea', 'BsmtFullBath', 'BsmtHalfBath', 'FullBath',\n",
       "       'HalfBath', 'BedroomAbvGr', 'KitchenAbvGr', 'KitchenQual',\n",
       "       'TotRmsAbvGrd', 'Functional', 'Fireplaces', 'FireplaceQu', 'GarageType',\n",
       "       'GarageYrBlt', 'GarageFinish', 'GarageCars', 'GarageArea', 'GarageQual',\n",
       "       'GarageCond', 'PavedDrive', 'WoodDeckSF', 'OpenPorchSF',\n",
       "       'EnclosedPorch', '3SsnPorch', 'ScreenPorch', 'PoolArea', 'PoolQC',\n",
       "       'Fence', 'MiscFeature', 'MiscVal', 'MoSold', 'YrSold', 'SaleType',\n",
       "       'SaleCondition', 'SalePrice'],\n",
       "      dtype='object')"
      ]
     },
     "execution_count": 2,
     "metadata": {},
     "output_type": "execute_result"
    }
   ],
   "source": [
    "# print the list of columns in the dataset to find the name of the prediction target\n",
    "home_data.columns"
   ]
  },
  {
   "cell_type": "code",
   "execution_count": 3,
   "id": "a9a32b42",
   "metadata": {
    "execution": {
     "iopub.execute_input": "2022-08-28T18:07:24.782857Z",
     "iopub.status.busy": "2022-08-28T18:07:24.782427Z",
     "iopub.status.idle": "2022-08-28T18:07:24.795941Z",
     "shell.execute_reply": "2022-08-28T18:07:24.795080Z"
    },
    "papermill": {
     "duration": 0.022587,
     "end_time": "2022-08-28T18:07:24.798054",
     "exception": false,
     "start_time": "2022-08-28T18:07:24.775467",
     "status": "completed"
    },
    "tags": []
   },
   "outputs": [
    {
     "data": {
      "application/javascript": [
       "parent.postMessage({\"jupyterEvent\": \"custom.exercise_interaction\", \"data\": {\"outcomeType\": 1, \"valueTowardsCompletion\": 0.25, \"interactionType\": 1, \"questionType\": 2, \"questionId\": \"1_SetTarget\", \"learnToolsVersion\": \"0.3.4\", \"failureMessage\": \"\", \"exceptionClass\": \"\", \"trace\": \"\"}}, \"*\")"
      ],
      "text/plain": [
       "<IPython.core.display.Javascript object>"
      ]
     },
     "metadata": {},
     "output_type": "display_data"
    },
    {
     "data": {
      "text/markdown": [
       "<span style=\"color:#33cc33\">Correct</span>"
      ],
      "text/plain": [
       "Correct"
      ]
     },
     "metadata": {},
     "output_type": "display_data"
    }
   ],
   "source": [
    "y = home_data['SalePrice']\n",
    "\n",
    "# Check your answer\n",
    "step_1.check()"
   ]
  },
  {
   "cell_type": "code",
   "execution_count": 4,
   "id": "77d71eee",
   "metadata": {
    "execution": {
     "iopub.execute_input": "2022-08-28T18:07:24.811670Z",
     "iopub.status.busy": "2022-08-28T18:07:24.810926Z",
     "iopub.status.idle": "2022-08-28T18:07:24.815204Z",
     "shell.execute_reply": "2022-08-28T18:07:24.814337Z"
    },
    "papermill": {
     "duration": 0.013507,
     "end_time": "2022-08-28T18:07:24.817304",
     "exception": false,
     "start_time": "2022-08-28T18:07:24.803797",
     "status": "completed"
    },
    "tags": []
   },
   "outputs": [],
   "source": [
    "# The lines below will show you a hint or the solution.\n",
    "# step_1.hint() \n",
    "# step_1.solution()"
   ]
  },
  {
   "cell_type": "markdown",
   "id": "9226b164",
   "metadata": {
    "papermill": {
     "duration": 0.005766,
     "end_time": "2022-08-28T18:07:24.829027",
     "exception": false,
     "start_time": "2022-08-28T18:07:24.823261",
     "status": "completed"
    },
    "tags": []
   },
   "source": [
    "## Step 2: Create X\n",
    "Now you will create a DataFrame called `X` holding the predictive features.\n",
    "\n",
    "Since you want only some columns from the original data, you'll first create a list with the names of the columns you want in `X`.\n",
    "\n",
    "You'll use just the following columns in the list (you can copy and paste the whole list to save some typing, though you'll still need to add quotes):\n",
    "  * LotArea\n",
    "  * YearBuilt\n",
    "  * 1stFlrSF\n",
    "  * 2ndFlrSF\n",
    "  * FullBath\n",
    "  * BedroomAbvGr\n",
    "  * TotRmsAbvGrd\n",
    "\n",
    "After you've created that list of features, use it to create the DataFrame that you'll use to fit the model."
   ]
  },
  {
   "cell_type": "code",
   "execution_count": 5,
   "id": "97c91e01",
   "metadata": {
    "execution": {
     "iopub.execute_input": "2022-08-28T18:07:24.842500Z",
     "iopub.status.busy": "2022-08-28T18:07:24.842027Z",
     "iopub.status.idle": "2022-08-28T18:07:24.857094Z",
     "shell.execute_reply": "2022-08-28T18:07:24.855928Z"
    },
    "papermill": {
     "duration": 0.0244,
     "end_time": "2022-08-28T18:07:24.859276",
     "exception": false,
     "start_time": "2022-08-28T18:07:24.834876",
     "status": "completed"
    },
    "tags": []
   },
   "outputs": [
    {
     "data": {
      "application/javascript": [
       "parent.postMessage({\"jupyterEvent\": \"custom.exercise_interaction\", \"data\": {\"outcomeType\": 1, \"valueTowardsCompletion\": 0.25, \"interactionType\": 1, \"questionType\": 2, \"questionId\": \"2_SelectPredictionData\", \"learnToolsVersion\": \"0.3.4\", \"failureMessage\": \"\", \"exceptionClass\": \"\", \"trace\": \"\"}}, \"*\")"
      ],
      "text/plain": [
       "<IPython.core.display.Javascript object>"
      ]
     },
     "metadata": {},
     "output_type": "display_data"
    },
    {
     "data": {
      "text/markdown": [
       "<span style=\"color:#33cc33\">Correct</span>"
      ],
      "text/plain": [
       "Correct"
      ]
     },
     "metadata": {},
     "output_type": "display_data"
    }
   ],
   "source": [
    "# Create the list of features below\n",
    "feature_names = ['LotArea', 'YearBuilt', '1stFlrSF', '2ndFlrSF', 'FullBath', 'BedroomAbvGr', 'TotRmsAbvGrd']\n",
    "\n",
    "# Select data corresponding to features in feature_names\n",
    "X = home_data[feature_names]\n",
    "\n",
    "# Check your answer\n",
    "step_2.check()"
   ]
  },
  {
   "cell_type": "code",
   "execution_count": 6,
   "id": "a1d82ce6",
   "metadata": {
    "execution": {
     "iopub.execute_input": "2022-08-28T18:07:24.872897Z",
     "iopub.status.busy": "2022-08-28T18:07:24.872198Z",
     "iopub.status.idle": "2022-08-28T18:07:24.875901Z",
     "shell.execute_reply": "2022-08-28T18:07:24.875134Z"
    },
    "papermill": {
     "duration": 0.012868,
     "end_time": "2022-08-28T18:07:24.878010",
     "exception": false,
     "start_time": "2022-08-28T18:07:24.865142",
     "status": "completed"
    },
    "tags": []
   },
   "outputs": [],
   "source": [
    "# step_2.hint()\n",
    "# step_2.solution()"
   ]
  },
  {
   "cell_type": "markdown",
   "id": "e23a654e",
   "metadata": {
    "papermill": {
     "duration": 0.005692,
     "end_time": "2022-08-28T18:07:24.889827",
     "exception": false,
     "start_time": "2022-08-28T18:07:24.884135",
     "status": "completed"
    },
    "tags": []
   },
   "source": [
    "## Review Data\n",
    "Before building a model, take a quick look at **X** to verify it looks sensible"
   ]
  },
  {
   "cell_type": "code",
   "execution_count": 7,
   "id": "4a07250d",
   "metadata": {
    "execution": {
     "iopub.execute_input": "2022-08-28T18:07:24.908766Z",
     "iopub.status.busy": "2022-08-28T18:07:24.907703Z",
     "iopub.status.idle": "2022-08-28T18:07:24.953742Z",
     "shell.execute_reply": "2022-08-28T18:07:24.952003Z"
    },
    "papermill": {
     "duration": 0.060546,
     "end_time": "2022-08-28T18:07:24.957808",
     "exception": false,
     "start_time": "2022-08-28T18:07:24.897262",
     "status": "completed"
    },
    "tags": []
   },
   "outputs": [
    {
     "name": "stdout",
     "output_type": "stream",
     "text": [
      "             LotArea    YearBuilt     1stFlrSF     2ndFlrSF     FullBath  \\\n",
      "count    1460.000000  1460.000000  1460.000000  1460.000000  1460.000000   \n",
      "mean    10516.828082  1971.267808  1162.626712   346.992466     1.565068   \n",
      "std      9981.264932    30.202904   386.587738   436.528436     0.550916   \n",
      "min      1300.000000  1872.000000   334.000000     0.000000     0.000000   \n",
      "25%      7553.500000  1954.000000   882.000000     0.000000     1.000000   \n",
      "50%      9478.500000  1973.000000  1087.000000     0.000000     2.000000   \n",
      "75%     11601.500000  2000.000000  1391.250000   728.000000     2.000000   \n",
      "max    215245.000000  2010.000000  4692.000000  2065.000000     3.000000   \n",
      "\n",
      "       BedroomAbvGr  TotRmsAbvGrd  \n",
      "count   1460.000000   1460.000000  \n",
      "mean       2.866438      6.517808  \n",
      "std        0.815778      1.625393  \n",
      "min        0.000000      2.000000  \n",
      "25%        2.000000      5.000000  \n",
      "50%        3.000000      6.000000  \n",
      "75%        3.000000      7.000000  \n",
      "max        8.000000     14.000000  \n",
      "   LotArea  YearBuilt  1stFlrSF  2ndFlrSF  FullBath  BedroomAbvGr  \\\n",
      "0     8450       2003       856       854         2             3   \n",
      "1     9600       1976      1262         0         2             3   \n",
      "2    11250       2001       920       866         2             3   \n",
      "3     9550       1915       961       756         1             3   \n",
      "4    14260       2000      1145      1053         2             4   \n",
      "\n",
      "   TotRmsAbvGrd  \n",
      "0             8  \n",
      "1             6  \n",
      "2             6  \n",
      "3             7  \n",
      "4             9  \n"
     ]
    }
   ],
   "source": [
    "# Review data\n",
    "# print description or statistics from X\n",
    "print(X.describe())\n",
    "\n",
    "# print the top few lines\n",
    "print(X.head())"
   ]
  },
  {
   "cell_type": "markdown",
   "id": "6a25748f",
   "metadata": {
    "papermill": {
     "duration": 0.00719,
     "end_time": "2022-08-28T18:07:24.973768",
     "exception": false,
     "start_time": "2022-08-28T18:07:24.966578",
     "status": "completed"
    },
    "tags": []
   },
   "source": [
    "## Step 3: Specify and Fit Model\n",
    "Create a `DecisionTreeRegressor` and save it iowa_model. Ensure you've done the relevant import from sklearn to run this command.\n",
    "\n",
    "Then fit the model you just created using the data in `X` and `y` that you saved above."
   ]
  },
  {
   "cell_type": "code",
   "execution_count": 8,
   "id": "33d0a8a8",
   "metadata": {
    "execution": {
     "iopub.execute_input": "2022-08-28T18:07:24.989263Z",
     "iopub.status.busy": "2022-08-28T18:07:24.988873Z",
     "iopub.status.idle": "2022-08-28T18:07:25.012711Z",
     "shell.execute_reply": "2022-08-28T18:07:25.010792Z"
    },
    "papermill": {
     "duration": 0.036443,
     "end_time": "2022-08-28T18:07:25.016512",
     "exception": false,
     "start_time": "2022-08-28T18:07:24.980069",
     "status": "completed"
    },
    "tags": []
   },
   "outputs": [
    {
     "data": {
      "application/javascript": [
       "parent.postMessage({\"jupyterEvent\": \"custom.exercise_interaction\", \"data\": {\"outcomeType\": 1, \"valueTowardsCompletion\": 0.25, \"interactionType\": 1, \"questionType\": 2, \"questionId\": \"3_CreateModel\", \"learnToolsVersion\": \"0.3.4\", \"failureMessage\": \"\", \"exceptionClass\": \"\", \"trace\": \"\"}}, \"*\")"
      ],
      "text/plain": [
       "<IPython.core.display.Javascript object>"
      ]
     },
     "metadata": {},
     "output_type": "display_data"
    },
    {
     "data": {
      "text/markdown": [
       "<span style=\"color:#33cc33\">Correct</span>"
      ],
      "text/plain": [
       "Correct"
      ]
     },
     "metadata": {},
     "output_type": "display_data"
    }
   ],
   "source": [
    "from sklearn.tree import DecisionTreeRegressor\n",
    "#specify the model. \n",
    "#For model reproducibility, set a numeric value for random_state when specifying the model\n",
    "iowa_model = DecisionTreeRegressor(random_state=0)\n",
    "\n",
    "# Fit the model\n",
    "iowa_model.fit(X, y)\n",
    "\n",
    "# Check your answer\n",
    "step_3.check()"
   ]
  },
  {
   "cell_type": "code",
   "execution_count": 9,
   "id": "0cb54c45",
   "metadata": {
    "execution": {
     "iopub.execute_input": "2022-08-28T18:07:25.030859Z",
     "iopub.status.busy": "2022-08-28T18:07:25.030450Z",
     "iopub.status.idle": "2022-08-28T18:07:25.034741Z",
     "shell.execute_reply": "2022-08-28T18:07:25.033747Z"
    },
    "papermill": {
     "duration": 0.014047,
     "end_time": "2022-08-28T18:07:25.036932",
     "exception": false,
     "start_time": "2022-08-28T18:07:25.022885",
     "status": "completed"
    },
    "tags": []
   },
   "outputs": [],
   "source": [
    "# step_3.hint()\n",
    "# step_3.solution()"
   ]
  },
  {
   "cell_type": "markdown",
   "id": "d965e2a4",
   "metadata": {
    "papermill": {
     "duration": 0.005892,
     "end_time": "2022-08-28T18:07:25.049115",
     "exception": false,
     "start_time": "2022-08-28T18:07:25.043223",
     "status": "completed"
    },
    "tags": []
   },
   "source": [
    "## Step 4: Make Predictions\n",
    "Make predictions with the model's `predict` command using `X` as the data. Save the results to a variable called `predictions`."
   ]
  },
  {
   "cell_type": "code",
   "execution_count": 10,
   "id": "a1457b42",
   "metadata": {
    "execution": {
     "iopub.execute_input": "2022-08-28T18:07:25.063268Z",
     "iopub.status.busy": "2022-08-28T18:07:25.062760Z",
     "iopub.status.idle": "2022-08-28T18:07:25.077915Z",
     "shell.execute_reply": "2022-08-28T18:07:25.076676Z"
    },
    "papermill": {
     "duration": 0.024769,
     "end_time": "2022-08-28T18:07:25.080152",
     "exception": false,
     "start_time": "2022-08-28T18:07:25.055383",
     "status": "completed"
    },
    "tags": []
   },
   "outputs": [
    {
     "name": "stdout",
     "output_type": "stream",
     "text": [
      "[208500. 181500. 223500. ... 266500. 142125. 147500.]\n"
     ]
    },
    {
     "data": {
      "application/javascript": [
       "parent.postMessage({\"jupyterEvent\": \"custom.exercise_interaction\", \"data\": {\"outcomeType\": 1, \"valueTowardsCompletion\": 0.25, \"interactionType\": 1, \"questionType\": 2, \"questionId\": \"4_MakePredictions\", \"learnToolsVersion\": \"0.3.4\", \"failureMessage\": \"\", \"exceptionClass\": \"\", \"trace\": \"\"}}, \"*\")"
      ],
      "text/plain": [
       "<IPython.core.display.Javascript object>"
      ]
     },
     "metadata": {},
     "output_type": "display_data"
    },
    {
     "data": {
      "text/markdown": [
       "<span style=\"color:#33cc33\">Correct</span>"
      ],
      "text/plain": [
       "Correct"
      ]
     },
     "metadata": {},
     "output_type": "display_data"
    }
   ],
   "source": [
    "predictions = iowa_model.predict(X)\n",
    "print(predictions)\n",
    "\n",
    "# Check your answer\n",
    "step_4.check()"
   ]
  },
  {
   "cell_type": "code",
   "execution_count": 11,
   "id": "cf3d7000",
   "metadata": {
    "execution": {
     "iopub.execute_input": "2022-08-28T18:07:25.095413Z",
     "iopub.status.busy": "2022-08-28T18:07:25.094634Z",
     "iopub.status.idle": "2022-08-28T18:07:25.099249Z",
     "shell.execute_reply": "2022-08-28T18:07:25.098422Z"
    },
    "papermill": {
     "duration": 0.014942,
     "end_time": "2022-08-28T18:07:25.101571",
     "exception": false,
     "start_time": "2022-08-28T18:07:25.086629",
     "status": "completed"
    },
    "tags": []
   },
   "outputs": [],
   "source": [
    "# step_4.hint()\n",
    "# step_4.solution()"
   ]
  },
  {
   "cell_type": "markdown",
   "id": "0c015ec9",
   "metadata": {
    "papermill": {
     "duration": 0.006295,
     "end_time": "2022-08-28T18:07:25.114391",
     "exception": false,
     "start_time": "2022-08-28T18:07:25.108096",
     "status": "completed"
    },
    "tags": []
   },
   "source": [
    "## Think About Your Results\n",
    "\n",
    "Use the `head` method to compare the top few predictions to the actual home values (in `y`) for those same homes. Anything surprising?\n"
   ]
  },
  {
   "cell_type": "code",
   "execution_count": 12,
   "id": "02a43699",
   "metadata": {
    "execution": {
     "iopub.execute_input": "2022-08-28T18:07:25.129572Z",
     "iopub.status.busy": "2022-08-28T18:07:25.128810Z",
     "iopub.status.idle": "2022-08-28T18:07:25.763105Z",
     "shell.execute_reply": "2022-08-28T18:07:25.762158Z"
    },
    "papermill": {
     "duration": 0.644599,
     "end_time": "2022-08-28T18:07:25.765468",
     "exception": false,
     "start_time": "2022-08-28T18:07:25.120869",
     "status": "completed"
    },
    "tags": []
   },
   "outputs": [
    {
     "data": {
      "image/png": "[encoded data removed]",
      "text/plain": [
       "<Figure size 432x288 with 1 Axes>"
      ]
     },
     "metadata": {
      "needs_background": "light"
     },
     "output_type": "display_data"
    }
   ],
   "source": [
    "# You can write code in this cell\n",
    "import seaborn as sns\n",
    "sns.regplot(x= predictions, y= y);"
   ]
  },
  {
   "cell_type": "markdown",
   "id": "5cf0925f",
   "metadata": {
    "papermill": {
     "duration": 0.006468,
     "end_time": "2022-08-28T18:07:25.778778",
     "exception": false,
     "start_time": "2022-08-28T18:07:25.772310",
     "status": "completed"
    },
    "tags": []
   },
   "source": [
    "It's natural to ask how accurate the model's predictions will be and how you can improve that. That will be you're next step.\n",
    "\n",
    "# Keep Going\n",
    "\n",
    "You are ready for **[Model Validation](https://www.kaggle.com/dansbecker/model-validation).**\n"
   ]
  },
  {
   "cell_type": "markdown",
   "id": "00ae2bd3",
   "metadata": {
    "papermill": {
     "duration": 0.006408,
     "end_time": "2022-08-28T18:07:25.792000",
     "exception": false,
     "start_time": "2022-08-28T18:07:25.785592",
     "status": "completed"
    },
    "tags": []
   },
   "source": [
    "---\n",
    "\n",
    "\n",
    "\n",
    "\n",
    "*Have questions or comments? Visit the [course discussion forum](https://www.kaggle.com/learn/intro-to-machine-learning/discussion) to chat with other learners.*"
   ]
  }
 ],
 "metadata": {
  "kernelspec": {
   "display_name": "Python 3",
   "language": "python",
   "name": "python3"
  },
  "language_info": {
   "codemirror_mode": {
    "name": "ipython",
    "version": 3
   },
   "file_extension": ".py",
   "mimetype": "text/x-python",
   "name": "python",
   "nbconvert_exporter": "python",
   "pygments_lexer": "ipython3",
   "version": "3.7.12"
  },
  "papermill": {
   "default_parameters": {},
   "duration": 13.048327,
   "end_time": "2022-08-28T18:07:26.520550",
   "environment_variables": {},
   "exception": null,
   "input_path": "__notebook__.ipynb",
   "output_path": "__notebook__.ipynb",
   "parameters": {},
   "start_time": "2022-08-28T18:07:13.472223",
   "version": "2.3.4"
  }
 },
 "nbformat": 4,
 "nbformat_minor": 5
}
