{
 "cells": [
  {
   "cell_type": "markdown",
   "id": "ef89e556",
   "metadata": {
    "papermill": {
     "duration": 0.008725,
     "end_time": "2022-08-30T13:31:01.484290",
     "exception": false,
     "start_time": "2022-08-30T13:31:01.475565",
     "status": "completed"
    },
    "tags": []
   },
   "source": [
    "**This notebook is an exercise in the [Intermediate Machine Learning](https://www.kaggle.com/learn/intermediate-machine-learning) course.  You can reference the tutorial at [this link](https://www.kaggle.com/alexisbcook/xgboost).**\n",
    "\n",
    "---\n"
   ]
  },
  {
   "cell_type": "markdown",
   "id": "f0686993",
   "metadata": {
    "papermill": {
     "duration": 0.006896,
     "end_time": "2022-08-30T13:31:01.498704",
     "exception": false,
     "start_time": "2022-08-30T13:31:01.491808",
     "status": "completed"
    },
    "tags": []
   },
   "source": [
    "In this exercise, you will use your new knowledge to train a model with **gradient boosting**.\n",
    "\n",
    "# Setup\n",
    "\n",
    "The questions below will give you feedback on your work. Run the following cell to set up the feedback system."
   ]
  },
  {
   "cell_type": "code",
   "execution_count": 1,
   "id": "58579bf6",
   "metadata": {
    "execution": {
     "iopub.execute_input": "2022-08-30T13:31:01.518709Z",
     "iopub.status.busy": "2022-08-30T13:31:01.518147Z",
     "iopub.status.idle": "2022-08-30T13:31:04.057545Z",
     "shell.execute_reply": "2022-08-30T13:31:04.056277Z"
    },
    "papermill": {
     "duration": 2.554227,
     "end_time": "2022-08-30T13:31:04.060512",
     "exception": false,
     "start_time": "2022-08-30T13:31:01.506285",
     "status": "completed"
    },
    "tags": []
   },
   "outputs": [
    {
     "name": "stdout",
     "output_type": "stream",
     "text": [
      "Setup Complete\n"
     ]
    }
   ],
   "source": [
    "# Set up code checking\n",
    "import os\n",
    "if not os.path.exists(\"../input/train.csv\"):\n",
    "    os.symlink(\"../input/home-data-for-ml-course/train.csv\", \"../input/train.csv\")  \n",
    "    os.symlink(\"../input/home-data-for-ml-course/test.csv\", \"../input/test.csv\") \n",
    "from learntools.core import binder\n",
    "binder.bind(globals())\n",
    "from learntools.ml_intermediate.ex6 import *\n",
    "print(\"Setup Complete\")"
   ]
  },
  {
   "cell_type": "markdown",
   "id": "fc82210e",
   "metadata": {
    "papermill": {
     "duration": 0.006138,
     "end_time": "2022-08-30T13:31:04.073296",
     "exception": false,
     "start_time": "2022-08-30T13:31:04.067158",
     "status": "completed"
    },
    "tags": []
   },
   "source": [
    "You will work with the [Housing Prices Competition for Kaggle Learn Users](https://www.kaggle.com/c/home-data-for-ml-course) dataset from the previous exercise. \n",
    "\n",
    "![Ames Housing dataset image](https://i.imgur.com/lTJVG4e.png)\n",
    "\n",
    "Run the next code cell without changes to load the training and validation sets in `X_train`, `X_valid`, `y_train`, and `y_valid`.  The test set is loaded in `X_test`."
   ]
  },
  {
   "cell_type": "code",
   "execution_count": 2,
   "id": "d49fdc6d",
   "metadata": {
    "execution": {
     "iopub.execute_input": "2022-08-30T13:31:04.088420Z",
     "iopub.status.busy": "2022-08-30T13:31:04.087322Z",
     "iopub.status.idle": "2022-08-30T13:31:04.280898Z",
     "shell.execute_reply": "2022-08-30T13:31:04.279283Z"
    },
    "papermill": {
     "duration": 0.20417,
     "end_time": "2022-08-30T13:31:04.283784",
     "exception": false,
     "start_time": "2022-08-30T13:31:04.079614",
     "status": "completed"
    },
    "tags": []
   },
   "outputs": [],
   "source": [
    "import pandas as pd\n",
    "from sklearn.model_selection import train_test_split\n",
    "\n",
    "# Read the data\n",
    "X = pd.read_csv('../input/train.csv', index_col='Id')\n",
    "X_test_full = pd.read_csv('../input/test.csv', index_col='Id')\n",
    "\n",
    "# Remove rows with missing target, separate target from predictors\n",
    "X.dropna(axis=0, subset=['SalePrice'], inplace=True)\n",
    "y = X.SalePrice              \n",
    "X.drop(['SalePrice'], axis=1, inplace=True)\n",
    "\n",
    "# Break off validation set from training data\n",
    "X_train_full, X_valid_full, y_train, y_valid = train_test_split(X, y, train_size=0.8, test_size=0.2,\n",
    "                                                                random_state=0)\n",
    "\n",
    "# \"Cardinality\" means the number of unique values in a column\n",
    "# Select categorical columns with relatively low cardinality (convenient but arbitrary)\n",
    "low_cardinality_cols = [cname for cname in X_train_full.columns if X_train_full[cname].nunique() < 10 and \n",
    "                        X_train_full[cname].dtype == \"object\"]\n",
    "\n",
    "# Select numeric columns\n",
    "numeric_cols = [cname for cname in X_train_full.columns if X_train_full[cname].dtype in ['int64', 'float64']]\n",
    "\n",
    "# Keep selected columns only\n",
    "my_cols = low_cardinality_cols + numeric_cols\n",
    "X_train = X_train_full[my_cols].copy()\n",
    "X_valid = X_valid_full[my_cols].copy()\n",
    "X_test = X_test_full[my_cols].copy()\n",
    "\n",
    "# One-hot encode the data (to shorten the code, we use pandas)\n",
    "X_train = pd.get_dummies(X_train)\n",
    "X_valid = pd.get_dummies(X_valid)\n",
    "X_test = pd.get_dummies(X_test)\n",
    "X_train, X_valid = X_train.align(X_valid, join='left', axis=1)\n",
    "X_train, X_test = X_train.align(X_test, join='left', axis=1)"
   ]
  },
  {
   "cell_type": "markdown",
   "id": "f6fc46bd",
   "metadata": {
    "papermill": {
     "duration": 0.00623,
     "end_time": "2022-08-30T13:31:04.297050",
     "exception": false,
     "start_time": "2022-08-30T13:31:04.290820",
     "status": "completed"
    },
    "tags": []
   },
   "source": [
    "# Step 1: Build model\n",
    "\n",
    "### Part A\n",
    "\n",
    "In this step, you'll build and train your first model with gradient boosting.\n",
    "\n",
    "- Begin by setting `my_model_1` to an XGBoost model.  Use the [XGBRegressor](https://xgboost.readthedocs.io/en/latest/python/python_api.html#xgboost.XGBRegressor) class, and set the random seed to 0 (`random_state=0`).  **Leave all other parameters as default.**\n",
    "- Then, fit the model to the training data in `X_train` and `y_train`."
   ]
  },
  {
   "cell_type": "code",
   "execution_count": 3,
   "id": "ded628b8",
   "metadata": {
    "execution": {
     "iopub.execute_input": "2022-08-30T13:31:04.311912Z",
     "iopub.status.busy": "2022-08-30T13:31:04.311072Z",
     "iopub.status.idle": "2022-08-30T13:31:05.315321Z",
     "shell.execute_reply": "2022-08-30T13:31:05.314511Z"
    },
    "papermill": {
     "duration": 1.013966,
     "end_time": "2022-08-30T13:31:05.317459",
     "exception": false,
     "start_time": "2022-08-30T13:31:04.303493",
     "status": "completed"
    },
    "tags": []
   },
   "outputs": [
    {
     "data": {
      "application/javascript": [
       "parent.postMessage({\"jupyterEvent\": \"custom.exercise_interaction\", \"data\": {\"outcomeType\": 1, \"valueTowardsCompletion\": 0.5, \"interactionType\": 1, \"questionType\": 2, \"questionId\": \"1.1_Model1A\", \"learnToolsVersion\": \"0.3.4\", \"failureMessage\": \"\", \"exceptionClass\": \"\", \"trace\": \"\"}}, \"*\")"
      ],
      "text/plain": [
       "<IPython.core.display.Javascript object>"
      ]
     },
     "metadata": {},
     "output_type": "display_data"
    },
    {
     "data": {
      "text/markdown": [
       "<span style=\"color:#33cc33\">Correct</span>"
      ],
      "text/plain": [
       "Correct"
      ]
     },
     "metadata": {},
     "output_type": "display_data"
    }
   ],
   "source": [
    "from xgboost import XGBRegressor\n",
    "\n",
    "# Define the model\n",
    "my_model_1 = XGBRegressor(random_state=0) # Your code here\n",
    "\n",
    "# Fit the model\n",
    "my_model_1.fit(X_train, y_train) # Your code here\n",
    "\n",
    "# Check your answer\n",
    "step_1.a.check()"
   ]
  },
  {
   "cell_type": "code",
   "execution_count": 4,
   "id": "ff2dde24",
   "metadata": {
    "execution": {
     "iopub.execute_input": "2022-08-30T13:31:05.332012Z",
     "iopub.status.busy": "2022-08-30T13:31:05.331127Z",
     "iopub.status.idle": "2022-08-30T13:31:05.335355Z",
     "shell.execute_reply": "2022-08-30T13:31:05.334574Z"
    },
    "papermill": {
     "duration": 0.013747,
     "end_time": "2022-08-30T13:31:05.337455",
     "exception": false,
     "start_time": "2022-08-30T13:31:05.323708",
     "status": "completed"
    },
    "tags": []
   },
   "outputs": [],
   "source": [
    "# Lines below will give you a hint or solution code\n",
    "#step_1.a.hint()\n",
    "#step_1.a.solution()"
   ]
  },
  {
   "cell_type": "markdown",
   "id": "38e8e656",
   "metadata": {
    "papermill": {
     "duration": 0.006398,
     "end_time": "2022-08-30T13:31:05.350261",
     "exception": false,
     "start_time": "2022-08-30T13:31:05.343863",
     "status": "completed"
    },
    "tags": []
   },
   "source": [
    "### Part B\n",
    "\n",
    "Set `predictions_1` to the model's predictions for the validation data.  Recall that the validation features are stored in `X_valid`."
   ]
  },
  {
   "cell_type": "code",
   "execution_count": 5,
   "id": "ac60628b",
   "metadata": {
    "execution": {
     "iopub.execute_input": "2022-08-30T13:31:05.365398Z",
     "iopub.status.busy": "2022-08-30T13:31:05.364294Z",
     "iopub.status.idle": "2022-08-30T13:31:05.386146Z",
     "shell.execute_reply": "2022-08-30T13:31:05.384755Z"
    },
    "papermill": {
     "duration": 0.033062,
     "end_time": "2022-08-30T13:31:05.389831",
     "exception": false,
     "start_time": "2022-08-30T13:31:05.356769",
     "status": "completed"
    },
    "tags": []
   },
   "outputs": [
    {
     "data": {
      "application/javascript": [
       "parent.postMessage({\"jupyterEvent\": \"custom.exercise_interaction\", \"data\": {\"outcomeType\": 1, \"valueTowardsCompletion\": 0.5, \"interactionType\": 1, \"questionType\": 2, \"questionId\": \"1.2_Model1B\", \"learnToolsVersion\": \"0.3.4\", \"failureMessage\": \"\", \"exceptionClass\": \"\", \"trace\": \"\"}}, \"*\")"
      ],
      "text/plain": [
       "<IPython.core.display.Javascript object>"
      ]
     },
     "metadata": {},
     "output_type": "display_data"
    },
    {
     "data": {
      "text/markdown": [
       "<span style=\"color:#33cc33\">Correct</span>"
      ],
      "text/plain": [
       "Correct"
      ]
     },
     "metadata": {},
     "output_type": "display_data"
    }
   ],
   "source": [
    "from sklearn.metrics import mean_absolute_error\n",
    "\n",
    "# Get predictions\n",
    "predictions_1 = my_model_1.predict(X_valid) # Your code here\n",
    "\n",
    "# Check your answer\n",
    "step_1.b.check()"
   ]
  },
  {
   "cell_type": "code",
   "execution_count": 6,
   "id": "9e417857",
   "metadata": {
    "execution": {
     "iopub.execute_input": "2022-08-30T13:31:05.405268Z",
     "iopub.status.busy": "2022-08-30T13:31:05.404470Z",
     "iopub.status.idle": "2022-08-30T13:31:05.409360Z",
     "shell.execute_reply": "2022-08-30T13:31:05.408433Z"
    },
    "papermill": {
     "duration": 0.015067,
     "end_time": "2022-08-30T13:31:05.411470",
     "exception": false,
     "start_time": "2022-08-30T13:31:05.396403",
     "status": "completed"
    },
    "tags": []
   },
   "outputs": [],
   "source": [
    "# Lines below will give you a hint or solution code\n",
    "#step_1.b.hint()\n",
    "#step_1.b.solution()"
   ]
  },
  {
   "cell_type": "markdown",
   "id": "05f5d588",
   "metadata": {
    "papermill": {
     "duration": 0.006237,
     "end_time": "2022-08-30T13:31:05.424325",
     "exception": false,
     "start_time": "2022-08-30T13:31:05.418088",
     "status": "completed"
    },
    "tags": []
   },
   "source": [
    "### Part C\n",
    "\n",
    "Finally, use the `mean_absolute_error()` function to calculate the mean absolute error (MAE) corresponding to the predictions for the validation set.  Recall that the labels for the validation data are stored in `y_valid`."
   ]
  },
  {
   "cell_type": "code",
   "execution_count": 7,
   "id": "c3556ca2",
   "metadata": {
    "execution": {
     "iopub.execute_input": "2022-08-30T13:31:05.439357Z",
     "iopub.status.busy": "2022-08-30T13:31:05.438355Z",
     "iopub.status.idle": "2022-08-30T13:31:05.450145Z",
     "shell.execute_reply": "2022-08-30T13:31:05.449037Z"
    },
    "papermill": {
     "duration": 0.021654,
     "end_time": "2022-08-30T13:31:05.452397",
     "exception": false,
     "start_time": "2022-08-30T13:31:05.430743",
     "status": "completed"
    },
    "tags": []
   },
   "outputs": [
    {
     "name": "stdout",
     "output_type": "stream",
     "text": [
      "Mean Absolute Error: 17662.736729452055\n"
     ]
    },
    {
     "data": {
      "application/javascript": [
       "parent.postMessage({\"jupyterEvent\": \"custom.exercise_interaction\", \"data\": {\"outcomeType\": 1, \"valueTowardsCompletion\": 0.5, \"interactionType\": 1, \"questionType\": 2, \"questionId\": \"1.3_Model1C\", \"learnToolsVersion\": \"0.3.4\", \"failureMessage\": \"\", \"exceptionClass\": \"\", \"trace\": \"\"}}, \"*\")"
      ],
      "text/plain": [
       "<IPython.core.display.Javascript object>"
      ]
     },
     "metadata": {},
     "output_type": "display_data"
    },
    {
     "data": {
      "text/markdown": [
       "<span style=\"color:#33cc33\">Correct</span>"
      ],
      "text/plain": [
       "Correct"
      ]
     },
     "metadata": {},
     "output_type": "display_data"
    }
   ],
   "source": [
    "# Calculate MAE\n",
    "mae_1 = mean_absolute_error(y_valid, predictions_1) # Your code here\n",
    "\n",
    "# Uncomment to print MAE\n",
    "print(\"Mean Absolute Error:\" , mae_1)\n",
    "\n",
    "# Check your answer\n",
    "step_1.c.check()"
   ]
  },
  {
   "cell_type": "code",
   "execution_count": 8,
   "id": "24dcd0c3",
   "metadata": {
    "execution": {
     "iopub.execute_input": "2022-08-30T13:31:05.469072Z",
     "iopub.status.busy": "2022-08-30T13:31:05.468440Z",
     "iopub.status.idle": "2022-08-30T13:31:05.472051Z",
     "shell.execute_reply": "2022-08-30T13:31:05.471282Z"
    },
    "papermill": {
     "duration": 0.013821,
     "end_time": "2022-08-30T13:31:05.474022",
     "exception": false,
     "start_time": "2022-08-30T13:31:05.460201",
     "status": "completed"
    },
    "tags": []
   },
   "outputs": [],
   "source": [
    "# Lines below will give you a hint or solution code\n",
    "#step_1.c.hint()\n",
    "#step_1.c.solution()"
   ]
  },
  {
   "cell_type": "markdown",
   "id": "b191582c",
   "metadata": {
    "papermill": {
     "duration": 0.006598,
     "end_time": "2022-08-30T13:31:05.487423",
     "exception": false,
     "start_time": "2022-08-30T13:31:05.480825",
     "status": "completed"
    },
    "tags": []
   },
   "source": [
    "# Step 2: Improve the model\n",
    "\n",
    "Now that you've trained a default model as baseline, it's time to tinker with the parameters, to see if you can get better performance!\n",
    "- Begin by setting `my_model_2` to an XGBoost model, using the [XGBRegressor](https://xgboost.readthedocs.io/en/latest/python/python_api.html#xgboost.XGBRegressor) class.  Use what you learned in the previous tutorial to figure out how to change the default parameters (like `n_estimators` and `learning_rate`) to get better results.\n",
    "- Then, fit the model to the training data in `X_train` and `y_train`.\n",
    "- Set `predictions_2` to the model's predictions for the validation data.  Recall that the validation features are stored in `X_valid`.\n",
    "- Finally, use the `mean_absolute_error()` function to calculate the mean absolute error (MAE) corresponding to the predictions on the validation set.  Recall that the labels for the validation data are stored in `y_valid`.\n",
    "\n",
    "In order for this step to be marked correct, your model in `my_model_2` must attain lower MAE than the model in `my_model_1`. "
   ]
  },
  {
   "cell_type": "code",
   "execution_count": 9,
   "id": "c49357e9",
   "metadata": {
    "execution": {
     "iopub.execute_input": "2022-08-30T13:31:05.503348Z",
     "iopub.status.busy": "2022-08-30T13:31:05.502906Z",
     "iopub.status.idle": "2022-08-30T13:31:08.281156Z",
     "shell.execute_reply": "2022-08-30T13:31:08.280035Z"
    },
    "papermill": {
     "duration": 2.789376,
     "end_time": "2022-08-30T13:31:08.283860",
     "exception": false,
     "start_time": "2022-08-30T13:31:05.494484",
     "status": "completed"
    },
    "tags": []
   },
   "outputs": [
    {
     "name": "stderr",
     "output_type": "stream",
     "text": [
      "/opt/conda/lib/python3.7/site-packages/xgboost/sklearn.py:797: UserWarning: `early_stopping_rounds` in `fit` method is deprecated for better compatibility with scikit-learn, use `early_stopping_rounds` in constructor or`set_params` instead.\n",
      "  UserWarning,\n"
     ]
    },
    {
     "data": {
      "text/plain": [
       "XGBRegressor(base_score=0.5, booster='gbtree', callbacks=None,\n",
       "             colsample_bylevel=1, colsample_bynode=1, colsample_bytree=1,\n",
       "             early_stopping_rounds=None, enable_categorical=False,\n",
       "             eval_metric=None, gamma=0, gpu_id=-1, grow_policy='depthwise',\n",
       "             importance_type=None, interaction_constraints='',\n",
       "             learning_rate=0.05, max_bin=256, max_cat_to_onehot=4,\n",
       "             max_delta_step=0, max_depth=6, max_leaves=0, min_child_weight=1,\n",
       "             missing=nan, monotone_constraints='()', n_estimators=1000,\n",
       "             n_jobs=0, num_parallel_tree=1, predictor='auto', random_state=0,\n",
       "             reg_alpha=0, reg_lambda=1, ...)"
      ]
     },
     "execution_count": 9,
     "metadata": {},
     "output_type": "execute_result"
    }
   ],
   "source": [
    "my_model = XGBRegressor(n_estimators=1000, learning_rate=0.05)\n",
    "my_model.fit(X_train, y_train, \n",
    "             early_stopping_rounds=5, \n",
    "             eval_set=[(X_valid, y_valid)], \n",
    "             verbose=False)"
   ]
  },
  {
   "cell_type": "code",
   "execution_count": 10,
   "id": "81fabbe9",
   "metadata": {
    "execution": {
     "iopub.execute_input": "2022-08-30T13:31:08.299984Z",
     "iopub.status.busy": "2022-08-30T13:31:08.299560Z",
     "iopub.status.idle": "2022-08-30T13:31:25.045096Z",
     "shell.execute_reply": "2022-08-30T13:31:25.044233Z"
    },
    "papermill": {
     "duration": 16.756379,
     "end_time": "2022-08-30T13:31:25.047486",
     "exception": false,
     "start_time": "2022-08-30T13:31:08.291107",
     "status": "completed"
    },
    "tags": []
   },
   "outputs": [
    {
     "data": {
      "image/png": "[encoded data removed]",
      "text/plain": [
       "<Figure size 432x288 with 1 Axes>"
      ]
     },
     "metadata": {
      "needs_background": "light"
     },
     "output_type": "display_data"
    }
   ],
   "source": [
    "def get_score(lr):\n",
    "    my_model = XGBRegressor(n_estimators= 500, learning_rate= lr, early_stopping_rounds=5) # Your code here\n",
    "    my_model.fit(X_train, y_train,\n",
    "             eval_set=[(X_valid, y_valid)],\n",
    "             verbose=False) # Your code here\n",
    "    preds = my_model.predict(X_valid) # Your code here\n",
    "    mae = mean_absolute_error(y_valid, preds) # Your code here\n",
    "    return mae\n",
    "\n",
    "import numpy as np\n",
    "import seaborn as sns\n",
    "scores = {lr:get_score(lr) for lr in np.arange(0.01, 0.705, 0.05)}\n",
    "\n",
    "sns.lineplot(y= scores.values(), x= scores.keys());"
   ]
  },
  {
   "cell_type": "code",
   "execution_count": 11,
   "id": "e1b1e61b",
   "metadata": {
    "execution": {
     "iopub.execute_input": "2022-08-30T13:31:25.065469Z",
     "iopub.status.busy": "2022-08-30T13:31:25.064359Z",
     "iopub.status.idle": "2022-08-30T13:31:25.070715Z",
     "shell.execute_reply": "2022-08-30T13:31:25.069566Z"
    },
    "papermill": {
     "duration": 0.018018,
     "end_time": "2022-08-30T13:31:25.073335",
     "exception": false,
     "start_time": "2022-08-30T13:31:25.055317",
     "status": "completed"
    },
    "tags": []
   },
   "outputs": [
    {
     "name": "stdout",
     "output_type": "stream",
     "text": [
      "Best MAE: 17021.28149079623 with lr= 0.060000000000000005\n"
     ]
    }
   ],
   "source": [
    "best_score = min(scores.items(), key= lambda x:x[1])\n",
    "print(f\"Best MAE: {best_score[1]} with lr= {best_score[0]}\")"
   ]
  },
  {
   "cell_type": "code",
   "execution_count": 12,
   "id": "0a5fae00",
   "metadata": {
    "execution": {
     "iopub.execute_input": "2022-08-30T13:31:25.090995Z",
     "iopub.status.busy": "2022-08-30T13:31:25.089758Z",
     "iopub.status.idle": "2022-08-30T13:31:27.301621Z",
     "shell.execute_reply": "2022-08-30T13:31:27.300278Z"
    },
    "papermill": {
     "duration": 2.222891,
     "end_time": "2022-08-30T13:31:27.303816",
     "exception": false,
     "start_time": "2022-08-30T13:31:25.080925",
     "status": "completed"
    },
    "tags": []
   },
   "outputs": [
    {
     "name": "stdout",
     "output_type": "stream",
     "text": [
      "Mean Absolute Error: 17021.28149079623\n"
     ]
    },
    {
     "data": {
      "application/javascript": [
       "parent.postMessage({\"jupyterEvent\": \"custom.exercise_interaction\", \"data\": {\"outcomeType\": 1, \"valueTowardsCompletion\": 0.5, \"interactionType\": 1, \"questionType\": 2, \"questionId\": \"2_Model2\", \"learnToolsVersion\": \"0.3.4\", \"failureMessage\": \"\", \"exceptionClass\": \"\", \"trace\": \"\"}}, \"*\")"
      ],
      "text/plain": [
       "<IPython.core.display.Javascript object>"
      ]
     },
     "metadata": {},
     "output_type": "display_data"
    },
    {
     "data": {
      "text/markdown": [
       "<span style=\"color:#33cc33\">Correct</span>"
      ],
      "text/plain": [
       "Correct"
      ]
     },
     "metadata": {},
     "output_type": "display_data"
    }
   ],
   "source": [
    "# Define the model\n",
    "my_model_2 = XGBRegressor(n_estimators= 500, learning_rate= best_score[0], early_stopping_rounds=5) # Your code here\n",
    "my_model_2.fit(X_train, y_train,\n",
    "         eval_set=[(X_valid, y_valid)],\n",
    "         verbose=False) # Your code here\n",
    "predictions_2 = my_model_2.predict(X_valid) # Your code here\n",
    "mae_2 = mean_absolute_error(y_valid, predictions_2) # Your code here\n",
    "\n",
    "# Uncomment to print MAE\n",
    "print(\"Mean Absolute Error:\" , mae_2)\n",
    "\n",
    "# Check your answer\n",
    "step_2.check()"
   ]
  },
  {
   "cell_type": "code",
   "execution_count": 13,
   "id": "1150622f",
   "metadata": {
    "execution": {
     "iopub.execute_input": "2022-08-30T13:31:27.321533Z",
     "iopub.status.busy": "2022-08-30T13:31:27.321094Z",
     "iopub.status.idle": "2022-08-30T13:31:27.325531Z",
     "shell.execute_reply": "2022-08-30T13:31:27.324344Z"
    },
    "papermill": {
     "duration": 0.016855,
     "end_time": "2022-08-30T13:31:27.328507",
     "exception": false,
     "start_time": "2022-08-30T13:31:27.311652",
     "status": "completed"
    },
    "tags": []
   },
   "outputs": [],
   "source": [
    "# Lines below will give you a hint or solution code\n",
    "#step_2.hint()\n",
    "#step_2.solution()"
   ]
  },
  {
   "cell_type": "markdown",
   "id": "2c693dff",
   "metadata": {
    "papermill": {
     "duration": 0.007525,
     "end_time": "2022-08-30T13:31:27.343946",
     "exception": false,
     "start_time": "2022-08-30T13:31:27.336421",
     "status": "completed"
    },
    "tags": []
   },
   "source": [
    "# Step 3: Break the model\n",
    "\n",
    "In this step, you will create a model that performs worse than the original model in Step 1.  This will help you to develop your intuition for how to set parameters.  You might even find that you accidentally get better performance, which is ultimately a nice problem to have and a valuable learning experience!\n",
    "- Begin by setting `my_model_3` to an XGBoost model, using the [XGBRegressor](https://xgboost.readthedocs.io/en/latest/python/python_api.html#xgboost.XGBRegressor) class.  Use what you learned in the previous tutorial to figure out how to change the default parameters (like `n_estimators` and `learning_rate`) to design a model to get high MAE.\n",
    "- Then, fit the model to the training data in `X_train` and `y_train`.\n",
    "- Set `predictions_3` to the model's predictions for the validation data.  Recall that the validation features are stored in `X_valid`.\n",
    "- Finally, use the `mean_absolute_error()` function to calculate the mean absolute error (MAE) corresponding to the predictions on the validation set.  Recall that the labels for the validation data are stored in `y_valid`.\n",
    "\n",
    "In order for this step to be marked correct, your model in `my_model_3` must attain higher MAE than the model in `my_model_1`. "
   ]
  },
  {
   "cell_type": "code",
   "execution_count": 14,
   "id": "e729bb3f",
   "metadata": {
    "execution": {
     "iopub.execute_input": "2022-08-30T13:31:27.361564Z",
     "iopub.status.busy": "2022-08-30T13:31:27.361112Z",
     "iopub.status.idle": "2022-08-30T13:31:27.509668Z",
     "shell.execute_reply": "2022-08-30T13:31:27.508506Z"
    },
    "papermill": {
     "duration": 0.160839,
     "end_time": "2022-08-30T13:31:27.512707",
     "exception": false,
     "start_time": "2022-08-30T13:31:27.351868",
     "status": "completed"
    },
    "tags": []
   },
   "outputs": [],
   "source": [
    "# Define the model\n",
    "my_model_3 = XGBRegressor(n_estimators= 10, learning_rate= 1) # Your code here\n",
    "my_model_3.fit(X_train, y_train) # Your code here\n",
    "predictions_3 = my_model_3.predict(X_valid) # Your code here\n",
    "mae_3 = mean_absolute_error(y_valid, predictions_3) # Your code here"
   ]
  },
  {
   "cell_type": "code",
   "execution_count": 15,
   "id": "8927187f",
   "metadata": {
    "execution": {
     "iopub.execute_input": "2022-08-30T13:31:27.530193Z",
     "iopub.status.busy": "2022-08-30T13:31:27.529810Z",
     "iopub.status.idle": "2022-08-30T13:31:27.679867Z",
     "shell.execute_reply": "2022-08-30T13:31:27.678601Z"
    },
    "papermill": {
     "duration": 0.161877,
     "end_time": "2022-08-30T13:31:27.682503",
     "exception": false,
     "start_time": "2022-08-30T13:31:27.520626",
     "status": "completed"
    },
    "tags": []
   },
   "outputs": [
    {
     "name": "stdout",
     "output_type": "stream",
     "text": [
      "Mean Absolute Error: 25948.06064051798\n"
     ]
    },
    {
     "data": {
      "application/javascript": [
       "parent.postMessage({\"jupyterEvent\": \"custom.exercise_interaction\", \"data\": {\"outcomeType\": 1, \"valueTowardsCompletion\": 0.5, \"interactionType\": 1, \"questionType\": 2, \"questionId\": \"3_Model3\", \"learnToolsVersion\": \"0.3.4\", \"failureMessage\": \"\", \"exceptionClass\": \"\", \"trace\": \"\"}}, \"*\")"
      ],
      "text/plain": [
       "<IPython.core.display.Javascript object>"
      ]
     },
     "metadata": {},
     "output_type": "display_data"
    },
    {
     "data": {
      "text/markdown": [
       "<span style=\"color:#33cc33\">Correct</span>"
      ],
      "text/plain": [
       "Correct"
      ]
     },
     "metadata": {},
     "output_type": "display_data"
    }
   ],
   "source": [
    "# Define the model\n",
    "my_model_3 = XGBRegressor(n_estimators= 10, learning_rate= 1)\n",
    "\n",
    "# Fit the model\n",
    "my_model_3.fit(X_train, y_train) # Your code here\n",
    "\n",
    "# Get predictions\n",
    "predictions_3 = my_model_3.predict(X_valid)\n",
    "\n",
    "# Calculate MAE\n",
    "mae_3 = mean_absolute_error(y_valid, predictions_3)\n",
    "\n",
    "# Uncomment to print MAE\n",
    "print(\"Mean Absolute Error:\" , mae_3)\n",
    "\n",
    "# Check your answer\n",
    "step_3.check()"
   ]
  },
  {
   "cell_type": "code",
   "execution_count": 16,
   "id": "1c2b2afa",
   "metadata": {
    "execution": {
     "iopub.execute_input": "2022-08-30T13:31:27.701825Z",
     "iopub.status.busy": "2022-08-30T13:31:27.700780Z",
     "iopub.status.idle": "2022-08-30T13:31:27.705726Z",
     "shell.execute_reply": "2022-08-30T13:31:27.704517Z"
    },
    "papermill": {
     "duration": 0.016776,
     "end_time": "2022-08-30T13:31:27.707928",
     "exception": false,
     "start_time": "2022-08-30T13:31:27.691152",
     "status": "completed"
    },
    "tags": []
   },
   "outputs": [],
   "source": [
    "# Lines below will give you a hint or solution code\n",
    "#step_3.hint()\n",
    "#step_3.solution()"
   ]
  },
  {
   "cell_type": "markdown",
   "id": "4cd757c5",
   "metadata": {
    "papermill": {
     "duration": 0.008164,
     "end_time": "2022-08-30T13:31:27.724322",
     "exception": false,
     "start_time": "2022-08-30T13:31:27.716158",
     "status": "completed"
    },
    "tags": []
   },
   "source": [
    "# Keep going\n",
    "\n",
    "Continue to learn about **[data leakage](https://www.kaggle.com/alexisbcook/data-leakage)**.  This is an important issue for a data scientist to understand, and it has the potential to ruin your models in subtle and dangerous ways!"
   ]
  },
  {
   "cell_type": "markdown",
   "id": "06df0ea1",
   "metadata": {
    "papermill": {
     "duration": 0.007947,
     "end_time": "2022-08-30T13:31:27.740718",
     "exception": false,
     "start_time": "2022-08-30T13:31:27.732771",
     "status": "completed"
    },
    "tags": []
   },
   "source": [
    "---\n",
    "\n",
    "\n",
    "\n",
    "\n",
    "*Have questions or comments? Visit the [course discussion forum](https://www.kaggle.com/learn/intermediate-machine-learning/discussion) to chat with other learners.*"
   ]
  }
 ],
 "metadata": {
  "kernelspec": {
   "display_name": "Python 3",
   "language": "python",
   "name": "python3"
  },
  "language_info": {
   "codemirror_mode": {
    "name": "ipython",
    "version": 3
   },
   "file_extension": ".py",
   "mimetype": "text/x-python",
   "name": "python",
   "nbconvert_exporter": "python",
   "pygments_lexer": "ipython3",
   "version": "3.7.12"
  },
  "papermill": {
   "default_parameters": {},
   "duration": 35.969665,
   "end_time": "2022-08-30T13:31:28.470456",
   "environment_variables": {},
   "exception": null,
   "input_path": "__notebook__.ipynb",
   "output_path": "__notebook__.ipynb",
   "parameters": {},
   "start_time": "2022-08-30T13:30:52.500791",
   "version": "2.3.4"
  }
 },
 "nbformat": 4,
 "nbformat_minor": 5
}
