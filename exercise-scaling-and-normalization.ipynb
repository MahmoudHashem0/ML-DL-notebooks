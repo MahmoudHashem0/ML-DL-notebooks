{
 "cells": [
  {
   "cell_type": "markdown",
   "id": "d04c4385",
   "metadata": {
    "papermill": {
     "duration": 0.006798,
     "end_time": "2022-08-25T21:53:43.305505",
     "exception": false,
     "start_time": "2022-08-25T21:53:43.298707",
     "status": "completed"
    },
    "tags": []
   },
   "source": [
    "**This notebook is an exercise in the [Data Cleaning](https://www.kaggle.com/learn/data-cleaning) course.  You can reference the tutorial at [this link](https://www.kaggle.com/alexisbcook/scaling-and-normalization).**\n",
    "\n",
    "---\n"
   ]
  },
  {
   "cell_type": "markdown",
   "id": "c115bf56",
   "metadata": {
    "papermill": {
     "duration": 0.005179,
     "end_time": "2022-08-25T21:53:43.316395",
     "exception": false,
     "start_time": "2022-08-25T21:53:43.311216",
     "status": "completed"
    },
    "tags": []
   },
   "source": [
    "In this exercise, you'll apply what you learned in the **Scaling and normalization** tutorial.\n",
    "\n",
    "# Setup\n",
    "\n",
    "The questions below will give you feedback on your work. Run the following cell to set up the feedback system."
   ]
  },
  {
   "cell_type": "code",
   "execution_count": 1,
   "id": "99c3d657",
   "metadata": {
    "execution": {
     "iopub.execute_input": "2022-08-25T21:53:43.330546Z",
     "iopub.status.busy": "2022-08-25T21:53:43.329727Z",
     "iopub.status.idle": "2022-08-25T21:53:46.966050Z",
     "shell.execute_reply": "2022-08-25T21:53:46.964635Z"
    },
    "papermill": {
     "duration": 3.647028,
     "end_time": "2022-08-25T21:53:46.968843",
     "exception": false,
     "start_time": "2022-08-25T21:53:43.321815",
     "status": "completed"
    },
    "tags": []
   },
   "outputs": [
    {
     "name": "stdout",
     "output_type": "stream",
     "text": [
      "Setup Complete\n"
     ]
    }
   ],
   "source": [
    "from learntools.core import binder\n",
    "binder.bind(globals())\n",
    "from learntools.data_cleaning.ex2 import *\n",
    "print(\"Setup Complete\")"
   ]
  },
  {
   "cell_type": "markdown",
   "id": "8451b503",
   "metadata": {
    "papermill": {
     "duration": 0.005237,
     "end_time": "2022-08-25T21:53:46.979663",
     "exception": false,
     "start_time": "2022-08-25T21:53:46.974426",
     "status": "completed"
    },
    "tags": []
   },
   "source": [
    "# Get our environment set up\n",
    "\n",
    "To practice scaling and normalization, we're going to use a [dataset of Kickstarter campaigns](https://www.kaggle.com/kemical/kickstarter-projects). (Kickstarter is a website where people can ask people to invest in various projects and concept products.)\n",
    "\n",
    "The next code cell loads in the libraries and dataset we'll be using. "
   ]
  },
  {
   "cell_type": "code",
   "execution_count": 2,
   "id": "bd4704ad",
   "metadata": {
    "execution": {
     "iopub.execute_input": "2022-08-25T21:53:46.992325Z",
     "iopub.status.busy": "2022-08-25T21:53:46.991921Z",
     "iopub.status.idle": "2022-08-25T21:53:48.455802Z",
     "shell.execute_reply": "2022-08-25T21:53:48.454629Z"
    },
    "papermill": {
     "duration": 1.473398,
     "end_time": "2022-08-25T21:53:48.458557",
     "exception": false,
     "start_time": "2022-08-25T21:53:46.985159",
     "status": "completed"
    },
    "tags": []
   },
   "outputs": [],
   "source": [
    "# modules we'll use\n",
    "import pandas as pd\n",
    "import numpy as np\n",
    "\n",
    "# for Box-Cox Transformation\n",
    "from scipy import stats\n",
    "\n",
    "# for min_max scaling\n",
    "from mlxtend.preprocessing import minmax_scaling\n",
    "\n",
    "# plotting modules\n",
    "import seaborn as sns\n",
    "import matplotlib.pyplot as plt\n",
    "\n",
    "# read in all our data\n",
    "kickstarters_2017 = pd.read_csv(\"../input/kickstarter-projects/ks-projects-201801.csv\")\n",
    "\n",
    "# set seed for reproducibility\n",
    "np.random.seed(0)"
   ]
  },
  {
   "cell_type": "markdown",
   "id": "aa0a9d57",
   "metadata": {
    "papermill": {
     "duration": 0.00527,
     "end_time": "2022-08-25T21:53:48.470195",
     "exception": false,
     "start_time": "2022-08-25T21:53:48.464925",
     "status": "completed"
    },
    "tags": []
   },
   "source": [
    "Let's start by scaling the goals of each campaign, which is how much money they were asking for.  After scaling, all values lie between 0 and 1."
   ]
  },
  {
   "cell_type": "code",
   "execution_count": 3,
   "id": "e7621584",
   "metadata": {
    "execution": {
     "iopub.execute_input": "2022-08-25T21:53:48.483857Z",
     "iopub.status.busy": "2022-08-25T21:53:48.483049Z",
     "iopub.status.idle": "2022-08-25T21:53:48.523820Z",
     "shell.execute_reply": "2022-08-25T21:53:48.522736Z"
    },
    "papermill": {
     "duration": 0.050936,
     "end_time": "2022-08-25T21:53:48.526947",
     "exception": false,
     "start_time": "2022-08-25T21:53:48.476011",
     "status": "completed"
    },
    "tags": []
   },
   "outputs": [
    {
     "name": "stdout",
     "output_type": "stream",
     "text": [
      "Original data\n",
      "Preview:\n",
      "    usd_goal_real\n",
      "0        1533.95\n",
      "1       30000.00\n",
      "2       45000.00\n",
      "3        5000.00\n",
      "4       19500.00\n",
      "Minimum value: 0.01 \n",
      "Maximum value: 166361390.71\n",
      "______________________________\n",
      "\n",
      "Scaled data\n",
      "Preview:\n",
      "    usd_goal_real\n",
      "0       0.000009\n",
      "1       0.000180\n",
      "2       0.000270\n",
      "3       0.000030\n",
      "4       0.000117\n",
      "Minimum value: 0.0 \n",
      "Maximum value: 1.0\n"
     ]
    }
   ],
   "source": [
    "# select the usd_goal_real column\n",
    "original_data = pd.DataFrame(kickstarters_2017.usd_goal_real)\n",
    "\n",
    "# scale the goals from 0 to 1\n",
    "scaled_data = minmax_scaling(original_data, columns=['usd_goal_real'])\n",
    "\n",
    "print('Original data\\nPreview:\\n', original_data.head())\n",
    "print('Minimum value:', float(original_data.min()),\n",
    "      '\\nMaximum value:', float(original_data.max()))\n",
    "print('_'*30)\n",
    "\n",
    "print('\\nScaled data\\nPreview:\\n', scaled_data.head())\n",
    "print('Minimum value:', float(scaled_data.min()),\n",
    "      '\\nMaximum value:', float(scaled_data.max()))"
   ]
  },
  {
   "cell_type": "markdown",
   "id": "f643665b",
   "metadata": {
    "papermill": {
     "duration": 0.005319,
     "end_time": "2022-08-25T21:53:48.538755",
     "exception": false,
     "start_time": "2022-08-25T21:53:48.533436",
     "status": "completed"
    },
    "tags": []
   },
   "source": [
    "# 1) Practice scaling\n",
    "\n",
    "We just scaled the \"usd_goal_real\" column. What about the \"goal\" column?\n",
    "\n",
    "Begin by running the code cell below to create a DataFrame `original_goal_data` containing the \"goal\" column."
   ]
  },
  {
   "cell_type": "code",
   "execution_count": 4,
   "id": "67270f67",
   "metadata": {
    "execution": {
     "iopub.execute_input": "2022-08-25T21:53:48.551920Z",
     "iopub.status.busy": "2022-08-25T21:53:48.551530Z",
     "iopub.status.idle": "2022-08-25T21:53:48.557598Z",
     "shell.execute_reply": "2022-08-25T21:53:48.556331Z"
    },
    "papermill": {
     "duration": 0.015344,
     "end_time": "2022-08-25T21:53:48.559922",
     "exception": false,
     "start_time": "2022-08-25T21:53:48.544578",
     "status": "completed"
    },
    "tags": []
   },
   "outputs": [],
   "source": [
    "# select the usd_goal_real column\n",
    "original_goal_data = pd.DataFrame(kickstarters_2017.goal)"
   ]
  },
  {
   "cell_type": "markdown",
   "id": "72680e93",
   "metadata": {
    "papermill": {
     "duration": 0.006053,
     "end_time": "2022-08-25T21:53:48.572111",
     "exception": false,
     "start_time": "2022-08-25T21:53:48.566058",
     "status": "completed"
    },
    "tags": []
   },
   "source": [
    "Use `original_goal_data` to create a new DataFrame `scaled_goal_data` with values scaled between 0 and 1. You must use the `minmax_scaling()` function."
   ]
  },
  {
   "cell_type": "code",
   "execution_count": 5,
   "id": "022ed907",
   "metadata": {
    "execution": {
     "iopub.execute_input": "2022-08-25T21:53:48.585873Z",
     "iopub.status.busy": "2022-08-25T21:53:48.585477Z",
     "iopub.status.idle": "2022-08-25T21:53:48.618829Z",
     "shell.execute_reply": "2022-08-25T21:53:48.617496Z"
    },
    "papermill": {
     "duration": 0.043298,
     "end_time": "2022-08-25T21:53:48.621347",
     "exception": false,
     "start_time": "2022-08-25T21:53:48.578049",
     "status": "completed"
    },
    "tags": []
   },
   "outputs": [
    {
     "data": {
      "application/javascript": [
       "parent.postMessage({\"jupyterEvent\": \"custom.exercise_interaction\", \"data\": {\"outcomeType\": 1, \"valueTowardsCompletion\": 0.3333333333333333, \"interactionType\": 1, \"questionType\": 1, \"questionId\": \"1_TryScaling\", \"learnToolsVersion\": \"0.3.4\", \"failureMessage\": \"\", \"exceptionClass\": \"\", \"trace\": \"\"}}, \"*\")"
      ],
      "text/plain": [
       "<IPython.core.display.Javascript object>"
      ]
     },
     "metadata": {},
     "output_type": "display_data"
    },
    {
     "data": {
      "text/markdown": [
       "<span style=\"color:#33cc33\">Correct</span>"
      ],
      "text/plain": [
       "Correct"
      ]
     },
     "metadata": {},
     "output_type": "display_data"
    }
   ],
   "source": [
    "# TODO: Your code here\n",
    "scaled_goal_data = minmax_scaling(original_goal_data, columns=['goal'])\n",
    "\n",
    "# Check your answer\n",
    "q1.check()"
   ]
  },
  {
   "cell_type": "code",
   "execution_count": 6,
   "id": "802d1aea",
   "metadata": {
    "execution": {
     "iopub.execute_input": "2022-08-25T21:53:48.635897Z",
     "iopub.status.busy": "2022-08-25T21:53:48.635109Z",
     "iopub.status.idle": "2022-08-25T21:53:48.649723Z",
     "shell.execute_reply": "2022-08-25T21:53:48.648573Z"
    },
    "papermill": {
     "duration": 0.02461,
     "end_time": "2022-08-25T21:53:48.652324",
     "exception": false,
     "start_time": "2022-08-25T21:53:48.627714",
     "status": "completed"
    },
    "tags": []
   },
   "outputs": [
    {
     "data": {
      "application/javascript": [
       "parent.postMessage({\"jupyterEvent\": \"custom.exercise_interaction\", \"data\": {\"interactionType\": 2, \"questionType\": 1, \"questionId\": \"1_TryScaling\", \"learnToolsVersion\": \"0.3.4\", \"valueTowardsCompletion\": 0.0, \"failureMessage\": \"\", \"exceptionClass\": \"\", \"trace\": \"\", \"outcomeType\": 4}}, \"*\")"
      ],
      "text/plain": [
       "<IPython.core.display.Javascript object>"
      ]
     },
     "metadata": {},
     "output_type": "display_data"
    },
    {
     "data": {
      "text/markdown": [
       "<span style=\"color:#3366cc\">Hint:</span> Use the `minimax_scaling()` function."
      ],
      "text/plain": [
       "Hint: Use the `minimax_scaling()` function."
      ]
     },
     "metadata": {},
     "output_type": "display_data"
    },
    {
     "data": {
      "application/javascript": [
       "parent.postMessage({\"jupyterEvent\": \"custom.exercise_interaction\", \"data\": {\"interactionType\": 3, \"questionType\": 1, \"questionId\": \"1_TryScaling\", \"learnToolsVersion\": \"0.3.4\", \"valueTowardsCompletion\": 0.0, \"failureMessage\": \"\", \"exceptionClass\": \"\", \"trace\": \"\", \"outcomeType\": 4}}, \"*\")"
      ],
      "text/plain": [
       "<IPython.core.display.Javascript object>"
      ]
     },
     "metadata": {},
     "output_type": "display_data"
    },
    {
     "data": {
      "text/markdown": [
       "<span style=\"color:#33cc99\">Solution:</span> \n",
       "```python\n",
       "scaled_goal_data = minmax_scaling(original_goal_data, columns=['goal'])\n",
       "\n",
       "```"
      ],
      "text/plain": [
       "Solution: \n",
       "```python\n",
       "scaled_goal_data = minmax_scaling(original_goal_data, columns=['goal'])\n",
       "\n",
       "```"
      ]
     },
     "metadata": {},
     "output_type": "display_data"
    }
   ],
   "source": [
    "# Lines below will give you a hint or solution code\n",
    "q1.hint()\n",
    "q1.solution()"
   ]
  },
  {
   "cell_type": "markdown",
   "id": "9b1dc004",
   "metadata": {
    "papermill": {
     "duration": 0.006128,
     "end_time": "2022-08-25T21:53:48.664693",
     "exception": false,
     "start_time": "2022-08-25T21:53:48.658565",
     "status": "completed"
    },
    "tags": []
   },
   "source": [
    "# 2) Practice normalization\n",
    "\n",
    "Now you'll practice normalization. We begin by normalizing the amount of money pledged to each campaign."
   ]
  },
  {
   "cell_type": "code",
   "execution_count": 7,
   "id": "88a709d1",
   "metadata": {
    "execution": {
     "iopub.execute_input": "2022-08-25T21:53:48.680205Z",
     "iopub.status.busy": "2022-08-25T21:53:48.679823Z",
     "iopub.status.idle": "2022-08-25T21:53:48.917633Z",
     "shell.execute_reply": "2022-08-25T21:53:48.916408Z"
    },
    "papermill": {
     "duration": 0.249665,
     "end_time": "2022-08-25T21:53:48.920817",
     "exception": false,
     "start_time": "2022-08-25T21:53:48.671152",
     "status": "completed"
    },
    "tags": []
   },
   "outputs": [
    {
     "name": "stdout",
     "output_type": "stream",
     "text": [
      "Original data\n",
      "Preview:\n",
      " 1     2421.0\n",
      "2      220.0\n",
      "3        1.0\n",
      "4     1283.0\n",
      "5    52375.0\n",
      "Name: usd_pledged_real, dtype: float64\n",
      "Minimum value: 0.45 \n",
      "Maximum value: 20338986.27\n",
      "______________________________\n",
      "\n",
      "Normalized data\n",
      "Preview:\n",
      " 1    10.165142\n",
      "2     6.468598\n",
      "3     0.000000\n",
      "4     9.129277\n",
      "5    15.836853\n",
      "Name: usd_pledged_real, dtype: float64\n",
      "Minimum value: -0.7779954122762203 \n",
      "Maximum value: 30.69054020451361\n"
     ]
    }
   ],
   "source": [
    "# get the index of all positive pledges (Box-Cox only takes positive values)\n",
    "index_of_positive_pledges = kickstarters_2017.usd_pledged_real > 0\n",
    "\n",
    "# get only positive pledges (using their indexes)\n",
    "positive_pledges = kickstarters_2017.usd_pledged_real.loc[index_of_positive_pledges]\n",
    "\n",
    "# normalize the pledges (w/ Box-Cox)\n",
    "normalized_pledges = pd.Series(stats.boxcox(positive_pledges)[0], \n",
    "                               name='usd_pledged_real', index=positive_pledges.index)\n",
    "\n",
    "print('Original data\\nPreview:\\n', positive_pledges.head())\n",
    "print('Minimum value:', float(positive_pledges.min()),\n",
    "      '\\nMaximum value:', float(positive_pledges.max()))\n",
    "print('_'*30)\n",
    "\n",
    "print('\\nNormalized data\\nPreview:\\n', normalized_pledges.head())\n",
    "print('Minimum value:', float(normalized_pledges.min()),\n",
    "      '\\nMaximum value:', float(normalized_pledges.max()))"
   ]
  },
  {
   "cell_type": "markdown",
   "id": "cb4a1c20",
   "metadata": {
    "papermill": {
     "duration": 0.006535,
     "end_time": "2022-08-25T21:53:48.934763",
     "exception": false,
     "start_time": "2022-08-25T21:53:48.928228",
     "status": "completed"
    },
    "tags": []
   },
   "source": [
    "The values have changed significantly with normalization!\n",
    "\n",
    "In the next code cell, you'll take a look at the distribution of the normalized data, where it should now resemble a normal distribution."
   ]
  },
  {
   "cell_type": "code",
   "execution_count": 8,
   "id": "66e36e0b",
   "metadata": {
    "execution": {
     "iopub.execute_input": "2022-08-25T21:53:48.949737Z",
     "iopub.status.busy": "2022-08-25T21:53:48.949327Z",
     "iopub.status.idle": "2022-08-25T21:53:51.098579Z",
     "shell.execute_reply": "2022-08-25T21:53:51.097329Z"
    },
    "papermill": {
     "duration": 2.159616,
     "end_time": "2022-08-25T21:53:51.101210",
     "exception": false,
     "start_time": "2022-08-25T21:53:48.941594",
     "status": "completed"
    },
    "tags": []
   },
   "outputs": [
    {
     "data": {
      "image/png": "[encoded data removed]",
      "text/plain": [
       "<Figure size 432x288 with 1 Axes>"
      ]
     },
     "metadata": {
      "needs_background": "light"
     },
     "output_type": "display_data"
    }
   ],
   "source": [
    "# plot normalized data\n",
    "ax = sns.histplot(normalized_pledges, kde=True)\n",
    "ax.set_title(\"Normalized data\")\n",
    "plt.show()"
   ]
  },
  {
   "cell_type": "markdown",
   "id": "69bc9132",
   "metadata": {
    "papermill": {
     "duration": 0.006321,
     "end_time": "2022-08-25T21:53:51.114534",
     "exception": false,
     "start_time": "2022-08-25T21:53:51.108213",
     "status": "completed"
    },
    "tags": []
   },
   "source": [
    "We used the \"usd_pledged_real\" column. Follow the same process to normalize the \"pledged\" column. "
   ]
  },
  {
   "cell_type": "code",
   "execution_count": 9,
   "id": "0649aa8c",
   "metadata": {
    "execution": {
     "iopub.execute_input": "2022-08-25T21:53:51.129989Z",
     "iopub.status.busy": "2022-08-25T21:53:51.129073Z",
     "iopub.status.idle": "2022-08-25T21:53:51.530829Z",
     "shell.execute_reply": "2022-08-25T21:53:51.529725Z"
    },
    "papermill": {
     "duration": 0.412413,
     "end_time": "2022-08-25T21:53:51.533604",
     "exception": false,
     "start_time": "2022-08-25T21:53:51.121191",
     "status": "completed"
    },
    "tags": []
   },
   "outputs": [],
   "source": [
    "positive_pleded = kickstarters_2017[kickstarters_2017.pledged > 0].pledged\n",
    "\n",
    "Normalized_pledged = stats.boxcox(positive_pleded)[0]"
   ]
  },
  {
   "cell_type": "code",
   "execution_count": 10,
   "id": "c4b8ecb7",
   "metadata": {
    "execution": {
     "iopub.execute_input": "2022-08-25T21:53:51.550083Z",
     "iopub.status.busy": "2022-08-25T21:53:51.549655Z",
     "iopub.status.idle": "2022-08-25T21:53:53.604474Z",
     "shell.execute_reply": "2022-08-25T21:53:53.603111Z"
    },
    "papermill": {
     "duration": 2.066913,
     "end_time": "2022-08-25T21:53:53.607356",
     "exception": false,
     "start_time": "2022-08-25T21:53:51.540443",
     "status": "completed"
    },
    "tags": []
   },
   "outputs": [
    {
     "data": {
      "image/png": "[encoded data removed]",
      "text/plain": [
       "<Figure size 432x288 with 1 Axes>"
      ]
     },
     "metadata": {
      "needs_background": "light"
     },
     "output_type": "display_data"
    }
   ],
   "source": [
    "# TODO: Your code here!\n",
    "ax = sns.histplot(Normalized_pledged, kde=True)\n",
    "ax.set_title(\"Normalized_pledged\")\n",
    "plt.show();"
   ]
  },
  {
   "cell_type": "markdown",
   "id": "39438544",
   "metadata": {
    "papermill": {
     "duration": 0.006952,
     "end_time": "2022-08-25T21:53:53.621793",
     "exception": false,
     "start_time": "2022-08-25T21:53:53.614841",
     "status": "completed"
    },
    "tags": []
   },
   "source": [
    "How does the normalized \"usd_pledged_real\" column look different from when we normalized the \"pledged\" column?  Or, do they look mostly the same?\n",
    "\n",
    "Once you have an answer, run the code cell below."
   ]
  },
  {
   "cell_type": "code",
   "execution_count": 11,
   "id": "faac09f7",
   "metadata": {
    "execution": {
     "iopub.execute_input": "2022-08-25T21:53:53.638477Z",
     "iopub.status.busy": "2022-08-25T21:53:53.637707Z",
     "iopub.status.idle": "2022-08-25T21:53:53.648931Z",
     "shell.execute_reply": "2022-08-25T21:53:53.647802Z"
    },
    "papermill": {
     "duration": 0.022211,
     "end_time": "2022-08-25T21:53:53.651182",
     "exception": false,
     "start_time": "2022-08-25T21:53:53.628971",
     "status": "completed"
    },
    "tags": []
   },
   "outputs": [
    {
     "data": {
      "application/javascript": [
       "parent.postMessage({\"jupyterEvent\": \"custom.exercise_interaction\", \"data\": {\"outcomeType\": 1, \"valueTowardsCompletion\": 0.3333333333333333, \"interactionType\": 1, \"questionType\": 4, \"questionId\": \"2_TryNormalization\", \"learnToolsVersion\": \"0.3.4\", \"failureMessage\": \"\", \"exceptionClass\": \"\", \"trace\": \"\"}}, \"*\")"
      ],
      "text/plain": [
       "<IPython.core.display.Javascript object>"
      ]
     },
     "metadata": {},
     "output_type": "display_data"
    },
    {
     "data": {
      "text/markdown": [
       "<span style=\"color:#33cc33\">Correct:</span> \n",
       "\n",
       "The distributions in the normalized data look mostly the same."
      ],
      "text/plain": [
       "Correct: \n",
       "\n",
       "The distributions in the normalized data look mostly the same."
      ]
     },
     "metadata": {},
     "output_type": "display_data"
    }
   ],
   "source": [
    "# Check your answer (Run this code cell to receive credit!)\n",
    "q2.check()"
   ]
  },
  {
   "cell_type": "code",
   "execution_count": 12,
   "id": "8c54eaf5",
   "metadata": {
    "execution": {
     "iopub.execute_input": "2022-08-25T21:53:53.667924Z",
     "iopub.status.busy": "2022-08-25T21:53:53.667493Z",
     "iopub.status.idle": "2022-08-25T21:53:53.672536Z",
     "shell.execute_reply": "2022-08-25T21:53:53.671329Z"
    },
    "papermill": {
     "duration": 0.01648,
     "end_time": "2022-08-25T21:53:53.675127",
     "exception": false,
     "start_time": "2022-08-25T21:53:53.658647",
     "status": "completed"
    },
    "tags": []
   },
   "outputs": [],
   "source": [
    "# Line below will give you a hint\n",
    "#q2.hint()"
   ]
  },
  {
   "cell_type": "markdown",
   "id": "97b4db09",
   "metadata": {
    "papermill": {
     "duration": 0.007307,
     "end_time": "2022-08-25T21:53:53.690726",
     "exception": false,
     "start_time": "2022-08-25T21:53:53.683419",
     "status": "completed"
    },
    "tags": []
   },
   "source": [
    "# (Optional) More practice\n",
    "\n",
    "Try finding a new dataset and pretend you're preparing to perform a [regression analysis](https://www.kaggle.com/rtatman/the-5-day-regression-challenge). \n",
    "\n",
    "[These datasets are a good start!](https://www.kaggle.com/rtatman/datasets-for-regression-analysis)\n",
    "\n",
    "Pick three or four variables and decide if you need to normalize or scale any of them and, if you think you should, practice applying the correct technique.\n",
    "\n",
    "# Keep going\n",
    "\n",
    "In the next lesson, learn how to [**parse dates**](https://www.kaggle.com/alexisbcook/parsing-dates) in a dataset."
   ]
  },
  {
   "cell_type": "markdown",
   "id": "28577c7a",
   "metadata": {
    "papermill": {
     "duration": 0.007466,
     "end_time": "2022-08-25T21:53:53.705636",
     "exception": false,
     "start_time": "2022-08-25T21:53:53.698170",
     "status": "completed"
    },
    "tags": []
   },
   "source": [
    "---\n",
    "\n",
    "\n",
    "\n",
    "\n",
    "*Have questions or comments? Visit the [course discussion forum](https://www.kaggle.com/learn/data-cleaning/discussion) to chat with other learners.*"
   ]
  }
 ],
 "metadata": {
  "kernelspec": {
   "display_name": "Python 3",
   "language": "python",
   "name": "python3"
  },
  "language_info": {
   "codemirror_mode": {
    "name": "ipython",
    "version": 3
   },
   "file_extension": ".py",
   "mimetype": "text/x-python",
   "name": "python",
   "nbconvert_exporter": "python",
   "pygments_lexer": "ipython3",
   "version": "3.7.12"
  },
  "papermill": {
   "default_parameters": {},
   "duration": 20.661909,
   "end_time": "2022-08-25T21:53:54.536012",
   "environment_variables": {},
   "exception": null,
   "input_path": "__notebook__.ipynb",
   "output_path": "__notebook__.ipynb",
   "parameters": {},
   "start_time": "2022-08-25T21:53:33.874103",
   "version": "2.3.4"
  }
 },
 "nbformat": 4,
 "nbformat_minor": 5
}
