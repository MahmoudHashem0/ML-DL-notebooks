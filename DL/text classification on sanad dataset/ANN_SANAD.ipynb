{
 "cells": [
  {
   "cell_type": "code",
   "execution_count": 1,
   "id": "a7211b35",
   "metadata": {},
   "outputs": [],
   "source": [
    "import os\n",
    "import pandas as pd\n",
    "import numpy as np\n",
    "import gensim\n",
    "from sklearn.preprocessing import LabelEncoder\n",
    "from sklearn.svm import SVC\n",
    "from sklearn.metrics import accuracy_score\n",
    "from tensorflow import keras\n",
    "from winsound import Beep\n",
    "import matplotlib.pyplot as plt\n",
    "from winsound import Beep"
   ]
  },
  {
   "cell_type": "code",
   "execution_count": 2,
   "id": "89f119bd",
   "metadata": {},
   "outputs": [],
   "source": [
    "def read_data_from_dir(data_dir):\n",
    "    x_data = []\n",
    "    y_data = []\n",
    "    for class_dir in os.listdir(data_dir):\n",
    "        class_dir_pth = os.path.join(data_dir, class_dir)\n",
    "        print(f\"working on {class_dir} ...\")\n",
    "        n_files = len(os.listdir(class_dir_pth))\n",
    "        for i, document in enumerate(os.listdir(class_dir_pth)):\n",
    "            document_pth = os.path.join(class_dir_pth, document)\n",
    "            with open(document_pth, encoding=\"UTF-8\") as f:\n",
    "                lines = f.readlines()\n",
    "                x_data.append(lines[1])\n",
    "                y_data.append(class_dir)\n",
    "            print(f\"{int(100 * i / n_files)} %\", end='\\r')\n",
    "    print(\"done!\")\n",
    "#     df = pd.DataFrame(data=text, columns=[\"text\"])\n",
    "#     df[\"class\"] = text_class\n",
    "    return x_data, y_data"
   ]
  },
  {
   "cell_type": "code",
   "execution_count": 3,
   "id": "5d3de9ba",
   "metadata": {},
   "outputs": [
    {
     "name": "stdout",
     "output_type": "stream",
     "text": [
      "working on Culture ...\n",
      "working on Finance ...\n",
      "working on Medical ...\n",
      "working on Politics ...\n",
      "working on Religion ...\n",
      "working on Sports ...\n",
      "working on Tech ...\n",
      "done!\n",
      "working on Culture ...\n",
      "working on Finance ...\n",
      "working on Medical ...\n",
      "working on Politics ...\n",
      "working on Religion ...\n",
      "working on Sports ...\n",
      "working on Tech ...\n",
      "done!\n"
     ]
    }
   ],
   "source": [
    "data_dir = \"E:\\Technical\\Electro pi\\SANAD_ Single-Label Arabic News Articles Dataset for Automatic Text Categorization\\SANAD_SUBSET\\khaleej\"\n",
    "train_data_dir = os.path.join(data_dir, \"Train\")\n",
    "test_data_dir = os.path.join(data_dir, \"Test\")\n",
    "\n",
    "x_train, y_train = read_data_from_dir(train_data_dir)\n",
    "x_test, y_test = read_data_from_dir(test_data_dir)"
   ]
  },
  {
   "cell_type": "code",
   "execution_count": 4,
   "id": "51f14fca",
   "metadata": {},
   "outputs": [],
   "source": [
    "x_train_cleaned = map(gensim.utils.simple_preprocess, x_train)\n",
    "x_test_cleaned = map(gensim.utils.simple_preprocess, x_test)\n",
    "\n",
    "x_train_cleaned = np.array(list(x_train_cleaned), dtype=object)\n",
    "x_test_cleaned = np.array(list(x_test_cleaned), dtype=object)"
   ]
  },
  {
   "cell_type": "code",
   "execution_count": 5,
   "id": "1f118e4f",
   "metadata": {},
   "outputs": [],
   "source": [
    "Beep(2500, 1000)"
   ]
  },
  {
   "cell_type": "code",
   "execution_count": 9,
   "id": "d9358f09",
   "metadata": {},
   "outputs": [],
   "source": [
    "wv_model = gensim.models.Word2Vec.load(\"word2vec-SANAD-khaleej-arabic-language.model\")"
   ]
  },
  {
   "cell_type": "code",
   "execution_count": 10,
   "id": "03624c0f",
   "metadata": {},
   "outputs": [],
   "source": [
    "def text2vect(text):\n",
    "    n_words = len(text)\n",
    "    text_vect = np.empty(n_words, 100)\n",
    "    for i, word in enumerate(text):\n",
    "        try:\n",
    "            text_vect[i,:] = wv_model.wv[word]\n",
    "        except KeyError:\n",
    "            text_vect[i,:] = np.zeros(100)\n",
    "    return text_vect"
   ]
  },
  {
   "cell_type": "code",
   "execution_count": 11,
   "id": "2fd567a7",
   "metadata": {},
   "outputs": [],
   "source": [
    "x_train_cleaned_vec = map(text2vect, x_train_cleaned)\n",
    "x_test_cleaned_vec = map(text2vect, x_test_cleaned)\n",
    "\n",
    "x_train_cleaned_vec = np.array(list(x_train_cleaned_vec))\n",
    "x_test_cleaned_vec = np.array(list(x_test_cleaned_vec))"
   ]
  },
  {
   "cell_type": "code",
   "execution_count": 12,
   "id": "aec1a01a",
   "metadata": {},
   "outputs": [],
   "source": [
    "encoder = LabelEncoder()\n",
    "y_train = encoder.fit_transform(y_train)\n",
    "y_test = encoder.transform(y_test)"
   ]
  },
  {
   "cell_type": "code",
   "execution_count": 13,
   "id": "1dda02d8",
   "metadata": {},
   "outputs": [
    {
     "data": {
      "text/plain": [
       "(40950, 100)"
      ]
     },
     "execution_count": 13,
     "metadata": {},
     "output_type": "execute_result"
    }
   ],
   "source": [
    "x_train_cleaned_vec.shape"
   ]
  },
  {
   "cell_type": "code",
   "execution_count": 14,
   "id": "783ce98a",
   "metadata": {},
   "outputs": [],
   "source": [
    "class CustomEarlyStopping(keras.callbacks.Callback):\n",
    "    def __init__(self, patience=0):\n",
    "        super(CustomEarlyStopping, self).__init__()\n",
    "        self.patience = patience\n",
    "#         self.restore_best_weights = restore_best_weights\n",
    "#         self.mode = mode\n",
    "        self.best_weights = None\n",
    "\n",
    "    def on_train_begin(self, logs=None):\n",
    "        # The number of epoch it has waited when loss is no longer minimum.\n",
    "        self.wait = 0\n",
    "        # The epoch the training stops at.\n",
    "        self.stopped_epoch = 0\n",
    "        # Initialize the best as infinity.\n",
    "        self.best = 0.015\n",
    "\n",
    "    def on_epoch_end(self, epoch, logs=None):\n",
    "        current = logs[\"accuracy\"] - logs[\"val_accuracy\"]\n",
    "        \n",
    "        if current <= 0.015:\n",
    "            self.wait = 0\n",
    "            if np.less(current, self.best):\n",
    "                self.best = current\n",
    "            # Record the best weights if current results is better (less).\n",
    "                self.best_weights = self.model.get_weights()\n",
    "        else:\n",
    "            self.wait += 1\n",
    "            if self.wait >= self.patience:\n",
    "                self.stopped_epoch = epoch\n",
    "                self.model.stop_training = True\n",
    "#                 print(\"Restoring model weights from the end of the best epoch.\")\n",
    "                self.model.set_weights(self.best_weights)\n",
    "\n",
    "    def on_train_end(self, logs=None):\n",
    "        if self.stopped_epoch > 0:\n",
    "            print(\"Epoch %05d: custom early stopping\" % (self.stopped_epoch + 1))\n",
    "    "
   ]
  },
  {
   "cell_type": "code",
   "execution_count": 16,
   "id": "5c42a5de",
   "metadata": {},
   "outputs": [],
   "source": [
    "idx = np.arange(40950)\n",
    "np.random.shuffle(idx)\n",
    "\n",
    "x_train_cleaned_vec = x_train_cleaned_vec[idx]\n",
    "y_train = y_train[idx]"
   ]
  },
  {
   "cell_type": "code",
   "execution_count": 17,
   "id": "f706f188",
   "metadata": {
    "scrolled": true
   },
   "outputs": [
    {
     "data": {
      "text/plain": [
       "(40950, 100)"
      ]
     },
     "execution_count": 17,
     "metadata": {},
     "output_type": "execute_result"
    }
   ],
   "source": [
    "x_train_cleaned_vec.shape"
   ]
  },
  {
   "cell_type": "code",
   "execution_count": 18,
   "id": "fc4f6fa7",
   "metadata": {},
   "outputs": [],
   "source": [
    "x_val, y_val = x_train_cleaned_vec[:5000], y_train[:5000]\n",
    "x_train, y_train = x_train_cleaned_vec[5000:], y_train[5000:]"
   ]
  },
  {
   "cell_type": "code",
   "execution_count": 41,
   "id": "c23c36ef",
   "metadata": {},
   "outputs": [],
   "source": [
    "fully_connected_Model = keras.models.Sequential([\n",
    "#     keras.layers.GRU(20, return_sequences=True, input_shape= [None, 1]),\n",
    "#     keras.layers.GRU(20, input_shape= [None, 1]),\n",
    "    keras.layers.Flatten(input_shape= (100, 1)),\n",
    "    keras.layers.Dense(32, activation= \"relu\", ),\n",
    "    keras.layers.Dense(32, activation= \"relu\"),\n",
    "    keras.layers.Dense(32, activation= \"relu\"),\n",
    "    keras.layers.Dense(32, activation= \"relu\"),\n",
    "    keras.layers.Dense(7, activation= \"softmax\")\n",
    "])"
   ]
  },
  {
   "cell_type": "code",
   "execution_count": 42,
   "id": "ae2fcd29",
   "metadata": {},
   "outputs": [],
   "source": [
    "patience = 3\n",
    "default_early_stopping_cb = keras.callbacks.EarlyStopping(restore_best_weights=True, patience=patience, monitor=\"val_accuracy\")\n",
    "custom_early_stopping_cb = CustomEarlyStopping(patience=patience)\n",
    "checkpoint_cb = keras.callbacks.ModelCheckpoint(\"sentiment_analysis_sanda_ModelCheckpoint.h5\", monitor=\"val_accuracy\", save_best_only=True, )"
   ]
  },
  {
   "cell_type": "code",
   "execution_count": 44,
   "id": "e45de859",
   "metadata": {
    "scrolled": false
   },
   "outputs": [
    {
     "name": "stdout",
     "output_type": "stream",
     "text": [
      "Epoch 1/20\n",
      "1124/1124 [==============================] - 3s 2ms/step - loss: 1.4520 - accuracy: 0.8296 - val_loss: 0.4113 - val_accuracy: 0.9112\n",
      "Epoch 2/20\n",
      "1124/1124 [==============================] - 2s 2ms/step - loss: 0.3394 - accuracy: 0.9181 - val_loss: 0.2845 - val_accuracy: 0.9338\n",
      "Epoch 3/20\n",
      "1124/1124 [==============================] - 2s 2ms/step - loss: 0.2598 - accuracy: 0.9329 - val_loss: 0.2336 - val_accuracy: 0.9432\n",
      "Epoch 4/20\n",
      "1124/1124 [==============================] - 2s 2ms/step - loss: 0.2181 - accuracy: 0.9418 - val_loss: 0.2502 - val_accuracy: 0.9398\n",
      "Epoch 5/20\n",
      "1124/1124 [==============================] - 2s 2ms/step - loss: 0.2009 - accuracy: 0.9466 - val_loss: 0.2023 - val_accuracy: 0.9490\n",
      "Epoch 6/20\n",
      "1124/1124 [==============================] - 2s 2ms/step - loss: 0.1772 - accuracy: 0.9507 - val_loss: 0.2097 - val_accuracy: 0.9520\n",
      "Epoch 7/20\n",
      "1124/1124 [==============================] - 2s 1ms/step - loss: 0.1695 - accuracy: 0.9543 - val_loss: 0.2135 - val_accuracy: 0.9486\n",
      "Epoch 8/20\n",
      "1124/1124 [==============================] - 2s 2ms/step - loss: 0.1633 - accuracy: 0.9548 - val_loss: 0.1817 - val_accuracy: 0.9580\n",
      "Epoch 9/20\n",
      "1124/1124 [==============================] - 2s 1ms/step - loss: 0.1486 - accuracy: 0.9588 - val_loss: 0.1809 - val_accuracy: 0.9548\n",
      "Epoch 10/20\n",
      "1124/1124 [==============================] - 2s 1ms/step - loss: 0.1506 - accuracy: 0.9581 - val_loss: 0.1922 - val_accuracy: 0.9508\n",
      "Epoch 11/20\n",
      "1124/1124 [==============================] - 2s 1ms/step - loss: 0.1390 - accuracy: 0.9604 - val_loss: 0.1903 - val_accuracy: 0.9574\n",
      "Epoch 12/20\n",
      "1124/1124 [==============================] - 2s 1ms/step - loss: 0.1368 - accuracy: 0.9609 - val_loss: 0.2067 - val_accuracy: 0.9550\n",
      "Epoch 13/20\n",
      "1124/1124 [==============================] - 2s 1ms/step - loss: 0.1293 - accuracy: 0.9625 - val_loss: 0.1983 - val_accuracy: 0.9570\n",
      "Epoch 14/20\n",
      "1124/1124 [==============================] - 2s 2ms/step - loss: 0.1284 - accuracy: 0.9620 - val_loss: 0.2070 - val_accuracy: 0.9604\n",
      "Epoch 15/20\n",
      "1124/1124 [==============================] - 2s 1ms/step - loss: 0.1286 - accuracy: 0.9628 - val_loss: 0.1911 - val_accuracy: 0.9578\n",
      "Epoch 16/20\n",
      "1124/1124 [==============================] - 2s 1ms/step - loss: 0.1241 - accuracy: 0.9636 - val_loss: 0.1618 - val_accuracy: 0.9590\n",
      "Epoch 17/20\n",
      "1124/1124 [==============================] - 2s 2ms/step - loss: 0.1164 - accuracy: 0.9649 - val_loss: 0.1781 - val_accuracy: 0.9616\n",
      "Epoch 18/20\n",
      "1124/1124 [==============================] - 2s 2ms/step - loss: 0.1139 - accuracy: 0.9660 - val_loss: 0.1988 - val_accuracy: 0.9610\n",
      "Epoch 19/20\n",
      "1124/1124 [==============================] - 2s 2ms/step - loss: 0.1120 - accuracy: 0.9658 - val_loss: 0.2378 - val_accuracy: 0.9570\n",
      "Epoch 20/20\n",
      "1124/1124 [==============================] - 2s 2ms/step - loss: 0.1073 - accuracy: 0.9665 - val_loss: 0.2008 - val_accuracy: 0.9592\n"
     ]
    }
   ],
   "source": [
    "fully_connected_Model.compile(optimizer=\"adam\", loss= keras.losses.sparse_categorical_crossentropy, metrics=\"accuracy\")\n",
    "history = fully_connected_Model.fit(x_train, y_train, epochs=20, validation_data=(x_val, y_val), callbacks=[checkpoint_cb, custom_early_stopping_cb], workers=8, use_multiprocessing=True)\n",
    "Beep(2500, 1000)"
   ]
  },
  {
   "cell_type": "code",
   "execution_count": 35,
   "id": "b40e238c",
   "metadata": {},
   "outputs": [
    {
     "data": {
      "image/png": "[encoded data removed]",
      "text/plain": [
       "<Figure size 720x432 with 1 Axes>"
      ]
     },
     "metadata": {
      "needs_background": "light"
     },
     "output_type": "display_data"
    }
   ],
   "source": [
    "model_history = pd.DataFrame(history.history)\n",
    "model_history.plot(figsize=(10,6))\n",
    "plt.grid(True)\n",
    "plt.gca().set_ylim(0, 1)\n",
    "plt.show();"
   ]
  },
  {
   "cell_type": "code",
   "execution_count": 45,
   "id": "bbfdc6e1",
   "metadata": {},
   "outputs": [
    {
     "name": "stdout",
     "output_type": "stream",
     "text": [
      "157/157 [==============================] - 0s 1ms/step - loss: 0.2008 - accuracy: 0.9592\n"
     ]
    },
    {
     "data": {
      "text/plain": [
       "[0.2007630467414856, 0.9592000246047974]"
      ]
     },
     "execution_count": 45,
     "metadata": {},
     "output_type": "execute_result"
    }
   ],
   "source": [
    "fully_connected_Model.evaluate(x_val, y_val)"
   ]
  },
  {
   "cell_type": "code",
   "execution_count": 46,
   "id": "1123a76a",
   "metadata": {},
   "outputs": [
    {
     "name": "stdout",
     "output_type": "stream",
     "text": [
      "1124/1124 [==============================] - 1s 1ms/step - loss: 0.0945 - accuracy: 0.9700\n"
     ]
    },
    {
     "data": {
      "text/plain": [
       "[0.09449124336242676, 0.9700417518615723]"
      ]
     },
     "execution_count": 46,
     "metadata": {},
     "output_type": "execute_result"
    }
   ],
   "source": [
    "fully_connected_Model.evaluate(x_train, y_train)"
   ]
  },
  {
   "cell_type": "code",
   "execution_count": 47,
   "id": "98dfbdb2",
   "metadata": {},
   "outputs": [],
   "source": [
    "fully_connected_Model.save(\"sentiment_analysis_sanad_fully_connected_Model.h5\")"
   ]
  },
  {
   "cell_type": "code",
   "execution_count": 50,
   "id": "5dd38c94",
   "metadata": {},
   "outputs": [
    {
     "name": "stdout",
     "output_type": "stream",
     "text": [
      "143/143 [==============================] - 1s 2ms/step - loss: 0.1591 - accuracy: 0.9547\n"
     ]
    },
    {
     "data": {
      "text/plain": [
       "[0.15908674895763397, 0.9547252655029297]"
      ]
     },
     "execution_count": 50,
     "metadata": {},
     "output_type": "execute_result"
    }
   ],
   "source": [
    "fully_connected_Model.evaluate(x_test_cleaned_vec, y_test)"
   ]
  },
  {
   "cell_type": "code",
   "execution_count": null,
   "id": "91459826",
   "metadata": {},
   "outputs": [],
   "source": []
  }
 ],
 "metadata": {
  "kernelspec": {
   "display_name": "Python 3 (ipykernel)",
   "language": "python",
   "name": "python3"
  },
  "language_info": {
   "codemirror_mode": {
    "name": "ipython",
    "version": 3
   },
   "file_extension": ".py",
   "mimetype": "text/x-python",
   "name": "python",
   "nbconvert_exporter": "python",
   "pygments_lexer": "ipython3",
   "version": "3.8.12"
  }
 },
 "nbformat": 4,
 "nbformat_minor": 5
}
