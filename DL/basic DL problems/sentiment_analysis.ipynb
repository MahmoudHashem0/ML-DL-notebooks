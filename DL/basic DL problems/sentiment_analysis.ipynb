{
  "cells": [
    {
      "cell_type": "code",
      "execution_count": 145,
      "metadata": {
        "id": "xXRkBgq3cOie"
      },
      "outputs": [],
      "source": [
        "x_train = [\"This was awesome an awesome movie\", \n",
        "            \"Great movie! I liked it a lot\",\n",
        "            \"Happy Ending! awesome acting by the hero\",\n",
        "            \"loved it! truly great\",\n",
        "            \"bad not upto the mark\",\n",
        "            \"could have been better\",\n",
        "            \"Surely a Disappointing movie\"]\n",
        "x_test = [\"I was happy & happy and I loved the acting in the movie\", \"The movie I saw was bad\"]           \n",
        "y_train = [1,1,1,1,0,0,0]"
      ]
    },
    {
      "cell_type": "markdown",
      "metadata": {
        "id": "EgN0o0SVg3cv"
      },
      "source": [
        "# Data Cleaning"
      ]
    },
    {
      "cell_type": "code",
      "execution_count": 146,
      "metadata": {
        "id": "9D_ncQpvgstQ"
      },
      "outputs": [],
      "source": [
        "from nltk.tokenize import RegexpTokenizer\n",
        "from nltk.stem.porter import PorterStemmer\n",
        "from nltk.corpus import stopwords\n",
        "from nltk import download as nltk_download"
      ]
    },
    {
      "cell_type": "code",
      "execution_count": 147,
      "metadata": {
        "colab": {
          "base_uri": "https://localhost:8080/"
        },
        "id": "DkFl2kCshfNN",
        "outputId": "a7e449b6-408e-425b-99d1-f6d925907635"
      },
      "outputs": [
        {
          "name": "stderr",
          "output_type": "stream",
          "text": [
            "[nltk_data] Downloading package stopwords to /root/nltk_data...\n",
            "[nltk_data]   Package stopwords is already up-to-date!\n"
          ]
        },
        {
          "data": {
            "text/plain": [
              "True"
            ]
          },
          "execution_count": 147,
          "metadata": {},
          "output_type": "execute_result"
        }
      ],
      "source": [
        "nltk_download('stopwords')"
      ]
    },
    {
      "cell_type": "code",
      "execution_count": 148,
      "metadata": {
        "id": "U7sN_ZZihj4j"
      },
      "outputs": [],
      "source": [
        "tokenizer = RegexpTokenizer(r'\\w+')\n",
        "en_stopwords = set(stopwords.words('english'))\n",
        "ps = PorterStemmer()"
      ]
    },
    {
      "cell_type": "code",
      "execution_count": 149,
      "metadata": {
        "id": "h5DIK0MNh54E"
      },
      "outputs": [],
      "source": [
        "def clean_text(text):\n",
        "  text_cleaned = []\n",
        "  for sent in text:\n",
        "    sent_cleaned = []\n",
        "    sent = sent.lower() # first step\n",
        "    tokens = tokenizer.tokenize(sent) # second step note tokenization includes punctuation\n",
        "    for token in tokens:\n",
        "      if token not in en_stopwords: # third step\n",
        "        token_stemmed = ps.stem(token) # forth step\n",
        "        sent_cleaned.append(token_stemmed)\n",
        "    text_cleaned.append(\" \".join(sent_cleaned))\n",
        "  \n",
        "  return text_cleaned"
      ]
    },
    {
      "cell_type": "code",
      "execution_count": 150,
      "metadata": {
        "id": "YY1zQdSCkjQj"
      },
      "outputs": [],
      "source": [
        "x_train_cleaned = clean_text(x_train)\n",
        "x_test_cleaned = clean_text(x_test)"
      ]
    },
    {
      "cell_type": "markdown",
      "metadata": {
        "id": "35dJd-5xpRx9"
      },
      "source": [
        "# Vectorization"
      ]
    },
    {
      "cell_type": "code",
      "execution_count": 152,
      "metadata": {
        "colab": {
          "base_uri": "https://localhost:8080/"
        },
        "id": "yUqWnt852Nxv",
        "outputId": "052eac0e-a6f6-44cf-9948-664106f1dc60"
      },
      "outputs": [
        {
          "data": {
            "text/plain": [
              "['This was awesome an awesome movie',\n",
              " 'Great movie! I liked it a lot',\n",
              " 'Happy Ending! awesome acting by the hero',\n",
              " 'loved it! truly great',\n",
              " 'bad not upto the mark',\n",
              " 'could have been better',\n",
              " 'Surely a Disappointing movie']"
            ]
          },
          "execution_count": 152,
          "metadata": {},
          "output_type": "execute_result"
        }
      ],
      "source": [
        "x_train"
      ]
    },
    {
      "cell_type": "code",
      "execution_count": 151,
      "metadata": {
        "colab": {
          "base_uri": "https://localhost:8080/"
        },
        "id": "mp1r4g7_18kY",
        "outputId": "e42809fd-ad73-4e2c-ecda-ee4e140691e7"
      },
      "outputs": [
        {
          "data": {
            "text/plain": [
              "['awesom awesom movi',\n",
              " 'great movi like lot',\n",
              " 'happi end awesom act hero',\n",
              " 'love truli great',\n",
              " 'bad upto mark',\n",
              " 'could better',\n",
              " 'sure disappoint movi']"
            ]
          },
          "execution_count": 151,
          "metadata": {},
          "output_type": "execute_result"
        }
      ],
      "source": [
        "x_train_cleaned"
      ]
    },
    {
      "cell_type": "code",
      "execution_count": 171,
      "metadata": {
        "id": "snsdyO-h1ayQ"
      },
      "outputs": [],
      "source": [
        "from sklearn.feature_extraction.text import CountVectorizer\n",
        "count_vect = CountVectorizer(ngram_range=(1,2))\n",
        "x_train_cleaned_vec = count_vect.fit_transform(x_train_cleaned).toarray()\n",
        "x_test_cleaned_vec = count_vect.transform(x_test_cleaned).toarray()"
      ]
    },
    {
      "cell_type": "code",
      "execution_count": 173,
      "metadata": {
        "colab": {
          "base_uri": "https://localhost:8080/"
        },
        "id": "lTVVTbdJp9g3",
        "outputId": "9983b976-5274-43ff-98fa-ffb5d173ef23"
      },
      "outputs": [
        {
          "data": {
            "text/plain": [
              "MultinomialNB()"
            ]
          },
          "execution_count": 173,
          "metadata": {},
          "output_type": "execute_result"
        }
      ],
      "source": [
        "from sklearn.naive_bayes import MultinomialNB\n",
        "mn = MultinomialNB()\n",
        "mn.fit(x_train_cleaned_vec, y_train)"
      ]
    },
    {
      "cell_type": "code",
      "execution_count": 174,
      "metadata": {
        "colab": {
          "base_uri": "https://localhost:8080/"
        },
        "id": "Dtz1UgHDuB3H",
        "outputId": "841c5568-aef2-4143-b381-df79ac97acd9"
      },
      "outputs": [
        {
          "data": {
            "text/plain": [
              "array([1, 0])"
            ]
          },
          "execution_count": 174,
          "metadata": {},
          "output_type": "execute_result"
        }
      ],
      "source": [
        "mn.predict(x_test_cleaned_vec)"
      ]
    },
    {
      "cell_type": "code",
      "execution_count": 175,
      "metadata": {
        "id": "Xb_WhO0RH27N"
      },
      "outputs": [],
      "source": [
        "import numpy as np"
      ]
    },
    {
      "cell_type": "code",
      "execution_count": 176,
      "metadata": {
        "id": "EU7J4Otszfeo"
      },
      "outputs": [],
      "source": [
        "# prior propability\n",
        "def prior_propability(y, c):\n",
        "  return np.mean(y==c)"
      ]
    },
    {
      "cell_type": "code",
      "execution_count": 177,
      "metadata": {
        "id": "C0CFLEkXzyi5"
      },
      "outputs": [],
      "source": [
        "def conditional_propability(x, y, feature_idx, feature_value, label):\n",
        "  p_intersection = ((x[:, feature_idx] == feature_value) & (y == label)).mean()\n",
        "  prior_propability = np.mean(y==label)\n",
        "  return p_intersection / prior_propability"
      ]
    },
    {
      "cell_type": "code",
      "execution_count": 178,
      "metadata": {
        "id": "yjtmq9yy8I9I"
      },
      "outputs": [],
      "source": [
        "def predict(x_train, y_train, x_test):\n",
        "  classes = np.unique(y_train)\n",
        "  posterior_prop = []\n",
        "  for c in classes:\n",
        "    likelyhood = 1\n",
        "    for feature_idx in range(x_train.shape[1]):\n",
        "      condprop = conditional_propability(x_train, y_train, feature_idx, x_test[feature_idx], c)\n",
        "      likelyhood*=condprop\n",
        "    posterior_prop.append(likelyhood)\n",
        "\n",
        "  return classes[np.argmax(posterior_prop)]\n"
      ]
    },
    {
      "cell_type": "code",
      "execution_count": 194,
      "metadata": {
        "id": "CSmw4i_CCIiK"
      },
      "outputs": [],
      "source": [
        "def accuracy(x_train, y_train, x_test, y_test):\n",
        "  y_hat = []\n",
        "  for idx_row in range(x_test.shape[0]):\n",
        "    sample = x_test[idx_row, :]\n",
        "    y_hat.append(predict(x_train, y_train, sample))\n",
        "  print(y_hat)\n",
        "  acc = np.mean(y_hat == y_test)\n",
        "  return acc"
      ]
    },
    {
      "cell_type": "code",
      "execution_count": 195,
      "metadata": {
        "colab": {
          "base_uri": "https://localhost:8080/"
        },
        "id": "zfEy1NS7Ik13",
        "outputId": "c5f2dc77-a8d4-4a6f-e7e8-bdaa25677997"
      },
      "outputs": [
        {
          "data": {
            "text/plain": [
              "0"
            ]
          },
          "execution_count": 195,
          "metadata": {},
          "output_type": "execute_result"
        }
      ],
      "source": [
        "predict(x_train_cleaned_vec, y_train, x_test_cleaned_vec[0])"
      ]
    },
    {
      "cell_type": "code",
      "execution_count": 203,
      "metadata": {
        "colab": {
          "base_uri": "https://localhost:8080/"
        },
        "id": "PRP4XshGJiC1",
        "outputId": "426ba413-76e1-44f2-ef46-8baf1135c707"
      },
      "outputs": [
        {
          "data": {
            "text/plain": [
              "array([False,  True,  True])"
            ]
          },
          "execution_count": 203,
          "metadata": {},
          "output_type": "execute_result"
        }
      ],
      "source": [
        "l1 = [1,2,3]\n",
        "l2 = [5,2,3]\n",
        "a1 = np.array(l1)\n",
        "a2 = np.array(l2)\n",
        "l1 == a2"
      ]
    },
    {
      "cell_type": "code",
      "execution_count": 204,
      "metadata": {
        "colab": {
          "base_uri": "https://localhost:8080/"
        },
        "id": "6Y9G_mksYk6_",
        "outputId": "438df640-a811-4052-93ed-90d81e568905"
      },
      "outputs": [
        {
          "name": "stdout",
          "output_type": "stream",
          "text": [
            "[0, 0]\n"
          ]
        },
        {
          "data": {
            "text/plain": [
              "0.5"
            ]
          },
          "execution_count": 204,
          "metadata": {},
          "output_type": "execute_result"
        }
      ],
      "source": [
        "accuracy(x_train_cleaned_vec, y_train, x_test_cleaned_vec, np.array([1,0])) # with label encoder"
      ]
    },
    {
      "cell_type": "code",
      "execution_count": null,
      "metadata": {
        "id": "UpFagKuZIO6B"
      },
      "outputs": [],
      "source": []
    }
  ],
  "metadata": {
    "colab": {
      "collapsed_sections": [],
      "name": "sentiment_analysis.ipynb",
      "provenance": []
    },
    "kernelspec": {
      "display_name": "Python 3.8.12 ('FWD')",
      "language": "python",
      "name": "python3"
    },
    "language_info": {
      "name": "python",
      "version": "3.8.12"
    },
    "vscode": {
      "interpreter": {
        "hash": "ea4f9f86c8bb5009875111c48e8c51e42d338e555a65d24b90df348f057a106e"
      }
    }
  },
  "nbformat": 4,
  "nbformat_minor": 0
}
