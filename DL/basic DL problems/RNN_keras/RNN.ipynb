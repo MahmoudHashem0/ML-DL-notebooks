{
 "cells": [
  {
   "cell_type": "code",
   "execution_count": 1,
   "id": "ca62a9a0",
   "metadata": {},
   "outputs": [],
   "source": [
    "import numpy as np\n",
    "from tensorflow import keras"
   ]
  },
  {
   "cell_type": "code",
   "execution_count": 2,
   "id": "398a2526",
   "metadata": {},
   "outputs": [],
   "source": [
    "def generate_time_series(batch_size, n_steps):\n",
    "    freq1, freq2, offsets1, offsets2 = np.random.rand(4, batch_size, 1)\n",
    "    time = np.linspace(0, 1, n_steps)\n",
    "    \n",
    "    series = 0.5 * np.sin((time - offsets1) * (freq1 * 10 + 10)) #     wave 1\n",
    "    \n",
    "    series += 0.2 * np.sin((time - offsets2) * (freq2 * 20 + 20)) # +    wave 2\n",
    "    \n",
    "    series += 0.1 * (np.random.rand(batch_size, n_steps) - 0.5) # +noise\n",
    "    \n",
    "    return series[..., np.newaxis].astype(np.float32)"
   ]
  },
  {
   "cell_type": "code",
   "execution_count": 3,
   "id": "c002be07",
   "metadata": {},
   "outputs": [],
   "source": [
    "n_steps = 50\n",
    "series = generate_time_series(10000, n_steps + 1)\n",
    "X_train, y_train = series[:7000, :n_steps], series[:7000, -1]\n",
    "X_valid, y_valid = series[7000:9000, :n_steps], series[7000:9000, -1]\n",
    "X_test, y_test = series[9000:, :n_steps], series[9000:, -1]"
   ]
  },
  {
   "cell_type": "code",
   "execution_count": 4,
   "id": "e4dd7100",
   "metadata": {},
   "outputs": [
    {
     "data": {
      "text/plain": [
       "0.021307074"
      ]
     },
     "execution_count": 4,
     "metadata": {},
     "output_type": "execute_result"
    }
   ],
   "source": [
    "y_pred = X_valid[:, -1]\n",
    "np.mean(keras.losses.mean_squared_error(y_valid, y_pred))"
   ]
  },
  {
   "cell_type": "code",
   "execution_count": 5,
   "id": "b0d3ed69",
   "metadata": {
    "scrolled": true
   },
   "outputs": [
    {
     "name": "stdout",
     "output_type": "stream",
     "text": [
      "Epoch 1/20\n",
      "219/219 [==============================] - 1s 2ms/step - loss: 0.1326 - val_loss: 0.0460\n",
      "Epoch 2/20\n",
      "219/219 [==============================] - 0s 1ms/step - loss: 0.0283 - val_loss: 0.0162\n",
      "Epoch 3/20\n",
      "219/219 [==============================] - 0s 1ms/step - loss: 0.0130 - val_loss: 0.0099\n",
      "Epoch 4/20\n",
      "219/219 [==============================] - 0s 1ms/step - loss: 0.0090 - val_loss: 0.0076\n",
      "Epoch 5/20\n",
      "219/219 [==============================] - 0s 1ms/step - loss: 0.0071 - val_loss: 0.0063\n",
      "Epoch 6/20\n",
      "219/219 [==============================] - 0s 1ms/step - loss: 0.0060 - val_loss: 0.0057\n",
      "Epoch 7/20\n",
      "219/219 [==============================] - 0s 1ms/step - loss: 0.0054 - val_loss: 0.0050\n",
      "Epoch 8/20\n",
      "219/219 [==============================] - 0s 1ms/step - loss: 0.0049 - val_loss: 0.0049\n",
      "Epoch 9/20\n",
      "219/219 [==============================] - 0s 1ms/step - loss: 0.0047 - val_loss: 0.0044\n",
      "Epoch 10/20\n",
      "219/219 [==============================] - 0s 1ms/step - loss: 0.0045 - val_loss: 0.0043\n",
      "Epoch 11/20\n",
      "219/219 [==============================] - 0s 1ms/step - loss: 0.0043 - val_loss: 0.0041\n",
      "Epoch 12/20\n",
      "219/219 [==============================] - 0s 1ms/step - loss: 0.0042 - val_loss: 0.0041\n",
      "Epoch 13/20\n",
      "219/219 [==============================] - 0s 1ms/step - loss: 0.0041 - val_loss: 0.0040\n",
      "Epoch 14/20\n",
      "219/219 [==============================] - 0s 1ms/step - loss: 0.0040 - val_loss: 0.0040\n",
      "Epoch 15/20\n",
      "219/219 [==============================] - 0s 1ms/step - loss: 0.0039 - val_loss: 0.0038\n",
      "Epoch 16/20\n",
      "219/219 [==============================] - 0s 1ms/step - loss: 0.0038 - val_loss: 0.0038\n",
      "Epoch 17/20\n",
      "219/219 [==============================] - 0s 1ms/step - loss: 0.0038 - val_loss: 0.0036\n",
      "Epoch 18/20\n",
      "219/219 [==============================] - 0s 1ms/step - loss: 0.0037 - val_loss: 0.0038\n",
      "Epoch 19/20\n",
      "219/219 [==============================] - 0s 1ms/step - loss: 0.0036 - val_loss: 0.0037\n",
      "Epoch 20/20\n",
      "219/219 [==============================] - 0s 1ms/step - loss: 0.0036 - val_loss: 0.0036\n"
     ]
    },
    {
     "data": {
      "text/plain": [
       "<keras.callbacks.History at 0x1620ef39ca0>"
      ]
     },
     "execution_count": 5,
     "metadata": {},
     "output_type": "execute_result"
    }
   ],
   "source": [
    "linear_model = keras.models.Sequential([\n",
    "    keras.layers.Flatten(input_shape=[50,1]),\n",
    "    keras.layers.Dense(1)\n",
    "    ])\n",
    "linear_model.compile(loss=keras.losses.mean_squared_error)\n",
    "linear_model.fit(x= X_train, y= y_train, epochs=20, validation_data=(X_valid, y_valid))"
   ]
  },
  {
   "cell_type": "code",
   "execution_count": 6,
   "id": "d563ff70",
   "metadata": {},
   "outputs": [
    {
     "name": "stdout",
     "output_type": "stream",
     "text": [
      "Model: \"sequential\"\n",
      "_________________________________________________________________\n",
      " Layer (type)                Output Shape              Param #   \n",
      "=================================================================\n",
      " flatten (Flatten)           (None, 50)                0         \n",
      "                                                                 \n",
      " dense (Dense)               (None, 1)                 51        \n",
      "                                                                 \n",
      "=================================================================\n",
      "Total params: 51\n",
      "Trainable params: 51\n",
      "Non-trainable params: 0\n",
      "_________________________________________________________________\n"
     ]
    }
   ],
   "source": [
    "linear_model.summary()"
   ]
  },
  {
   "cell_type": "code",
   "execution_count": 7,
   "id": "de26594e",
   "metadata": {},
   "outputs": [
    {
     "name": "stdout",
     "output_type": "stream",
     "text": [
      "Epoch 1/20\n",
      "219/219 [==============================] - 3s 9ms/step - loss: 0.1929 - val_loss: 0.1145\n",
      "Epoch 2/20\n",
      "219/219 [==============================] - 2s 8ms/step - loss: 0.0855 - val_loss: 0.0624\n",
      "Epoch 3/20\n",
      "219/219 [==============================] - 2s 8ms/step - loss: 0.0518 - val_loss: 0.0410\n",
      "Epoch 4/20\n",
      "219/219 [==============================] - 2s 8ms/step - loss: 0.0349 - val_loss: 0.0290\n",
      "Epoch 5/20\n",
      "219/219 [==============================] - 2s 8ms/step - loss: 0.0255 - val_loss: 0.0221\n",
      "Epoch 6/20\n",
      "219/219 [==============================] - 2s 8ms/step - loss: 0.0198 - val_loss: 0.0179\n",
      "Epoch 7/20\n",
      "219/219 [==============================] - 2s 8ms/step - loss: 0.0162 - val_loss: 0.0151\n",
      "Epoch 8/20\n",
      "219/219 [==============================] - 2s 8ms/step - loss: 0.0140 - val_loss: 0.0134\n",
      "Epoch 9/20\n",
      "219/219 [==============================] - 2s 8ms/step - loss: 0.0126 - val_loss: 0.0123\n",
      "Epoch 10/20\n",
      "219/219 [==============================] - 2s 8ms/step - loss: 0.0118 - val_loss: 0.0118\n",
      "Epoch 11/20\n",
      "219/219 [==============================] - 2s 8ms/step - loss: 0.0114 - val_loss: 0.0116\n",
      "Epoch 12/20\n",
      "219/219 [==============================] - 2s 8ms/step - loss: 0.0112 - val_loss: 0.0115\n",
      "Epoch 13/20\n",
      "219/219 [==============================] - 2s 8ms/step - loss: 0.0112 - val_loss: 0.0115\n",
      "Epoch 14/20\n",
      "219/219 [==============================] - 2s 8ms/step - loss: 0.0112 - val_loss: 0.0115\n",
      "Epoch 15/20\n",
      "219/219 [==============================] - 2s 8ms/step - loss: 0.0112 - val_loss: 0.0114\n",
      "Epoch 16/20\n",
      "219/219 [==============================] - 2s 8ms/step - loss: 0.0112 - val_loss: 0.0114\n",
      "Epoch 17/20\n",
      "219/219 [==============================] - 2s 8ms/step - loss: 0.0111 - val_loss: 0.0114\n",
      "Epoch 18/20\n",
      "219/219 [==============================] - 2s 8ms/step - loss: 0.0111 - val_loss: 0.0114\n",
      "Epoch 19/20\n",
      "219/219 [==============================] - 2s 8ms/step - loss: 0.0112 - val_loss: 0.0115\n",
      "Epoch 20/20\n",
      "219/219 [==============================] - 2s 8ms/step - loss: 0.0111 - val_loss: 0.0115\n"
     ]
    },
    {
     "data": {
      "text/plain": [
       "<keras.callbacks.History at 0x162108cdd00>"
      ]
     },
     "execution_count": 7,
     "metadata": {},
     "output_type": "execute_result"
    }
   ],
   "source": [
    "simple_RNN = keras.models.Sequential([\n",
    "    keras.layers.SimpleRNN(1, input_shape=[None, 1])\n",
    "])\n",
    "\n",
    "simple_RNN.compile(loss=keras.losses.mean_squared_error)\n",
    "\n",
    "simple_RNN.fit(x= X_train, y= y_train, epochs=20, validation_data=(X_valid, y_valid))"
   ]
  },
  {
   "cell_type": "code",
   "execution_count": 8,
   "id": "ac08b76f",
   "metadata": {},
   "outputs": [
    {
     "name": "stdout",
     "output_type": "stream",
     "text": [
      "Model: \"sequential_1\"\n",
      "_________________________________________________________________\n",
      " Layer (type)                Output Shape              Param #   \n",
      "=================================================================\n",
      " simple_rnn (SimpleRNN)      (None, 1)                 3         \n",
      "                                                                 \n",
      "=================================================================\n",
      "Total params: 3\n",
      "Trainable params: 3\n",
      "Non-trainable params: 0\n",
      "_________________________________________________________________\n"
     ]
    }
   ],
   "source": [
    "simple_RNN.summary()"
   ]
  },
  {
   "cell_type": "code",
   "execution_count": 9,
   "id": "2d40a018",
   "metadata": {
    "scrolled": true
   },
   "outputs": [
    {
     "name": "stdout",
     "output_type": "stream",
     "text": [
      "Epoch 1/20\n",
      "219/219 [==============================] - 10s 32ms/step - loss: 0.0141 - val_loss: 0.0044\n",
      "Epoch 2/20\n",
      "219/219 [==============================] - 7s 31ms/step - loss: 0.0037 - val_loss: 0.0032\n",
      "Epoch 3/20\n",
      "219/219 [==============================] - 7s 31ms/step - loss: 0.0033 - val_loss: 0.0031\n",
      "Epoch 4/20\n",
      "219/219 [==============================] - 8s 34ms/step - loss: 0.0032 - val_loss: 0.0030\n",
      "Epoch 5/20\n",
      "219/219 [==============================] - 7s 32ms/step - loss: 0.0031 - val_loss: 0.0040\n",
      "Epoch 6/20\n",
      "219/219 [==============================] - 7s 31ms/step - loss: 0.0030 - val_loss: 0.0034\n",
      "Epoch 7/20\n",
      "219/219 [==============================] - 7s 31ms/step - loss: 0.0030 - val_loss: 0.0031\n",
      "Epoch 8/20\n",
      "219/219 [==============================] - 7s 31ms/step - loss: 0.0030 - val_loss: 0.0031\n",
      "Epoch 9/20\n",
      "219/219 [==============================] - 7s 32ms/step - loss: 0.0030 - val_loss: 0.0041\n",
      "Epoch 10/20\n",
      "219/219 [==============================] - 8s 34ms/step - loss: 0.0029 - val_loss: 0.0028\n",
      "Epoch 11/20\n",
      "219/219 [==============================] - 8s 36ms/step - loss: 0.0029 - val_loss: 0.0027\n",
      "Epoch 12/20\n",
      "219/219 [==============================] - 7s 33ms/step - loss: 0.0029 - val_loss: 0.0032\n",
      "Epoch 13/20\n",
      "219/219 [==============================] - 7s 34ms/step - loss: 0.0029 - val_loss: 0.0027\n",
      "Epoch 14/20\n",
      "219/219 [==============================] - 7s 33ms/step - loss: 0.0028 - val_loss: 0.0027\n",
      "Epoch 15/20\n",
      "219/219 [==============================] - 7s 34ms/step - loss: 0.0028 - val_loss: 0.0036\n",
      "Epoch 16/20\n",
      "219/219 [==============================] - 7s 34ms/step - loss: 0.0028 - val_loss: 0.0030\n",
      "Epoch 17/20\n",
      "219/219 [==============================] - 7s 34ms/step - loss: 0.0028 - val_loss: 0.0029\n",
      "Epoch 18/20\n",
      "219/219 [==============================] - 8s 35ms/step - loss: 0.0028 - val_loss: 0.0028\n",
      "Epoch 19/20\n",
      "219/219 [==============================] - 8s 35ms/step - loss: 0.0027 - val_loss: 0.0030\n",
      "Epoch 20/20\n",
      "219/219 [==============================] - 8s 35ms/step - loss: 0.0027 - val_loss: 0.0026\n"
     ]
    },
    {
     "data": {
      "text/plain": [
       "<keras.callbacks.History at 0x16211e2be20>"
      ]
     },
     "execution_count": 9,
     "metadata": {},
     "output_type": "execute_result"
    }
   ],
   "source": [
    "deep_RNN = keras.models.Sequential([\n",
    "    keras.layers.SimpleRNN(20, return_sequences=True, input_shape= [None, 1]), \n",
    "    keras.layers.SimpleRNN(20, return_sequences=True),\n",
    "    keras.layers.SimpleRNN(1)\n",
    "])\n",
    "\n",
    "deep_RNN.compile(loss=keras.losses.mean_squared_error)\n",
    "deep_RNN.fit(x= X_train, y= y_train, epochs=20, validation_data=(X_valid, y_valid))"
   ]
  },
  {
   "cell_type": "code",
   "execution_count": 10,
   "id": "a31711b9",
   "metadata": {},
   "outputs": [
    {
     "name": "stdout",
     "output_type": "stream",
     "text": [
      "Epoch 1/20\n",
      "219/219 [==============================] - 8s 27ms/step - loss: 0.0080 - val_loss: 0.0053\n",
      "Epoch 2/20\n",
      "219/219 [==============================] - 5s 25ms/step - loss: 0.0039 - val_loss: 0.0042\n",
      "Epoch 3/20\n",
      "219/219 [==============================] - 5s 25ms/step - loss: 0.0034 - val_loss: 0.0032\n",
      "Epoch 4/20\n",
      "219/219 [==============================] - 6s 26ms/step - loss: 0.0033 - val_loss: 0.0030\n",
      "Epoch 5/20\n",
      "219/219 [==============================] - 6s 25ms/step - loss: 0.0031 - val_loss: 0.0030\n",
      "Epoch 6/20\n",
      "219/219 [==============================] - 6s 26ms/step - loss: 0.0031 - val_loss: 0.0031\n",
      "Epoch 7/20\n",
      "219/219 [==============================] - 6s 26ms/step - loss: 0.0030 - val_loss: 0.0028\n",
      "Epoch 8/20\n",
      "219/219 [==============================] - 6s 26ms/step - loss: 0.0030 - val_loss: 0.0030\n",
      "Epoch 9/20\n",
      "219/219 [==============================] - 6s 26ms/step - loss: 0.0029 - val_loss: 0.0028\n",
      "Epoch 10/20\n",
      "219/219 [==============================] - 6s 27ms/step - loss: 0.0029 - val_loss: 0.0029\n",
      "Epoch 11/20\n",
      "219/219 [==============================] - 6s 27ms/step - loss: 0.0029 - val_loss: 0.0026\n",
      "Epoch 12/20\n",
      "219/219 [==============================] - 6s 27ms/step - loss: 0.0029 - val_loss: 0.0031\n",
      "Epoch 13/20\n",
      "219/219 [==============================] - 6s 27ms/step - loss: 0.0028 - val_loss: 0.0033\n",
      "Epoch 14/20\n",
      "219/219 [==============================] - 6s 28ms/step - loss: 0.0028 - val_loss: 0.0028\n",
      "Epoch 15/20\n",
      "219/219 [==============================] - 6s 27ms/step - loss: 0.0028 - val_loss: 0.0031\n",
      "Epoch 16/20\n",
      "219/219 [==============================] - 6s 26ms/step - loss: 0.0028 - val_loss: 0.0032\n",
      "Epoch 17/20\n",
      "219/219 [==============================] - 6s 26ms/step - loss: 0.0027 - val_loss: 0.0026\n",
      "Epoch 18/20\n",
      "219/219 [==============================] - 6s 26ms/step - loss: 0.0027 - val_loss: 0.0033\n",
      "Epoch 19/20\n",
      "219/219 [==============================] - 6s 26ms/step - loss: 0.0027 - val_loss: 0.0027\n",
      "Epoch 20/20\n",
      "219/219 [==============================] - 6s 28ms/step - loss: 0.0027 - val_loss: 0.0032\n"
     ]
    },
    {
     "data": {
      "text/plain": [
       "<keras.callbacks.History at 0x16216026e20>"
      ]
     },
     "execution_count": 10,
     "metadata": {},
     "output_type": "execute_result"
    }
   ],
   "source": [
    "deep_RNN_with_dense = keras.models.Sequential([\n",
    "    keras.layers.SimpleRNN(20, return_sequences=True, input_shape= [None, 1]), \n",
    "    keras.layers.SimpleRNN(20),\n",
    "    keras.layers.Dense(1)\n",
    "])\n",
    "\n",
    "deep_RNN_with_dense.compile(loss=keras.losses.mean_squared_error)\n",
    "deep_RNN_with_dense.fit(x= X_train, y= y_train, epochs=20, validation_data=(X_valid, y_valid))"
   ]
  },
  {
   "cell_type": "code",
   "execution_count": null,
   "id": "a340b99a",
   "metadata": {},
   "outputs": [],
   "source": []
  },
  {
   "cell_type": "code",
   "execution_count": 11,
   "id": "8893cef5",
   "metadata": {},
   "outputs": [
    {
     "data": {
      "text/plain": [
       "0.025816355"
      ]
     },
     "execution_count": 11,
     "metadata": {},
     "output_type": "execute_result"
    }
   ],
   "source": [
    "series = generate_time_series(1, n_steps + 10)\n",
    "X_new, Y_new = series[:, :n_steps], series[:, n_steps:]\n",
    "X = X_new\n",
    "for step_ahead in range(10):\n",
    "    y_pred_one = deep_RNN_with_dense.predict(X[:, step_ahead:])[:, np.newaxis, :]\n",
    "    X = np.concatenate([X, y_pred_one], axis=1)\n",
    "Y_pred = X[:, n_steps:]\n",
    "np.mean(keras.losses.mean_squared_error(Y_new, Y_pred))"
   ]
  },
  {
   "cell_type": "code",
   "execution_count": 12,
   "id": "0332835d",
   "metadata": {},
   "outputs": [
    {
     "data": {
      "text/plain": [
       "0.01866127688782724"
      ]
     },
     "execution_count": 12,
     "metadata": {},
     "output_type": "execute_result"
    }
   ],
   "source": [
    "y_pred = X_new[0, -1,0] * np.ones((1,10,1))\n",
    "np.mean(keras.losses.mean_squared_error(Y_new, y_pred))"
   ]
  },
  {
   "cell_type": "code",
   "execution_count": 13,
   "id": "ef18ae3f",
   "metadata": {},
   "outputs": [
    {
     "data": {
      "text/plain": [
       "0.054965127"
      ]
     },
     "execution_count": 13,
     "metadata": {},
     "output_type": "execute_result"
    }
   ],
   "source": [
    "series = generate_time_series(1, n_steps + 10)\n",
    "X_new, Y_new = series[:, :n_steps], series[:, n_steps:]\n",
    "X = X_new\n",
    "for step_ahead in range(10):\n",
    "    y_pred_one = linear_model.predict(X[:, step_ahead:])[:, np.newaxis, :]\n",
    "    X = np.concatenate([X, y_pred_one], axis=1)\n",
    "Y_pred = X[:, n_steps:]\n",
    "np.mean(keras.losses.mean_squared_error(Y_new, Y_pred))"
   ]
  },
  {
   "cell_type": "code",
   "execution_count": null,
   "id": "8185ea9d",
   "metadata": {},
   "outputs": [],
   "source": []
  },
  {
   "cell_type": "code",
   "execution_count": 14,
   "id": "2bfd5d2d",
   "metadata": {},
   "outputs": [],
   "source": [
    "series = generate_time_series(10000, n_steps+10)\n",
    "x_train, y_train = series[:7000, :n_steps], series[:7000, n_steps:]\n",
    "x_val, y_val = series[7000:9000, :n_steps], series[7000:9000, n_steps:]\n",
    "x_test, y_test = series[9000:, :n_steps], series[9000:, n_steps:]"
   ]
  },
  {
   "cell_type": "code",
   "execution_count": null,
   "id": "c430394a",
   "metadata": {},
   "outputs": [],
   "source": []
  },
  {
   "cell_type": "code",
   "execution_count": 15,
   "id": "52a153d7",
   "metadata": {},
   "outputs": [
    {
     "name": "stdout",
     "output_type": "stream",
     "text": [
      "Epoch 1/20\n",
      "219/219 [==============================] - 9s 31ms/step - loss: 0.0629 - val_loss: 0.0276\n",
      "Epoch 2/20\n",
      "219/219 [==============================] - 6s 25ms/step - loss: 0.0238 - val_loss: 0.0238\n",
      "Epoch 3/20\n",
      "219/219 [==============================] - 6s 26ms/step - loss: 0.0192 - val_loss: 0.0166\n",
      "Epoch 4/20\n",
      "219/219 [==============================] - 6s 26ms/step - loss: 0.0169 - val_loss: 0.0175\n",
      "Epoch 5/20\n",
      "219/219 [==============================] - 6s 26ms/step - loss: 0.0158 - val_loss: 0.0162\n",
      "Epoch 6/20\n",
      "219/219 [==============================] - 6s 29ms/step - loss: 0.0148 - val_loss: 0.0180\n",
      "Epoch 7/20\n",
      "219/219 [==============================] - 6s 27ms/step - loss: 0.0137 - val_loss: 0.0132\n",
      "Epoch 8/20\n",
      "219/219 [==============================] - 6s 27ms/step - loss: 0.0131 - val_loss: 0.0116\n",
      "Epoch 9/20\n",
      "219/219 [==============================] - 6s 26ms/step - loss: 0.0125 - val_loss: 0.0135\n",
      "Epoch 10/20\n",
      "219/219 [==============================] - 6s 27ms/step - loss: 0.0118 - val_loss: 0.0123\n",
      "Epoch 11/20\n",
      "219/219 [==============================] - 6s 26ms/step - loss: 0.0117 - val_loss: 0.0125\n",
      "Epoch 12/20\n",
      "219/219 [==============================] - 6s 27ms/step - loss: 0.0112 - val_loss: 0.0149\n",
      "Epoch 13/20\n",
      "219/219 [==============================] - 5s 25ms/step - loss: 0.0111 - val_loss: 0.0103\n",
      "Epoch 14/20\n",
      "219/219 [==============================] - 5s 24ms/step - loss: 0.0111 - val_loss: 0.0101\n",
      "Epoch 15/20\n",
      "219/219 [==============================] - 6s 28ms/step - loss: 0.0108 - val_loss: 0.0098\n",
      "Epoch 16/20\n",
      "219/219 [==============================] - 6s 27ms/step - loss: 0.0106 - val_loss: 0.0110\n",
      "Epoch 17/20\n",
      "219/219 [==============================] - 5s 25ms/step - loss: 0.0107 - val_loss: 0.0098\n",
      "Epoch 18/20\n",
      "219/219 [==============================] - 5s 24ms/step - loss: 0.0104 - val_loss: 0.0124\n",
      "Epoch 19/20\n",
      "219/219 [==============================] - 5s 23ms/step - loss: 0.0104 - val_loss: 0.0102\n",
      "Epoch 20/20\n",
      "219/219 [==============================] - 5s 23ms/step - loss: 0.0104 - val_loss: 0.0104\n"
     ]
    },
    {
     "data": {
      "text/plain": [
       "<keras.callbacks.History at 0x16215f6cd00>"
      ]
     },
     "execution_count": 15,
     "metadata": {},
     "output_type": "execute_result"
    }
   ],
   "source": [
    "deep_RNN_with_dense10 = keras.models.Sequential([\n",
    "    keras.layers.SimpleRNN(20, return_sequences=True, input_shape=[None, 1]),\n",
    "    keras.layers.SimpleRNN(20),\n",
    "    keras.layers.Dense(10)\n",
    "])\n",
    "\n",
    "deep_RNN_with_dense10.compile(loss = keras.losses.mean_squared_error)\n",
    "deep_RNN_with_dense10.fit(x_train, y_train, epochs=20, validation_data=(x_val, y_val))"
   ]
  },
  {
   "cell_type": "code",
   "execution_count": null,
   "id": "49cb12a8",
   "metadata": {},
   "outputs": [],
   "source": []
  },
  {
   "cell_type": "code",
   "execution_count": 16,
   "id": "d9c9815b",
   "metadata": {},
   "outputs": [],
   "source": [
    "Y = np.empty((10000, n_steps, 10)) # each target is a sequence of 10D vectors\n",
    "for step_ahead in range(1, 10 + 1):\n",
    "    Y[:, :, step_ahead - 1] = series[:, step_ahead:step_ahead + n_steps,0]\n",
    "Y_train = Y[:7000]\n",
    "Y_valid = Y[7000:9000]\n",
    "Y_test = Y[9000:]"
   ]
  },
  {
   "cell_type": "code",
   "execution_count": 17,
   "id": "0935629a",
   "metadata": {},
   "outputs": [],
   "source": [
    "def last_time_step_mse(Y_true, Y_pred):\n",
    "    return keras.losses.mean_squared_error(Y_true[:, -1, :], Y_pred[:, -1, :])"
   ]
  },
  {
   "cell_type": "code",
   "execution_count": 18,
   "id": "a390638e",
   "metadata": {},
   "outputs": [
    {
     "name": "stdout",
     "output_type": "stream",
     "text": [
      "Epoch 1/20\n",
      "219/219 [==============================] - 7s 24ms/step - loss: 0.0470 - last_time_step_mse: 0.0361 - val_loss: 0.0419 - val_last_time_step_mse: 0.0309\n",
      "Epoch 2/20\n",
      "219/219 [==============================] - 5s 23ms/step - loss: 0.0371 - last_time_step_mse: 0.0261 - val_loss: 0.0319 - val_last_time_step_mse: 0.0199\n",
      "Epoch 3/20\n",
      "219/219 [==============================] - 5s 22ms/step - loss: 0.0307 - last_time_step_mse: 0.0185 - val_loss: 0.0286 - val_last_time_step_mse: 0.0174\n",
      "Epoch 4/20\n",
      "219/219 [==============================] - 5s 23ms/step - loss: 0.0272 - last_time_step_mse: 0.0152 - val_loss: 0.0255 - val_last_time_step_mse: 0.0148\n",
      "Epoch 5/20\n",
      "219/219 [==============================] - 5s 24ms/step - loss: 0.0262 - last_time_step_mse: 0.0145 - val_loss: 0.0243 - val_last_time_step_mse: 0.0131\n",
      "Epoch 6/20\n",
      "219/219 [==============================] - 5s 24ms/step - loss: 0.0247 - last_time_step_mse: 0.0128 - val_loss: 0.0238 - val_last_time_step_mse: 0.0122\n",
      "Epoch 7/20\n",
      "219/219 [==============================] - 5s 23ms/step - loss: 0.0230 - last_time_step_mse: 0.0109 - val_loss: 0.0204 - val_last_time_step_mse: 0.0085\n",
      "Epoch 8/20\n",
      "219/219 [==============================] - 5s 24ms/step - loss: 0.0219 - last_time_step_mse: 0.0097 - val_loss: 0.0204 - val_last_time_step_mse: 0.0080\n",
      "Epoch 9/20\n",
      "219/219 [==============================] - 5s 23ms/step - loss: 0.0215 - last_time_step_mse: 0.0099 - val_loss: 0.0193 - val_last_time_step_mse: 0.0074\n",
      "Epoch 10/20\n",
      "219/219 [==============================] - 5s 24ms/step - loss: 0.0202 - last_time_step_mse: 0.0081 - val_loss: 0.0198 - val_last_time_step_mse: 0.0088\n",
      "Epoch 11/20\n",
      "219/219 [==============================] - 5s 24ms/step - loss: 0.0196 - last_time_step_mse: 0.0074 - val_loss: 0.0215 - val_last_time_step_mse: 0.0105\n",
      "Epoch 12/20\n",
      "219/219 [==============================] - 5s 24ms/step - loss: 0.0197 - last_time_step_mse: 0.0078 - val_loss: 0.0188 - val_last_time_step_mse: 0.0074\n",
      "Epoch 13/20\n",
      "219/219 [==============================] - 5s 24ms/step - loss: 0.0194 - last_time_step_mse: 0.0075 - val_loss: 0.0186 - val_last_time_step_mse: 0.0067\n",
      "Epoch 14/20\n",
      "219/219 [==============================] - 5s 25ms/step - loss: 0.0194 - last_time_step_mse: 0.0077 - val_loss: 0.0191 - val_last_time_step_mse: 0.0082\n",
      "Epoch 15/20\n",
      "219/219 [==============================] - 5s 24ms/step - loss: 0.0187 - last_time_step_mse: 0.0069 - val_loss: 0.0184 - val_last_time_step_mse: 0.0066\n",
      "Epoch 16/20\n",
      "219/219 [==============================] - 5s 25ms/step - loss: 0.0186 - last_time_step_mse: 0.0068 - val_loss: 0.0184 - val_last_time_step_mse: 0.0068\n",
      "Epoch 17/20\n",
      "219/219 [==============================] - 6s 26ms/step - loss: 0.0187 - last_time_step_mse: 0.0069 - val_loss: 0.0181 - val_last_time_step_mse: 0.0066\n",
      "Epoch 18/20\n",
      "219/219 [==============================] - 6s 25ms/step - loss: 0.0186 - last_time_step_mse: 0.0069 - val_loss: 0.0185 - val_last_time_step_mse: 0.0076\n",
      "Epoch 19/20\n",
      "219/219 [==============================] - 6s 25ms/step - loss: 0.0183 - last_time_step_mse: 0.0064 - val_loss: 0.0189 - val_last_time_step_mse: 0.0071\n",
      "Epoch 20/20\n",
      "219/219 [==============================] - 5s 25ms/step - loss: 0.0182 - last_time_step_mse: 0.0065 - val_loss: 0.0180 - val_last_time_step_mse: 0.0066\n"
     ]
    },
    {
     "data": {
      "text/plain": [
       "<keras.callbacks.History at 0x1621f1e0040>"
      ]
     },
     "execution_count": 18,
     "metadata": {},
     "output_type": "execute_result"
    }
   ],
   "source": [
    "deep_RNN_with_dense10_timesteps = keras.models.Sequential([\n",
    "    keras.layers.SimpleRNN(20, return_sequences = True, input_shape = [None, 1]),\n",
    "    keras.layers.SimpleRNN(20, return_sequences = True),\n",
    "    keras.layers.TimeDistributed((keras.layers.Dense(10)))\n",
    "])\n",
    "\n",
    "deep_RNN_with_dense10_timesteps.compile(optimizer=keras.optimizers.Adam(learning_rate=0.01),loss= keras.losses.mean_squared_error, metrics= last_time_step_mse)\n",
    "deep_RNN_with_dense10_timesteps.fit(x_train, Y_train, epochs= 20, validation_data= (x_val, Y_valid))"
   ]
  },
  {
   "cell_type": "code",
   "execution_count": null,
   "id": "a1866feb",
   "metadata": {},
   "outputs": [],
   "source": []
  },
  {
   "cell_type": "code",
   "execution_count": 19,
   "id": "b674b415",
   "metadata": {},
   "outputs": [
    {
     "name": "stdout",
     "output_type": "stream",
     "text": [
      "Epoch 1/20\n",
      "219/219 [==============================] - 13s 36ms/step - loss: 0.0686 - last_time_step_mse: 0.0609 - val_loss: 0.0448 - val_last_time_step_mse: 0.0368\n",
      "Epoch 2/20\n",
      "219/219 [==============================] - 7s 31ms/step - loss: 0.0391 - last_time_step_mse: 0.0310 - val_loss: 0.0343 - val_last_time_step_mse: 0.0265\n",
      "Epoch 3/20\n",
      "219/219 [==============================] - 7s 33ms/step - loss: 0.0317 - last_time_step_mse: 0.0224 - val_loss: 0.0292 - val_last_time_step_mse: 0.0194\n",
      "Epoch 4/20\n",
      "219/219 [==============================] - 7s 33ms/step - loss: 0.0277 - last_time_step_mse: 0.0171 - val_loss: 0.0265 - val_last_time_step_mse: 0.0162\n",
      "Epoch 5/20\n",
      "219/219 [==============================] - 7s 34ms/step - loss: 0.0254 - last_time_step_mse: 0.0143 - val_loss: 0.0245 - val_last_time_step_mse: 0.0136\n",
      "Epoch 6/20\n",
      "219/219 [==============================] - 7s 34ms/step - loss: 0.0241 - last_time_step_mse: 0.0131 - val_loss: 0.0234 - val_last_time_step_mse: 0.0134\n",
      "Epoch 7/20\n",
      "219/219 [==============================] - 7s 33ms/step - loss: 0.0232 - last_time_step_mse: 0.0123 - val_loss: 0.0226 - val_last_time_step_mse: 0.0122\n",
      "Epoch 8/20\n",
      "219/219 [==============================] - 7s 33ms/step - loss: 0.0225 - last_time_step_mse: 0.0117 - val_loss: 0.0222 - val_last_time_step_mse: 0.0119\n",
      "Epoch 9/20\n",
      "219/219 [==============================] - 7s 33ms/step - loss: 0.0219 - last_time_step_mse: 0.0112 - val_loss: 0.0219 - val_last_time_step_mse: 0.0118\n",
      "Epoch 10/20\n",
      "219/219 [==============================] - 7s 34ms/step - loss: 0.0215 - last_time_step_mse: 0.0108 - val_loss: 0.0214 - val_last_time_step_mse: 0.0114\n",
      "Epoch 11/20\n",
      "219/219 [==============================] - 8s 34ms/step - loss: 0.0211 - last_time_step_mse: 0.0106 - val_loss: 0.0209 - val_last_time_step_mse: 0.0108\n",
      "Epoch 12/20\n",
      "219/219 [==============================] - 8s 37ms/step - loss: 0.0208 - last_time_step_mse: 0.0104 - val_loss: 0.0205 - val_last_time_step_mse: 0.0104\n",
      "Epoch 13/20\n",
      "219/219 [==============================] - 8s 34ms/step - loss: 0.0205 - last_time_step_mse: 0.0101 - val_loss: 0.0203 - val_last_time_step_mse: 0.0104\n",
      "Epoch 14/20\n",
      "219/219 [==============================] - 7s 34ms/step - loss: 0.0203 - last_time_step_mse: 0.0098 - val_loss: 0.0200 - val_last_time_step_mse: 0.0099\n",
      "Epoch 15/20\n",
      "219/219 [==============================] - 8s 34ms/step - loss: 0.0200 - last_time_step_mse: 0.0097 - val_loss: 0.0198 - val_last_time_step_mse: 0.0098\n",
      "Epoch 16/20\n",
      "219/219 [==============================] - 7s 34ms/step - loss: 0.0198 - last_time_step_mse: 0.0094 - val_loss: 0.0197 - val_last_time_step_mse: 0.0097\n",
      "Epoch 17/20\n",
      "219/219 [==============================] - 7s 34ms/step - loss: 0.0196 - last_time_step_mse: 0.0093 - val_loss: 0.0192 - val_last_time_step_mse: 0.0092\n",
      "Epoch 18/20\n",
      "219/219 [==============================] - 7s 34ms/step - loss: 0.0194 - last_time_step_mse: 0.0091 - val_loss: 0.0192 - val_last_time_step_mse: 0.0094\n",
      "Epoch 19/20\n",
      "219/219 [==============================] - 7s 33ms/step - loss: 0.0191 - last_time_step_mse: 0.0088 - val_loss: 0.0186 - val_last_time_step_mse: 0.0088\n",
      "Epoch 20/20\n",
      "219/219 [==============================] - 7s 32ms/step - loss: 0.0188 - last_time_step_mse: 0.0084 - val_loss: 0.0183 - val_last_time_step_mse: 0.0084\n"
     ]
    },
    {
     "data": {
      "text/plain": [
       "<keras.callbacks.History at 0x16222ab0c40>"
      ]
     },
     "execution_count": 19,
     "metadata": {},
     "output_type": "execute_result"
    }
   ],
   "source": [
    "stride = 2\n",
    "GRU_Conv1D = keras.models.Sequential([\n",
    "    keras.layers.Conv1D(filters=20, kernel_size=4, strides=stride, padding=\"valid\", input_shape=[None, 1]),\n",
    "    keras.layers.GRU(20, return_sequences=True),\n",
    "    keras.layers.GRU(20, return_sequences=True),\n",
    "    keras.layers.TimeDistributed(keras.layers.Dense(10))\n",
    "])\n",
    "\n",
    "GRU_Conv1D.compile(optimizer=\"adam\", loss= \"mse\", metrics=last_time_step_mse)\n",
    "GRU_Conv1D.fit(x_train, Y_train[:, 3::stride], epochs= 20, validation_data= (x_val, Y_valid[:, 3::stride]))"
   ]
  },
  {
   "cell_type": "code",
   "execution_count": null,
   "id": "5e52c33a",
   "metadata": {},
   "outputs": [],
   "source": []
  },
  {
   "cell_type": "code",
   "execution_count": null,
   "id": "aca7f824",
   "metadata": {},
   "outputs": [],
   "source": []
  },
  {
   "cell_type": "code",
   "execution_count": null,
   "id": "0cab56ec",
   "metadata": {},
   "outputs": [],
   "source": []
  },
  {
   "cell_type": "markdown",
   "id": "9ea4054d",
   "metadata": {},
   "source": [
    "Trash"
   ]
  },
  {
   "cell_type": "code",
   "execution_count": null,
   "id": "e8fb19ff",
   "metadata": {},
   "outputs": [],
   "source": [
    "series = generate_time_series(1, n_steps + 10)\n",
    "X_new, Y_new = series[:, :n_steps], series[:, n_steps:]\n",
    "X = X_new\n",
    "for step_ahead in range(10):\n",
    "    y_pred_one = model.predict(X[:, step_ahead:])[:, np.newaxis, :]\n",
    "    X = np.concatenate([X, y_pred_one], axis=1)\n",
    "Y_pred = X[:, n_steps:]\n",
    "\n",
    "np.mean(keras.losses.mean_squared_error(Y_new, Y_pred))"
   ]
  },
  {
   "cell_type": "code",
   "execution_count": null,
   "id": "7376c9c8",
   "metadata": {},
   "outputs": [],
   "source": []
  },
  {
   "cell_type": "code",
   "execution_count": 59,
   "id": "b6f19a48",
   "metadata": {},
   "outputs": [],
   "source": [
    "Y_pred = (X_new[:, step_ahead]* np.ones((1,10)))[:, :, np.newaxis]\n",
    "\n",
    "np.mean(keras.losses.mean_squared_error(Y_new, Y_pred))"
   ]
  },
  {
   "cell_type": "code",
   "execution_count": 68,
   "id": "5a5fc7ac",
   "metadata": {},
   "outputs": [],
   "source": [
    "X = X_new\n",
    "for step_ahead in range(10):\n",
    "    y_pred_one = linear_model.predict(X[:, step_ahead:])[:, np.newaxis, :]\n",
    "    X = np.concatenate([X, y_pred_one], axis=1)\n",
    "Y_pred = X[:, n_steps:]\n",
    "\n",
    "np.mean(keras.losses.mean_squared_error(Y_new, Y_pred))"
   ]
  },
  {
   "cell_type": "code",
   "execution_count": null,
   "id": "4b65a0ef",
   "metadata": {},
   "outputs": [],
   "source": []
  },
  {
   "cell_type": "code",
   "execution_count": 4,
   "id": "22eb5e29",
   "metadata": {},
   "outputs": [
    {
     "name": "stdout",
     "output_type": "stream",
     "text": [
      "Epoch 1/20\n",
      "219/219 [==============================] - 31s 75ms/step - loss: 0.0429 - val_loss: 0.0270\n",
      "Epoch 2/20\n",
      "219/219 [==============================] - 13s 59ms/step - loss: 0.0226 - val_loss: 0.0241\n",
      "Epoch 3/20\n",
      "219/219 [==============================] - 14s 63ms/step - loss: 0.0186 - val_loss: 0.0258\n",
      "Epoch 4/20\n",
      "219/219 [==============================] - 14s 63ms/step - loss: 0.0166 - val_loss: 0.0164\n",
      "Epoch 5/20\n",
      "219/219 [==============================] - 14s 65ms/step - loss: 0.0154 - val_loss: 0.0135\n",
      "Epoch 6/20\n",
      "219/219 [==============================] - 15s 70ms/step - loss: 0.0146 - val_loss: 0.0128\n",
      "Epoch 7/20\n",
      "219/219 [==============================] - 15s 71ms/step - loss: 0.0138 - val_loss: 0.0133\n",
      "Epoch 8/20\n",
      "219/219 [==============================] - 14s 63ms/step - loss: 0.0134 - val_loss: 0.0145\n",
      "Epoch 9/20\n",
      "219/219 [==============================] - 14s 64ms/step - loss: 0.0128 - val_loss: 0.0170\n",
      "Epoch 10/20\n",
      "219/219 [==============================] - 14s 63ms/step - loss: 0.0125 - val_loss: 0.0149\n",
      "Epoch 11/20\n",
      "219/219 [==============================] - 14s 64ms/step - loss: 0.0122 - val_loss: 0.0120\n",
      "Epoch 12/20\n",
      "219/219 [==============================] - 15s 67ms/step - loss: 0.0120 - val_loss: 0.0105\n",
      "Epoch 13/20\n",
      "219/219 [==============================] - 14s 64ms/step - loss: 0.0117 - val_loss: 0.0116\n",
      "Epoch 14/20\n",
      "219/219 [==============================] - 14s 64ms/step - loss: 0.0115 - val_loss: 0.0124\n",
      "Epoch 15/20\n",
      "219/219 [==============================] - 14s 63ms/step - loss: 0.0112 - val_loss: 0.0126\n",
      "Epoch 16/20\n",
      "219/219 [==============================] - 14s 62ms/step - loss: 0.0113 - val_loss: 0.0115\n",
      "Epoch 17/20\n",
      "219/219 [==============================] - 14s 62ms/step - loss: 0.0111 - val_loss: 0.0125\n",
      "Epoch 18/20\n",
      "219/219 [==============================] - 14s 65ms/step - loss: 0.0110 - val_loss: 0.0101\n",
      "Epoch 19/20\n",
      "219/219 [==============================] - 13s 58ms/step - loss: 0.0110 - val_loss: 0.0105\n",
      "Epoch 20/20\n",
      "219/219 [==============================] - 14s 66ms/step - loss: 0.0108 - val_loss: 0.0122\n"
     ]
    },
    {
     "data": {
      "text/plain": [
       "<keras.callbacks.History at 0x21a69aec100>"
      ]
     },
     "execution_count": 4,
     "metadata": {},
     "output_type": "execute_result"
    }
   ],
   "source": [
    "n_steps = 50\n",
    "series = generate_time_series(10000, n_steps + 10)\n",
    "\n",
    "X_train, Y_train = series[:7000, :n_steps], series[:7000, -10:, 0]\n",
    "X_valid, Y_valid = series[7000:9000, :n_steps], series[7000:9000, -10:,0]\n",
    "X_test, Y_test = series[9000:, :n_steps], series[9000:, -10:, 0]\n",
    "\n",
    "linear_model10 = keras.models.Sequential([\n",
    "    keras.layers.SimpleRNN(20, return_sequences=True, input_shape=[None,1]),\n",
    "    keras.layers.SimpleRNN(20),\n",
    "    keras.layers.Dense(10)\n",
    "])\n",
    "linear_model10.compile(loss=keras.losses.mean_squared_error)\n",
    "linear_model10.fit(x= X_train, y= Y_train, epochs=20, validation_data=(X_valid, Y_valid))"
   ]
  },
  {
   "cell_type": "code",
   "execution_count": 5,
   "id": "0b556c9e",
   "metadata": {},
   "outputs": [
    {
     "ename": "NameError",
     "evalue": "name 'model' is not defined",
     "output_type": "error",
     "traceback": [
      "\u001b[1;31m---------------------------------------------------------------------------\u001b[0m",
      "\u001b[1;31mNameError\u001b[0m                                 Traceback (most recent call last)",
      "\u001b[1;32m~\\AppData\\Local\\Temp\\ipykernel_20012\\2730327935.py\u001b[0m in \u001b[0;36m<module>\u001b[1;34m\u001b[0m\n\u001b[1;32m----> 1\u001b[1;33m \u001b[0mY_pred\u001b[0m \u001b[1;33m=\u001b[0m \u001b[0mmodel\u001b[0m\u001b[1;33m.\u001b[0m\u001b[0mpredict\u001b[0m\u001b[1;33m(\u001b[0m\u001b[0mX_valid\u001b[0m\u001b[1;33m)\u001b[0m\u001b[1;33m\u001b[0m\u001b[1;33m\u001b[0m\u001b[0m\n\u001b[0m\u001b[0;32m      2\u001b[0m \u001b[0mnp\u001b[0m\u001b[1;33m.\u001b[0m\u001b[0mmean\u001b[0m\u001b[1;33m(\u001b[0m\u001b[0mkeras\u001b[0m\u001b[1;33m.\u001b[0m\u001b[0mlosses\u001b[0m\u001b[1;33m.\u001b[0m\u001b[0mmean_squared_error\u001b[0m\u001b[1;33m(\u001b[0m\u001b[0mY_valid\u001b[0m\u001b[1;33m,\u001b[0m \u001b[0mY_pred\u001b[0m\u001b[1;33m)\u001b[0m\u001b[1;33m)\u001b[0m\u001b[1;33m\u001b[0m\u001b[1;33m\u001b[0m\u001b[0m\n",
      "\u001b[1;31mNameError\u001b[0m: name 'model' is not defined"
     ]
    }
   ],
   "source": [
    "Y_pred = model.predict(X_valid)\n",
    "np.mean(keras.losses.mean_squared_error(Y_valid, Y_pred))"
   ]
  },
  {
   "cell_type": "code",
   "execution_count": null,
   "id": "6692fdaa",
   "metadata": {},
   "outputs": [],
   "source": []
  },
  {
   "cell_type": "code",
   "execution_count": null,
   "id": "3743a235",
   "metadata": {},
   "outputs": [],
   "source": []
  },
  {
   "cell_type": "code",
   "execution_count": 50,
   "id": "e40777ed",
   "metadata": {},
   "outputs": [
    {
     "data": {
      "text/plain": [
       "0.020076169230590673"
      ]
     },
     "execution_count": 50,
     "metadata": {},
     "output_type": "execute_result"
    }
   ],
   "source": [
    "y_pred = x_val[:, -1]\n",
    "duplicator = np.ones((2000,10))\n",
    "np.mean(keras.losses.mean_squared_error(y_val*duplicator, y_pred*duplicator))"
   ]
  },
  {
   "cell_type": "code",
   "execution_count": 40,
   "id": "a57fc0f6",
   "metadata": {},
   "outputs": [
    {
     "data": {
      "text/plain": [
       "array([[1, 2, 3]])"
      ]
     },
     "execution_count": 40,
     "metadata": {},
     "output_type": "execute_result"
    }
   ],
   "source": [
    "x = np.array([[1, 2, 3]])\n",
    "x"
   ]
  },
  {
   "cell_type": "code",
   "execution_count": 45,
   "id": "3b0d186b",
   "metadata": {},
   "outputs": [
    {
     "data": {
      "text/plain": [
       "(2000, 1)"
      ]
     },
     "execution_count": 45,
     "metadata": {},
     "output_type": "execute_result"
    }
   ],
   "source": [
    "y_pred.shape"
   ]
  },
  {
   "cell_type": "code",
   "execution_count": 44,
   "id": "ca3c175c",
   "metadata": {},
   "outputs": [
    {
     "data": {
      "text/plain": [
       "array([[-0.39642754],\n",
       "       [ 0.33571893],\n",
       "       [ 0.04191582],\n",
       "       ...,\n",
       "       [ 0.28746435],\n",
       "       [-0.13177723],\n",
       "       [ 0.47960627]], dtype=float32)"
      ]
     },
     "execution_count": 44,
     "metadata": {},
     "output_type": "execute_result"
    }
   ],
   "source": [
    "y_pred.shape"
   ]
  },
  {
   "cell_type": "code",
   "execution_count": 46,
   "id": "6763f265",
   "metadata": {},
   "outputs": [
    {
     "data": {
      "text/plain": [
       "array([[-0.39642754, -0.39642754, -0.39642754, ..., -0.39642754,\n",
       "        -0.39642754, -0.39642754],\n",
       "       [ 0.33571893,  0.33571893,  0.33571893, ...,  0.33571893,\n",
       "         0.33571893,  0.33571893],\n",
       "       [ 0.04191582,  0.04191582,  0.04191582, ...,  0.04191582,\n",
       "         0.04191582,  0.04191582],\n",
       "       ...,\n",
       "       [ 0.28746435,  0.28746435,  0.28746435, ...,  0.28746435,\n",
       "         0.28746435,  0.28746435],\n",
       "       [-0.13177723, -0.13177723, -0.13177723, ..., -0.13177723,\n",
       "        -0.13177723, -0.13177723],\n",
       "       [ 0.47960627,  0.47960627,  0.47960627, ...,  0.47960627,\n",
       "         0.47960627,  0.47960627]])"
      ]
     },
     "execution_count": 46,
     "metadata": {},
     "output_type": "execute_result"
    }
   ],
   "source": [
    "duplicator = np.ones((2000,10))\n",
    "y_pred*duplicator"
   ]
  },
  {
   "cell_type": "code",
   "execution_count": 5,
   "id": "f4e30862",
   "metadata": {},
   "outputs": [
    {
     "data": {
      "text/plain": [
       "(2000, 1)"
      ]
     },
     "execution_count": 5,
     "metadata": {},
     "output_type": "execute_result"
    }
   ],
   "source": [
    "y_pred.shape"
   ]
  }
 ],
 "metadata": {
  "kernelspec": {
   "display_name": "Python 3 (ipykernel)",
   "language": "python",
   "name": "python3"
  },
  "language_info": {
   "codemirror_mode": {
    "name": "ipython",
    "version": 3
   },
   "file_extension": ".py",
   "mimetype": "text/x-python",
   "name": "python",
   "nbconvert_exporter": "python",
   "pygments_lexer": "ipython3",
   "version": "3.8.12"
  }
 },
 "nbformat": 4,
 "nbformat_minor": 5
}
