{
 "cells": [
  {
   "cell_type": "markdown",
   "id": "cdb37960",
   "metadata": {
    "papermill": {
     "duration": 0.006979,
     "end_time": "2022-08-26T02:17:34.568694",
     "exception": false,
     "start_time": "2022-08-26T02:17:34.561715",
     "status": "completed"
    },
    "tags": []
   },
   "source": [
    "**This notebook is an exercise in the [Data Cleaning](https://www.kaggle.com/learn/data-cleaning) course.  You can reference the tutorial at [this link](https://www.kaggle.com/alexisbcook/character-encodings).**\n",
    "\n",
    "---\n"
   ]
  },
  {
   "cell_type": "markdown",
   "id": "7b9294ad",
   "metadata": {
    "papermill": {
     "duration": 0.004609,
     "end_time": "2022-08-26T02:17:34.578995",
     "exception": false,
     "start_time": "2022-08-26T02:17:34.574386",
     "status": "completed"
    },
    "tags": []
   },
   "source": [
    "In this exercise, you'll apply what you learned in the **Character encodings** tutorial.\n",
    "\n",
    "# Setup\n",
    "\n",
    "The questions below will give you feedback on your work. Run the following cell to set up the feedback system."
   ]
  },
  {
   "cell_type": "code",
   "execution_count": 1,
   "id": "c783211d",
   "metadata": {
    "execution": {
     "iopub.execute_input": "2022-08-26T02:17:34.590744Z",
     "iopub.status.busy": "2022-08-26T02:17:34.590300Z",
     "iopub.status.idle": "2022-08-26T02:17:34.683864Z",
     "shell.execute_reply": "2022-08-26T02:17:34.683041Z"
    },
    "papermill": {
     "duration": 0.102979,
     "end_time": "2022-08-26T02:17:34.686863",
     "exception": false,
     "start_time": "2022-08-26T02:17:34.583884",
     "status": "completed"
    },
    "tags": []
   },
   "outputs": [
    {
     "name": "stdout",
     "output_type": "stream",
     "text": [
      "Setup Complete\n"
     ]
    }
   ],
   "source": [
    "from learntools.core import binder\n",
    "binder.bind(globals())\n",
    "from learntools.data_cleaning.ex4 import *\n",
    "print(\"Setup Complete\")"
   ]
  },
  {
   "cell_type": "markdown",
   "id": "35ba6478",
   "metadata": {
    "papermill": {
     "duration": 0.004967,
     "end_time": "2022-08-26T02:17:34.697100",
     "exception": false,
     "start_time": "2022-08-26T02:17:34.692133",
     "status": "completed"
    },
    "tags": []
   },
   "source": [
    "# Get our environment set up\n",
    "\n",
    "The first thing we'll need to do is load in the libraries we'll be using."
   ]
  },
  {
   "cell_type": "code",
   "execution_count": 2,
   "id": "b78515ed",
   "metadata": {
    "execution": {
     "iopub.execute_input": "2022-08-26T02:17:34.709823Z",
     "iopub.status.busy": "2022-08-26T02:17:34.709388Z",
     "iopub.status.idle": "2022-08-26T02:17:34.714051Z",
     "shell.execute_reply": "2022-08-26T02:17:34.713229Z"
    },
    "papermill": {
     "duration": 0.013608,
     "end_time": "2022-08-26T02:17:34.716410",
     "exception": false,
     "start_time": "2022-08-26T02:17:34.702802",
     "status": "completed"
    },
    "tags": []
   },
   "outputs": [],
   "source": [
    "# modules we'll use\n",
    "import pandas as pd\n",
    "import numpy as np\n",
    "\n",
    "# helpful character encoding module\n",
    "import chardet\n",
    "\n",
    "# set seed for reproducibility\n",
    "np.random.seed(0)"
   ]
  },
  {
   "cell_type": "markdown",
   "id": "d1aef5c3",
   "metadata": {
    "papermill": {
     "duration": 0.004746,
     "end_time": "2022-08-26T02:17:34.726629",
     "exception": false,
     "start_time": "2022-08-26T02:17:34.721883",
     "status": "completed"
    },
    "tags": []
   },
   "source": [
    "# 1) What are encodings?\n",
    "\n",
    "You're working with a dataset composed of bytes.  Run the code cell below to print a sample entry."
   ]
  },
  {
   "cell_type": "code",
   "execution_count": 3,
   "id": "1e1bb31a",
   "metadata": {
    "execution": {
     "iopub.execute_input": "2022-08-26T02:17:34.738547Z",
     "iopub.status.busy": "2022-08-26T02:17:34.738093Z",
     "iopub.status.idle": "2022-08-26T02:17:34.743451Z",
     "shell.execute_reply": "2022-08-26T02:17:34.742566Z"
    },
    "papermill": {
     "duration": 0.014393,
     "end_time": "2022-08-26T02:17:34.746049",
     "exception": false,
     "start_time": "2022-08-26T02:17:34.731656",
     "status": "completed"
    },
    "tags": []
   },
   "outputs": [
    {
     "name": "stdout",
     "output_type": "stream",
     "text": [
      "b'\\xa7A\\xa6n'\n",
      "data type: <class 'bytes'>\n"
     ]
    }
   ],
   "source": [
    "sample_entry = b'\\xa7A\\xa6n'\n",
    "print(sample_entry)\n",
    "print('data type:', type(sample_entry))"
   ]
  },
  {
   "cell_type": "markdown",
   "id": "d0ba4fb9",
   "metadata": {
    "papermill": {
     "duration": 0.004875,
     "end_time": "2022-08-26T02:17:34.756133",
     "exception": false,
     "start_time": "2022-08-26T02:17:34.751258",
     "status": "completed"
    },
    "tags": []
   },
   "source": [
    "You notice that it doesn't use the standard UTF-8 encoding. \n",
    "\n",
    "Use the next code cell to create a variable `new_entry` that changes the encoding from `\"big5-tw\"` to `\"utf-8\"`.  `new_entry` should have the bytes datatype."
   ]
  },
  {
   "cell_type": "code",
   "execution_count": 4,
   "id": "6247b605",
   "metadata": {
    "execution": {
     "iopub.execute_input": "2022-08-26T02:17:34.768815Z",
     "iopub.status.busy": "2022-08-26T02:17:34.767896Z",
     "iopub.status.idle": "2022-08-26T02:17:34.779103Z",
     "shell.execute_reply": "2022-08-26T02:17:34.778332Z"
    },
    "papermill": {
     "duration": 0.020138,
     "end_time": "2022-08-26T02:17:34.781259",
     "exception": false,
     "start_time": "2022-08-26T02:17:34.761121",
     "status": "completed"
    },
    "tags": []
   },
   "outputs": [
    {
     "data": {
      "application/javascript": [
       "parent.postMessage({\"jupyterEvent\": \"custom.exercise_interaction\", \"data\": {\"outcomeType\": 1, \"valueTowardsCompletion\": 0.3333333333333333, \"interactionType\": 1, \"questionType\": 1, \"questionId\": \"1_EncodingsIntro\", \"learnToolsVersion\": \"0.3.4\", \"failureMessage\": \"\", \"exceptionClass\": \"\", \"trace\": \"\"}}, \"*\")"
      ],
      "text/plain": [
       "<IPython.core.display.Javascript object>"
      ]
     },
     "metadata": {},
     "output_type": "display_data"
    },
    {
     "data": {
      "text/markdown": [
       "<span style=\"color:#33cc33\">Correct</span>"
      ],
      "text/plain": [
       "Correct"
      ]
     },
     "metadata": {},
     "output_type": "display_data"
    }
   ],
   "source": [
    "new_entry = sample_entry.decode(\"big5-tw\").encode(\"utf-8\")\n",
    "\n",
    "# Check your answer\n",
    "q1.check()"
   ]
  },
  {
   "cell_type": "code",
   "execution_count": 5,
   "id": "e7703cea",
   "metadata": {
    "execution": {
     "iopub.execute_input": "2022-08-26T02:17:34.794302Z",
     "iopub.status.busy": "2022-08-26T02:17:34.793674Z",
     "iopub.status.idle": "2022-08-26T02:17:34.805367Z",
     "shell.execute_reply": "2022-08-26T02:17:34.804207Z"
    },
    "papermill": {
     "duration": 0.020826,
     "end_time": "2022-08-26T02:17:34.807606",
     "exception": false,
     "start_time": "2022-08-26T02:17:34.786780",
     "status": "completed"
    },
    "tags": []
   },
   "outputs": [
    {
     "data": {
      "application/javascript": [
       "parent.postMessage({\"jupyterEvent\": \"custom.exercise_interaction\", \"data\": {\"interactionType\": 2, \"questionType\": 1, \"questionId\": \"1_EncodingsIntro\", \"learnToolsVersion\": \"0.3.4\", \"valueTowardsCompletion\": 0.0, \"failureMessage\": \"\", \"exceptionClass\": \"\", \"trace\": \"\", \"outcomeType\": 4}}, \"*\")"
      ],
      "text/plain": [
       "<IPython.core.display.Javascript object>"
      ]
     },
     "metadata": {},
     "output_type": "display_data"
    },
    {
     "data": {
      "text/markdown": [
       "<span style=\"color:#3366cc\">Hint:</span> Try using `.decode()` to get the string, then `.encode()` to get the bytes representation, encoded in UTF-8."
      ],
      "text/plain": [
       "Hint: Try using `.decode()` to get the string, then `.encode()` to get the bytes representation, encoded in UTF-8."
      ]
     },
     "metadata": {},
     "output_type": "display_data"
    },
    {
     "data": {
      "application/javascript": [
       "parent.postMessage({\"jupyterEvent\": \"custom.exercise_interaction\", \"data\": {\"interactionType\": 3, \"questionType\": 1, \"questionId\": \"1_EncodingsIntro\", \"learnToolsVersion\": \"0.3.4\", \"valueTowardsCompletion\": 0.0, \"failureMessage\": \"\", \"exceptionClass\": \"\", \"trace\": \"\", \"outcomeType\": 4}}, \"*\")"
      ],
      "text/plain": [
       "<IPython.core.display.Javascript object>"
      ]
     },
     "metadata": {},
     "output_type": "display_data"
    },
    {
     "data": {
      "text/markdown": [
       "<span style=\"color:#33cc99\">Solution:</span> \n",
       "```python\n",
       "before = sample_entry.decode(\"big5-tw\")\n",
       "new_entry = before.encode()\n",
       "\n",
       "```"
      ],
      "text/plain": [
       "Solution: \n",
       "```python\n",
       "before = sample_entry.decode(\"big5-tw\")\n",
       "new_entry = before.encode()\n",
       "\n",
       "```"
      ]
     },
     "metadata": {},
     "output_type": "display_data"
    }
   ],
   "source": [
    "# Lines below will give you a hint or solution code\n",
    "q1.hint()\n",
    "q1.solution()"
   ]
  },
  {
   "cell_type": "markdown",
   "id": "a8ef47f9",
   "metadata": {
    "papermill": {
     "duration": 0.005878,
     "end_time": "2022-08-26T02:17:34.819736",
     "exception": false,
     "start_time": "2022-08-26T02:17:34.813858",
     "status": "completed"
    },
    "tags": []
   },
   "source": [
    "# 2) Reading in files with encoding problems\n",
    "\n",
    "Use the code cell below to read in this file at path `\"../input/fatal-police-shootings-in-the-us/PoliceKillingsUS.csv\"`.  \n",
    "\n",
    "Figure out what the correct encoding should be and read in the file to a DataFrame `police_killings`."
   ]
  },
  {
   "cell_type": "code",
   "execution_count": 6,
   "id": "c20eb76c",
   "metadata": {
    "execution": {
     "iopub.execute_input": "2022-08-26T02:17:34.833196Z",
     "iopub.status.busy": "2022-08-26T02:17:34.832788Z",
     "iopub.status.idle": "2022-08-26T02:17:38.183393Z",
     "shell.execute_reply": "2022-08-26T02:17:38.182015Z"
    },
    "papermill": {
     "duration": 3.360325,
     "end_time": "2022-08-26T02:17:38.185819",
     "exception": false,
     "start_time": "2022-08-26T02:17:34.825494",
     "status": "completed"
    },
    "tags": []
   },
   "outputs": [
    {
     "name": "stdout",
     "output_type": "stream",
     "text": [
      "encoding: Windows-1252\n"
     ]
    }
   ],
   "source": [
    "with open(\"../input/fatal-police-shootings-in-the-us/PoliceKillingsUS.csv\", \"rb\") as rawtxt:\n",
    "    encoding = chardet.detect(rawtxt.read())['encoding']\n",
    "\n",
    "print(f\"encoding: {encoding}\")"
   ]
  },
  {
   "cell_type": "code",
   "execution_count": 7,
   "id": "a290b0b4",
   "metadata": {
    "execution": {
     "iopub.execute_input": "2022-08-26T02:17:38.199554Z",
     "iopub.status.busy": "2022-08-26T02:17:38.199124Z",
     "iopub.status.idle": "2022-08-26T02:17:38.222809Z",
     "shell.execute_reply": "2022-08-26T02:17:38.221420Z"
    },
    "papermill": {
     "duration": 0.033774,
     "end_time": "2022-08-26T02:17:38.225630",
     "exception": false,
     "start_time": "2022-08-26T02:17:38.191856",
     "status": "completed"
    },
    "tags": []
   },
   "outputs": [
    {
     "data": {
      "application/javascript": [
       "parent.postMessage({\"jupyterEvent\": \"custom.exercise_interaction\", \"data\": {\"outcomeType\": 1, \"valueTowardsCompletion\": 0.3333333333333333, \"interactionType\": 1, \"questionType\": 1, \"questionId\": \"2_ReadIn\", \"learnToolsVersion\": \"0.3.4\", \"failureMessage\": \"\", \"exceptionClass\": \"\", \"trace\": \"\"}}, \"*\")"
      ],
      "text/plain": [
       "<IPython.core.display.Javascript object>"
      ]
     },
     "metadata": {},
     "output_type": "display_data"
    },
    {
     "data": {
      "text/markdown": [
       "<span style=\"color:#33cc33\">Correct</span>"
      ],
      "text/plain": [
       "Correct"
      ]
     },
     "metadata": {},
     "output_type": "display_data"
    }
   ],
   "source": [
    "# TODO: Load in the DataFrame correctly.\n",
    "police_killings = pd.read_csv(\"../input/fatal-police-shootings-in-the-us/PoliceKillingsUS.csv\", encoding=encoding)\n",
    "\n",
    "# Check your answer\n",
    "q2.check()"
   ]
  },
  {
   "cell_type": "markdown",
   "id": "398790fe",
   "metadata": {
    "papermill": {
     "duration": 0.00586,
     "end_time": "2022-08-26T02:17:38.237813",
     "exception": false,
     "start_time": "2022-08-26T02:17:38.231953",
     "status": "completed"
    },
    "tags": []
   },
   "source": [
    "Feel free to use any additional code cells for supplemental work.  To get credit for finishing this question, you'll need to run `q2.check()` and get a result of **Correct**."
   ]
  },
  {
   "cell_type": "code",
   "execution_count": 8,
   "id": "0bfcf47e",
   "metadata": {
    "execution": {
     "iopub.execute_input": "2022-08-26T02:17:38.252591Z",
     "iopub.status.busy": "2022-08-26T02:17:38.252174Z",
     "iopub.status.idle": "2022-08-26T02:17:38.257057Z",
     "shell.execute_reply": "2022-08-26T02:17:38.255900Z"
    },
    "papermill": {
     "duration": 0.015698,
     "end_time": "2022-08-26T02:17:38.259538",
     "exception": false,
     "start_time": "2022-08-26T02:17:38.243840",
     "status": "completed"
    },
    "tags": []
   },
   "outputs": [],
   "source": [
    "# (Optional) Use this code cell for any additional work."
   ]
  },
  {
   "cell_type": "code",
   "execution_count": 9,
   "id": "49c3c1c6",
   "metadata": {
    "execution": {
     "iopub.execute_input": "2022-08-26T02:17:38.273633Z",
     "iopub.status.busy": "2022-08-26T02:17:38.273230Z",
     "iopub.status.idle": "2022-08-26T02:17:38.285848Z",
     "shell.execute_reply": "2022-08-26T02:17:38.284893Z"
    },
    "papermill": {
     "duration": 0.022256,
     "end_time": "2022-08-26T02:17:38.287956",
     "exception": false,
     "start_time": "2022-08-26T02:17:38.265700",
     "status": "completed"
    },
    "tags": []
   },
   "outputs": [
    {
     "data": {
      "application/javascript": [
       "parent.postMessage({\"jupyterEvent\": \"custom.exercise_interaction\", \"data\": {\"interactionType\": 2, \"questionType\": 1, \"questionId\": \"2_ReadIn\", \"learnToolsVersion\": \"0.3.4\", \"valueTowardsCompletion\": 0.0, \"failureMessage\": \"\", \"exceptionClass\": \"\", \"trace\": \"\", \"outcomeType\": 4}}, \"*\")"
      ],
      "text/plain": [
       "<IPython.core.display.Javascript object>"
      ]
     },
     "metadata": {},
     "output_type": "display_data"
    },
    {
     "data": {
      "text/markdown": [
       "<span style=\"color:#3366cc\">Hint:</span> If you try to guess the encoding with the first 10,000 bytes of the file, it might give you the wrong answer.  Try using 100,000 or more lines of the file."
      ],
      "text/plain": [
       "Hint: If you try to guess the encoding with the first 10,000 bytes of the file, it might give you the wrong answer.  Try using 100,000 or more lines of the file."
      ]
     },
     "metadata": {},
     "output_type": "display_data"
    },
    {
     "data": {
      "application/javascript": [
       "parent.postMessage({\"jupyterEvent\": \"custom.exercise_interaction\", \"data\": {\"interactionType\": 3, \"questionType\": 1, \"questionId\": \"2_ReadIn\", \"learnToolsVersion\": \"0.3.4\", \"valueTowardsCompletion\": 0.0, \"failureMessage\": \"\", \"exceptionClass\": \"\", \"trace\": \"\", \"outcomeType\": 4}}, \"*\")"
      ],
      "text/plain": [
       "<IPython.core.display.Javascript object>"
      ]
     },
     "metadata": {},
     "output_type": "display_data"
    },
    {
     "data": {
      "text/markdown": [
       "<span style=\"color:#33cc99\">Solution:</span> \n",
       "```python\n",
       "police_killings = pd.read_csv(\"../input/fatal-police-shootings-in-the-us/PoliceKillingsUS.csv\", encoding='Windows-1252')\n",
       "\n",
       "```"
      ],
      "text/plain": [
       "Solution: \n",
       "```python\n",
       "police_killings = pd.read_csv(\"../input/fatal-police-shootings-in-the-us/PoliceKillingsUS.csv\", encoding='Windows-1252')\n",
       "\n",
       "```"
      ]
     },
     "metadata": {},
     "output_type": "display_data"
    }
   ],
   "source": [
    "# Lines below will give you a hint or solution code\n",
    "q2.hint()\n",
    "q2.solution()"
   ]
  },
  {
   "cell_type": "markdown",
   "id": "3492b702",
   "metadata": {
    "papermill": {
     "duration": 0.006317,
     "end_time": "2022-08-26T02:17:38.300813",
     "exception": false,
     "start_time": "2022-08-26T02:17:38.294496",
     "status": "completed"
    },
    "tags": []
   },
   "source": [
    "# 3) Saving your files with UTF-8 encoding\n",
    "\n",
    "Save a version of the police killings dataset to CSV with UTF-8 encoding.  Your answer will be marked correct after saving this file.  \n",
    "\n",
    "Note: When using the `to_csv()` method, supply only the name of the file (e.g., `\"my_file.csv\"`).  This saves the file at the filepath `\"/kaggle/working/my_file.csv\"`."
   ]
  },
  {
   "cell_type": "code",
   "execution_count": 10,
   "id": "de8d0c24",
   "metadata": {
    "execution": {
     "iopub.execute_input": "2022-08-26T02:17:38.315463Z",
     "iopub.status.busy": "2022-08-26T02:17:38.314822Z",
     "iopub.status.idle": "2022-08-26T02:17:38.333126Z",
     "shell.execute_reply": "2022-08-26T02:17:38.332197Z"
    },
    "papermill": {
     "duration": 0.028542,
     "end_time": "2022-08-26T02:17:38.335766",
     "exception": false,
     "start_time": "2022-08-26T02:17:38.307224",
     "status": "completed"
    },
    "tags": []
   },
   "outputs": [],
   "source": [
    "police_killings.to_csv(\"police_killings.csv\", encoding=\"utf-8\", index=False)"
   ]
  },
  {
   "cell_type": "code",
   "execution_count": 11,
   "id": "f6a02884",
   "metadata": {
    "execution": {
     "iopub.execute_input": "2022-08-26T02:17:38.351354Z",
     "iopub.status.busy": "2022-08-26T02:17:38.350907Z",
     "iopub.status.idle": "2022-08-26T02:17:38.369447Z",
     "shell.execute_reply": "2022-08-26T02:17:38.368286Z"
    },
    "papermill": {
     "duration": 0.02907,
     "end_time": "2022-08-26T02:17:38.371820",
     "exception": false,
     "start_time": "2022-08-26T02:17:38.342750",
     "status": "completed"
    },
    "tags": []
   },
   "outputs": [
    {
     "data": {
      "application/javascript": [
       "parent.postMessage({\"jupyterEvent\": \"custom.exercise_interaction\", \"data\": {\"outcomeType\": 1, \"valueTowardsCompletion\": 0.3333333333333333, \"interactionType\": 1, \"questionType\": 2, \"questionId\": \"3_SaveCSV\", \"learnToolsVersion\": \"0.3.4\", \"failureMessage\": \"\", \"exceptionClass\": \"\", \"trace\": \"\"}}, \"*\")"
      ],
      "text/plain": [
       "<IPython.core.display.Javascript object>"
      ]
     },
     "metadata": {},
     "output_type": "display_data"
    },
    {
     "data": {
      "text/markdown": [
       "<span style=\"color:#33cc33\">Correct</span>"
      ],
      "text/plain": [
       "Correct"
      ]
     },
     "metadata": {},
     "output_type": "display_data"
    }
   ],
   "source": [
    "# TODO: Save the police killings dataset to CSV\n",
    "____\n",
    "\n",
    "# Check your answer\n",
    "q3.check()"
   ]
  },
  {
   "cell_type": "code",
   "execution_count": 12,
   "id": "986c9570",
   "metadata": {
    "execution": {
     "iopub.execute_input": "2022-08-26T02:17:38.387768Z",
     "iopub.status.busy": "2022-08-26T02:17:38.387363Z",
     "iopub.status.idle": "2022-08-26T02:17:38.391485Z",
     "shell.execute_reply": "2022-08-26T02:17:38.390502Z"
    },
    "papermill": {
     "duration": 0.014854,
     "end_time": "2022-08-26T02:17:38.393716",
     "exception": false,
     "start_time": "2022-08-26T02:17:38.378862",
     "status": "completed"
    },
    "tags": []
   },
   "outputs": [],
   "source": [
    "# Lines below will give you a hint or solution code\n",
    "#q3.hint()\n",
    "#q3.solution()"
   ]
  },
  {
   "cell_type": "markdown",
   "id": "ec5b8c15",
   "metadata": {
    "papermill": {
     "duration": 0.006646,
     "end_time": "2022-08-26T02:17:38.407289",
     "exception": false,
     "start_time": "2022-08-26T02:17:38.400643",
     "status": "completed"
    },
    "tags": []
   },
   "source": [
    "# (Optional) More practice\n",
    "\n",
    "Check out [this dataset of files in different character encodings](https://www.kaggle.com/rtatman/character-encoding-examples). Can you read in all the files with their original encodings and them save them out as UTF-8 files?\n",
    "\n",
    "If you have a file that's in UTF-8 but has just a couple of weird-looking characters in it, you can try out the [ftfy module](https://ftfy.readthedocs.io/en/latest/#) and see if it helps. \n",
    "\n",
    "# Keep going\n",
    "\n",
    "In the final lesson, learn how to [**clean up inconsistent text entries**](https://www.kaggle.com/alexisbcook/inconsistent-data-entry) in your dataset."
   ]
  },
  {
   "cell_type": "markdown",
   "id": "f938fa5b",
   "metadata": {
    "papermill": {
     "duration": 0.006474,
     "end_time": "2022-08-26T02:17:38.420753",
     "exception": false,
     "start_time": "2022-08-26T02:17:38.414279",
     "status": "completed"
    },
    "tags": []
   },
   "source": [
    "---\n",
    "\n",
    "\n",
    "\n",
    "\n",
    "*Have questions or comments? Visit the [course discussion forum](https://www.kaggle.com/learn/data-cleaning/discussion) to chat with other learners.*"
   ]
  }
 ],
 "metadata": {
  "kernelspec": {
   "display_name": "Python 3",
   "language": "python",
   "name": "python3"
  },
  "language_info": {
   "codemirror_mode": {
    "name": "ipython",
    "version": 3
   },
   "file_extension": ".py",
   "mimetype": "text/x-python",
   "name": "python",
   "nbconvert_exporter": "python",
   "pygments_lexer": "ipython3",
   "version": "3.7.12"
  },
  "papermill": {
   "default_parameters": {},
   "duration": 13.620067,
   "end_time": "2022-08-26T02:17:39.049220",
   "environment_variables": {},
   "exception": null,
   "input_path": "__notebook__.ipynb",
   "output_path": "__notebook__.ipynb",
   "parameters": {},
   "start_time": "2022-08-26T02:17:25.429153",
   "version": "2.3.4"
  }
 },
 "nbformat": 4,
 "nbformat_minor": 5
}
